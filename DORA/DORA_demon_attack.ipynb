{
 "cells": [
  {
   "cell_type": "markdown",
   "metadata": {},
   "source": [
    "# Features\n",
    "- initialize : random  \n",
    "- epsilon : 1 to 0.1until 150000 with exponential"
   ]
  },
  {
   "cell_type": "code",
   "execution_count": 18,
   "metadata": {
    "collapsed": true
   },
   "outputs": [],
   "source": [
    "import math, random\n",
    "import os, sys, time\n",
    "import gym\n",
    "import numpy as np\n",
    "\n",
    "import torch\n",
    "import torch.nn as nn\n",
    "import torch.optim as optim\n",
    "import torch.autograd as autograd \n",
    "import torch.nn.functional as F\n",
    "\n",
    "from IPython.display import clear_output\n",
    "import matplotlib.pyplot as plt\n",
    "%matplotlib inline\n",
    "\n",
    "sys.path.append('../')\n",
    "from common.wrappers import make_atari, wrap_deepmind, wrap_pytorch"
   ]
  },
  {
   "cell_type": "code",
   "execution_count": 19,
   "metadata": {
    "collapsed": false
   },
   "outputs": [],
   "source": [
    "os.environ[\"CUDA_DEVICE_ORDER\"]=\"PCI_BUS_ID\"\n",
    "os.environ[\"CUDA_VISIBLE_DEVICES\"]=\"3\""
   ]
  },
  {
   "cell_type": "markdown",
   "metadata": {},
   "source": [
    "<h3> Set configuration </h3>"
   ]
  },
  {
   "cell_type": "code",
   "execution_count": 20,
   "metadata": {
    "collapsed": true
   },
   "outputs": [],
   "source": [
    "from common.config import *\n",
    "cfg = Config()"
   ]
  },
  {
   "cell_type": "markdown",
   "metadata": {},
   "source": [
    "## Environment"
   ]
  },
  {
   "cell_type": "code",
   "execution_count": 21,
   "metadata": {
    "collapsed": false
   },
   "outputs": [],
   "source": [
    "env_id = \"DemonAttack-v0\"\n",
    "env    = make_atari(env_id)\n",
    "env    = wrap_deepmind(env)\n",
    "env    = wrap_pytorch(env)"
   ]
  },
  {
   "cell_type": "markdown",
   "metadata": {},
   "source": [
    "<h3>Use Cuda</h3>"
   ]
  },
  {
   "cell_type": "code",
   "execution_count": 22,
   "metadata": {
    "collapsed": true
   },
   "outputs": [],
   "source": [
    "USE_CUDA = torch.cuda.is_available()\n",
    "Variable = lambda *args, **kwargs: autograd.Variable(*args, **kwargs).cuda() if USE_CUDA else autograd.Variable(*args, **kwargs)"
   ]
  },
  {
   "cell_type": "markdown",
   "metadata": {},
   "source": [
    "<h2>Replay Buffer</h2>"
   ]
  },
  {
   "cell_type": "code",
   "execution_count": 23,
   "metadata": {
    "collapsed": true
   },
   "outputs": [],
   "source": [
    "from collections import deque\n",
    "\n",
    "class ReplayBuffer(object):\n",
    "    def __init__(self, capacity):\n",
    "        self.buffer = deque(maxlen=capacity)\n",
    "    \n",
    "    def push(self, state, action, reward, next_state, next_q_value, next_e_value, done):\n",
    "        state      = np.expand_dims(state, 0)\n",
    "        next_state = np.expand_dims(next_state, 0)\n",
    "            \n",
    "        self.buffer.append((state, action, reward, next_state, next_q_value, next_e_value, done))\n",
    "    \n",
    "    def sample(self, batch_size):\n",
    "        state, action, reward, next_state, next_q_value, next_e_value, done = zip(*random.sample(self.buffer, batch_size))\n",
    "        return np.concatenate(state), action, reward, np.concatenate(next_state), next_q_value, next_e_value, done\n",
    "    \n",
    "    def __len__(self):\n",
    "        return len(self.buffer)"
   ]
  },
  {
   "cell_type": "markdown",
   "metadata": {},
   "source": [
    "<h2>Computing Temporal Difference Loss</h2>"
   ]
  },
  {
   "cell_type": "code",
   "execution_count": 24,
   "metadata": {
    "collapsed": true
   },
   "outputs": [],
   "source": [
    "def compute_td_loss(batch_size):\n",
    "    state, action, reward, next_state, next_q_value, next_e_value, done = replay_buffer.sample(batch_size)\n",
    "       \n",
    "    state      = Variable(torch.FloatTensor(np.float32(state)))\n",
    "    next_state = Variable(torch.FloatTensor(np.float32(next_state)), volatile=True)\n",
    "    action     = Variable(torch.LongTensor(action))\n",
    "    reward     = Variable(torch.FloatTensor(reward))\n",
    "    done       = Variable(torch.FloatTensor(done))\n",
    "    \n",
    "\n",
    "    q_values      = q_model(state)\n",
    "    next_q_values = q_model(next_state)\n",
    "    \n",
    "    e_values      = e_model(state)\n",
    "    next_e_values = e_model(next_state)\n",
    "\n",
    "    q_value          = q_values.gather(1, action.unsqueeze(1)).squeeze(1)\n",
    "    #next_q_value     = next_q_values.max(1)[0]\n",
    "    next_q_value = Variable(torch.FloatTensor(np.array(next_q_value)))\n",
    "    expected_q_value = reward + gamma * next_q_value * (1 - done)\n",
    "    \n",
    "    e_value          = e_values.gather(1, action.unsqueeze(1)).squeeze(1)\n",
    "    #next_e_value     = next_e_values.max(1)[0]\n",
    "    next_e_value = Variable(torch.FloatTensor(np.array(next_e_value)))\n",
    "    expected_e_value = gamma * next_e_value * (1 - done)\n",
    "    \n",
    "    q_loss = (q_value - Variable(expected_q_value.data)).pow(2).mean()\n",
    "    e_loss = (e_value - Variable(expected_e_value.data)).pow(2).mean()\n",
    "\n",
    "\n",
    "        \n",
    "    q_optimizer.zero_grad()\n",
    "    q_loss.backward()\n",
    "    q_optimizer.step()\n",
    "    \n",
    "    e_optimizer.zero_grad()\n",
    "    e_loss.backward()\n",
    "    e_optimizer.step()\n",
    "    \n",
    "    return q_loss, e_loss"
   ]
  },
  {
   "cell_type": "code",
   "execution_count": 25,
   "metadata": {
    "collapsed": true
   },
   "outputs": [],
   "source": [
    "def plot(frame_idx, rewards, losses):\n",
    "    clear_output(True)\n",
    "    plt.figure(figsize=(20,5))\n",
    "    plt.subplot(131)\n",
    "    plt.title('frame %s. reward: %s' % (frame_idx, np.mean(rewards[-10:])))\n",
    "    plt.plot(rewards)\n",
    "    plt.subplot(132)\n",
    "    plt.title('loss')\n",
    "    plt.plot(losses)\n",
    "    plt.show()"
   ]
  },
  {
   "cell_type": "markdown",
   "metadata": {},
   "source": [
    "<p><hr></p>"
   ]
  },
  {
   "cell_type": "markdown",
   "metadata": {},
   "source": [
    "<h1>Atari Environment</h1>"
   ]
  },
  {
   "cell_type": "code",
   "execution_count": 26,
   "metadata": {
    "collapsed": false
   },
   "outputs": [],
   "source": [
    "class CnnDQN(nn.Module):\n",
    "    def __init__(self, input_shape, num_actions, is_Evalue):\n",
    "        super(CnnDQN, self).__init__()\n",
    "        \n",
    "        self.input_shape = input_shape\n",
    "        self.num_actions = num_actions\n",
    "        self.is_Evalue = is_Evalue\n",
    "        \n",
    "        if is_Evalue:\n",
    "            self.shift = 10\n",
    "        else:\n",
    "            self.shift = 0\n",
    "        \n",
    "        self.features = nn.Sequential(\n",
    "            nn.Conv2d(input_shape[0], 32, kernel_size=8, stride=4),\n",
    "            nn.ReLU(),\n",
    "            nn.Conv2d(32, 64, kernel_size=4, stride=2),\n",
    "            nn.ReLU(),\n",
    "            nn.Conv2d(64, 64, kernel_size=3, stride=1),\n",
    "            nn.ReLU()\n",
    "        )\n",
    "        \n",
    "        self.fc = nn.Sequential(\n",
    "            nn.Linear(self.feature_size(), 512),\n",
    "            nn.ReLU(),\n",
    "            nn.Linear(512, self.num_actions)\n",
    "        )\n",
    "        \n",
    "    def forward(self, x):\n",
    "        x = self.features(x)\n",
    "        x = x.view(x.size(0), -1)\n",
    "        x = self.fc(x)\n",
    "        \n",
    "        if self.is_Evalue:\n",
    "            x = F.sigmoid(x)\n",
    "        return x\n",
    "    \n",
    "    def feature_size(self):\n",
    "        return self.features(autograd.Variable(torch.zeros(1, *self.input_shape))).view(1, -1).size(1)\n",
    "    \n",
    "    def act(self, state, epsilon):\n",
    "        if random.random() > epsilon:\n",
    "            state   = Variable(torch.FloatTensor(np.float32(state)).unsqueeze(0), volatile=True)\n",
    "            q_value = self.forward(state)\n",
    "            action  = q_value.max(1)[1].data[0]\n",
    "        else:\n",
    "            action = random.randrange(env.action_space.n)\n",
    "        return action\n",
    "    \n",
    "    def predict(self, state):\n",
    "        state = Variable(torch.FloatTensor(np.float32(state)).unsqueeze(0), volatile=True)\n",
    "        q_value = self.forward(state)\n",
    "        return q_value\n",
    "    \n",
    "    def weights_init(self, m):\n",
    "        classname = m.__class__.__name__\n",
    "        if classname.find('Conv') != -1 and classname.find('Layer') == -1:\n",
    "            nn.init.xavier_normal(m.weight)\n",
    "        elif classname.find('Linear') != -1:\n",
    "            #nn.init.constant(m.weight,0)\n",
    "            nn.init.xavier_normal(m.weight)\n",
    "            nn.init.constant(m.bias, 0.1)\n",
    "        elif classname.find('BatchNorm') != -1:\n",
    "            m.weight.data.normal_(1.0, 0.02)\n",
    "            m.bias.data.fill_(0)"
   ]
  },
  {
   "cell_type": "code",
   "execution_count": 27,
   "metadata": {
    "collapsed": false
   },
   "outputs": [],
   "source": [
    "q_model = CnnDQN(env.observation_space.shape, env.action_space.n, False)\n",
    "e_model = CnnDQN(env.observation_space.shape, env.action_space.n, True)\n",
    "if USE_CUDA:\n",
    "    q_model = q_model.cuda()\n",
    "    e_model = e_model.cuda()\n",
    "    \n",
    "q_optimizer = optim.Adam(q_model.parameters(), lr=cfg.LEARNING_RATE)\n",
    "e_optimizer = optim.Adam(e_model.parameters(), lr=cfg.LEARNING_RATE)\n",
    "\n",
    "replay_initial = cfg.REPLAY_INIT\n",
    "replay_buffer = ReplayBuffer(cfg.REPLAY_BUFFER)"
   ]
  },
  {
   "cell_type": "code",
   "execution_count": 28,
   "metadata": {
    "collapsed": false
   },
   "outputs": [
    {
     "data": {
      "text/plain": [
       "\n",
       " 0\n",
       " 0\n",
       " 0\n",
       " 0\n",
       " 0\n",
       " 0\n",
       "[torch.FloatTensor of size 6]"
      ]
     },
     "execution_count": 28,
     "metadata": {},
     "output_type": "execute_result"
    }
   ],
   "source": [
    "nn.init.constant(e_model.fc[2].weight.data,0)\n",
    "nn.init.constant(e_model.fc[2].bias.data,0)"
   ]
  },
  {
   "cell_type": "markdown",
   "metadata": {},
   "source": [
    "## Epsilon Decay"
   ]
  },
  {
   "cell_type": "code",
   "execution_count": 29,
   "metadata": {
    "collapsed": false
   },
   "outputs": [
    {
     "data": {
      "text/plain": [
       "[<matplotlib.lines.Line2D at 0x11d688d68>]"
      ]
     },
     "execution_count": 29,
     "metadata": {},
     "output_type": "execute_result"
    },
    {
     "data": {
      "image/png": "iVBORw0KGgoAAAANSUhEUgAAAXoAAAD8CAYAAAB5Pm/hAAAABHNCSVQICAgIfAhkiAAAAAlwSFlzAAALEgAACxIB0t1+/AAAADl0RVh0U29mdHdhcmUAbWF0cGxvdGxpYiB2ZXJzaW9uIDIuMi4yLCBodHRwOi8vbWF0cGxvdGxpYi5vcmcvhp/UCwAAIABJREFUeJzt3Xl8VPW9//HXZ2aykpA9EAgQNkUEFIwUtFqXLqBWq7X9wa2trf1pH11uF3vb6q+39ra/29vftbv3Wlt/XWy9rdVar1qLxRa1VhEhKCCLQNjDIiEhYck6me/9Yw4YMQkTmORkzryfj8c85pzvOTPnczjhPWe+ZxlzziEiIsEV8rsAEREZWAp6EZGAU9CLiAScgl5EJOAU9CIiAaegFxEJOAW9iEjAKehFRAJOQS8iEnARvxZcWlrqqqqq/Fq8iEhKWrly5QHnXFl/XuNb0FdVVVFTU+PX4kVEUpKZ7ejva9R1IyIScAp6EZGAU9CLiAScgl5EJOAU9CIiAXfSoDezX5jZfjNb28t0M7O7zKzWzNaY2azklykiIqcqkT36+4B5fUyfD0z2HrcA95x+WSIikiwnDXrn3HNAYx+zXAP82sUtAwrNrCJZBZ5o5Y5G/v3Pr6GfQBQRSUwy+uhHA7u6jdd5bW9hZreYWY2Z1dTX15/SwtbtOcQ9z26h7mDrKb1eRCTdJCPorYe2Hne3nXP3OueqnXPVZWX9uoL3uPOrigFYsb2vLxkiInJMMoK+DhjTbbwS2JOE9+3RmSPyGZ4dUdCLiCQoGUH/OPAR7+ybOUCzc25vEt63R6GQUV1VzPJtCnoRkUSc9KZmZvYAcAlQamZ1wNeBDADn3E+ARcAVQC3QAnxsoIo9Zvb4Yp5+bT8HjrRTmpc10IsTEUlpJw1659zCk0x3wKeTVlECjvXT12xvZN60ATvBR0QkEFLyytjpowvIzgixfNtBv0sRERnyUjLoMyMhzh1TqAOyIiIJSMmgB5hdVcy6Pc0caY/6XYqIyJCWskF//vhiYg5W7lD3jYhIX1I26GeNLSIcMlboNEsRkT6lbNAPy4owbdRwlqufXkSkTykb9BA/zXLVribao11+lyIiMmSldtCPL6YjGmNNXbPfpYiIDFkpHfRvG1+MGSzb0uB3KSIiQ1ZKB31hbiZnjRzOi1sV9CIivUnpoAe4YGIJNTsO0tapfnoRkZ6kftBPKqEjGuPlnTqfXkSkJykf9OdXFRMOGS+qn15EpEcpH/T52RlMH12goBcR6UXKBz3E++lX7WriqO57IyLyFoEI+rkTS4jGnO5mKSLSg0AEffW4YjLC6qcXEelJIII+JzPMzLFFOp9eRKQHgQh6iPfTr93dTHNLp9+liIgMKYEJ+rkTSog5eGmb9upFRLoLTNCfO7aQ7IwQS9VPLyLyJoEJ+qxImLeNL+G5zfV+lyIiMqQEJugBLppcytb6o9QdbPG7FBGRISNQQf+OM8oA+PvmAz5XIiIydAQq6CeV51FRkM3f1X0jInJcoILezLhocinPbz5AtCvmdzkiIkNCoIIe4OIzyjjUFmW1fl5QRAQIYNBfOLEUM9R9IyLiCVzQFw3LZEZlIc9tUtCLiEAAgx7gHZNLWbWrieZW3Q5BRCSQQX/RGWXEHCyt1WmWIiKBDPpzxxSSnxXhOZ1PLyISzKDPCIeYO7GE5zbV45zzuxwREV8FMugBLptSzu6mVja+ftjvUkREfBXYoL90SjkAT7+23+dKRET8lVDQm9k8M9toZrVmdlsP08ea2TNm9oqZrTGzK5Jfav+MGJ7N9NEFPL1BQS8i6e2kQW9mYeBuYD4wFVhoZlNPmO2fgYecczOBBcCPk13oqbhsSjkv7zxI49EOv0sREfFNInv0s4Fa59xW51wH8DvgmhPmccBwb7gA2JO8Ek/d5WeVE3Pwt03aqxeR9JVI0I8GdnUbr/PauvsX4AYzqwMWAf/Y0xuZ2S1mVmNmNfX1A3/l6rRRBZTlZ7FE3TciksYSCXrroe3EcxYXAvc55yqBK4D7zewt7+2cu9c5V+2cqy4rK+t/tf0UChmXnVnO3zbV06m7WYpImkok6OuAMd3GK3lr18zHgYcAnHMvAtlAaTIKPF2XnVXO4bYoNdsP+l2KiIgvEgn6FcBkMxtvZpnED7Y+fsI8O4HLAczsLOJBPyTuKvb2SaVkhkM8/drrfpciIuKLkwa9cy4KfAZYDGwgfnbNOjP7ppld7c32ReBmM1sNPAB81A2RS1KHZUV424Riluh8ehFJU5FEZnLOLSJ+kLV72x3dhtcDFya3tOS5fEo5//LH9WytP8KEsjy/yxERGVSBvTK2u3edPRKAp9ar+0ZE0k9aBP3owhymjy7gz2v3+V2KiMigS4ugB5g3bSSrdjWxr7nN71JERAZV2gT9e84eAcBT67VXLyLpJW2CflJ5PhPLhrF4nYJeRNJL2gQ9wHvOHsmyrY0c1E3ORCSNpFXQz5s2kq6Y468bdPaNiKSPtAr66aMLGFWQzeJ1CnoRSR9pFfRmxrvPHslzm+s52h71uxwRkUGRVkEP8X76jmiMZzcOiVvxiIgMuLQL+vOriijNy2TRq3v9LkVEZFCkXdBHwiHmT6tgyWuvc0TdNyKSBtIu6AHee84o2jpjLNHZNyKSBtIy6KvHFTFyeDZ/XK3uGxEJvrQM+lDIuHJGBX/btJ/mlk6/yxERGVBpGfQQ777p7HIs1r1vRCTg0jboz6ksYExxDk+sUfeNiARb2ga9mXHVjFG8UHuAhiPtfpcjIjJg0jboAd47YxRdMcefdUdLEQmwtA76syrity5+bNUev0sRERkwaR30Zsa1M0ezfFsjuxpb/C5HRGRApHXQA7xv5mgAHn1lt8+ViIgMjLQP+sqiXOZMKOaRV3bjnPO7HBGRpEv7oAe4blYl2w4c5eWdTX6XIiKSdAp64IrpFWRnhHjk5Tq/SxERSToFPZCXFWHe2SP54+o9tHV2+V2OiEhSKeg9182q5FBblKdf2+93KSIiSaWg91w4qZQRw7PUfSMigaOg94RDxvtmjuaZjfXsP9zmdzkiIkmjoO/mA+eNoSvm+MNKnVMvIsGhoO9mUnkes8cX8+CKncRiOqdeRIJBQX+ChbPHsL2hhWVbG/wuRUQkKRT0J5g/rYKCnAweWLHL71JERJJCQX+C7Iww184czeK1+2g82uF3OSIip01B34OFs8fS0RXTqZYiEggJBb2ZzTOzjWZWa2a39TLPB81svZmtM7PfJrfMwXXmyHxmjS3kgeU7daMzEUl5Jw16MwsDdwPzganAQjObesI8k4HbgQudc2cDnx+AWgfVgtlj2VJ/lOXbGv0uRUTktCSyRz8bqHXObXXOdQC/A645YZ6bgbudcwcBnHMpfx+Bq2ZUMDw7wv3LdvhdiojIaUkk6EcD3U9BqfPaujsDOMPMXjCzZWY2r6c3MrNbzKzGzGrq6+tPreJBkpsZ4YPVY/jz2n28fkhXyopI6kok6K2HthM7riPAZOASYCHwMzMrfMuLnLvXOVftnKsuKyvrb62D7iNzq+hyjt9or15EUlgiQV8HjOk2Xgmc+GvadcBjzrlO59w2YCPx4E9pY0tyuezMcn67fCftUd2+WERSUyJBvwKYbGbjzSwTWAA8fsI8jwKXAphZKfGunK3JLNQvN15QxYEjHSx6da/fpYiInJKTBr1zLgp8BlgMbAAecs6tM7NvmtnV3myLgQYzWw88A3zJOReIewi8fVIpE8qGcd9Sdd+ISGqKJDKTc24RsOiEtju6DTvgVu8RKKGQcePcKr7++DpW7Wri3DFvOfQgIjKk6crYBLz/vErysiLc98I2v0sREek3BX0C8rLip1o+sWYve5pa/S5HRKRfFPQJuuntVTjgF89rr15EUouCPkGVRbm8d0YFDyzfSXNrp9/liIgkTEHfD7dcPJGjHV385iWdgSMiqUNB3w9TRw3nosml/PKF7bqASkRShoK+nz5x8UTqD7fz6Cv6AXERSQ0K+n66cFIJZ48azr3PbdUPiItISlDQ95OZ8Yl3TGRL/VEWr9vndzkiIieloD8FV06vYELpMH60ZLP26kVkyFPQn4JwyPjMZZN4bd9h/rLhdb/LERHpk4L+FF19ziiqSnK5a8lm/a6siAxpCvpTFAmH+PSlk1i35xBLNqT8LyeKSIAp6E/D+2aOZmxxLj/SXr2IDGEK+tOQEQ7x6Usn8uruZp7ZqL16ERmaFPSn6bpZlYwpzuF7T23SGTgiMiQp6E9TRjjEre86g3V7DvEn/dygiAxBCvokuPqc0UwZmc/3ntpIZ1fM73JERN5EQZ8E4ZDx5Xlnsr2hhQdX7PK7HBGRN1HQJ8mlZ5ZzflURP1qymdYO3dlSRIYOBX2SmBlfnjeF+sPt/HKpfoVKRIYOBX0SnV9VzOVTyrnn2S00HGn3uxwREUBBn3S3zZ9CS0cX3//LJr9LEREBFPRJN3lEPh+eM44Hlu9kw95DfpcjIqKgHwiff+dkhudk8K9/Wq9bI4iI7xT0A6AwN5MvvPMMXqht4C/rdRtjEfGXgn6AfOhtY5lcnse3Fm3QD4mLiK8U9AMkEg7xtaumsqOhhZ/9Xadbioh/FPQD6OIzyph39kj+4+nN7Gps8bscEUlTCvoB9vWrpxI242uPrdWBWRHxhYJ+gFUU5HDru8/k2Y31PLl2n9/liEgaUtAPghvnjuPsUcP5xh/Xcbit0+9yRCTNKOgHQSQc4lvXTmf/4Xa+95SumBWRwaWgHyTnjinkw3PG8asXt7Nie6Pf5YhIGlHQD6KvzJvC6MIcvvT71bqVsYgMmoSC3szmmdlGM6s1s9v6mO96M3NmVp28EoNjWFaEO6+fwfaGFr6zeKPf5YhImjhp0JtZGLgbmA9MBRaa2dQe5ssHPgu8lOwig+SCiaV8eM44frl0G8u3qQtHRAZeInv0s4Fa59xW51wH8Dvgmh7m+7/AnUBbEusLpNvmT6GyKIcvPbyalo6o3+WISMAlEvSjge4/hFrntR1nZjOBMc65J/p6IzO7xcxqzKymvr6+38UGxbCsCHe+/xx2NLTwrT9t8LscEQm4RILeemg7fomnmYWAHwBfPNkbOefudc5VO+eqy8rKEq8ygOZOLOHmi8bzm5d28mddSCUiAyiRoK8DxnQbrwT2dBvPB6YBz5rZdmAO8LgOyJ7cl94zhWmjh3PbI2vY29zqdzkiElCJBP0KYLKZjTezTGAB8Pixic65ZudcqXOuyjlXBSwDrnbO1QxIxQGSGQlx14KZdERjfP53q+iK6V44IpJ8Jw1651wU+AywGNgAPOScW2dm3zSzqwe6wKCbUJbHN64+m5e2NXLPs7V+lyMiARRJZCbn3CJg0Qltd/Qy7yWnX1Z6uf68Sp7bfIAf/HUz540rZu7EEr9LEpEA0ZWxQ4CZ8e3rplNVkss/PvAy+5p1hqqIJI+CfojIy4rw0w+fR2tHF5/6zUo6ojG/SxKRgFDQDyGTyvO58/pzeHlnE9/603q/yxGRgFDQDzFXzqjg5ovG86sXd/CHlXV+lyMiAaCgH4K+Mm8KcyeUcPsjr1KjWxqLyGlS0A9BkXCIe26YxeiiHG65fyU7G/TD4iJy6hT0Q1RhbiY/v7Garpjjpl+toLlVP0EoIqdGQT+ETSjL454bZrH9wFE+89uX6ezSmTgi0n8K+iHugoml/Nu10/n75gN85Q9riOk2CSLSTwldGSv++uD5Y9jb3MYP/rqJ4txMvnrlWZj1dFNREZG3UtCniM9ePonGo+387PltFOdl8qlLJvldkoikCAV9ijAzvv7esznY0smdf95IcW4mC2aP9bssEUkBCvoUEgoZ3/3AOTS3dnL7f79KZiTEdbMq/S5LRIY4HYxNMZmRED+54TzmTijhi79fzX+/oqtnRaRvCvoUlJMZ5uc3nh8P+4dW8+gru/0uSUSGMAV9ijoW9m8bX8KtD61S2ItIrxT0KSwnM8zPP1rN28aX8IWHVnH/i9v9LklEhiAFfYrLzYzwy4+dz+VTRvC1x9bxo79uxjldVCUib1DQB0B2Rpif3DCL98+q5Ad/3cQ3/rheV9CKyHE6vTIgIuEQ37l+BkW5Gfzs+W00HO3gO9fPIDsj7HdpIuIzBX2AhELGV688i7L8LL795GvUHWzh3g9XU5af5XdpIuIjdd0EjJnxiXdM5Cc3zGLD3kO87+4X2LjvsN9liYiPFPQBNW9aBb//xAV0dsV4/z1Lefq11/0uSUR8oqAPsOmVBTz2mQsZV5LLTffV8P2nNtKlg7QiaUdBH3AVBTn84ZMX8IHzKrnr6Vo++svlNB7t8LssERlECvo0kJ0R5s7rZ/Dt66bz0tZG3vsfz7NqV5PfZYnIIFHQpwkzY+HssTz8ybkAXH/PUv7z6c3qyhFJAwr6NDOjspBFn72I+dMr+O5Tm1hw74vsamzxuywRGUAK+jRUkJvBXQvO5Qf/6xw27D3MFT/6O4+8XKdbJ4gElII+TZkZ186s5MnPXcSZI/O59aHV3HTfCnY3tfpdmogkmYI+zY0pzuXBT8zljqumsmxrI+/+/t/49Yvbda8ckQBR0AvhkHHT28fz1BcuZta4Iu54bB0f/OmLbNh7yO/SRCQJFPRy3JjiXH5902y+94Fz2FJ/hCvv+jt3PLaWphaddy+SyhT08iZmxvvPq+SZf7qED88Zx38t28El332W/1q2Q6diiqQoBb30qDA3k29cM41Fn7uIKSPz+edH1zL/R8/xl/Wv6+wckRSTUNCb2Twz22hmtWZ2Ww/TbzWz9Wa2xsyWmNm45JcqfpgycjgP3DyHez40i2iX4+Zf1/D+e5aybGuD36WJSIJOGvRmFgbuBuYDU4GFZjb1hNleAaqdczOAh4E7k12o+MfMmD+9gqe+cDH/77rp7GlqY8G9y7jxF8t5eedBv8sTkZNIZI9+NlDrnNvqnOsAfgdc030G59wzzrljl1cuAyqTW6YMBZFwiAWzx/Lsly7h/1wxhdV1TVz346X8w/9fxgu1B9SlIzJEJRL0o4Fd3cbrvLbefBx4sqcJZnaLmdWYWU19fX3iVcqQkp0R5paLJ/LCVy7jq1ecRe3+I3zoZy9x7Y+X8tS6fToHX2SISSTorYe2Hv8nm9kNQDXwnZ6mO+fudc5VO+eqy8rKEq9ShqRhWRFuvngCz335Uv71fdM4cKSdW+5fyaXfe5ZfPL+NQ22dfpcoIiQW9HXAmG7jlcCeE2cys3cCXwWuds61J6c8SQXZGWFumDOOZ//pEu5aOJPSvCy++cR65v7bEu54bC21+4/4XaJIWrOT9auaWQTYBFwO7AZWAP/gnFvXbZ6ZxA/CznPObU5kwdXV1a6mpuZU65Yhbk1dE/ct3c4Tq/fS0RVj9vhiPlg9hiumjyQ3U79JL3KqzGylc666X69J5ACamV0B/BAIA79wzn3LzL4J1DjnHjezvwLTgb3eS3Y6567u6z0V9OnhwJF2Hlyxi4dX1rHtwFHysiJcNaOCD1SPYdbYQsx66hkUkd4MWNAPBAV9enHOUbPjIA+u2MWf1uyltbOLcSW5XDm9gqtmjOKsinyFvkgCFPSSEo60R1m0Zi9/XLOHpVsa6Io5JpYN46oZo7hqRgWTyvMU+iK9UNBLymk40s6Ta/fxxJo9vLStEedgXEkul08ZwTvPKuf88cVkhHWnDpFjFPSS0vYfamPx+tdZsuF1lm5poCMaIz8rwsVnlnHZmeW8fXIpI4Zn+12miK8U9BIYLR1Rnt98gCUb9vP0xv3UH46fsTuxbBgXTirlwkmlzJlQQkFOhs+VigwuBb0EUizm2LDvEEtrG3i+9gDLtzXS2tlFyGD66AKqq4o5b1wR540r0h6/BJ6CXtJCRzTGql1NPF97gGVbGlhd10R7NAZAZVEO540ronpcETPHFnHGiHwyI+rjl+A4laDXlSuScjIjIWaPL2b2+GJ4Vzz41+1pZuWOg6zccZClWxp4bFX84u2MsHHmyHymjSrg7NEFTBs1nLMqhpOdEfZ5LUQGj/boJXCcc9QdbGV1XRNrdx9i3Z5mXt3dTFNL/N474ZAxsWwYk0fkc0Z5PmeMyGPyiDzGlQzTGT4y5GmPXoT4/fPHFOcypjiXq2aMAuLhv7up9Xjwr99ziDV1Tfxpzd7jr8sIGxNK85g0Io9JZXlUleYytngYVSW5FA/L1Ln9krIU9JIWzIzKolwqi3KZN23k8faWjihb9h9l8/7DbHr9CJtfP8yauiYWvbqX7l9287MijC3JpapkGONKchlXksuowpz4oyCHnEx1BcnQpaCXtJabGWF6ZQHTKwve1N4e7WJXYys7Go6yo6El/tzYwvq9h1i8bh/RE+65X5ibwaiCHEYVZlNR4H0AFGZTnp9NWX4WZflZDM+O6FuB+EJBL9KDrEiYSeV5TCrPe8u0aFeMvc1t7G5qZW9zK3ua2tjT1Mre5jbqDrayfFsjh9qib3ldZiREWV4WpflZlOVlUZaf6T1nUZKXRWFuBoU5mRQNy6AoN1MHjCVpFPQi/RQJh44fA+jN0fYoe5tb2X+onfoj7dQf9h7ecN3BFlbtOkjD0Q56Ox8iKxKiKDcz/gGQm+ENx8eHZ2eQlx0hPytCfnaEvKyIN54RH8+O6MCyHKegFxkAw7IiTCrPZ1J5fp/zRbtiNLZ00HCkg6aWTppaOjjY0klTa3z84NEOmlrj7Zv3Hzk+z4ldRz3JioTIz46Qn51BXlaE3MwwOZlhcjPDZGfEn3MywuRkRuLPGSFyMyNkZ4bJzYjP232+zEjojUc4RFYkpK6oFKGgF/FRJByiPD/el58o5xxtnTEOt3dypC3KkfYoh9vijyPtUY60db7R1h7lSFuUw22dtHR00Xi0g90Hu2jt7KK1w3vu7Or1W8XJZIbfHP6ZkfgHwFvbwsfbIyEjEj72bMfHM0JGOBQiEjYywvHh+LOR4bWHQ0ZGOOQ9G5HQG+8XDsWnh80w4/h4yCBkRsi8ca8tbMeGzRvm+DzmTY8Pp/6HmYJeJMWYGTne3vlJvjAkxDlHezRGa0cXLcc+ALp9CLR2RGnt7KIjGqMjGqPde3REY3R0HWt7Y3pHV4z2Tu85GuNwW5SGaEd8nq4Y0S5HNOaIdh+OxejsGro/Kv+WD5BuwyGLfxiEDKzbhwpAKATGGx82eM+fu3wy7z1n1KDVr6AXSXNmRnZGvJumyOdaumKOzq4YXTFHtMvRGYu9qa2zK/6hcOwDosv7gIh67THniMWgyzliMUfMxYedc3TF4g/ntcWHvXbH8eGYg9jx4fj7dDmvPfbWeeLvDxBftuON6XjPDt7UNtg341PQi8iQEe9u0dlGyabD8iIiAaegFxEJOAW9iEjAKehFRAJOQS8iEnAKehGRgFPQi4gEnIJeRCTgfPspQTOrB3ac4stLgQNJLCcVaJ3Tg9Y5PZzOOo9zzpX15wW+Bf3pMLOa/v5mYqrTOqcHrXN6GOx1VteNiEjAKehFRAIuVYP+Xr8L8IHWOT1ondPDoK5zSvbRi4hI4lJ1j15ERBKUckFvZvPMbKOZ1ZrZbX7XczJmNsbMnjGzDWa2zsw+57UXm9lfzGyz91zktZuZ3eWt3xozm9XtvW705t9sZjd2az/PzF71XnOXeb991tsyBnHdw2b2ipk94Y2PN7OXvHoeNLNMrz3LG6/1pld1e4/bvfaNZvaebu09/h30toxBWt9CM3vYzF7ztvfcoG9nM/uC93e91sweMLPsoG1nM/uFme03s7Xd2nzbrn0to1fO+/WVVHgAYWALMAHIBFYDU/2u6yQ1VwCzvOF8YBMwFbgTuM1rvw34d2/4CuBJwIA5wEteezGw1Xsu8oaLvGnLgbnea54E5nvtPS5jENf9VuC3wBPe+EPAAm/4J8AnveFPAT/xhhcAD3rDU71tnAWM97Z9uK+/g96WMUjr+yvgf3vDmUBhkLczMBrYBuR0+7f/aNC2M3AxMAtY263Nt+3a2zL6XIfB+k+QpH/wucDibuO3A7f7XVc/1+Ex4F3ARqDCa6sANnrDPwUWdpt/ozd9IfDTbu0/9doqgNe6tR+fr7dlDNJ6VgJLgMuAJ7w/ygNA5MRtCSwG5nrDEW8+O3H7Hpuvt7+DvpYxCOs7nHjo2Qntgd3OxIN+lxdeEW87vyeI2xmo4s1B79t27W0ZfdWfal03x/6wjqnz2lKC91V1JvASMMI5txfAey73ZuttHftqr+uhnT6WMRh+CHwZiHnjJUCTcy7aQ53H182b3uzN399/i76WMdAmAPXALy3eXfUzMxtGgLezc2438F1gJ7CX+HZbSbC38zF+btd+52CqBb310JYSpw2ZWR7wB+DzzrlDfc3aQ5s7hXbfmNlVwH7n3MruzT3M6k4yLZX+LSLEv97f45ybCRwl/nW7N6m0bj3y+oyvId7dMgoYBszvYdYgbeeTGYx16fdrUi3o64Ax3cYrgT0+1ZIwM8sgHvK/cc494jW/bmYV3vQKYL/X3ts69tVe2UN7X8sYaBcCV5vZduB3xLtvfggUmtmxH6TvXufxdfOmFwCN9P/f4kAfyxhodUCdc+4lb/xh4sEf5O38TmCbc67eOdcJPAJcQLC38zF+btd+52CqBf0KYLJ3xD2T+AGdx32uqU/eEfSfAxucc9/vNulx4NiR9xuJ990fa/+Id2R9DtDsfW1bDLzbzIq8Pal3E++X3AscNrM53rI+csJ79bSMAeWcu905V+mcqyK+jZ52zn0IeAa4vod6utd5vTe/89oXeGdrjAcmEz9w1ePfgfea3pYxoJxz+4BdZnam13Q5sJ4Ab2fiXTZzzCzXq+nYOgd2O3fj53btbRm9G4yDNkk+KHIF8TNXtgBf9bueBOp9O/GvVWuAVd7jCuL9jEuAzd5zsTe/AXd76/cqUN3tvW4Car3Hx7q1VwNrvdf8J29cCNfjMgZ5/S/hjbNuJhD/D1wL/B7I8tqzvfFab/qEbq//qrdeG/HORujr76C3ZQzSup4L1Hjb+lHiZ1cEejsD3wBe8+q6n/iZM4HazsADxI9BdBLfm/64n9u1r2X09tCVsSIiAZdqXTciItJPCnoRkYBT0IuIBJyCXkQk4BT0IiIBp6AXEQk4Bb2ISMAAuXGvAAAADElEQVQp6EVEAu5/AO1k/x3ZGNX6AAAAAElFTkSuQmCC\n",
      "text/plain": [
       "<Figure size 432x288 with 1 Axes>"
      ]
     },
     "metadata": {},
     "output_type": "display_data"
    }
   ],
   "source": [
    "epsilon_start = cfg.EPSILON_START\n",
    "epsilon_final = cfg.EPSILON_FINAL\n",
    "epsilon_decay = cfg.EPSILON_DECAY\n",
    "\n",
    "epsilon_by_frame = lambda frame_idx: epsilon_final + (epsilon_start - epsilon_final) * math.exp(-1. * frame_idx / epsilon_decay)\n",
    "plt.plot([epsilon_by_frame(i) for i in range(1000000)])"
   ]
  },
  {
   "cell_type": "code",
   "execution_count": 30,
   "metadata": {
    "collapsed": true
   },
   "outputs": [],
   "source": [
    "def entropy(p):\n",
    "    p1 = np.exp(p) / np.sum(np.exp(p))\n",
    "    return -sum(p1*np.log(p1))\n"
   ]
  },
  {
   "cell_type": "code",
   "execution_count": 32,
   "metadata": {
    "collapsed": false,
    "scrolled": false
   },
   "outputs": [
    {
<<<<<<< HEAD
     "data": {
      "image/png": "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\n",
      "text/plain": [
       "<matplotlib.figure.Figure at 0x7f45ec00ffd0>"
      ]
     },
     "metadata": {},
     "output_type": "display_data"
    },
    {
     "name": "stdout",
     "output_type": "stream",
     "text": [
      "traning_speed: 208.97 1e4_frames/s\n",
      "frame_idx: 1286536, (42.88 %)"
=======
     "name": "stdout",
     "output_type": "stream",
     "text": [
      "frame_idx:    2205, (0.07 %)"
     ]
    },
    {
     "ename": "KeyboardInterrupt",
     "evalue": "",
     "output_type": "error",
     "traceback": [
      "\u001b[0;31m---------------------------------------------------------------------------\u001b[0m",
      "\u001b[0;31mKeyboardInterrupt\u001b[0m                         Traceback (most recent call last)",
      "\u001b[0;32m<ipython-input-32-134b3c04a4b0>\u001b[0m in \u001b[0;36m<module>\u001b[0;34m()\u001b[0m\n\u001b[1;32m     33\u001b[0m     \u001b[0mreward\u001b[0m \u001b[0;34m+=\u001b[0m \u001b[0me_bonus\u001b[0m\u001b[0;34m\u001b[0m\u001b[0m\n\u001b[1;32m     34\u001b[0m \u001b[0;34m\u001b[0m\u001b[0m\n\u001b[0;32m---> 35\u001b[0;31m     \u001b[0mnext_action\u001b[0m \u001b[0;34m=\u001b[0m \u001b[0mq_model\u001b[0m\u001b[0;34m.\u001b[0m\u001b[0mact\u001b[0m\u001b[0;34m(\u001b[0m\u001b[0mnext_state\u001b[0m\u001b[0;34m,\u001b[0m \u001b[0;36m0\u001b[0m\u001b[0;34m)\u001b[0m\u001b[0;34m\u001b[0m\u001b[0m\n\u001b[0m\u001b[1;32m     36\u001b[0m     \u001b[0mnext_q_value\u001b[0m \u001b[0;34m=\u001b[0m \u001b[0mq_model\u001b[0m\u001b[0;34m.\u001b[0m\u001b[0mpredict\u001b[0m\u001b[0;34m(\u001b[0m\u001b[0mnext_state\u001b[0m\u001b[0;34m)\u001b[0m\u001b[0;34m.\u001b[0m\u001b[0mdata\u001b[0m\u001b[0;34m.\u001b[0m\u001b[0mcpu\u001b[0m\u001b[0;34m(\u001b[0m\u001b[0;34m)\u001b[0m\u001b[0;34m.\u001b[0m\u001b[0mnumpy\u001b[0m\u001b[0;34m(\u001b[0m\u001b[0;34m)\u001b[0m\u001b[0;34m[\u001b[0m\u001b[0;36m0\u001b[0m\u001b[0;34m]\u001b[0m\u001b[0;34m[\u001b[0m\u001b[0mnext_action\u001b[0m\u001b[0;34m]\u001b[0m\u001b[0;34m\u001b[0m\u001b[0m\n\u001b[1;32m     37\u001b[0m     \u001b[0mnext_e_value\u001b[0m \u001b[0;34m=\u001b[0m \u001b[0me_model\u001b[0m\u001b[0;34m.\u001b[0m\u001b[0mpredict\u001b[0m\u001b[0;34m(\u001b[0m\u001b[0mnext_state\u001b[0m\u001b[0;34m)\u001b[0m\u001b[0;34m.\u001b[0m\u001b[0mdata\u001b[0m\u001b[0;34m.\u001b[0m\u001b[0mcpu\u001b[0m\u001b[0;34m(\u001b[0m\u001b[0;34m)\u001b[0m\u001b[0;34m.\u001b[0m\u001b[0mnumpy\u001b[0m\u001b[0;34m(\u001b[0m\u001b[0;34m)\u001b[0m\u001b[0;34m[\u001b[0m\u001b[0;36m0\u001b[0m\u001b[0;34m]\u001b[0m\u001b[0;34m[\u001b[0m\u001b[0mnext_action\u001b[0m\u001b[0;34m]\u001b[0m\u001b[0;34m\u001b[0m\u001b[0m\n",
      "\u001b[0;32m<ipython-input-26-ab147929f2dc>\u001b[0m in \u001b[0;36mact\u001b[0;34m(self, state, epsilon)\u001b[0m\n\u001b[1;32m     42\u001b[0m         \u001b[0;32mif\u001b[0m \u001b[0mrandom\u001b[0m\u001b[0;34m.\u001b[0m\u001b[0mrandom\u001b[0m\u001b[0;34m(\u001b[0m\u001b[0;34m)\u001b[0m \u001b[0;34m>\u001b[0m \u001b[0mepsilon\u001b[0m\u001b[0;34m:\u001b[0m\u001b[0;34m\u001b[0m\u001b[0m\n\u001b[1;32m     43\u001b[0m             \u001b[0mstate\u001b[0m   \u001b[0;34m=\u001b[0m \u001b[0mVariable\u001b[0m\u001b[0;34m(\u001b[0m\u001b[0mtorch\u001b[0m\u001b[0;34m.\u001b[0m\u001b[0mFloatTensor\u001b[0m\u001b[0;34m(\u001b[0m\u001b[0mnp\u001b[0m\u001b[0;34m.\u001b[0m\u001b[0mfloat32\u001b[0m\u001b[0;34m(\u001b[0m\u001b[0mstate\u001b[0m\u001b[0;34m)\u001b[0m\u001b[0;34m)\u001b[0m\u001b[0;34m.\u001b[0m\u001b[0munsqueeze\u001b[0m\u001b[0;34m(\u001b[0m\u001b[0;36m0\u001b[0m\u001b[0;34m)\u001b[0m\u001b[0;34m,\u001b[0m \u001b[0mvolatile\u001b[0m\u001b[0;34m=\u001b[0m\u001b[0;32mTrue\u001b[0m\u001b[0;34m)\u001b[0m\u001b[0;34m\u001b[0m\u001b[0m\n\u001b[0;32m---> 44\u001b[0;31m             \u001b[0mq_value\u001b[0m \u001b[0;34m=\u001b[0m \u001b[0mself\u001b[0m\u001b[0;34m.\u001b[0m\u001b[0mforward\u001b[0m\u001b[0;34m(\u001b[0m\u001b[0mstate\u001b[0m\u001b[0;34m)\u001b[0m\u001b[0;34m\u001b[0m\u001b[0m\n\u001b[0m\u001b[1;32m     45\u001b[0m             \u001b[0maction\u001b[0m  \u001b[0;34m=\u001b[0m \u001b[0mq_value\u001b[0m\u001b[0;34m.\u001b[0m\u001b[0mmax\u001b[0m\u001b[0;34m(\u001b[0m\u001b[0;36m1\u001b[0m\u001b[0;34m)\u001b[0m\u001b[0;34m[\u001b[0m\u001b[0;36m1\u001b[0m\u001b[0;34m]\u001b[0m\u001b[0;34m.\u001b[0m\u001b[0mdata\u001b[0m\u001b[0;34m[\u001b[0m\u001b[0;36m0\u001b[0m\u001b[0;34m]\u001b[0m\u001b[0;34m\u001b[0m\u001b[0m\n\u001b[1;32m     46\u001b[0m         \u001b[0;32melse\u001b[0m\u001b[0;34m:\u001b[0m\u001b[0;34m\u001b[0m\u001b[0m\n",
      "\u001b[0;32m<ipython-input-26-ab147929f2dc>\u001b[0m in \u001b[0;36mforward\u001b[0;34m(self, x)\u001b[0m\n\u001b[1;32m     28\u001b[0m \u001b[0;34m\u001b[0m\u001b[0m\n\u001b[1;32m     29\u001b[0m     \u001b[0;32mdef\u001b[0m \u001b[0mforward\u001b[0m\u001b[0;34m(\u001b[0m\u001b[0mself\u001b[0m\u001b[0;34m,\u001b[0m \u001b[0mx\u001b[0m\u001b[0;34m)\u001b[0m\u001b[0;34m:\u001b[0m\u001b[0;34m\u001b[0m\u001b[0m\n\u001b[0;32m---> 30\u001b[0;31m         \u001b[0mx\u001b[0m \u001b[0;34m=\u001b[0m \u001b[0mself\u001b[0m\u001b[0;34m.\u001b[0m\u001b[0mfeatures\u001b[0m\u001b[0;34m(\u001b[0m\u001b[0mx\u001b[0m\u001b[0;34m)\u001b[0m\u001b[0;34m\u001b[0m\u001b[0m\n\u001b[0m\u001b[1;32m     31\u001b[0m         \u001b[0mx\u001b[0m \u001b[0;34m=\u001b[0m \u001b[0mx\u001b[0m\u001b[0;34m.\u001b[0m\u001b[0mview\u001b[0m\u001b[0;34m(\u001b[0m\u001b[0mx\u001b[0m\u001b[0;34m.\u001b[0m\u001b[0msize\u001b[0m\u001b[0;34m(\u001b[0m\u001b[0;36m0\u001b[0m\u001b[0;34m)\u001b[0m\u001b[0;34m,\u001b[0m \u001b[0;34m-\u001b[0m\u001b[0;36m1\u001b[0m\u001b[0;34m)\u001b[0m\u001b[0;34m\u001b[0m\u001b[0m\n\u001b[1;32m     32\u001b[0m         \u001b[0mx\u001b[0m \u001b[0;34m=\u001b[0m \u001b[0mself\u001b[0m\u001b[0;34m.\u001b[0m\u001b[0mfc\u001b[0m\u001b[0;34m(\u001b[0m\u001b[0mx\u001b[0m\u001b[0;34m)\u001b[0m\u001b[0;34m\u001b[0m\u001b[0m\n",
      "\u001b[0;32m~/anaconda3/envs/pytorch/lib/python3.5/site-packages/torch/nn/modules/module.py\u001b[0m in \u001b[0;36m__call__\u001b[0;34m(self, *input, **kwargs)\u001b[0m\n\u001b[1;32m    355\u001b[0m             \u001b[0mresult\u001b[0m \u001b[0;34m=\u001b[0m \u001b[0mself\u001b[0m\u001b[0;34m.\u001b[0m\u001b[0m_slow_forward\u001b[0m\u001b[0;34m(\u001b[0m\u001b[0;34m*\u001b[0m\u001b[0minput\u001b[0m\u001b[0;34m,\u001b[0m \u001b[0;34m**\u001b[0m\u001b[0mkwargs\u001b[0m\u001b[0;34m)\u001b[0m\u001b[0;34m\u001b[0m\u001b[0m\n\u001b[1;32m    356\u001b[0m         \u001b[0;32melse\u001b[0m\u001b[0;34m:\u001b[0m\u001b[0;34m\u001b[0m\u001b[0m\n\u001b[0;32m--> 357\u001b[0;31m             \u001b[0mresult\u001b[0m \u001b[0;34m=\u001b[0m \u001b[0mself\u001b[0m\u001b[0;34m.\u001b[0m\u001b[0mforward\u001b[0m\u001b[0;34m(\u001b[0m\u001b[0;34m*\u001b[0m\u001b[0minput\u001b[0m\u001b[0;34m,\u001b[0m \u001b[0;34m**\u001b[0m\u001b[0mkwargs\u001b[0m\u001b[0;34m)\u001b[0m\u001b[0;34m\u001b[0m\u001b[0m\n\u001b[0m\u001b[1;32m    358\u001b[0m         \u001b[0;32mfor\u001b[0m \u001b[0mhook\u001b[0m \u001b[0;32min\u001b[0m \u001b[0mself\u001b[0m\u001b[0;34m.\u001b[0m\u001b[0m_forward_hooks\u001b[0m\u001b[0;34m.\u001b[0m\u001b[0mvalues\u001b[0m\u001b[0;34m(\u001b[0m\u001b[0;34m)\u001b[0m\u001b[0;34m:\u001b[0m\u001b[0;34m\u001b[0m\u001b[0m\n\u001b[1;32m    359\u001b[0m             \u001b[0mhook_result\u001b[0m \u001b[0;34m=\u001b[0m \u001b[0mhook\u001b[0m\u001b[0;34m(\u001b[0m\u001b[0mself\u001b[0m\u001b[0;34m,\u001b[0m \u001b[0minput\u001b[0m\u001b[0;34m,\u001b[0m \u001b[0mresult\u001b[0m\u001b[0;34m)\u001b[0m\u001b[0;34m\u001b[0m\u001b[0m\n",
      "\u001b[0;32m~/anaconda3/envs/pytorch/lib/python3.5/site-packages/torch/nn/modules/container.py\u001b[0m in \u001b[0;36mforward\u001b[0;34m(self, input)\u001b[0m\n\u001b[1;32m     65\u001b[0m     \u001b[0;32mdef\u001b[0m \u001b[0mforward\u001b[0m\u001b[0;34m(\u001b[0m\u001b[0mself\u001b[0m\u001b[0;34m,\u001b[0m \u001b[0minput\u001b[0m\u001b[0;34m)\u001b[0m\u001b[0;34m:\u001b[0m\u001b[0;34m\u001b[0m\u001b[0m\n\u001b[1;32m     66\u001b[0m         \u001b[0;32mfor\u001b[0m \u001b[0mmodule\u001b[0m \u001b[0;32min\u001b[0m \u001b[0mself\u001b[0m\u001b[0;34m.\u001b[0m\u001b[0m_modules\u001b[0m\u001b[0;34m.\u001b[0m\u001b[0mvalues\u001b[0m\u001b[0;34m(\u001b[0m\u001b[0;34m)\u001b[0m\u001b[0;34m:\u001b[0m\u001b[0;34m\u001b[0m\u001b[0m\n\u001b[0;32m---> 67\u001b[0;31m             \u001b[0minput\u001b[0m \u001b[0;34m=\u001b[0m \u001b[0mmodule\u001b[0m\u001b[0;34m(\u001b[0m\u001b[0minput\u001b[0m\u001b[0;34m)\u001b[0m\u001b[0;34m\u001b[0m\u001b[0m\n\u001b[0m\u001b[1;32m     68\u001b[0m         \u001b[0;32mreturn\u001b[0m \u001b[0minput\u001b[0m\u001b[0;34m\u001b[0m\u001b[0m\n\u001b[1;32m     69\u001b[0m \u001b[0;34m\u001b[0m\u001b[0m\n",
      "\u001b[0;32m~/anaconda3/envs/pytorch/lib/python3.5/site-packages/torch/nn/modules/module.py\u001b[0m in \u001b[0;36m__call__\u001b[0;34m(self, *input, **kwargs)\u001b[0m\n\u001b[1;32m    355\u001b[0m             \u001b[0mresult\u001b[0m \u001b[0;34m=\u001b[0m \u001b[0mself\u001b[0m\u001b[0;34m.\u001b[0m\u001b[0m_slow_forward\u001b[0m\u001b[0;34m(\u001b[0m\u001b[0;34m*\u001b[0m\u001b[0minput\u001b[0m\u001b[0;34m,\u001b[0m \u001b[0;34m**\u001b[0m\u001b[0mkwargs\u001b[0m\u001b[0;34m)\u001b[0m\u001b[0;34m\u001b[0m\u001b[0m\n\u001b[1;32m    356\u001b[0m         \u001b[0;32melse\u001b[0m\u001b[0;34m:\u001b[0m\u001b[0;34m\u001b[0m\u001b[0m\n\u001b[0;32m--> 357\u001b[0;31m             \u001b[0mresult\u001b[0m \u001b[0;34m=\u001b[0m \u001b[0mself\u001b[0m\u001b[0;34m.\u001b[0m\u001b[0mforward\u001b[0m\u001b[0;34m(\u001b[0m\u001b[0;34m*\u001b[0m\u001b[0minput\u001b[0m\u001b[0;34m,\u001b[0m \u001b[0;34m**\u001b[0m\u001b[0mkwargs\u001b[0m\u001b[0;34m)\u001b[0m\u001b[0;34m\u001b[0m\u001b[0m\n\u001b[0m\u001b[1;32m    358\u001b[0m         \u001b[0;32mfor\u001b[0m \u001b[0mhook\u001b[0m \u001b[0;32min\u001b[0m \u001b[0mself\u001b[0m\u001b[0;34m.\u001b[0m\u001b[0m_forward_hooks\u001b[0m\u001b[0;34m.\u001b[0m\u001b[0mvalues\u001b[0m\u001b[0;34m(\u001b[0m\u001b[0;34m)\u001b[0m\u001b[0;34m:\u001b[0m\u001b[0;34m\u001b[0m\u001b[0m\n\u001b[1;32m    359\u001b[0m             \u001b[0mhook_result\u001b[0m \u001b[0;34m=\u001b[0m \u001b[0mhook\u001b[0m\u001b[0;34m(\u001b[0m\u001b[0mself\u001b[0m\u001b[0;34m,\u001b[0m \u001b[0minput\u001b[0m\u001b[0;34m,\u001b[0m \u001b[0mresult\u001b[0m\u001b[0;34m)\u001b[0m\u001b[0;34m\u001b[0m\u001b[0m\n",
      "\u001b[0;32m~/anaconda3/envs/pytorch/lib/python3.5/site-packages/torch/nn/modules/conv.py\u001b[0m in \u001b[0;36mforward\u001b[0;34m(self, input)\u001b[0m\n\u001b[1;32m    280\u001b[0m     \u001b[0;32mdef\u001b[0m \u001b[0mforward\u001b[0m\u001b[0;34m(\u001b[0m\u001b[0mself\u001b[0m\u001b[0;34m,\u001b[0m \u001b[0minput\u001b[0m\u001b[0;34m)\u001b[0m\u001b[0;34m:\u001b[0m\u001b[0;34m\u001b[0m\u001b[0m\n\u001b[1;32m    281\u001b[0m         return F.conv2d(input, self.weight, self.bias, self.stride,\n\u001b[0;32m--> 282\u001b[0;31m                         self.padding, self.dilation, self.groups)\n\u001b[0m\u001b[1;32m    283\u001b[0m \u001b[0;34m\u001b[0m\u001b[0m\n\u001b[1;32m    284\u001b[0m \u001b[0;34m\u001b[0m\u001b[0m\n",
      "\u001b[0;32m~/anaconda3/envs/pytorch/lib/python3.5/site-packages/torch/nn/functional.py\u001b[0m in \u001b[0;36mconv2d\u001b[0;34m(input, weight, bias, stride, padding, dilation, groups)\u001b[0m\n\u001b[1;32m     88\u001b[0m                 \u001b[0m_pair\u001b[0m\u001b[0;34m(\u001b[0m\u001b[0;36m0\u001b[0m\u001b[0;34m)\u001b[0m\u001b[0;34m,\u001b[0m \u001b[0mgroups\u001b[0m\u001b[0;34m,\u001b[0m \u001b[0mtorch\u001b[0m\u001b[0;34m.\u001b[0m\u001b[0mbackends\u001b[0m\u001b[0;34m.\u001b[0m\u001b[0mcudnn\u001b[0m\u001b[0;34m.\u001b[0m\u001b[0mbenchmark\u001b[0m\u001b[0;34m,\u001b[0m\u001b[0;34m\u001b[0m\u001b[0m\n\u001b[1;32m     89\u001b[0m                 torch.backends.cudnn.deterministic, torch.backends.cudnn.enabled)\n\u001b[0;32m---> 90\u001b[0;31m     \u001b[0;32mreturn\u001b[0m \u001b[0mf\u001b[0m\u001b[0;34m(\u001b[0m\u001b[0minput\u001b[0m\u001b[0;34m,\u001b[0m \u001b[0mweight\u001b[0m\u001b[0;34m,\u001b[0m \u001b[0mbias\u001b[0m\u001b[0;34m)\u001b[0m\u001b[0;34m\u001b[0m\u001b[0m\n\u001b[0m\u001b[1;32m     91\u001b[0m \u001b[0;34m\u001b[0m\u001b[0m\n\u001b[1;32m     92\u001b[0m \u001b[0;34m\u001b[0m\u001b[0m\n",
      "\u001b[0;31mKeyboardInterrupt\u001b[0m: "
>>>>>>> 02735d11879208de6e7f52d3b98b10c13da7a6ea
     ]
    }
   ],
   "source": [
    "num_frames = cfg.NUM_FRAMES\n",
    "batch_size = cfg.BATCH_SIZE\n",
    "gamma      = cfg.GAMMA\n",
    "episode = 0\n",
    "\n",
    "q_losses = []\n",
    "all_rewards = []\n",
    "episode_reward = 0\n",
    "\n",
    "state_traj = []\n",
    "q_value_traj = []\n",
    "\n",
    "episode_state = []\n",
    "episode_q_val = []\n",
    "\n",
    "start_time=time.time()\n",
    "\n",
    "state = env.reset()\n",
    "for frame_idx in range(1, num_frames + 1):\n",
    "    epsilon = epsilon_by_frame(frame_idx)\n",
    "    action = q_model.act(state, epsilon)\n",
    "    \n",
    "    q_values = q_model.predict(state)\n",
    "    e_value = e_model.predict(state).data.cpu().numpy()[0][action]\n",
    "    e_bonus = 0.05/(np.sqrt(-np.log(e_value+1e-8))+1e-8)\n",
    "    \n",
    "    if episode % 20 == 0:\n",
    "        q_values = q_model.predict(state).data.cpu().numpy()[0]\n",
    "        episode_state.append(state)\n",
    "        episode_q_val.append(q_values)\n",
    "    \n",
    "    next_state, reward, done, _ = env.step(action)\n",
    "    reward += e_bonus\n",
    "    \n",
    "    next_action = q_model.act(next_state, 0)\n",
    "    next_q_value = q_model.predict(next_state).data.cpu().numpy()[0][next_action]\n",
    "    next_e_value = e_model.predict(next_state).data.cpu().numpy()[0][next_action]\n",
    "\n",
    "\n",
    "    replay_buffer.push(state, action, reward, next_state, next_q_value, next_e_value, done)\n",
    "    \n",
    "    state = next_state\n",
    "    episode_reward += (reward - e_bonus)\n",
    "    \n",
    "    if done:\n",
    "        state = env.reset()\n",
    "        all_rewards.append(episode_reward)\n",
    "        episode_reward = 0\n",
    "        if episode % 20 == 0:\n",
    "            state_traj.append(episode_state)\n",
    "            q_value_traj.append(episode_q_val)\n",
    "            \n",
    "        episode += 1\n",
    "        episode_state = []\n",
    "        episode_q_val = []\n",
    "        episode_q_entropy = []\n",
    "        \n",
    "    if len(replay_buffer) > replay_initial:\n",
    "        q_loss, _ = compute_td_loss(batch_size)\n",
    "        q_losses.append(q_loss.data[0])\n",
    "\n",
    "        \n",
    "    if frame_idx % 10000 == 0:\n",
    "        plot(frame_idx, all_rewards, q_losses)\n",
    "        print('\\rtraning_speed: %.2f 1e4_frames/s' %(time.time()-start_time))\n",
    "        start_time = time.time()\n",
    "        \n",
    "    print('\\rframe_idx: %7d, (%.2f %%)' %(frame_idx, frame_idx/num_frames*100), end='')\n",
    "    "
   ]
  },
  {
   "cell_type": "code",
   "execution_count": 34,
   "metadata": {
    "collapsed": false
   },
   "outputs": [
    {
     "name": "stderr",
     "output_type": "stream",
     "text": [
      "/Users/minzy/anaconda3/envs/pytorch/lib/python3.5/site-packages/torch/serialization.py:159: UserWarning: Couldn't retrieve source code for container of type CnnDQN. It won't be checked for correctness upon loading.\n",
      "  \"type \" + obj.__name__ + \". It won't be checked \"\n"
     ]
    }
   ],
   "source": [
    "from common.save_file import *\n",
    "\n",
    "model_dir = cfg.MODEL_DIR\n",
    "var_dir = cfg.VAR_DIR\n",
    "name = \"epsilon_\" + env_id\n",
    "\n",
    "save_model(q_model, model_dir, name)\n",
    "\n",
    "var_dict = {\n",
    "            \"all_rewards\": all_rewards,\n",
    "            \"losses\": q_losses,\n",
    "            \"state_traj\": state_traj,\n",
    "            \"q_value_traj\": q_value_traj\n",
    "           }\n",
    "\n",
    "save_variable(name, var_dir, var_dict)"
   ]
  },
  {
   "cell_type": "code",
   "execution_count": null,
   "metadata": {
    "collapsed": true
   },
   "outputs": [],
   "source": []
  }
 ],
 "metadata": {
  "kernelspec": {
   "display_name": "pytorch",
   "language": "python",
   "name": "pytorch"
  },
  "language_info": {
   "codemirror_mode": {
    "name": "ipython",
    "version": 3
   },
   "file_extension": ".py",
   "mimetype": "text/x-python",
   "name": "python",
   "nbconvert_exporter": "python",
   "pygments_lexer": "ipython3",
   "version": "3.5.4"
  }
 },
 "nbformat": 4,
 "nbformat_minor": 2
}
