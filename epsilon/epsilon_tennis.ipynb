{
 "cells": [
  {
   "cell_type": "code",
   "execution_count": 1,
   "metadata": {
    "ExecuteTime": {
     "end_time": "2018-06-19T02:56:16.010935Z",
     "start_time": "2018-06-19T02:56:15.699733Z"
    }
   },
   "outputs": [],
   "source": [
    "import math, random\n",
    "import gym\n",
    "import numpy as np\n",
    "import sys\n",
    "import os\n",
    "\n",
    "import torch\n",
    "import torch.nn as nn\n",
    "import torch.optim as optim\n",
    "import torch.autograd as autograd \n",
    "import torch.nn.functional as F"
   ]
  },
  {
   "cell_type": "code",
   "execution_count": 2,
   "metadata": {
    "ExecuteTime": {
     "end_time": "2018-06-19T02:56:19.519032Z",
     "start_time": "2018-06-19T02:56:19.320723Z"
    }
   },
   "outputs": [],
   "source": [
    "from IPython.display import clear_output\n",
    "import matplotlib.pyplot as plt\n",
    "%matplotlib inline"
   ]
  },
  {
   "cell_type": "code",
   "execution_count": 3,
   "metadata": {
    "ExecuteTime": {
     "end_time": "2018-06-19T02:56:22.424020Z",
     "start_time": "2018-06-19T02:56:22.394590Z"
    }
   },
   "outputs": [],
   "source": [
    "sys.path.append('../')\n",
    "from common.wrappers import make_atari, wrap_deepmind, wrap_pytorch"
   ]
  },
  {
   "cell_type": "markdown",
   "metadata": {},
   "source": [
    "<h3> Set configuration </h3>"
   ]
  },
  {
   "cell_type": "code",
   "execution_count": 4,
   "metadata": {
    "ExecuteTime": {
     "end_time": "2018-06-19T02:56:24.992651Z",
     "start_time": "2018-06-19T02:56:24.988527Z"
    }
   },
   "outputs": [],
   "source": [
    "from common.config import *\n",
    "cfg = Config()"
   ]
  },
  {
   "cell_type": "markdown",
   "metadata": {},
   "source": [
    "<h1>Atari Environment</h1>"
   ]
  },
  {
   "cell_type": "code",
   "execution_count": 5,
   "metadata": {
    "ExecuteTime": {
     "end_time": "2018-06-19T02:56:29.335991Z",
     "start_time": "2018-06-19T02:56:29.144075Z"
    }
   },
   "outputs": [],
   "source": [
    "env_id = \"TennisNoFrameskip-v0\"\n",
    "env    = make_atari(env_id)\n",
    "env    = wrap_deepmind(env)\n",
    "env    = wrap_pytorch(env)"
   ]
  },
  {
   "cell_type": "markdown",
   "metadata": {},
   "source": [
    "<h3>Use Cuda</h3>"
   ]
  },
  {
   "cell_type": "code",
   "execution_count": 6,
   "metadata": {
    "ExecuteTime": {
     "end_time": "2018-06-19T02:56:39.817825Z",
     "start_time": "2018-06-19T02:56:39.815032Z"
    }
   },
   "outputs": [],
   "source": [
    "os.environ[\"CUDA_DEVICE_ORDER\"]=\"PCI_BUS_ID\"\n",
    "os.environ[\"CUDA_VISIBLE_DEVICES\"]=\"3\""
   ]
  },
  {
   "cell_type": "code",
   "execution_count": 7,
   "metadata": {
    "ExecuteTime": {
     "end_time": "2018-06-19T02:56:42.240837Z",
     "start_time": "2018-06-19T02:56:42.194844Z"
    }
   },
   "outputs": [],
   "source": [
    "USE_CUDA = torch.cuda.is_available()\n",
    "Variable = lambda *args, **kwargs: autograd.Variable(*args, **kwargs).cuda() if USE_CUDA else autograd.Variable(*args, **kwargs)"
   ]
  },
  {
   "cell_type": "markdown",
   "metadata": {},
   "source": [
    "<h2>Replay Buffer</h2>"
   ]
  },
  {
   "cell_type": "code",
   "execution_count": 8,
   "metadata": {
    "ExecuteTime": {
     "end_time": "2018-06-19T02:56:45.439515Z",
     "start_time": "2018-06-19T02:56:45.424125Z"
    }
   },
   "outputs": [],
   "source": [
    "from collections import deque\n",
    "\n",
    "class ReplayBuffer(object):\n",
    "    def __init__(self, capacity):\n",
    "        self.buffer = deque(maxlen=capacity)\n",
    "    \n",
    "    def push(self, state, action, reward, next_state, done):\n",
    "        state      = np.expand_dims(state, 0)\n",
    "        next_state = np.expand_dims(next_state, 0)\n",
    "            \n",
    "        self.buffer.append((state, action, reward, next_state, done))\n",
    "    \n",
    "    def sample(self, batch_size):\n",
    "        state, action, reward, next_state, done = zip(*random.sample(self.buffer, batch_size))\n",
    "        return np.concatenate(state), action, reward, np.concatenate(next_state), done\n",
    "    \n",
    "    def __len__(self):\n",
    "        return len(self.buffer)"
   ]
  },
  {
   "cell_type": "code",
   "execution_count": 9,
   "metadata": {
    "ExecuteTime": {
     "end_time": "2018-06-19T02:56:46.629859Z",
     "start_time": "2018-06-19T02:56:46.622074Z"
    }
   },
   "outputs": [],
   "source": [
    "def plot(frame_idx, rewards, losses):\n",
    "    clear_output(True)\n",
    "    plt.figure(figsize=(20,5))\n",
    "    plt.subplot(131)\n",
    "    plt.title('frame %s. reward: %s' % (frame_idx, np.mean(rewards[-10:])))\n",
    "    plt.plot(rewards)\n",
    "    plt.subplot(132)\n",
    "    plt.title('loss')\n",
    "    plt.plot(losses)\n",
    "    plt.show()"
   ]
  },
  {
   "cell_type": "markdown",
   "metadata": {},
   "source": [
    "<h2> Deep Q Network </h2>"
   ]
  },
  {
   "cell_type": "code",
   "execution_count": 11,
   "metadata": {
    "ExecuteTime": {
     "end_time": "2018-06-19T02:58:33.369890Z",
     "start_time": "2018-06-19T02:58:33.251998Z"
    }
   },
   "outputs": [],
   "source": [
    "class CnnDQN(nn.Module):\n",
    "    def __init__(self, input_shape, num_actions):\n",
    "        super(CnnDQN, self).__init__()\n",
    "        \n",
    "        self.input_shape = input_shape\n",
    "        self.num_actions = num_actions\n",
    "        \n",
    "        self.features = nn.Sequential(\n",
    "            nn.Conv2d(input_shape[0], 32, kernel_size=8, stride=4),\n",
    "            nn.ReLU(),\n",
    "            nn.Conv2d(32, 64, kernel_size=4, stride=2),\n",
    "            nn.ReLU(),\n",
    "            nn.Conv2d(64, 64, kernel_size=3, stride=1),\n",
    "            nn.ReLU()\n",
    "        )\n",
    "        \n",
    "        self.fc = nn.Sequential(\n",
    "            nn.Linear(self.feature_size(), 512),\n",
    "            nn.ReLU(),\n",
    "            nn.Linear(512, self.num_actions)\n",
    "        )\n",
    "        \n",
    "    def forward(self, x):\n",
    "        x /= 255.0\n",
    "        x = self.features(x)\n",
    "        x = x.view(x.size(0), -1)\n",
    "        x = self.fc(x)\n",
    "        return x\n",
    "    \n",
    "    def feature_size(self):\n",
    "        return self.features(autograd.Variable(torch.zeros(1, *self.input_shape))).view(1, -1).size(1)\n",
    "    \n",
    "    def act(self, state, epsilon):\n",
    "        if random.random() > epsilon:\n",
    "            state   = Variable(torch.FloatTensor(np.float32(state)).unsqueeze(0), volatile=True)\n",
    "            q_value = self.forward(state)\n",
    "            action  = q_value.max(1)[1].data[0]\n",
    "        else:\n",
    "            action = random.randrange(env.action_space.n)\n",
    "        return action\n",
    "    \n",
    "    def predict(self, state):\n",
    "        state = Variable(torch.FloatTensor(np.float32(state)).unsqueeze(0), volatile=True)\n",
    "        q_value = self.forward(state)\n",
    "        return q_value\n",
    "    \n",
    "    def weights_init(self, m):\n",
    "        classname = m.__class__.__name__\n",
    "        if classname.find('Conv') != -1 and classname.find('Layer') == -1:\n",
    "            nn.init.xavier_normal(m.weight)\n",
    "        elif classname.find('Linear') != -1:\n",
    "            nn.init.xavier_normal(m.weight)\n",
    "            nn.init.constant(m.bias, 0.1)\n",
    "        elif classname.find('BatchNorm') != -1:\n",
    "            m.weight.data.normal_(1.0, 0.02)\n",
    "            m.bias.data.fill_(0)"
   ]
  },
  {
   "cell_type": "code",
   "execution_count": 13,
   "metadata": {
    "ExecuteTime": {
     "end_time": "2018-06-19T02:58:51.351992Z",
     "start_time": "2018-06-19T02:58:51.268469Z"
    }
   },
   "outputs": [
    {
     "name": "stderr",
     "output_type": "stream",
     "text": [
      "/usr/local/lib/python3.5/dist-packages/ipykernel_launcher.py:50: UserWarning: nn.init.xavier_normal is now deprecated in favor of nn.init.xavier_normal_.\n",
      "/usr/local/lib/python3.5/dist-packages/ipykernel_launcher.py:52: UserWarning: nn.init.xavier_normal is now deprecated in favor of nn.init.xavier_normal_.\n",
      "/usr/local/lib/python3.5/dist-packages/ipykernel_launcher.py:53: UserWarning: nn.init.constant is now deprecated in favor of nn.init.constant_.\n"
     ]
    }
   ],
   "source": [
    "current_model = CnnDQN(env.observation_space.shape, env.action_space.n)\n",
    "target_model = CnnDQN(env.observation_space.shape, env.action_space.n)\n",
    "\n",
    "current_model.apply(current_model.weights_init)\n",
    "\n",
    "if USE_CUDA:\n",
    "    current_model = current_model.cuda()\n",
    "    target_model = target_model.cuda()\n",
    "    \n",
    "optimizer = optim.RMSprop(current_model.parameters(), lr=cfg.LEARNING_RATE)\n",
    "\n",
    "replay_initial = cfg.REPLAY_INIT\n",
    "replay_buffer = ReplayBuffer(cfg.REPLAY_BUFFER)"
   ]
  },
  {
   "cell_type": "markdown",
   "metadata": {},
   "source": [
    "### Synchronize current net and target net"
   ]
  },
  {
   "cell_type": "code",
   "execution_count": 14,
   "metadata": {
    "ExecuteTime": {
     "end_time": "2018-06-19T02:58:52.836528Z",
     "start_time": "2018-06-19T02:58:52.833745Z"
    }
   },
   "outputs": [],
   "source": [
    "def update_target(current_model, target_model):\n",
    "    target_model.load_state_dict(current_model.state_dict())"
   ]
  },
  {
   "cell_type": "code",
   "execution_count": 15,
   "metadata": {
    "ExecuteTime": {
     "end_time": "2018-06-19T02:58:53.333848Z",
     "start_time": "2018-06-19T02:58:53.330384Z"
    }
   },
   "outputs": [],
   "source": [
    "update_target(current_model, target_model)"
   ]
  },
  {
   "cell_type": "markdown",
   "metadata": {},
   "source": [
    "<h2>Computing Temporal Difference Loss</h2>"
   ]
  },
  {
   "cell_type": "code",
   "execution_count": 16,
   "metadata": {
    "ExecuteTime": {
     "end_time": "2018-06-19T02:58:54.563857Z",
     "start_time": "2018-06-19T02:58:54.531643Z"
    }
   },
   "outputs": [],
   "source": [
    "def compute_td_loss(batch_size):\n",
    "    state, action, reward, next_state, done = replay_buffer.sample(batch_size)\n",
    "\n",
    "    state      = Variable(torch.FloatTensor(np.float32(state)))\n",
    "    next_state = Variable(torch.FloatTensor(np.float32(next_state)), volatile=True)\n",
    "    action     = Variable(torch.LongTensor(action))\n",
    "    reward     = Variable(torch.FloatTensor(reward))\n",
    "    done       = Variable(torch.FloatTensor(done))\n",
    "\n",
    "    q_values      = current_model(state)\n",
    "    next_q_values = target_model(next_state)\n",
    "\n",
    "    q_value          = q_values.gather(1, action.unsqueeze(1)).squeeze(1)\n",
    "    next_q_value     = next_q_values.max(1)[0]\n",
    "    expected_q_value = reward + gamma * next_q_value * (1 - done)\n",
    "    \n",
    "    loss = (q_value - Variable(expected_q_value.data)).pow(2).mean()\n",
    "        \n",
    "    optimizer.zero_grad()\n",
    "    loss.backward()\n",
    "    optimizer.step()\n",
    "    \n",
    "    return loss"
   ]
  },
  {
   "cell_type": "markdown",
   "metadata": {},
   "source": [
    "<h2>Epsilon greedy exploration</h2>"
   ]
  },
  {
   "cell_type": "code",
   "execution_count": 17,
   "metadata": {
    "ExecuteTime": {
     "end_time": "2018-06-19T02:58:56.850935Z",
     "start_time": "2018-06-19T02:58:56.630570Z"
    }
   },
   "outputs": [
    {
     "data": {
      "text/plain": [
       "[<matplotlib.lines.Line2D at 0x7fc65e26bb38>]"
      ]
     },
     "execution_count": 17,
     "metadata": {},
     "output_type": "execute_result"
    },
    {
     "data": {
      "image/png": "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\n",
      "text/plain": [
       "<matplotlib.figure.Figure at 0x7fc667a42b00>"
      ]
     },
     "metadata": {},
     "output_type": "display_data"
    }
   ],
   "source": [
    "epsilon_start = cfg.EPSILON_START\n",
    "epsilon_final = cfg.EPSILON_FINAL\n",
    "epsilon_decay = cfg.EPSILON_DECAY\n",
    "\n",
    "#epsilon_by_frame = lambda frame_idx: max(epsilon_start - (epsilon_start - epsilon_final) * (frame_idx / epsilon_decay), epsilon_final)\n",
    "epsilon_by_frame = lambda frame_idx: epsilon_final + (epsilon_start - epsilon_final) * math.exp(-1. * frame_idx /epsilon_decay)\n",
    "\n",
    "plt.plot([epsilon_by_frame(i) for i in range(1000000)])"
   ]
  },
  {
   "cell_type": "code",
   "execution_count": 18,
   "metadata": {
    "ExecuteTime": {
     "end_time": "2018-06-19T02:58:57.537080Z",
     "start_time": "2018-06-19T02:58:57.533417Z"
    }
   },
   "outputs": [],
   "source": [
    "def entropy(p):\n",
    "    p1 = np.exp(p) / np.sum(np.exp(p))\n",
    "    return -sum(p1*np.log(p1))\n"
   ]
  },
  {
   "cell_type": "markdown",
   "metadata": {},
   "source": [
    "<h2> Training </h2>"
   ]
  },
  {
   "cell_type": "code",
<<<<<<< HEAD
   "execution_count": 19,
   "metadata": {
    "ExecuteTime": {
     "end_time": "2018-06-19T12:40:25.702575Z",
     "start_time": "2018-06-19T02:58:59.388629Z"
=======
   "execution_count": null,
   "metadata": {
    "ExecuteTime": {
     "start_time": "2018-06-19T02:58:59.387Z"
>>>>>>> master
    }
   },
   "outputs": [
    {
     "data": {
<<<<<<< HEAD
      "image/png": "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\n",
      "text/plain": [
       "<matplotlib.figure.Figure at 0x7fbfdecc5048>"
=======
      "image/png": "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\n",
      "text/plain": [
       "<matplotlib.figure.Figure at 0x7fbff3a5b080>"
>>>>>>> master
      ]
     },
     "metadata": {},
     "output_type": "display_data"
    },
    {
     "name": "stdout",
     "output_type": "stream",
     "text": [
<<<<<<< HEAD
      "frame_idx: 1422328, (28.45 %)"
     ]
    },
    {
     "ename": "KeyboardInterrupt",
     "evalue": "",
     "output_type": "error",
     "traceback": [
      "\u001b[0;31m---------------------------------------------------------------------------\u001b[0m",
      "\u001b[0;31mKeyboardInterrupt\u001b[0m                         Traceback (most recent call last)",
      "\u001b[0;32m<ipython-input-19-8016c3f551cc>\u001b[0m in \u001b[0;36m<module>\u001b[0;34m()\u001b[0m\n\u001b[1;32m     43\u001b[0m \u001b[0;34m\u001b[0m\u001b[0m\n\u001b[1;32m     44\u001b[0m     \u001b[0;32mif\u001b[0m \u001b[0mlen\u001b[0m\u001b[0;34m(\u001b[0m\u001b[0mreplay_buffer\u001b[0m\u001b[0;34m)\u001b[0m \u001b[0;34m>\u001b[0m \u001b[0mreplay_initial\u001b[0m\u001b[0;34m:\u001b[0m\u001b[0;34m\u001b[0m\u001b[0m\n\u001b[0;32m---> 45\u001b[0;31m         \u001b[0mloss\u001b[0m \u001b[0;34m=\u001b[0m \u001b[0mcompute_td_loss\u001b[0m\u001b[0;34m(\u001b[0m\u001b[0mbatch_size\u001b[0m\u001b[0;34m)\u001b[0m\u001b[0;34m\u001b[0m\u001b[0m\n\u001b[0m\u001b[1;32m     46\u001b[0m         \u001b[0mlosses\u001b[0m\u001b[0;34m.\u001b[0m\u001b[0mappend\u001b[0m\u001b[0;34m(\u001b[0m\u001b[0mloss\u001b[0m\u001b[0;34m.\u001b[0m\u001b[0mdata\u001b[0m\u001b[0;34m[\u001b[0m\u001b[0;36m0\u001b[0m\u001b[0;34m]\u001b[0m\u001b[0;34m)\u001b[0m\u001b[0;34m\u001b[0m\u001b[0m\n\u001b[1;32m     47\u001b[0m \u001b[0;34m\u001b[0m\u001b[0m\n",
      "\u001b[0;32m<ipython-input-16-fd148b4e595f>\u001b[0m in \u001b[0;36mcompute_td_loss\u001b[0;34m(batch_size)\u001b[0m\n\u001b[1;32m      1\u001b[0m \u001b[0;32mdef\u001b[0m \u001b[0mcompute_td_loss\u001b[0m\u001b[0;34m(\u001b[0m\u001b[0mbatch_size\u001b[0m\u001b[0;34m)\u001b[0m\u001b[0;34m:\u001b[0m\u001b[0;34m\u001b[0m\u001b[0m\n\u001b[0;32m----> 2\u001b[0;31m     \u001b[0mstate\u001b[0m\u001b[0;34m,\u001b[0m \u001b[0maction\u001b[0m\u001b[0;34m,\u001b[0m \u001b[0mreward\u001b[0m\u001b[0;34m,\u001b[0m \u001b[0mnext_state\u001b[0m\u001b[0;34m,\u001b[0m \u001b[0mdone\u001b[0m \u001b[0;34m=\u001b[0m \u001b[0mreplay_buffer\u001b[0m\u001b[0;34m.\u001b[0m\u001b[0msample\u001b[0m\u001b[0;34m(\u001b[0m\u001b[0mbatch_size\u001b[0m\u001b[0;34m)\u001b[0m\u001b[0;34m\u001b[0m\u001b[0m\n\u001b[0m\u001b[1;32m      3\u001b[0m \u001b[0;34m\u001b[0m\u001b[0m\n\u001b[1;32m      4\u001b[0m     \u001b[0mstate\u001b[0m      \u001b[0;34m=\u001b[0m \u001b[0mVariable\u001b[0m\u001b[0;34m(\u001b[0m\u001b[0mtorch\u001b[0m\u001b[0;34m.\u001b[0m\u001b[0mFloatTensor\u001b[0m\u001b[0;34m(\u001b[0m\u001b[0mnp\u001b[0m\u001b[0;34m.\u001b[0m\u001b[0mfloat32\u001b[0m\u001b[0;34m(\u001b[0m\u001b[0mstate\u001b[0m\u001b[0;34m)\u001b[0m\u001b[0;34m)\u001b[0m\u001b[0;34m)\u001b[0m\u001b[0;34m\u001b[0m\u001b[0m\n\u001b[1;32m      5\u001b[0m     \u001b[0mnext_state\u001b[0m \u001b[0;34m=\u001b[0m \u001b[0mVariable\u001b[0m\u001b[0;34m(\u001b[0m\u001b[0mtorch\u001b[0m\u001b[0;34m.\u001b[0m\u001b[0mFloatTensor\u001b[0m\u001b[0;34m(\u001b[0m\u001b[0mnp\u001b[0m\u001b[0;34m.\u001b[0m\u001b[0mfloat32\u001b[0m\u001b[0;34m(\u001b[0m\u001b[0mnext_state\u001b[0m\u001b[0;34m)\u001b[0m\u001b[0;34m)\u001b[0m\u001b[0;34m,\u001b[0m \u001b[0mvolatile\u001b[0m\u001b[0;34m=\u001b[0m\u001b[0;32mTrue\u001b[0m\u001b[0;34m)\u001b[0m\u001b[0;34m\u001b[0m\u001b[0m\n",
      "\u001b[0;32m<ipython-input-8-528f8b89ecfb>\u001b[0m in \u001b[0;36msample\u001b[0;34m(self, batch_size)\u001b[0m\n\u001b[1;32m     13\u001b[0m     \u001b[0;32mdef\u001b[0m \u001b[0msample\u001b[0m\u001b[0;34m(\u001b[0m\u001b[0mself\u001b[0m\u001b[0;34m,\u001b[0m \u001b[0mbatch_size\u001b[0m\u001b[0;34m)\u001b[0m\u001b[0;34m:\u001b[0m\u001b[0;34m\u001b[0m\u001b[0m\n\u001b[1;32m     14\u001b[0m         \u001b[0mstate\u001b[0m\u001b[0;34m,\u001b[0m \u001b[0maction\u001b[0m\u001b[0;34m,\u001b[0m \u001b[0mreward\u001b[0m\u001b[0;34m,\u001b[0m \u001b[0mnext_state\u001b[0m\u001b[0;34m,\u001b[0m \u001b[0mdone\u001b[0m \u001b[0;34m=\u001b[0m \u001b[0mzip\u001b[0m\u001b[0;34m(\u001b[0m\u001b[0;34m*\u001b[0m\u001b[0mrandom\u001b[0m\u001b[0;34m.\u001b[0m\u001b[0msample\u001b[0m\u001b[0;34m(\u001b[0m\u001b[0mself\u001b[0m\u001b[0;34m.\u001b[0m\u001b[0mbuffer\u001b[0m\u001b[0;34m,\u001b[0m \u001b[0mbatch_size\u001b[0m\u001b[0;34m)\u001b[0m\u001b[0;34m)\u001b[0m\u001b[0;34m\u001b[0m\u001b[0m\n\u001b[0;32m---> 15\u001b[0;31m         \u001b[0;32mreturn\u001b[0m \u001b[0mnp\u001b[0m\u001b[0;34m.\u001b[0m\u001b[0mconcatenate\u001b[0m\u001b[0;34m(\u001b[0m\u001b[0mstate\u001b[0m\u001b[0;34m)\u001b[0m\u001b[0;34m,\u001b[0m \u001b[0maction\u001b[0m\u001b[0;34m,\u001b[0m \u001b[0mreward\u001b[0m\u001b[0;34m,\u001b[0m \u001b[0mnp\u001b[0m\u001b[0;34m.\u001b[0m\u001b[0mconcatenate\u001b[0m\u001b[0;34m(\u001b[0m\u001b[0mnext_state\u001b[0m\u001b[0;34m)\u001b[0m\u001b[0;34m,\u001b[0m \u001b[0mdone\u001b[0m\u001b[0;34m\u001b[0m\u001b[0m\n\u001b[0m\u001b[1;32m     16\u001b[0m \u001b[0;34m\u001b[0m\u001b[0m\n\u001b[1;32m     17\u001b[0m     \u001b[0;32mdef\u001b[0m \u001b[0m__len__\u001b[0m\u001b[0;34m(\u001b[0m\u001b[0mself\u001b[0m\u001b[0;34m)\u001b[0m\u001b[0;34m:\u001b[0m\u001b[0;34m\u001b[0m\u001b[0m\n",
      "\u001b[0;31mKeyboardInterrupt\u001b[0m: "
=======
      "frame_idx: 1282326, (25.65 %)"
>>>>>>> master
     ]
    }
   ],
   "source": [
    "num_frames = cfg.NUM_FRAMES\n",
    "batch_size = cfg.BATCH_SIZE\n",
    "gamma      = cfg.GAMMA\n",
    "episode = 0\n",
    "\n",
    "losses = []\n",
    "all_rewards = []\n",
    "episode_reward = 0\n",
    "\n",
    "state_traj = []\n",
    "q_value_traj = []\n",
    "\n",
    "episode_state = []\n",
    "episode_q_val = []\n",
    "\n",
    "state = env.reset()\n",
    "for frame_idx in range(1, num_frames + 1):\n",
    "    epsilon = epsilon_by_frame(frame_idx)\n",
    "    action = current_model.act(state, epsilon)\n",
    "\n",
    "    if episode % 20 == 0:\n",
    "        q_values = current_model.predict(state).data.cpu().numpy()[0]\n",
    "        episode_state.append(state)\n",
    "        episode_q_val.append(q_values)\n",
    "    \n",
    "    next_state, reward, done, _ = env.step(action)\n",
    "    replay_buffer.push(state, action, reward, next_state, done)\n",
    "    \n",
    "    state = next_state\n",
    "    episode_reward += reward\n",
    "    \n",
    "    if done:\n",
    "        state = env.reset()\n",
    "        all_rewards.append(episode_reward)\n",
    "        episode_reward = 0\n",
    "        if episode % 20 == 0:\n",
    "            state_traj.append(episode_state)\n",
    "            q_value_traj.append(episode_q_val)\n",
    "        \n",
    "        episode += 1\n",
    "        episode_state = []\n",
    "        episode_q_val = []\n",
    "        \n",
    "    if len(replay_buffer) > replay_initial:\n",
    "        loss = compute_td_loss(batch_size)\n",
    "        losses.append(loss.data[0])\n",
    "        \n",
    "    if frame_idx % 10000 == 0:\n",
    "        plot(frame_idx, all_rewards, losses)\n",
    "        update_target(current_model, target_model)\n",
    "    \n",
    "    print('\\rframe_idx: %7d, (%.2f %%)' %(frame_idx, frame_idx/num_frames*100), end='')"
   ]
  },
  {
   "cell_type": "code",
   "execution_count": null,
   "metadata": {
    "ExecuteTime": {
<<<<<<< HEAD
     "end_time": "2018-06-19T12:40:25.706763Z",
=======
>>>>>>> master
     "start_time": "2018-06-19T02:59:02.377Z"
    }
   },
   "outputs": [],
   "source": [
    "from common.save_file import *\n",
    "\n",
    "model_dir = cfg.MODEL_DIR\n",
    "var_dir = cfg.VAR_DIR\n",
    "name = \"epsilon_\" + env_id\n",
    "\n",
    "save_model(current_model, model_dir, name)\n",
    "\n",
    "var_dict = {\n",
    "            \"all_rewards\": all_rewards,\n",
    "            \"losses\": losses,\n",
    "            \"state_traj\": state_traj,\n",
    "            \"q_value_traj\": q_value_traj\n",
    "           }\n",
    "\n",
    "save_variable(name, var_dir, var_dict)\n"
   ]
  },
  {
   "cell_type": "code",
   "execution_count": null,
   "metadata": {
    "collapsed": true
   },
   "outputs": [],
   "source": []
  }
 ],
 "metadata": {
  "kernelspec": {
   "display_name": "Python 3",
   "language": "python",
   "name": "python3"
  },
  "language_info": {
   "codemirror_mode": {
    "name": "ipython",
    "version": 3
   },
   "file_extension": ".py",
   "mimetype": "text/x-python",
   "name": "python",
   "nbconvert_exporter": "python",
   "pygments_lexer": "ipython3",
   "version": "3.5.2"
<<<<<<< HEAD
  },
  "varInspector": {
   "cols": {
    "lenName": 16,
    "lenType": 16,
    "lenVar": 40
   },
   "kernels_config": {
    "python": {
     "delete_cmd_postfix": "",
     "delete_cmd_prefix": "del ",
     "library": "var_list.py",
     "varRefreshCmd": "print(var_dic_list())"
    },
    "r": {
     "delete_cmd_postfix": ") ",
     "delete_cmd_prefix": "rm(",
     "library": "var_list.r",
     "varRefreshCmd": "cat(var_dic_list()) "
    }
   },
   "types_to_exclude": [
    "module",
    "function",
    "builtin_function_or_method",
    "instance",
    "_Feature"
   ],
   "window_display": false
=======
>>>>>>> master
  }
 },
 "nbformat": 4,
 "nbformat_minor": 2
}
