{
 "cells": [
  {
   "cell_type": "code",
   "execution_count": 1,
   "metadata": {
    "ExecuteTime": {
     "end_time": "2018-06-26T12:43:35.324101Z",
     "start_time": "2018-06-26T12:43:35.093190Z"
    }
   },
   "outputs": [],
   "source": [
    "import math, random\n",
    "import gym\n",
    "import numpy as np\n",
    "import sys\n",
    "import os\n",
    "\n",
    "import torch\n",
    "import torch.nn as nn\n",
    "import torch.optim as optim\n",
    "import torch.autograd as autograd \n",
    "import torch.nn.functional as F"
   ]
  },
  {
   "cell_type": "code",
   "execution_count": 2,
   "metadata": {
    "ExecuteTime": {
     "end_time": "2018-06-26T12:43:36.014821Z",
     "start_time": "2018-06-26T12:43:35.830239Z"
    }
   },
   "outputs": [],
   "source": [
    "from IPython.display import clear_output\n",
    "import matplotlib.pyplot as plt\n",
    "%matplotlib inline"
   ]
  },
  {
   "cell_type": "code",
   "execution_count": 3,
   "metadata": {
    "ExecuteTime": {
     "end_time": "2018-06-26T12:43:36.159719Z",
     "start_time": "2018-06-26T12:43:36.129111Z"
    }
   },
   "outputs": [],
   "source": [
    "sys.path.append('../')\n",
    "from common.wrappers import make_atari, wrap_deepmind, wrap_pytorch"
   ]
  },
  {
   "cell_type": "markdown",
   "metadata": {},
   "source": [
    "<h3> Set configuration </h3>"
   ]
  },
  {
   "cell_type": "code",
   "execution_count": 4,
   "metadata": {
    "ExecuteTime": {
     "end_time": "2018-06-26T12:43:36.653962Z",
     "start_time": "2018-06-26T12:43:36.648990Z"
    }
   },
   "outputs": [],
   "source": [
    "from common.config import *\n",
    "cfg = Config()"
   ]
  },
  {
   "cell_type": "markdown",
   "metadata": {},
   "source": [
    "<h1>Atari Environment</h1>"
   ]
  },
  {
   "cell_type": "code",
   "execution_count": 5,
   "metadata": {
    "ExecuteTime": {
     "end_time": "2018-06-26T12:43:37.417021Z",
     "start_time": "2018-06-26T12:43:37.233916Z"
    }
   },
   "outputs": [],
   "source": [
    "env_id = \"PongNoFrameskip-v0\"\n",
    "env    = make_atari(env_id)\n",
    "env    = wrap_deepmind(env)\n",
    "env    = wrap_pytorch(env)"
   ]
  },
  {
   "cell_type": "markdown",
   "metadata": {},
   "source": [
    "<h3>Use Cuda</h3>"
   ]
  },
  {
   "cell_type": "code",
   "execution_count": 6,
   "metadata": {
    "ExecuteTime": {
     "end_time": "2018-06-26T12:43:38.101257Z",
     "start_time": "2018-06-26T12:43:38.098445Z"
    }
   },
   "outputs": [],
   "source": [
    "os.environ[\"CUDA_DEVICE_ORDER\"]=\"PCI_BUS_ID\"\n",
    "os.environ[\"CUDA_VISIBLE_DEVICES\"]=\"3\""
   ]
  },
  {
   "cell_type": "code",
   "execution_count": 7,
   "metadata": {
    "ExecuteTime": {
     "end_time": "2018-06-26T12:43:38.622730Z",
     "start_time": "2018-06-26T12:43:38.432864Z"
    }
   },
   "outputs": [],
   "source": [
    "USE_CUDA = torch.cuda.is_available()\n",
    "Variable = lambda *args, **kwargs: autograd.Variable(*args, **kwargs).cuda() if USE_CUDA else autograd.Variable(*args, **kwargs)"
   ]
  },
  {
   "cell_type": "markdown",
   "metadata": {},
   "source": [
    "<h2>Replay Buffer</h2>"
   ]
  },
  {
   "cell_type": "code",
   "execution_count": 8,
   "metadata": {
    "ExecuteTime": {
     "end_time": "2018-06-26T12:43:39.179881Z",
     "start_time": "2018-06-26T12:43:39.158761Z"
    }
   },
   "outputs": [],
   "source": [
    "from collections import deque\n",
    "\n",
    "class ReplayBuffer(object):\n",
    "    def __init__(self, capacity):\n",
    "        self.buffer = deque(maxlen=capacity)\n",
    "    \n",
    "    def push(self, state, action, reward, next_state, done):\n",
    "        state      = np.expand_dims(state, 0)\n",
    "        next_state = np.expand_dims(next_state, 0)\n",
    "            \n",
    "        self.buffer.append((state, action, reward, next_state, done))\n",
    "    \n",
    "    def sample(self, batch_size):\n",
    "        state, action, reward, next_state, done = zip(*random.sample(self.buffer, batch_size))\n",
    "        return np.concatenate(state), action, reward, np.concatenate(next_state), done\n",
    "    \n",
    "    def __len__(self):\n",
    "        return len(self.buffer)"
   ]
  },
  {
   "cell_type": "code",
   "execution_count": 9,
   "metadata": {
    "ExecuteTime": {
     "end_time": "2018-06-26T12:43:39.757458Z",
     "start_time": "2018-06-26T12:43:39.749130Z"
    }
   },
   "outputs": [],
   "source": [
    "def plot(frame_idx, rewards, losses):\n",
    "    clear_output(True)\n",
    "    plt.figure(figsize=(20,5))\n",
    "    plt.subplot(131)\n",
    "    plt.title('frame %s. reward: %s' % (frame_idx, np.mean(rewards[-10:])))\n",
    "    plt.plot(rewards)\n",
    "    plt.subplot(132)\n",
    "    plt.title('loss')\n",
    "    plt.plot(losses)\n",
    "    plt.show()"
   ]
  },
  {
   "cell_type": "markdown",
   "metadata": {},
   "source": [
    "<h2> Deep Q Network </h2>"
   ]
  },
  {
   "cell_type": "code",
   "execution_count": 10,
   "metadata": {
    "ExecuteTime": {
     "end_time": "2018-06-26T12:43:40.436873Z",
     "start_time": "2018-06-26T12:43:40.348837Z"
    }
   },
   "outputs": [],
   "source": [
    "class CnnDQN(nn.Module):\n",
    "    def __init__(self, input_shape, num_actions):\n",
    "        super(CnnDQN, self).__init__()\n",
    "        \n",
    "        self.input_shape = input_shape\n",
    "        self.num_actions = num_actions\n",
    "        \n",
    "        self.features = nn.Sequential(\n",
    "            nn.Conv2d(input_shape[0], 32, kernel_size=8, stride=4),\n",
    "            nn.ReLU(),\n",
    "            nn.Conv2d(32, 64, kernel_size=4, stride=2),\n",
    "            nn.ReLU(),\n",
    "            nn.Conv2d(64, 64, kernel_size=3, stride=1),\n",
    "            nn.ReLU()\n",
    "        )\n",
    "        \n",
    "        self.fc = nn.Sequential(\n",
    "            nn.Linear(self.feature_size(), 512),\n",
    "            nn.ReLU(),\n",
    "            nn.Linear(512, self.num_actions)\n",
    "        )\n",
    "        \n",
    "    def forward(self, x):\n",
    "        x /= 255.0\n",
    "        x = self.features(x)\n",
    "        x = x.view(x.size(0), -1)\n",
    "        x = self.fc(x)\n",
    "        return x\n",
    "    \n",
    "    def feature_size(self):\n",
    "        return self.features(autograd.Variable(torch.zeros(1, *self.input_shape))).view(1, -1).size(1)\n",
    "    \n",
    "    def act(self, state, epsilon):\n",
    "        if random.random() > epsilon:\n",
    "            state   = Variable(torch.FloatTensor(np.float32(state)).unsqueeze(0), volatile=True)\n",
    "            q_value = self.forward(state)\n",
    "            action  = q_value.max(1)[1].data[0]\n",
    "        else:\n",
    "            action = random.randrange(env.action_space.n)\n",
    "        return action\n",
    "    \n",
    "    def predict(self, state):\n",
    "        state = Variable(torch.FloatTensor(np.float32(state)).unsqueeze(0), volatile=True)\n",
    "        q_value = self.forward(state)\n",
    "        return q_value\n",
    "    \n",
    "    def weights_init(self, m):\n",
    "        classname = m.__class__.__name__\n",
    "        if classname.find('Conv') != -1 and classname.find('Layer') == -1:\n",
    "            nn.init.xavier_normal(m.weight)\n",
    "        elif classname.find('Linear') != -1:\n",
    "            nn.init.xavier_normal(m.weight)\n",
    "            nn.init.constant(m.bias, 0.1)\n",
    "        elif classname.find('BatchNorm') != -1:\n",
    "            m.weight.data.normal_(1.0, 0.02)\n",
    "            m.bias.data.fill_(0)"
   ]
  },
  {
   "cell_type": "code",
   "execution_count": 11,
   "metadata": {
    "ExecuteTime": {
     "end_time": "2018-06-26T12:43:44.419998Z",
     "start_time": "2018-06-26T12:43:40.852847Z"
    }
   },
   "outputs": [
    {
     "name": "stderr",
     "output_type": "stream",
     "text": [
      "/usr/local/lib/python3.5/dist-packages/ipykernel_launcher.py:50: UserWarning: nn.init.xavier_normal is now deprecated in favor of nn.init.xavier_normal_.\n",
      "/usr/local/lib/python3.5/dist-packages/ipykernel_launcher.py:52: UserWarning: nn.init.xavier_normal is now deprecated in favor of nn.init.xavier_normal_.\n",
      "/usr/local/lib/python3.5/dist-packages/ipykernel_launcher.py:53: UserWarning: nn.init.constant is now deprecated in favor of nn.init.constant_.\n"
     ]
    }
   ],
   "source": [
    "current_model = CnnDQN(env.observation_space.shape, env.action_space.n)\n",
    "target_model = CnnDQN(env.observation_space.shape, env.action_space.n)\n",
    "\n",
    "current_model.apply(current_model.weights_init)\n",
    "\n",
    "if USE_CUDA:\n",
    "    current_model = current_model.cuda()\n",
    "    target_model = target_model.cuda()\n",
    "    \n",
    "optimizer = optim.RMSprop(current_model.parameters(), lr=cfg.LEARNING_RATE)\n",
    "\n",
    "replay_initial = cfg.REPLAY_INIT\n",
    "replay_buffer = ReplayBuffer(cfg.REPLAY_BUFFER)"
   ]
  },
  {
   "cell_type": "markdown",
   "metadata": {},
   "source": [
    "### Synchronize current net and target net"
   ]
  },
  {
   "cell_type": "code",
   "execution_count": 12,
   "metadata": {
    "ExecuteTime": {
     "end_time": "2018-06-26T12:43:44.439366Z",
     "start_time": "2018-06-26T12:43:44.435977Z"
    }
   },
   "outputs": [],
   "source": [
    "def update_target(current_model, target_model):\n",
    "    target_model.load_state_dict(current_model.state_dict())\n",
    "\n",
    "update_target(current_model, target_model)"
   ]
  },
  {
   "cell_type": "markdown",
   "metadata": {},
   "source": [
    "<h2>Computing Temporal Difference Loss</h2>"
   ]
  },
  {
   "cell_type": "code",
   "execution_count": 13,
   "metadata": {
    "ExecuteTime": {
     "end_time": "2018-06-26T12:43:44.480476Z",
     "start_time": "2018-06-26T12:43:44.452856Z"
    }
   },
   "outputs": [],
   "source": [
    "def compute_td_loss(batch_size):\n",
    "    state, action, reward, next_state, done = replay_buffer.sample(batch_size)\n",
    "\n",
    "    state      = Variable(torch.FloatTensor(np.float32(state)))\n",
    "    next_state = Variable(torch.FloatTensor(np.float32(next_state)), volatile=True)\n",
    "    action     = Variable(torch.LongTensor(action))\n",
    "    reward     = Variable(torch.FloatTensor(reward))\n",
    "    done       = Variable(torch.FloatTensor(done))\n",
    "\n",
    "    q_values      = current_model(state)\n",
    "    next_q_values = target_model(next_state)\n",
    "\n",
    "    q_value          = q_values.gather(1, action.unsqueeze(1)).squeeze(1)\n",
    "    next_q_value     = next_q_values.max(1)[0]\n",
    "    expected_q_value = reward + gamma * next_q_value * (1 - done)\n",
    "    \n",
    "    loss = (q_value - Variable(expected_q_value.data)).pow(2).mean()\n",
    "        \n",
    "    optimizer.zero_grad()\n",
    "    loss.backward()\n",
    "    optimizer.step()\n",
    "    \n",
    "    return loss"
   ]
  },
  {
   "cell_type": "markdown",
   "metadata": {},
   "source": [
    "<h2>Epsilon greedy exploration</h2>"
   ]
  },
  {
   "cell_type": "code",
   "execution_count": 14,
   "metadata": {
    "ExecuteTime": {
     "end_time": "2018-06-26T12:43:45.529623Z",
     "start_time": "2018-06-26T12:43:44.494656Z"
    }
   },
   "outputs": [
    {
     "data": {
      "text/plain": [
       "[<matplotlib.lines.Line2D at 0x7f1310189b38>]"
      ]
     },
     "execution_count": 14,
     "metadata": {},
     "output_type": "execute_result"
    },
    {
     "data": {
      "image/png": "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\n",
      "text/plain": [
       "<matplotlib.figure.Figure at 0x7f132c166c88>"
      ]
     },
     "metadata": {},
     "output_type": "display_data"
    }
   ],
   "source": [
    "epsilon_start = cfg.EPSILON_START\n",
    "epsilon_final = cfg.EPSILON_FINAL\n",
    "epsilon_decay = cfg.EPSILON_DECAY\n",
    "\n",
    "#epsilon_by_frame = lambda frame_idx: max(epsilon_start - (epsilon_start - epsilon_final) * (frame_idx / epsilon_decay), epsilon_final)\n",
    "epsilon_by_frame = lambda frame_idx: epsilon_final + (epsilon_start - epsilon_final) * math.exp(-1. * frame_idx /epsilon_decay)\n",
    "\n",
    "plt.plot([epsilon_by_frame(i) for i in range(1000000)])"
   ]
  },
  {
   "cell_type": "code",
   "execution_count": 15,
   "metadata": {
    "ExecuteTime": {
     "end_time": "2018-06-26T12:43:45.547184Z",
     "start_time": "2018-06-26T12:43:45.543658Z"
    }
   },
   "outputs": [],
   "source": [
    "def entropy(p):\n",
    "    p1 = np.exp(p) / np.sum(np.exp(p))\n",
    "    return -sum(p1*np.log(p1))\n"
   ]
  },
  {
   "cell_type": "markdown",
   "metadata": {},
   "source": [
    "<h2> Training </h2>"
   ]
  },
  {
   "cell_type": "code",
   "execution_count": 16,
   "metadata": {
    "ExecuteTime": {
     "end_time": "2018-06-22T21:55:31.505861Z",
     "start_time": "2018-06-22T08:11:19.867046Z"
    }
   },
   "outputs": [
    {
     "data": {
      "image/png": "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\n",
      "text/plain": [
       "<matplotlib.figure.Figure at 0x7f73feae79e8>"
      ]
     },
     "metadata": {},
     "output_type": "display_data"
    },
    {
     "name": "stdout",
     "output_type": "stream",
     "text": [
      "\r",
      "frame_idx: 2800000, (100.00 %)"
     ]
    }
   ],
   "source": [
    "num_frames = 2800000#cfg.NUM_FRAMES\n",
    "batch_size = cfg.BATCH_SIZE\n",
    "gamma      = cfg.GAMMA\n",
    "episode = 0\n",
    "\n",
    "losses = []\n",
    "all_rewards = []\n",
    "episode_reward = 0\n",
    "\n",
    "state_traj = []\n",
    "q_value_traj = []\n",
    "\n",
    "episode_state = []\n",
    "episode_q_val = []\n",
    "\n",
    "state = env.reset()\n",
    "for frame_idx in range(1, num_frames + 1):\n",
    "    epsilon = epsilon_by_frame(frame_idx)\n",
    "    action = current_model.act(state, epsilon)\n",
    "\n",
    "    if episode % 20 == 0:\n",
    "        q_values = current_model.predict(state).data.cpu().numpy()[0]\n",
    "        episode_state.append(state)\n",
    "        episode_q_val.append(q_values)\n",
    "    \n",
    "    next_state, reward, done, _ = env.step(action)\n",
    "    replay_buffer.push(state, action, reward, next_state, done)\n",
    "    \n",
    "    state = next_state\n",
    "    episode_reward += reward\n",
    "    \n",
    "    if done:\n",
    "        state = env.reset()\n",
    "        all_rewards.append(episode_reward)\n",
    "        episode_reward = 0\n",
    "        if episode % 20 == 0:\n",
    "            state_traj.append(episode_state)\n",
    "            q_value_traj.append(episode_q_val)\n",
    "        \n",
    "        episode += 1\n",
    "        episode_state = []\n",
    "        episode_q_val = []\n",
    "        \n",
    "    if len(replay_buffer) > replay_initial:\n",
    "        loss = compute_td_loss(batch_size)\n",
    "        losses.append(loss.data[0])\n",
    "        \n",
    "    if frame_idx % 10000 == 0:\n",
    "        plot(frame_idx, all_rewards, losses)\n",
    "        update_target(current_model, target_model)\n",
    "    \n",
    "    print('\\rframe_idx: %7d, (%.2f %%)' %(frame_idx, frame_idx/num_frames*100), end='')"
   ]
  },
  {
   "cell_type": "code",
   "execution_count": 19,
   "metadata": {
    "ExecuteTime": {
     "end_time": "2018-06-21T12:51:33.508907Z",
     "start_time": "2018-06-21T12:50:37.023819Z"
    }
   },
   "outputs": [
    {
     "name": "stderr",
     "output_type": "stream",
     "text": [
      "/usr/local/lib/python3.5/dist-packages/torch/serialization.py:193: UserWarning: Couldn't retrieve source code for container of type CnnDQN. It won't be checked for correctness upon loading.\n",
      "  \"type \" + obj.__name__ + \". It won't be checked \"\n"
     ]
    }
   ],
   "source": [
    "from common.save_file import *\n",
    "\n",
    "model_dir = cfg.MODEL_DIR\n",
    "var_dir = cfg.VAR_DIR\n",
    "name = \"epsilon_\" + env_id\n",
    "\n",
    "save_model(current_model, model_dir, name)\n",
    "\n",
    "var_dict = {\n",
    "            \"all_rewards\": all_rewards,\n",
    "            \"losses\": losses,\n",
    "            \"state_traj\": state_traj,\n",
    "            \"q_value_traj\": q_value_traj\n",
    "           }\n",
    "\n",
    "save_variable(name, var_dir, var_dict)\n"
   ]
  },
  {
   "cell_type": "code",
   "execution_count": 20,
   "metadata": {
    "ExecuteTime": {
     "end_time": "2018-06-26T12:47:02.683831Z",
     "start_time": "2018-06-26T12:46:57.886537Z"
    }
   },
   "outputs": [
    {
     "name": "stderr",
     "output_type": "stream",
     "text": [
      "/usr/local/lib/python3.5/dist-packages/ipykernel_launcher.py:2: UserWarning: volatile was removed and now has no effect. Use `with torch.no_grad():` instead.\n",
      "  \n"
     ]
    },
    {
     "ename": "KeyboardInterrupt",
     "evalue": "",
     "output_type": "error",
     "traceback": [
      "\u001b[0;31m---------------------------------------------------------------------------\u001b[0m",
      "\u001b[0;31mKeyboardInterrupt\u001b[0m                         Traceback (most recent call last)",
      "\u001b[0;32m<ipython-input-20-45c90b841cd8>\u001b[0m in \u001b[0;36m<module>\u001b[0;34m()\u001b[0m\n\u001b[1;32m     10\u001b[0m         \u001b[0mq_values\u001b[0m \u001b[0;34m=\u001b[0m \u001b[0mcurrent_model\u001b[0m\u001b[0;34m.\u001b[0m\u001b[0mpredict\u001b[0m\u001b[0;34m(\u001b[0m\u001b[0mstate\u001b[0m\u001b[0;34m)\u001b[0m\u001b[0;34m.\u001b[0m\u001b[0mdata\u001b[0m\u001b[0;34m.\u001b[0m\u001b[0mcpu\u001b[0m\u001b[0;34m(\u001b[0m\u001b[0;34m)\u001b[0m\u001b[0;34m.\u001b[0m\u001b[0mnumpy\u001b[0m\u001b[0;34m(\u001b[0m\u001b[0;34m)\u001b[0m\u001b[0;34m[\u001b[0m\u001b[0;36m0\u001b[0m\u001b[0;34m]\u001b[0m\u001b[0;34m\u001b[0m\u001b[0m\n\u001b[1;32m     11\u001b[0m         \u001b[0;31m#action = env.action_space.sample()\u001b[0m\u001b[0;34m\u001b[0m\u001b[0;34m\u001b[0m\u001b[0m\n\u001b[0;32m---> 12\u001b[0;31m         \u001b[0mstate\u001b[0m\u001b[0;34m,\u001b[0m \u001b[0mreward\u001b[0m\u001b[0;34m,\u001b[0m \u001b[0mdone\u001b[0m\u001b[0;34m,\u001b[0m \u001b[0minfo\u001b[0m \u001b[0;34m=\u001b[0m \u001b[0menv\u001b[0m\u001b[0;34m.\u001b[0m\u001b[0mstep\u001b[0m\u001b[0;34m(\u001b[0m\u001b[0maction\u001b[0m\u001b[0;34m)\u001b[0m\u001b[0;34m\u001b[0m\u001b[0m\n\u001b[0m\u001b[1;32m     13\u001b[0m     \u001b[0menv\u001b[0m\u001b[0;34m.\u001b[0m\u001b[0mclose\u001b[0m\u001b[0;34m(\u001b[0m\u001b[0;34m)\u001b[0m\u001b[0;34m\u001b[0m\u001b[0m\n",
      "\u001b[0;32m/usr/local/lib/python3.5/dist-packages/gym/core.py\u001b[0m in \u001b[0;36mstep\u001b[0;34m(self, action)\u001b[0m\n\u001b[1;32m    311\u001b[0m \u001b[0;32mclass\u001b[0m \u001b[0mObservationWrapper\u001b[0m\u001b[0;34m(\u001b[0m\u001b[0mWrapper\u001b[0m\u001b[0;34m)\u001b[0m\u001b[0;34m:\u001b[0m\u001b[0;34m\u001b[0m\u001b[0m\n\u001b[1;32m    312\u001b[0m     \u001b[0;32mdef\u001b[0m \u001b[0mstep\u001b[0m\u001b[0;34m(\u001b[0m\u001b[0mself\u001b[0m\u001b[0;34m,\u001b[0m \u001b[0maction\u001b[0m\u001b[0;34m)\u001b[0m\u001b[0;34m:\u001b[0m\u001b[0;34m\u001b[0m\u001b[0m\n\u001b[0;32m--> 313\u001b[0;31m         \u001b[0mobservation\u001b[0m\u001b[0;34m,\u001b[0m \u001b[0mreward\u001b[0m\u001b[0;34m,\u001b[0m \u001b[0mdone\u001b[0m\u001b[0;34m,\u001b[0m \u001b[0minfo\u001b[0m \u001b[0;34m=\u001b[0m \u001b[0mself\u001b[0m\u001b[0;34m.\u001b[0m\u001b[0menv\u001b[0m\u001b[0;34m.\u001b[0m\u001b[0mstep\u001b[0m\u001b[0;34m(\u001b[0m\u001b[0maction\u001b[0m\u001b[0;34m)\u001b[0m\u001b[0;34m\u001b[0m\u001b[0m\n\u001b[0m\u001b[1;32m    314\u001b[0m         \u001b[0;32mreturn\u001b[0m \u001b[0mself\u001b[0m\u001b[0;34m.\u001b[0m\u001b[0mobservation\u001b[0m\u001b[0;34m(\u001b[0m\u001b[0mobservation\u001b[0m\u001b[0;34m)\u001b[0m\u001b[0;34m,\u001b[0m \u001b[0mreward\u001b[0m\u001b[0;34m,\u001b[0m \u001b[0mdone\u001b[0m\u001b[0;34m,\u001b[0m \u001b[0minfo\u001b[0m\u001b[0;34m\u001b[0m\u001b[0m\n\u001b[1;32m    315\u001b[0m \u001b[0;34m\u001b[0m\u001b[0m\n",
      "\u001b[0;32m/ideaHome/Dropbox/SJ/ML/DLC/team/RL-Adventure/common/wrappers.py\u001b[0m in \u001b[0;36mstep\u001b[0;34m(self, action)\u001b[0m\n\u001b[1;32m    165\u001b[0m \u001b[0;34m\u001b[0m\u001b[0m\n\u001b[1;32m    166\u001b[0m     \u001b[0;32mdef\u001b[0m \u001b[0mstep\u001b[0m\u001b[0;34m(\u001b[0m\u001b[0mself\u001b[0m\u001b[0;34m,\u001b[0m \u001b[0maction\u001b[0m\u001b[0;34m)\u001b[0m\u001b[0;34m:\u001b[0m\u001b[0;34m\u001b[0m\u001b[0m\n\u001b[0;32m--> 167\u001b[0;31m         \u001b[0mob\u001b[0m\u001b[0;34m,\u001b[0m \u001b[0mreward\u001b[0m\u001b[0;34m,\u001b[0m \u001b[0mdone\u001b[0m\u001b[0;34m,\u001b[0m \u001b[0minfo\u001b[0m \u001b[0;34m=\u001b[0m \u001b[0mself\u001b[0m\u001b[0;34m.\u001b[0m\u001b[0menv\u001b[0m\u001b[0;34m.\u001b[0m\u001b[0mstep\u001b[0m\u001b[0;34m(\u001b[0m\u001b[0maction\u001b[0m\u001b[0;34m)\u001b[0m\u001b[0;34m\u001b[0m\u001b[0m\n\u001b[0m\u001b[1;32m    168\u001b[0m         \u001b[0mself\u001b[0m\u001b[0;34m.\u001b[0m\u001b[0mframes\u001b[0m\u001b[0;34m.\u001b[0m\u001b[0mappend\u001b[0m\u001b[0;34m(\u001b[0m\u001b[0mob\u001b[0m\u001b[0;34m)\u001b[0m\u001b[0;34m\u001b[0m\u001b[0m\n\u001b[1;32m    169\u001b[0m         \u001b[0;32mreturn\u001b[0m \u001b[0mself\u001b[0m\u001b[0;34m.\u001b[0m\u001b[0m_get_ob\u001b[0m\u001b[0;34m(\u001b[0m\u001b[0;34m)\u001b[0m\u001b[0;34m,\u001b[0m \u001b[0mreward\u001b[0m\u001b[0;34m,\u001b[0m \u001b[0mdone\u001b[0m\u001b[0;34m,\u001b[0m \u001b[0minfo\u001b[0m\u001b[0;34m\u001b[0m\u001b[0m\n",
      "\u001b[0;32m/usr/local/lib/python3.5/dist-packages/gym/core.py\u001b[0m in \u001b[0;36mstep\u001b[0;34m(self, action)\u001b[0m\n\u001b[1;32m    328\u001b[0m \u001b[0;34m\u001b[0m\u001b[0m\n\u001b[1;32m    329\u001b[0m     \u001b[0;32mdef\u001b[0m \u001b[0mstep\u001b[0m\u001b[0;34m(\u001b[0m\u001b[0mself\u001b[0m\u001b[0;34m,\u001b[0m \u001b[0maction\u001b[0m\u001b[0;34m)\u001b[0m\u001b[0;34m:\u001b[0m\u001b[0;34m\u001b[0m\u001b[0m\n\u001b[0;32m--> 330\u001b[0;31m         \u001b[0mobservation\u001b[0m\u001b[0;34m,\u001b[0m \u001b[0mreward\u001b[0m\u001b[0;34m,\u001b[0m \u001b[0mdone\u001b[0m\u001b[0;34m,\u001b[0m \u001b[0minfo\u001b[0m \u001b[0;34m=\u001b[0m \u001b[0mself\u001b[0m\u001b[0;34m.\u001b[0m\u001b[0menv\u001b[0m\u001b[0;34m.\u001b[0m\u001b[0mstep\u001b[0m\u001b[0;34m(\u001b[0m\u001b[0maction\u001b[0m\u001b[0;34m)\u001b[0m\u001b[0;34m\u001b[0m\u001b[0m\n\u001b[0m\u001b[1;32m    331\u001b[0m         \u001b[0;32mreturn\u001b[0m \u001b[0mobservation\u001b[0m\u001b[0;34m,\u001b[0m \u001b[0mself\u001b[0m\u001b[0;34m.\u001b[0m\u001b[0mreward\u001b[0m\u001b[0;34m(\u001b[0m\u001b[0mreward\u001b[0m\u001b[0;34m)\u001b[0m\u001b[0;34m,\u001b[0m \u001b[0mdone\u001b[0m\u001b[0;34m,\u001b[0m \u001b[0minfo\u001b[0m\u001b[0;34m\u001b[0m\u001b[0m\n\u001b[1;32m    332\u001b[0m \u001b[0;34m\u001b[0m\u001b[0m\n",
      "\u001b[0;32m/usr/local/lib/python3.5/dist-packages/gym/core.py\u001b[0m in \u001b[0;36mstep\u001b[0;34m(self, action)\u001b[0m\n\u001b[1;32m    311\u001b[0m \u001b[0;32mclass\u001b[0m \u001b[0mObservationWrapper\u001b[0m\u001b[0;34m(\u001b[0m\u001b[0mWrapper\u001b[0m\u001b[0;34m)\u001b[0m\u001b[0;34m:\u001b[0m\u001b[0;34m\u001b[0m\u001b[0m\n\u001b[1;32m    312\u001b[0m     \u001b[0;32mdef\u001b[0m \u001b[0mstep\u001b[0m\u001b[0;34m(\u001b[0m\u001b[0mself\u001b[0m\u001b[0;34m,\u001b[0m \u001b[0maction\u001b[0m\u001b[0;34m)\u001b[0m\u001b[0;34m:\u001b[0m\u001b[0;34m\u001b[0m\u001b[0m\n\u001b[0;32m--> 313\u001b[0;31m         \u001b[0mobservation\u001b[0m\u001b[0;34m,\u001b[0m \u001b[0mreward\u001b[0m\u001b[0;34m,\u001b[0m \u001b[0mdone\u001b[0m\u001b[0;34m,\u001b[0m \u001b[0minfo\u001b[0m \u001b[0;34m=\u001b[0m \u001b[0mself\u001b[0m\u001b[0;34m.\u001b[0m\u001b[0menv\u001b[0m\u001b[0;34m.\u001b[0m\u001b[0mstep\u001b[0m\u001b[0;34m(\u001b[0m\u001b[0maction\u001b[0m\u001b[0;34m)\u001b[0m\u001b[0;34m\u001b[0m\u001b[0m\n\u001b[0m\u001b[1;32m    314\u001b[0m         \u001b[0;32mreturn\u001b[0m \u001b[0mself\u001b[0m\u001b[0;34m.\u001b[0m\u001b[0mobservation\u001b[0m\u001b[0;34m(\u001b[0m\u001b[0mobservation\u001b[0m\u001b[0;34m)\u001b[0m\u001b[0;34m,\u001b[0m \u001b[0mreward\u001b[0m\u001b[0;34m,\u001b[0m \u001b[0mdone\u001b[0m\u001b[0;34m,\u001b[0m \u001b[0minfo\u001b[0m\u001b[0;34m\u001b[0m\u001b[0m\n\u001b[1;32m    315\u001b[0m \u001b[0;34m\u001b[0m\u001b[0m\n",
      "\u001b[0;32m/ideaHome/Dropbox/SJ/ML/DLC/team/RL-Adventure/common/wrappers.py\u001b[0m in \u001b[0;36mstep\u001b[0;34m(self, ac)\u001b[0m\n\u001b[1;32m     53\u001b[0m \u001b[0;34m\u001b[0m\u001b[0m\n\u001b[1;32m     54\u001b[0m     \u001b[0;32mdef\u001b[0m \u001b[0mstep\u001b[0m\u001b[0;34m(\u001b[0m\u001b[0mself\u001b[0m\u001b[0;34m,\u001b[0m \u001b[0mac\u001b[0m\u001b[0;34m)\u001b[0m\u001b[0;34m:\u001b[0m\u001b[0;34m\u001b[0m\u001b[0m\n\u001b[0;32m---> 55\u001b[0;31m         \u001b[0;32mreturn\u001b[0m \u001b[0mself\u001b[0m\u001b[0;34m.\u001b[0m\u001b[0menv\u001b[0m\u001b[0;34m.\u001b[0m\u001b[0mstep\u001b[0m\u001b[0;34m(\u001b[0m\u001b[0mac\u001b[0m\u001b[0;34m)\u001b[0m\u001b[0;34m\u001b[0m\u001b[0m\n\u001b[0m\u001b[1;32m     56\u001b[0m \u001b[0;34m\u001b[0m\u001b[0m\n\u001b[1;32m     57\u001b[0m \u001b[0;32mclass\u001b[0m \u001b[0mEpisodicLifeEnv\u001b[0m\u001b[0;34m(\u001b[0m\u001b[0mgym\u001b[0m\u001b[0;34m.\u001b[0m\u001b[0mWrapper\u001b[0m\u001b[0;34m)\u001b[0m\u001b[0;34m:\u001b[0m\u001b[0;34m\u001b[0m\u001b[0m\n",
      "\u001b[0;32m/ideaHome/Dropbox/SJ/ML/DLC/team/RL-Adventure/common/wrappers.py\u001b[0m in \u001b[0;36mstep\u001b[0;34m(self, action)\u001b[0m\n\u001b[1;32m     65\u001b[0m \u001b[0;34m\u001b[0m\u001b[0m\n\u001b[1;32m     66\u001b[0m     \u001b[0;32mdef\u001b[0m \u001b[0mstep\u001b[0m\u001b[0;34m(\u001b[0m\u001b[0mself\u001b[0m\u001b[0;34m,\u001b[0m \u001b[0maction\u001b[0m\u001b[0;34m)\u001b[0m\u001b[0;34m:\u001b[0m\u001b[0;34m\u001b[0m\u001b[0m\n\u001b[0;32m---> 67\u001b[0;31m         \u001b[0mobs\u001b[0m\u001b[0;34m,\u001b[0m \u001b[0mreward\u001b[0m\u001b[0;34m,\u001b[0m \u001b[0mdone\u001b[0m\u001b[0;34m,\u001b[0m \u001b[0minfo\u001b[0m \u001b[0;34m=\u001b[0m \u001b[0mself\u001b[0m\u001b[0;34m.\u001b[0m\u001b[0menv\u001b[0m\u001b[0;34m.\u001b[0m\u001b[0mstep\u001b[0m\u001b[0;34m(\u001b[0m\u001b[0maction\u001b[0m\u001b[0;34m)\u001b[0m\u001b[0;34m\u001b[0m\u001b[0m\n\u001b[0m\u001b[1;32m     68\u001b[0m         \u001b[0mself\u001b[0m\u001b[0;34m.\u001b[0m\u001b[0mwas_real_done\u001b[0m \u001b[0;34m=\u001b[0m \u001b[0mdone\u001b[0m\u001b[0;34m\u001b[0m\u001b[0m\n\u001b[1;32m     69\u001b[0m         \u001b[0;31m# check current lives, make loss of life terminal,\u001b[0m\u001b[0;34m\u001b[0m\u001b[0;34m\u001b[0m\u001b[0m\n",
      "\u001b[0;32m/ideaHome/Dropbox/SJ/ML/DLC/team/RL-Adventure/common/wrappers.py\u001b[0m in \u001b[0;36mstep\u001b[0;34m(self, action)\u001b[0m\n\u001b[1;32m    107\u001b[0m         \u001b[0mdone\u001b[0m \u001b[0;34m=\u001b[0m \u001b[0;32mNone\u001b[0m\u001b[0;34m\u001b[0m\u001b[0m\n\u001b[1;32m    108\u001b[0m         \u001b[0;32mfor\u001b[0m \u001b[0mi\u001b[0m \u001b[0;32min\u001b[0m \u001b[0mrange\u001b[0m\u001b[0;34m(\u001b[0m\u001b[0mself\u001b[0m\u001b[0;34m.\u001b[0m\u001b[0m_skip\u001b[0m\u001b[0;34m)\u001b[0m\u001b[0;34m:\u001b[0m\u001b[0;34m\u001b[0m\u001b[0m\n\u001b[0;32m--> 109\u001b[0;31m             \u001b[0mobs\u001b[0m\u001b[0;34m,\u001b[0m \u001b[0mreward\u001b[0m\u001b[0;34m,\u001b[0m \u001b[0mdone\u001b[0m\u001b[0;34m,\u001b[0m \u001b[0minfo\u001b[0m \u001b[0;34m=\u001b[0m \u001b[0mself\u001b[0m\u001b[0;34m.\u001b[0m\u001b[0menv\u001b[0m\u001b[0;34m.\u001b[0m\u001b[0mstep\u001b[0m\u001b[0;34m(\u001b[0m\u001b[0maction\u001b[0m\u001b[0;34m)\u001b[0m\u001b[0;34m\u001b[0m\u001b[0m\n\u001b[0m\u001b[1;32m    110\u001b[0m             \u001b[0;32mif\u001b[0m \u001b[0mi\u001b[0m \u001b[0;34m==\u001b[0m \u001b[0mself\u001b[0m\u001b[0;34m.\u001b[0m\u001b[0m_skip\u001b[0m \u001b[0;34m-\u001b[0m \u001b[0;36m2\u001b[0m\u001b[0;34m:\u001b[0m \u001b[0mself\u001b[0m\u001b[0;34m.\u001b[0m\u001b[0m_obs_buffer\u001b[0m\u001b[0;34m[\u001b[0m\u001b[0;36m0\u001b[0m\u001b[0;34m]\u001b[0m \u001b[0;34m=\u001b[0m \u001b[0mobs\u001b[0m\u001b[0;34m\u001b[0m\u001b[0m\n\u001b[1;32m    111\u001b[0m             \u001b[0;32mif\u001b[0m \u001b[0mi\u001b[0m \u001b[0;34m==\u001b[0m \u001b[0mself\u001b[0m\u001b[0;34m.\u001b[0m\u001b[0m_skip\u001b[0m \u001b[0;34m-\u001b[0m \u001b[0;36m1\u001b[0m\u001b[0;34m:\u001b[0m \u001b[0mself\u001b[0m\u001b[0;34m.\u001b[0m\u001b[0m_obs_buffer\u001b[0m\u001b[0;34m[\u001b[0m\u001b[0;36m1\u001b[0m\u001b[0;34m]\u001b[0m \u001b[0;34m=\u001b[0m \u001b[0mobs\u001b[0m\u001b[0;34m\u001b[0m\u001b[0m\n",
      "\u001b[0;32m/ideaHome/Dropbox/SJ/ML/DLC/team/RL-Adventure/common/wrappers.py\u001b[0m in \u001b[0;36mstep\u001b[0;34m(self, ac)\u001b[0m\n\u001b[1;32m     33\u001b[0m \u001b[0;34m\u001b[0m\u001b[0m\n\u001b[1;32m     34\u001b[0m     \u001b[0;32mdef\u001b[0m \u001b[0mstep\u001b[0m\u001b[0;34m(\u001b[0m\u001b[0mself\u001b[0m\u001b[0;34m,\u001b[0m \u001b[0mac\u001b[0m\u001b[0;34m)\u001b[0m\u001b[0;34m:\u001b[0m\u001b[0;34m\u001b[0m\u001b[0m\n\u001b[0;32m---> 35\u001b[0;31m         \u001b[0;32mreturn\u001b[0m \u001b[0mself\u001b[0m\u001b[0;34m.\u001b[0m\u001b[0menv\u001b[0m\u001b[0;34m.\u001b[0m\u001b[0mstep\u001b[0m\u001b[0;34m(\u001b[0m\u001b[0mac\u001b[0m\u001b[0;34m)\u001b[0m\u001b[0;34m\u001b[0m\u001b[0m\n\u001b[0m\u001b[1;32m     36\u001b[0m \u001b[0;34m\u001b[0m\u001b[0m\n\u001b[1;32m     37\u001b[0m \u001b[0;32mclass\u001b[0m \u001b[0mFireResetEnv\u001b[0m\u001b[0;34m(\u001b[0m\u001b[0mgym\u001b[0m\u001b[0;34m.\u001b[0m\u001b[0mWrapper\u001b[0m\u001b[0;34m)\u001b[0m\u001b[0;34m:\u001b[0m\u001b[0;34m\u001b[0m\u001b[0m\n",
      "\u001b[0;32m/usr/local/lib/python3.5/dist-packages/gym/wrappers/time_limit.py\u001b[0m in \u001b[0;36mstep\u001b[0;34m(self, action)\u001b[0m\n\u001b[1;32m     29\u001b[0m     \u001b[0;32mdef\u001b[0m \u001b[0mstep\u001b[0m\u001b[0;34m(\u001b[0m\u001b[0mself\u001b[0m\u001b[0;34m,\u001b[0m \u001b[0maction\u001b[0m\u001b[0;34m)\u001b[0m\u001b[0;34m:\u001b[0m\u001b[0;34m\u001b[0m\u001b[0m\n\u001b[1;32m     30\u001b[0m         \u001b[0;32massert\u001b[0m \u001b[0mself\u001b[0m\u001b[0;34m.\u001b[0m\u001b[0m_episode_started_at\u001b[0m \u001b[0;32mis\u001b[0m \u001b[0;32mnot\u001b[0m \u001b[0;32mNone\u001b[0m\u001b[0;34m,\u001b[0m \u001b[0;34m\"Cannot call env.step() before calling reset()\"\u001b[0m\u001b[0;34m\u001b[0m\u001b[0m\n\u001b[0;32m---> 31\u001b[0;31m         \u001b[0mobservation\u001b[0m\u001b[0;34m,\u001b[0m \u001b[0mreward\u001b[0m\u001b[0;34m,\u001b[0m \u001b[0mdone\u001b[0m\u001b[0;34m,\u001b[0m \u001b[0minfo\u001b[0m \u001b[0;34m=\u001b[0m \u001b[0mself\u001b[0m\u001b[0;34m.\u001b[0m\u001b[0menv\u001b[0m\u001b[0;34m.\u001b[0m\u001b[0mstep\u001b[0m\u001b[0;34m(\u001b[0m\u001b[0maction\u001b[0m\u001b[0;34m)\u001b[0m\u001b[0;34m\u001b[0m\u001b[0m\n\u001b[0m\u001b[1;32m     32\u001b[0m         \u001b[0mself\u001b[0m\u001b[0;34m.\u001b[0m\u001b[0m_elapsed_steps\u001b[0m \u001b[0;34m+=\u001b[0m \u001b[0;36m1\u001b[0m\u001b[0;34m\u001b[0m\u001b[0m\n\u001b[1;32m     33\u001b[0m \u001b[0;34m\u001b[0m\u001b[0m\n",
      "\u001b[0;32m/usr/local/lib/python3.5/dist-packages/gym/envs/atari/atari_env.py\u001b[0m in \u001b[0;36mstep\u001b[0;34m(self, a)\u001b[0m\n\u001b[1;32m     74\u001b[0m         \u001b[0;32mfor\u001b[0m \u001b[0m_\u001b[0m \u001b[0;32min\u001b[0m \u001b[0mrange\u001b[0m\u001b[0;34m(\u001b[0m\u001b[0mnum_steps\u001b[0m\u001b[0;34m)\u001b[0m\u001b[0;34m:\u001b[0m\u001b[0;34m\u001b[0m\u001b[0m\n\u001b[1;32m     75\u001b[0m             \u001b[0mreward\u001b[0m \u001b[0;34m+=\u001b[0m \u001b[0mself\u001b[0m\u001b[0;34m.\u001b[0m\u001b[0male\u001b[0m\u001b[0;34m.\u001b[0m\u001b[0mact\u001b[0m\u001b[0;34m(\u001b[0m\u001b[0maction\u001b[0m\u001b[0;34m)\u001b[0m\u001b[0;34m\u001b[0m\u001b[0m\n\u001b[0;32m---> 76\u001b[0;31m         \u001b[0mob\u001b[0m \u001b[0;34m=\u001b[0m \u001b[0mself\u001b[0m\u001b[0;34m.\u001b[0m\u001b[0m_get_obs\u001b[0m\u001b[0;34m(\u001b[0m\u001b[0;34m)\u001b[0m\u001b[0;34m\u001b[0m\u001b[0m\n\u001b[0m\u001b[1;32m     77\u001b[0m \u001b[0;34m\u001b[0m\u001b[0m\n\u001b[1;32m     78\u001b[0m         \u001b[0;32mreturn\u001b[0m \u001b[0mob\u001b[0m\u001b[0;34m,\u001b[0m \u001b[0mreward\u001b[0m\u001b[0;34m,\u001b[0m \u001b[0mself\u001b[0m\u001b[0;34m.\u001b[0m\u001b[0male\u001b[0m\u001b[0;34m.\u001b[0m\u001b[0mgame_over\u001b[0m\u001b[0;34m(\u001b[0m\u001b[0;34m)\u001b[0m\u001b[0;34m,\u001b[0m \u001b[0;34m{\u001b[0m\u001b[0;34m\"ale.lives\"\u001b[0m\u001b[0;34m:\u001b[0m \u001b[0mself\u001b[0m\u001b[0;34m.\u001b[0m\u001b[0male\u001b[0m\u001b[0;34m.\u001b[0m\u001b[0mlives\u001b[0m\u001b[0;34m(\u001b[0m\u001b[0;34m)\u001b[0m\u001b[0;34m}\u001b[0m\u001b[0;34m\u001b[0m\u001b[0m\n",
      "\u001b[0;32m/usr/local/lib/python3.5/dist-packages/gym/envs/atari/atari_env.py\u001b[0m in \u001b[0;36m_get_obs\u001b[0;34m(self)\u001b[0m\n\u001b[1;32m     92\u001b[0m             \u001b[0;32mreturn\u001b[0m \u001b[0mself\u001b[0m\u001b[0;34m.\u001b[0m\u001b[0m_get_ram\u001b[0m\u001b[0;34m(\u001b[0m\u001b[0;34m)\u001b[0m\u001b[0;34m\u001b[0m\u001b[0m\n\u001b[1;32m     93\u001b[0m         \u001b[0;32melif\u001b[0m \u001b[0mself\u001b[0m\u001b[0;34m.\u001b[0m\u001b[0m_obs_type\u001b[0m \u001b[0;34m==\u001b[0m \u001b[0;34m'image'\u001b[0m\u001b[0;34m:\u001b[0m\u001b[0;34m\u001b[0m\u001b[0m\n\u001b[0;32m---> 94\u001b[0;31m             \u001b[0mimg\u001b[0m \u001b[0;34m=\u001b[0m \u001b[0mself\u001b[0m\u001b[0;34m.\u001b[0m\u001b[0m_get_image\u001b[0m\u001b[0;34m(\u001b[0m\u001b[0;34m)\u001b[0m\u001b[0;34m\u001b[0m\u001b[0m\n\u001b[0m\u001b[1;32m     95\u001b[0m         \u001b[0;32mreturn\u001b[0m \u001b[0mimg\u001b[0m\u001b[0;34m\u001b[0m\u001b[0m\n\u001b[1;32m     96\u001b[0m \u001b[0;34m\u001b[0m\u001b[0m\n",
      "\u001b[0;32m/usr/local/lib/python3.5/dist-packages/gym/envs/atari/atari_env.py\u001b[0m in \u001b[0;36m_get_image\u001b[0;34m(self)\u001b[0m\n\u001b[1;32m     79\u001b[0m \u001b[0;34m\u001b[0m\u001b[0m\n\u001b[1;32m     80\u001b[0m     \u001b[0;32mdef\u001b[0m \u001b[0m_get_image\u001b[0m\u001b[0;34m(\u001b[0m\u001b[0mself\u001b[0m\u001b[0;34m)\u001b[0m\u001b[0;34m:\u001b[0m\u001b[0;34m\u001b[0m\u001b[0m\n\u001b[0;32m---> 81\u001b[0;31m         \u001b[0;32mreturn\u001b[0m \u001b[0mself\u001b[0m\u001b[0;34m.\u001b[0m\u001b[0male\u001b[0m\u001b[0;34m.\u001b[0m\u001b[0mgetScreenRGB2\u001b[0m\u001b[0;34m(\u001b[0m\u001b[0;34m)\u001b[0m\u001b[0;34m\u001b[0m\u001b[0m\n\u001b[0m\u001b[1;32m     82\u001b[0m \u001b[0;34m\u001b[0m\u001b[0m\n\u001b[1;32m     83\u001b[0m     \u001b[0;32mdef\u001b[0m \u001b[0m_get_ram\u001b[0m\u001b[0;34m(\u001b[0m\u001b[0mself\u001b[0m\u001b[0;34m)\u001b[0m\u001b[0;34m:\u001b[0m\u001b[0;34m\u001b[0m\u001b[0m\n",
      "\u001b[0;32m/usr/local/lib/python3.5/dist-packages/atari_py/ale_python_interface.py\u001b[0m in \u001b[0;36mgetScreenRGB2\u001b[0;34m(self, screen_data)\u001b[0m\n\u001b[1;32m    219\u001b[0m             \u001b[0mscreen_data\u001b[0m \u001b[0;34m=\u001b[0m \u001b[0mnp\u001b[0m\u001b[0;34m.\u001b[0m\u001b[0mempty\u001b[0m\u001b[0;34m(\u001b[0m\u001b[0;34m(\u001b[0m\u001b[0mheight\u001b[0m\u001b[0;34m,\u001b[0m \u001b[0mwidth\u001b[0m\u001b[0;34m,\u001b[0m \u001b[0;36m3\u001b[0m\u001b[0;34m)\u001b[0m\u001b[0;34m,\u001b[0m \u001b[0mdtype\u001b[0m\u001b[0;34m=\u001b[0m\u001b[0mnp\u001b[0m\u001b[0;34m.\u001b[0m\u001b[0muint8\u001b[0m\u001b[0;34m)\u001b[0m\u001b[0;34m\u001b[0m\u001b[0m\n\u001b[1;32m    220\u001b[0m         \u001b[0;32massert\u001b[0m \u001b[0mscreen_data\u001b[0m\u001b[0;34m.\u001b[0m\u001b[0mstrides\u001b[0m \u001b[0;34m==\u001b[0m \u001b[0;34m(\u001b[0m\u001b[0;36m480\u001b[0m\u001b[0;34m,\u001b[0m \u001b[0;36m3\u001b[0m\u001b[0;34m,\u001b[0m \u001b[0;36m1\u001b[0m\u001b[0;34m)\u001b[0m\u001b[0;34m\u001b[0m\u001b[0m\n\u001b[0;32m--> 221\u001b[0;31m         \u001b[0male_lib\u001b[0m\u001b[0;34m.\u001b[0m\u001b[0mgetScreenRGB2\u001b[0m\u001b[0;34m(\u001b[0m\u001b[0mself\u001b[0m\u001b[0;34m.\u001b[0m\u001b[0mobj\u001b[0m\u001b[0;34m,\u001b[0m \u001b[0mas_ctypes\u001b[0m\u001b[0;34m(\u001b[0m\u001b[0mscreen_data\u001b[0m\u001b[0;34m[\u001b[0m\u001b[0;34m:\u001b[0m\u001b[0;34m]\u001b[0m\u001b[0;34m)\u001b[0m\u001b[0;34m)\u001b[0m\u001b[0;34m\u001b[0m\u001b[0m\n\u001b[0m\u001b[1;32m    222\u001b[0m         \u001b[0;32mreturn\u001b[0m \u001b[0mscreen_data\u001b[0m\u001b[0;34m\u001b[0m\u001b[0m\n\u001b[1;32m    223\u001b[0m \u001b[0;34m\u001b[0m\u001b[0m\n",
      "\u001b[0;31mKeyboardInterrupt\u001b[0m: "
     ]
    }
   ],
   "source": [
    "model = torch.load('model/epsilon_PongNoFrameskip-v0.model')\n",
    "state = env.reset()\n",
    "done = False\n",
    "for i in range(10):\n",
    "    state = env.reset()\n",
    "    done = False\n",
    "    while not done:\n",
    "        env.render()\n",
    "        action = model.act(state,0)\n",
    "        q_values = current_model.predict(state).data.cpu().numpy()[0]\n",
    "        #action = env.action_space.sample()\n",
    "        state, reward, done, info = env.step(action)\n",
    "    env.close()"
   ]
  },
  {
   "cell_type": "code",
   "execution_count": 21,
   "metadata": {
    "ExecuteTime": {
     "end_time": "2018-06-26T12:47:10.463636Z",
     "start_time": "2018-06-26T12:47:10.459353Z"
    }
   },
   "outputs": [],
   "source": [
    "env.close()"
   ]
  },
  {
   "cell_type": "code",
<<<<<<< HEAD
=======
<<<<<<< HEAD
   "execution_count": 25,
   "metadata": {
    "ExecuteTime": {
     "end_time": "2018-06-26T12:49:57.945075Z",
     "start_time": "2018-06-26T12:49:57.813187Z"
=======
>>>>>>> 5de3c9619c18b5ac7b32cd77c6088516011ed4c5
   "execution_count": 28,
   "metadata": {
    "ExecuteTime": {
     "end_time": "2018-06-26T12:52:09.050041Z",
     "start_time": "2018-06-26T12:52:08.882598Z"
<<<<<<< HEAD
=======
>>>>>>> master
>>>>>>> 5de3c9619c18b5ac7b32cd77c6088516011ed4c5
    }
   },
   "outputs": [
    {
<<<<<<< HEAD
=======
<<<<<<< HEAD
     "ename": "ValueError",
     "evalue": "incompatible sizes: argument 'height' must be length 6 or scalar",
     "output_type": "error",
     "traceback": [
      "\u001b[0;31m---------------------------------------------------------------------------\u001b[0m",
      "\u001b[0;31mValueError\u001b[0m                                Traceback (most recent call last)",
      "\u001b[0;32m<ipython-input-25-72d2807dc40c>\u001b[0m in \u001b[0;36m<module>\u001b[0;34m()\u001b[0m\n\u001b[0;32m----> 1\u001b[0;31m \u001b[0mplt\u001b[0m\u001b[0;34m.\u001b[0m\u001b[0mbar\u001b[0m\u001b[0;34m(\u001b[0m\u001b[0mq_values\u001b[0m\u001b[0;34m,\u001b[0m \u001b[0;36m1\u001b[0m\u001b[0;34m)\u001b[0m\u001b[0;34m\u001b[0m\u001b[0m\n\u001b[0m",
      "\u001b[0;32m/usr/local/lib/python3.5/dist-packages/matplotlib/pyplot.py\u001b[0m in \u001b[0;36mbar\u001b[0;34m(left, height, width, bottom, hold, data, **kwargs)\u001b[0m\n\u001b[1;32m   2703\u001b[0m     \u001b[0;32mtry\u001b[0m\u001b[0;34m:\u001b[0m\u001b[0;34m\u001b[0m\u001b[0m\n\u001b[1;32m   2704\u001b[0m         ret = ax.bar(left, height, width=width, bottom=bottom, data=data,\n\u001b[0;32m-> 2705\u001b[0;31m                      **kwargs)\n\u001b[0m\u001b[1;32m   2706\u001b[0m     \u001b[0;32mfinally\u001b[0m\u001b[0;34m:\u001b[0m\u001b[0;34m\u001b[0m\u001b[0m\n\u001b[1;32m   2707\u001b[0m         \u001b[0max\u001b[0m\u001b[0;34m.\u001b[0m\u001b[0m_hold\u001b[0m \u001b[0;34m=\u001b[0m \u001b[0mwashold\u001b[0m\u001b[0;34m\u001b[0m\u001b[0m\n",
      "\u001b[0;32m/usr/local/lib/python3.5/dist-packages/matplotlib/__init__.py\u001b[0m in \u001b[0;36minner\u001b[0;34m(ax, *args, **kwargs)\u001b[0m\n\u001b[1;32m   1890\u001b[0m                     warnings.warn(msg % (label_namer, func.__name__),\n\u001b[1;32m   1891\u001b[0m                                   RuntimeWarning, stacklevel=2)\n\u001b[0;32m-> 1892\u001b[0;31m             \u001b[0;32mreturn\u001b[0m \u001b[0mfunc\u001b[0m\u001b[0;34m(\u001b[0m\u001b[0max\u001b[0m\u001b[0;34m,\u001b[0m \u001b[0;34m*\u001b[0m\u001b[0margs\u001b[0m\u001b[0;34m,\u001b[0m \u001b[0;34m**\u001b[0m\u001b[0mkwargs\u001b[0m\u001b[0;34m)\u001b[0m\u001b[0;34m\u001b[0m\u001b[0m\n\u001b[0m\u001b[1;32m   1893\u001b[0m         \u001b[0mpre_doc\u001b[0m \u001b[0;34m=\u001b[0m \u001b[0minner\u001b[0m\u001b[0;34m.\u001b[0m\u001b[0m__doc__\u001b[0m\u001b[0;34m\u001b[0m\u001b[0m\n\u001b[1;32m   1894\u001b[0m         \u001b[0;32mif\u001b[0m \u001b[0mpre_doc\u001b[0m \u001b[0;32mis\u001b[0m \u001b[0;32mNone\u001b[0m\u001b[0;34m:\u001b[0m\u001b[0;34m\u001b[0m\u001b[0m\n",
      "\u001b[0;32m/usr/local/lib/python3.5/dist-packages/matplotlib/axes/_axes.py\u001b[0m in \u001b[0;36mbar\u001b[0;34m(self, left, height, width, bottom, **kwargs)\u001b[0m\n\u001b[1;32m   2077\u001b[0m         \u001b[0;32mif\u001b[0m \u001b[0mlen\u001b[0m\u001b[0;34m(\u001b[0m\u001b[0mheight\u001b[0m\u001b[0;34m)\u001b[0m \u001b[0;34m!=\u001b[0m \u001b[0mnbars\u001b[0m\u001b[0;34m:\u001b[0m\u001b[0;34m\u001b[0m\u001b[0m\n\u001b[1;32m   2078\u001b[0m             raise ValueError(\"incompatible sizes: argument 'height' \"\n\u001b[0;32m-> 2079\u001b[0;31m                               \"must be length %d or scalar\" % nbars)\n\u001b[0m\u001b[1;32m   2080\u001b[0m         \u001b[0;32mif\u001b[0m \u001b[0mlen\u001b[0m\u001b[0;34m(\u001b[0m\u001b[0mwidth\u001b[0m\u001b[0;34m)\u001b[0m \u001b[0;34m!=\u001b[0m \u001b[0mnbars\u001b[0m\u001b[0;34m:\u001b[0m\u001b[0;34m\u001b[0m\u001b[0m\n\u001b[1;32m   2081\u001b[0m             raise ValueError(\"incompatible sizes: argument 'width' \"\n",
      "\u001b[0;31mValueError\u001b[0m: incompatible sizes: argument 'height' must be length 6 or scalar"
     ]
    },
    {
     "data": {
      "image/png": "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\n",
      "text/plain": [
       "<matplotlib.figure.Figure at 0x7f13181f5080>"
=======
>>>>>>> 5de3c9619c18b5ac7b32cd77c6088516011ed4c5
     "data": {
      "text/plain": [
       "<Container object of 6 artists>"
      ]
     },
     "execution_count": 28,
     "metadata": {},
     "output_type": "execute_result"
    },
    {
     "data": {
      "image/png": "iVBORw0KGgoAAAANSUhEUgAAAX8AAAD8CAYAAACfF6SlAAAABHNCSVQICAgIfAhkiAAAAAlwSFlzAAALEgAACxIB0t1+/AAADXdJREFUeJzt3X+sX/Vdx/Hny3b1B3NjkxvWULpLtDGpPwLLtcZM0YyiJV0of2wKyWZntjQmw2D4Q6sYjPxVt2TuH2LWAKYbm3VjI2tGHbKOxC2RyS3DYWHYSrpRhPWObW64KFbe/tGzeL353vZyz6Gn936ej4T0nPM9+X7ehybPnp77vbepKiRJbfmhsQeQJJ17xl+SGmT8JalBxl+SGmT8JalBxl+SGmT8JalBxl+SGmT8JalBa8ceYDEXXXRRTU9Pjz2GJK0ohw8f/mZVTZ3tvPM2/tPT08zOzo49hiStKEm+tpTzfOwjSQ0y/pLUIOMvSQ0y/pLUIOMvSQ0y/pLUIOMvSQ0y/pLUIOMvSQ06b7/DV5KGNr37vrFHWJLje7a/4mt45y9JDTL+ktQg4y9JDTL+ktSgQeKfZFuSJ5McS7J7wuu/m+SxJI8m+WKSzUOsK0lant7xT7IGuB24BtgM3DAh7h+rqp+rqsuB9wEf6LuuJGn5hrjz3wIcq6qnqupFYD+wY/4JVfXdebsXADXAupKkZRric/6XAE/P2z8B/OLCk5K8F7gZWAe8ZYB1JUnLdM6+4FtVt1fVTwJ/CPzJpHOS7Eoym2R2bm7uXI0mSc0ZIv7PAJfO29/QHVvMfuC6SS9U1d6qmqmqmamps/77w5KkZRoi/g8Dm5JclmQdcD1wYP4JSTbN290OHB1gXUnSMvV+5l9Vp5LcCNwPrAHuqqojSW4DZqvqAHBjkq3AfwPfBnb2XVeStHyD/GC3qjoIHFxw7NZ52zcNsY4kaRh+h68kNcj4S1KDjL8kNcj4S1KDjL8kNcj4S1KDjL8kNcj4S1KDjL8kNcj4S1KDjL8kNcj4S1KDjL8kNcj4S1KDjL8kNcj4S1KDjL8kNcj4S1KDjL8kNcj4S1KDjL8kNcj4S1KDjL8kNcj4S1KDjL8kNcj4S1KDBol/km1JnkxyLMnuCa/fnOTxJF9JcijJG4dYV5K0PL3jn2QNcDtwDbAZuCHJ5gWnfRmYqaqfB+4B3td3XUnS8g1x578FOFZVT1XVi8B+YMf8E6rqwar6frf7ELBhgHUlScs0RPwvAZ6et3+iO7aYdwN/O8C6kqRlWnsuF0vyDmAG+NVFXt8F7ALYuHHjOZxMktoyxJ3/M8Cl8/Y3dMf+nyRbgVuAa6vqvya9UVXtraqZqpqZmpoaYDRJ0iRDxP9hYFOSy5KsA64HDsw/IckVwIc4Hf6TA6wpSeqh92OfqjqV5EbgfmANcFdVHUlyGzBbVQeA9wOvBj6RBODrVXVt37XPZHr3fa/k2w/m+J7tY48wGn+PpPEM8sy/qg4CBxccu3Xe9tYh1pEkDcPv8JWkBhl/SWqQ8ZekBhl/SWqQ8ZekBhl/SWqQ8ZekBhl/SWqQ8ZekBhl/SWqQ8ZekBhl/SWqQ8ZekBp3Tf8lL0srij91evbzzl6QGGX9JapDxl6QGGX9JapDxl6QGGX9JapDxl6QGGX9JapDxl6QGGX9JapDxl6QGGX9JatAg8U+yLcmTSY4l2T3h9SuTPJLkVJK3DbGmJGn5esc/yRrgduAaYDNwQ5LNC077OvAu4GN915Mk9TfEj3TeAhyrqqcAkuwHdgCP/+CEqjrevfbSAOtJknoa4rHPJcDT8/ZPdMckSeep8+oLvkl2JZlNMjs3Nzf2OJK0ag0R/2eAS+ftb+iOvWxVtbeqZqpqZmpqaoDRJEmTDBH/h4FNSS5Lsg64HjgwwPtKkl4hveNfVaeAG4H7gSeAj1fVkSS3JbkWIMkvJDkBvB34UJIjfdeVJC3fIP+Ae1UdBA4uOHbrvO2HOf04SJJ0HjivvuArSTo3jL8kNcj4S1KDjL8kNcj4S1KDjL8kNcj4S1KDjL8kNcj4S1KDjL8kNcj4S1KDjL8kNcj4S1KDjL8kNcj4S1KDjL8kNcj4S1KDjL8kNcj4S1KDjL8kNcj4S1KDjL8kNcj4S1KDjL8kNcj4S1KDjL8kNWiQ+CfZluTJJMeS7J7w+g8n+Zvu9S8lmR5iXUnS8vSOf5I1wO3ANcBm4IYkmxec9m7g21X1U8BfAH/ed11J0vINcee/BThWVU9V1YvAfmDHgnN2APu67XuAq5JkgLUlScswRPwvAZ6et3+iOzbxnKo6Bfw78BMDrC1JWoa1Yw8wX5JdwC6AjRs39nqv43u2DzHSeWN6931jj7AkL+f/u79H42j592i1XU8fQ9z5PwNcOm9/Q3ds4jlJ1gKvBZ5f+EZVtbeqZqpqZmpqaoDRJEmTDBH/h4FNSS5Lsg64Hjiw4JwDwM5u+23A56uqBlhbkrQMvR/7VNWpJDcC9wNrgLuq6kiS24DZqjoA3Al8JMkx4Fuc/gNCkjSSQZ75V9VB4OCCY7fO2/5P4O1DrCVJ6s/v8JWkBhl/SWqQ8ZekBhl/SWqQ8ZekBhl/SWqQ8ZekBhl/SWqQ8ZekBhl/SWqQ8ZekBhl/SWqQ8ZekBhl/SWqQ8ZekBhl/SWqQ8ZekBhl/SWqQ8ZekBhl/SWqQ8ZekBhl/SWqQ8ZekBhl/SWqQ8ZekBhl/SWpQr/gneX2SB5Ic7X593SLnfTbJd5J8ps96kqRh9L3z3w0cqqpNwKFuf5L3A+/suZYkaSB9478D2Ndt7wOum3RSVR0CvtdzLUnSQPrG/+Kqerbbfg64uOf7SZLOgbVnOyHJ54A3THjplvk7VVVJqs8wSXYBuwA2btzY560kSWdw1vhX1dbFXkvyjSTrq+rZJOuBk32Gqaq9wF6AmZmZXn+QSJIW1/exzwFgZ7e9E/h0z/eTJJ0DfeO/B7g6yVFga7dPkpkkd/zgpCRfAD4BXJXkRJLf6LmuJKmHsz72OZOqeh64asLxWeA98/Z/pc86kqRh+R2+ktQg4y9JDTL+ktQg4y9JDTL+ktQg4y9JDTL+ktQg4y9JDTL+ktQg4y9JDer14x0k/Z/je7aPPYK0ZN75S1KDjL8kNcj4S1KDjL8kNcj4S1KDjL8kNcj4S1KDjL8kNcj4S1KDjL8kNcj4S1KDjL8kNcj4S1KDjL8kNcj4S1KDjL8kNahX/JO8PskDSY52v75uwjmXJ/mHJEeSfCXJb/VZU5LUX987/93AoaraBBzq9hf6PvDbVfUzwDbgg0ku7LmuJKmHvvHfAezrtvcB1y08oar+paqOdtv/BpwEpnquK0nqoW/8L66qZ7vt54CLz3Ryki3AOuBfF3l9V5LZJLNzc3M9R5MkLeas/4B7ks8Bb5jw0i3zd6qqktQZ3mc98BFgZ1W9NOmcqtoL7AWYmZlZ9L0kSf2cNf5VtXWx15J8I8n6qnq2i/vJRc57DXAfcEtVPbTsaSVJg+j72OcAsLPb3gl8euEJSdYB9wIfrqp7eq4nSRpA3/jvAa5OchTY2u2TZCbJHd05vwlcCbwryaPdf5f3XFeS1MNZH/ucSVU9D1w14fgs8J5u+27g7j7rSJKG5Xf4SlKDjL8kNcj4S1KDjL8kNcj4S1KDjL8kNcj4S1KDjL8kNcj4S1KDjL8kNcj4S1KDjL8kNcj4S1KDjL8kNcj4S1KDjL8kNcj4S1KDUlVjzzBRkjnga2PPscBFwDfHHmJAq+16YPVd02q7Hlh913S+Xc8bq2rqbCedt/E/HyWZraqZsecYymq7Hlh917TargdW3zWt1OvxsY8kNcj4S1KDjP/Ls3fsAQa22q4HVt81rbbrgdV3TSvyenzmL0kN8s5fkhpk/JcgyV1JTib557FnGUKSS5M8mOTxJEeS3DT2TH0k+ZEk/5jkn7rr+bOxZxpCkjVJvpzkM2PPMoQkx5M8luTRJLNjzzOEJBcmuSfJV5M8keSXxp5pqXzsswRJrgReAD5cVT879jx9JVkPrK+qR5L8OHAYuK6qHh95tGVJEuCCqnohyauALwI3VdVDI4/WS5KbgRngNVX11rHn6SvJcWCmqs6nz8T3kmQf8IWquiPJOuDHquo7Y8+1FN75L0FV/T3wrbHnGEpVPVtVj3Tb3wOeAC4Zd6rlq9Ne6HZf1f23ou9qkmwAtgN3jD2LJkvyWuBK4E6AqnpxpYQfjH/zkkwDVwBfGneSfrpHJI8CJ4EHqmpFXw/wQeAPgJfGHmRABfxdksNJdo09zAAuA+aAv+oez92R5IKxh1oq49+wJK8GPgn8flV9d+x5+qiq/6mqy4ENwJYkK/bxXJK3Aier6vDYswzsl6vqTcA1wHu7x6kr2VrgTcBfVtUVwH8Au8cdaemMf6O6Z+OfBD5aVZ8ae56hdH/tfhDYNvYsPbwZuLZ7Rr4feEuSu8cdqb+qeqb79SRwL7Bl3Il6OwGcmPe3zHs4/YfBimD8G9R9gfRO4Imq+sDY8/SVZCrJhd32jwJXA18dd6rlq6o/qqoNVTUNXA98vqreMfJYvSS5oPtwAd2jkV8HVvSn56rqOeDpJD/dHboKWDEfmlg79gArQZK/Bn4NuCjJCeBPq+rOcafq5c3AO4HHuufkAH9cVQdHnKmP9cC+JGs4fUPz8apaFR+PXEUuBu49fd/BWuBjVfXZcUcaxO8BH+0+6fMU8Dsjz7NkftRTkhrkYx9JapDxl6QGGX9JapDxl6QGGX9JapDxl6QGGX9JapDxl6QG/S9Edi31OxaTvAAAAABJRU5ErkJggg==\n",
      "text/plain": [
       "<matplotlib.figure.Figure at 0x7f1318071630>"
<<<<<<< HEAD
=======
>>>>>>> master
>>>>>>> 5de3c9619c18b5ac7b32cd77c6088516011ed4c5
      ]
     },
     "metadata": {},
     "output_type": "display_data"
    }
   ],
   "source": [
<<<<<<< HEAD
    "plt.bar([1,2,3,4,5,6],q_values)"
=======
<<<<<<< HEAD
    "plt.bar(q_values,)"
=======
    "plt.bar([1,2,3,4,5,6],q_values)"
>>>>>>> master
>>>>>>> 5de3c9619c18b5ac7b32cd77c6088516011ed4c5
   ]
  },
  {
   "cell_type": "code",
   "execution_count": null,
   "metadata": {},
   "outputs": [],
   "source": []
  }
 ],
 "metadata": {
  "kernelspec": {
   "display_name": "Python 3",
   "language": "python",
   "name": "python3"
  },
  "language_info": {
   "codemirror_mode": {
    "name": "ipython",
    "version": 3
   },
   "file_extension": ".py",
   "mimetype": "text/x-python",
   "name": "python",
   "nbconvert_exporter": "python",
   "pygments_lexer": "ipython3",
   "version": "3.5.2"
  },
  "varInspector": {
   "cols": {
    "lenName": 16,
    "lenType": 16,
    "lenVar": 40
   },
   "kernels_config": {
    "python": {
     "delete_cmd_postfix": "",
     "delete_cmd_prefix": "del ",
     "library": "var_list.py",
     "varRefreshCmd": "print(var_dic_list())"
    },
    "r": {
     "delete_cmd_postfix": ") ",
     "delete_cmd_prefix": "rm(",
     "library": "var_list.r",
     "varRefreshCmd": "cat(var_dic_list()) "
    }
   },
   "position": {
    "height": "536px",
    "left": "878px",
    "right": "-10px",
    "top": "120px",
    "width": "380px"
   },
   "types_to_exclude": [
    "module",
    "function",
    "builtin_function_or_method",
    "instance",
    "_Feature"
   ],
   "window_display": false
  }
 },
 "nbformat": 4,
 "nbformat_minor": 2
}
