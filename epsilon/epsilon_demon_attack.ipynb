{
 "cells": [
  {
   "cell_type": "code",
   "execution_count": 1,
   "metadata": {
    "ExecuteTime": {
<<<<<<< HEAD
     "end_time": "2018-06-19T14:14:46.898895Z",
     "start_time": "2018-06-19T14:14:46.644088Z"
    }
=======
     "end_time": "2018-06-17T08:04:24.849058Z",
     "start_time": "2018-06-17T08:04:24.217907Z"
    },
    "collapsed": false
>>>>>>> master
   },
   "outputs": [],
   "source": [
    "import math, random\n",
    "import gym\n",
    "import numpy as np\n",
    "import sys\n",
    "import os\n",
    "\n",
    "import torch\n",
    "import torch.nn as nn\n",
    "import torch.optim as optim\n",
    "import torch.autograd as autograd \n",
    "import torch.nn.functional as F"
   ]
  },
  {
   "cell_type": "code",
   "execution_count": 2,
   "metadata": {
    "ExecuteTime": {
<<<<<<< HEAD
     "end_time": "2018-06-19T14:14:47.163037Z",
     "start_time": "2018-06-19T14:14:46.941306Z"
    }
=======
     "end_time": "2018-06-17T08:04:25.955259Z",
     "start_time": "2018-06-17T08:04:25.686727Z"
    },
    "collapsed": true
>>>>>>> master
   },
   "outputs": [],
   "source": [
    "from IPython.display import clear_output\n",
    "import matplotlib.pyplot as plt\n",
    "%matplotlib inline"
   ]
  },
  {
   "cell_type": "code",
   "execution_count": 3,
   "metadata": {
    "ExecuteTime": {
<<<<<<< HEAD
     "end_time": "2018-06-19T14:14:47.218593Z",
     "start_time": "2018-06-19T14:14:47.190019Z"
    }
=======
     "end_time": "2018-06-17T08:04:26.341719Z",
     "start_time": "2018-06-17T08:04:26.212275Z"
    },
    "collapsed": false
>>>>>>> master
   },
   "outputs": [],
   "source": [
    "sys.path.append('../')\n",
    "from common.wrappers import make_atari, wrap_deepmind, wrap_pytorch"
   ]
  },
  {
   "cell_type": "markdown",
   "metadata": {},
   "source": [
    "<h3> Set configuration </h3>"
   ]
  },
  {
   "cell_type": "code",
   "execution_count": 4,
   "metadata": {
    "ExecuteTime": {
<<<<<<< HEAD
     "end_time": "2018-06-19T14:14:47.786633Z",
     "start_time": "2018-06-19T14:14:47.783099Z"
    }
=======
     "end_time": "2018-06-17T08:04:27.468811Z",
     "start_time": "2018-06-17T08:04:27.462489Z"
    },
    "collapsed": false
>>>>>>> master
   },
   "outputs": [],
   "source": [
    "from common.config import *\n",
    "cfg = Config()"
   ]
  },
  {
   "cell_type": "markdown",
   "metadata": {},
   "source": [
    "<h1>Atari Environment</h1>"
   ]
  },
  {
   "cell_type": "code",
   "execution_count": 5,
   "metadata": {
    "ExecuteTime": {
<<<<<<< HEAD
     "end_time": "2018-06-19T14:14:50.360645Z",
     "start_time": "2018-06-19T14:14:50.128458Z"
    }
=======
     "end_time": "2018-06-17T08:04:29.869247Z",
     "start_time": "2018-06-17T08:04:29.654396Z"
    },
    "collapsed": false
>>>>>>> master
   },
   "outputs": [],
   "source": [
    "env_id = \"DemonAttackNoFrameskip-v0\"\n",
    "env    = make_atari(env_id)\n",
    "env    = wrap_deepmind(env)\n",
    "env    = wrap_pytorch(env)"
   ]
  },
  {
   "cell_type": "markdown",
   "metadata": {},
   "source": [
    "<h3>Use Cuda</h3>"
   ]
  },
  {
   "cell_type": "code",
   "execution_count": 6,
   "metadata": {
    "ExecuteTime": {
<<<<<<< HEAD
     "end_time": "2018-06-19T14:14:51.479308Z",
     "start_time": "2018-06-19T14:14:51.476311Z"
    }
=======
     "end_time": "2018-06-17T08:05:03.905265Z",
     "start_time": "2018-06-17T08:05:03.901645Z"
    },
    "collapsed": true
>>>>>>> master
   },
   "outputs": [],
   "source": [
    "os.environ[\"CUDA_DEVICE_ORDER\"]=\"PCI_BUS_ID\"\n",
    "os.environ[\"CUDA_VISIBLE_DEVICES\"]=\"2\""
   ]
  },
  {
   "cell_type": "code",
   "execution_count": 7,
   "metadata": {
    "ExecuteTime": {
<<<<<<< HEAD
     "end_time": "2018-06-19T14:14:51.823538Z",
     "start_time": "2018-06-19T14:14:51.775747Z"
    }
=======
     "end_time": "2018-06-17T08:05:05.539978Z",
     "start_time": "2018-06-17T08:05:05.473023Z"
    },
    "collapsed": true
>>>>>>> master
   },
   "outputs": [],
   "source": [
    "USE_CUDA = torch.cuda.is_available()\n",
    "Variable = lambda *args, **kwargs: autograd.Variable(*args, **kwargs).cuda() if USE_CUDA else autograd.Variable(*args, **kwargs)"
   ]
  },
  {
   "cell_type": "markdown",
   "metadata": {},
   "source": [
    "<h2>Replay Buffer</h2>"
   ]
  },
  {
   "cell_type": "code",
   "execution_count": 8,
   "metadata": {
    "ExecuteTime": {
<<<<<<< HEAD
     "end_time": "2018-06-19T14:14:52.901368Z",
     "start_time": "2018-06-19T14:14:52.882548Z"
    }
=======
     "end_time": "2018-06-17T08:05:07.393986Z",
     "start_time": "2018-06-17T08:05:07.374059Z"
    },
    "collapsed": true
>>>>>>> master
   },
   "outputs": [],
   "source": [
    "from collections import deque\n",
    "\n",
    "class ReplayBuffer(object):\n",
    "    def __init__(self, capacity):\n",
    "        self.buffer = deque(maxlen=capacity)\n",
    "    \n",
    "    def push(self, state, action, reward, next_state, done):\n",
    "        state      = np.expand_dims(state, 0)\n",
    "        next_state = np.expand_dims(next_state, 0)\n",
    "            \n",
    "        self.buffer.append((state, action, reward, next_state, done))\n",
    "    \n",
    "    def sample(self, batch_size):\n",
    "        state, action, reward, next_state, done = zip(*random.sample(self.buffer, batch_size))\n",
    "        return np.concatenate(state), action, reward, np.concatenate(next_state), done\n",
    "    \n",
    "    def __len__(self):\n",
    "        return len(self.buffer)"
   ]
  },
  {
   "cell_type": "code",
   "execution_count": 9,
   "metadata": {
    "ExecuteTime": {
<<<<<<< HEAD
     "end_time": "2018-06-19T14:14:53.025113Z",
     "start_time": "2018-06-19T14:14:53.015974Z"
    }
=======
     "end_time": "2018-06-17T08:05:08.521814Z",
     "start_time": "2018-06-17T08:05:08.508892Z"
    },
    "collapsed": true
>>>>>>> master
   },
   "outputs": [],
   "source": [
    "def plot(frame_idx, rewards, losses):\n",
    "    clear_output(True)\n",
    "    plt.figure(figsize=(20,5))\n",
    "    plt.subplot(131)\n",
    "    plt.title('frame %s. reward: %s' % (frame_idx, np.mean(rewards[-10:])))\n",
    "    plt.plot(rewards)\n",
    "    plt.subplot(132)\n",
    "    plt.title('loss')\n",
    "    plt.plot(losses)\n",
    "    plt.show()"
   ]
  },
  {
   "cell_type": "markdown",
   "metadata": {},
   "source": [
    "<h2> Deep Q Network </h2>"
   ]
  },
  {
   "cell_type": "code",
   "execution_count": 10,
   "metadata": {
    "ExecuteTime": {
<<<<<<< HEAD
     "end_time": "2018-06-19T14:14:56.212399Z",
     "start_time": "2018-06-19T14:14:56.099101Z"
    }
=======
     "end_time": "2018-06-17T08:05:10.078429Z",
     "start_time": "2018-06-17T08:05:09.966960Z"
    },
    "collapsed": true
>>>>>>> master
   },
   "outputs": [],
   "source": [
    "class CnnDQN(nn.Module):\n",
    "    def __init__(self, input_shape, num_actions):\n",
    "        super(CnnDQN, self).__init__()\n",
    "        \n",
    "        self.input_shape = input_shape\n",
    "        self.num_actions = num_actions\n",
    "        \n",
    "        self.features = nn.Sequential(\n",
    "            nn.Conv2d(input_shape[0], 32, kernel_size=8, stride=4),\n",
    "            nn.ReLU(),\n",
    "            nn.Conv2d(32, 64, kernel_size=4, stride=2),\n",
    "            nn.ReLU(),\n",
    "            nn.Conv2d(64, 64, kernel_size=3, stride=1),\n",
    "            nn.ReLU()\n",
    "        )\n",
    "        \n",
    "        self.fc = nn.Sequential(\n",
    "            nn.Linear(self.feature_size(), 512),\n",
    "            nn.ReLU(),\n",
    "            nn.Linear(512, self.num_actions)\n",
    "        )\n",
    "        \n",
    "    def forward(self, x):\n",
    "        x /= 255.0\n",
    "        x = self.features(x)\n",
    "        x = x.view(x.size(0), -1)\n",
    "        x = self.fc(x)\n",
    "        return x\n",
    "    \n",
    "    def feature_size(self):\n",
    "        return self.features(autograd.Variable(torch.zeros(1, *self.input_shape))).view(1, -1).size(1)\n",
    "    \n",
    "    def act(self, state, epsilon):\n",
    "        if random.random() > epsilon:\n",
    "            state   = Variable(torch.FloatTensor(np.float32(state)).unsqueeze(0), volatile=True)\n",
    "            q_value = self.forward(state)\n",
    "            action  = q_value.max(1)[1].data[0]\n",
    "        else:\n",
    "            action = random.randrange(env.action_space.n)\n",
    "        return action\n",
    "    \n",
    "    def predict(self, state):\n",
    "        state = Variable(torch.FloatTensor(np.float32(state)).unsqueeze(0), volatile=True)\n",
    "        q_value = self.forward(state)\n",
    "        return q_value\n",
    "    \n",
    "    def weights_init(self, m):\n",
    "        classname = m.__class__.__name__\n",
    "        if classname.find('Conv') != -1 and classname.find('Layer') == -1:\n",
    "            nn.init.xavier_normal(m.weight)\n",
    "        elif classname.find('Linear') != -1:\n",
    "            nn.init.xavier_normal(m.weight)\n",
    "            nn.init.constant(m.bias, 0.1)\n",
    "        elif classname.find('BatchNorm') != -1:\n",
    "            m.weight.data.normal_(1.0, 0.02)\n",
    "            m.bias.data.fill_(0)"
   ]
  },
  {
   "cell_type": "code",
   "execution_count": 11,
   "metadata": {
    "ExecuteTime": {
<<<<<<< HEAD
     "end_time": "2018-06-19T14:15:01.772017Z",
     "start_time": "2018-06-19T14:14:57.961938Z"
    }
=======
     "end_time": "2018-06-17T08:05:20.639394Z",
     "start_time": "2018-06-17T08:05:20.571756Z"
    },
    "collapsed": false
>>>>>>> master
   },
   "outputs": [
    {
     "name": "stderr",
     "output_type": "stream",
     "text": [
      "/usr/local/lib/python3.5/dist-packages/ipykernel_launcher.py:50: UserWarning: nn.init.xavier_normal is now deprecated in favor of nn.init.xavier_normal_.\n",
      "/usr/local/lib/python3.5/dist-packages/ipykernel_launcher.py:52: UserWarning: nn.init.xavier_normal is now deprecated in favor of nn.init.xavier_normal_.\n",
      "/usr/local/lib/python3.5/dist-packages/ipykernel_launcher.py:53: UserWarning: nn.init.constant is now deprecated in favor of nn.init.constant_.\n"
     ]
    }
   ],
   "source": [
    "current_model = CnnDQN(env.observation_space.shape, env.action_space.n)\n",
    "target_model = CnnDQN(env.observation_space.shape, env.action_space.n)\n",
    "\n",
    "current_model.apply(current_model.weights_init)\n",
    "\n",
    "if USE_CUDA:\n",
    "    current_model = current_model.cuda()\n",
    "    target_model = target_model.cuda()\n",
    "    \n",
    "optimizer = optim.RMSprop(current_model.parameters(), lr=cfg.LEARNING_RATE)\n",
    "\n",
    "replay_initial = cfg.REPLAY_INIT\n",
    "replay_buffer = ReplayBuffer(cfg.REPLAY_BUFFER)"
   ]
  },
  {
   "cell_type": "markdown",
   "metadata": {},
   "source": [
    "### Synchronize current net and target net"
   ]
  },
  {
   "cell_type": "code",
   "execution_count": 12,
   "metadata": {
    "ExecuteTime": {
<<<<<<< HEAD
     "end_time": "2018-06-19T14:15:01.797160Z",
     "start_time": "2018-06-19T14:15:01.793775Z"
    }
=======
     "end_time": "2018-06-17T08:05:22.337047Z",
     "start_time": "2018-06-17T08:05:22.333432Z"
    },
    "collapsed": true
>>>>>>> master
   },
   "outputs": [],
   "source": [
    "def update_target(current_model, target_model):\n",
    "    target_model.load_state_dict(current_model.state_dict())"
   ]
  },
  {
   "cell_type": "code",
   "execution_count": 13,
   "metadata": {
    "ExecuteTime": {
<<<<<<< HEAD
     "end_time": "2018-06-19T14:15:01.816651Z",
     "start_time": "2018-06-19T14:15:01.809455Z"
    }
=======
     "end_time": "2018-06-17T08:05:23.288730Z",
     "start_time": "2018-06-17T08:05:23.284053Z"
    },
    "collapsed": true
>>>>>>> master
   },
   "outputs": [],
   "source": [
    "update_target(current_model, target_model)"
   ]
  },
  {
   "cell_type": "markdown",
   "metadata": {},
   "source": [
    "<h2>Computing Temporal Difference Loss</h2>"
   ]
  },
  {
   "cell_type": "code",
   "execution_count": 14,
   "metadata": {
    "ExecuteTime": {
<<<<<<< HEAD
     "end_time": "2018-06-19T14:15:09.350815Z",
     "start_time": "2018-06-19T14:15:09.311491Z"
    }
=======
     "end_time": "2018-06-17T08:05:24.825302Z",
     "start_time": "2018-06-17T08:05:24.782971Z"
    },
    "collapsed": true
>>>>>>> master
   },
   "outputs": [],
   "source": [
    "def compute_td_loss(batch_size):\n",
    "    state, action, reward, next_state, done = replay_buffer.sample(batch_size)\n",
    "\n",
    "    state      = Variable(torch.FloatTensor(np.float32(state)))\n",
    "    next_state = Variable(torch.FloatTensor(np.float32(next_state)), volatile=True)\n",
    "    action     = Variable(torch.LongTensor(action))\n",
    "    reward     = Variable(torch.FloatTensor(reward))\n",
    "    done       = Variable(torch.FloatTensor(done))\n",
    "\n",
    "    q_values      = current_model(state)\n",
    "    next_q_values = target_model(next_state)\n",
    "\n",
    "    q_value          = q_values.gather(1, action.unsqueeze(1)).squeeze(1)\n",
    "    next_q_value     = next_q_values.max(1)[0]\n",
    "    expected_q_value = reward + gamma * next_q_value * (1 - done)\n",
    "    \n",
    "    loss = (q_value - Variable(expected_q_value.data)).pow(2).mean()\n",
    "        \n",
    "    optimizer.zero_grad()\n",
    "    loss.backward()\n",
    "    optimizer.step()\n",
    "    \n",
    "    return loss"
   ]
  },
  {
   "cell_type": "markdown",
   "metadata": {},
   "source": [
    "<h2>Epsilon greedy exploration</h2>"
   ]
  },
  {
   "cell_type": "code",
   "execution_count": 16,
   "metadata": {
    "ExecuteTime": {
<<<<<<< HEAD
     "end_time": "2018-06-19T14:20:22.079382Z",
     "start_time": "2018-06-19T14:20:21.148003Z"
    }
=======
     "end_time": "2018-06-17T08:05:27.107618Z",
     "start_time": "2018-06-17T08:05:26.821083Z"
    },
    "collapsed": false
>>>>>>> master
   },
   "outputs": [
    {
     "data": {
      "text/plain": [
<<<<<<< HEAD
       "[<matplotlib.lines.Line2D at 0x7f8ff4c33940>]"
=======
       "[<matplotlib.lines.Line2D at 0x7fdb024d1860>]"
>>>>>>> master
      ]
     },
     "execution_count": 16,
     "metadata": {},
     "output_type": "execute_result"
    },
    {
     "data": {
<<<<<<< HEAD
      "image/png": "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\n",
      "text/plain": [
       "<matplotlib.figure.Figure at 0x7f8fff267630>"
=======
      "image/png": "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\n",
      "text/plain": [
       "<matplotlib.figure.Figure at 0x7fdb0bd60978>"
>>>>>>> master
      ]
     },
     "metadata": {},
     "output_type": "display_data"
    }
   ],
   "source": [
    "epsilon_start = cfg.EPSILON_START\n",
    "epsilon_final = cfg.EPSILON_FINAL\n",
    "epsilon_decay = cfg.EPSILON_DECAY\n",
    "\n",
    "#epsilon_by_frame = lambda frame_idx: max(epsilon_start - (epsilon_start - epsilon_final) * (frame_idx / epsilon_decay), epsilon_final)\n",
    "epsilon_by_frame = lambda frame_idx: epsilon_final + (epsilon_start - epsilon_final) * math.exp(-1. * frame_idx /epsilon_decay)\n",
    "\n",
    "plt.plot([epsilon_by_frame(i) for i in range(1000000)])"
   ]
  },
  {
   "cell_type": "code",
   "execution_count": 17,
   "metadata": {
    "ExecuteTime": {
<<<<<<< HEAD
     "end_time": "2018-06-19T14:20:27.328418Z",
     "start_time": "2018-06-19T14:20:27.324476Z"
    }
=======
     "end_time": "2018-06-17T08:05:28.217682Z",
     "start_time": "2018-06-17T08:05:28.213667Z"
    },
    "collapsed": true
>>>>>>> master
   },
   "outputs": [],
   "source": [
    "def entropy(p):\n",
    "    p1 = np.exp(p) / np.sum(np.exp(p))\n",
    "    return -sum(p1*np.log(p1))\n"
   ]
  },
  {
   "cell_type": "markdown",
   "metadata": {},
   "source": [
    "<h2> Training </h2>"
   ]
  },
  {
   "cell_type": "code",
   "execution_count": 18,
   "metadata": {
    "ExecuteTime": {
<<<<<<< HEAD
     "end_time": "2018-06-20T00:38:40.129401Z",
     "start_time": "2018-06-19T14:20:29.570166Z"
    }
=======
     "end_time": "2018-06-18T23:45:32.894678Z",
     "start_time": "2018-06-17T08:05:29.733800Z"
    },
    "collapsed": false
>>>>>>> master
   },
   "outputs": [
    {
     "data": {
<<<<<<< HEAD
      "image/png": "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\n",
      "text/plain": [
       "<matplotlib.figure.Figure at 0x7f8f50dec780>"
=======
      "image/png": "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\n",
      "text/plain": [
       "<matplotlib.figure.Figure at 0x7fd26b4a6dd8>"
>>>>>>> master
      ]
     },
     "metadata": {},
     "output_type": "display_data"
    },
    {
     "name": "stdout",
     "output_type": "stream",
     "text": [
      "\r",
<<<<<<< HEAD
      "frame_idx: 1400000, (100.00 %)"
=======
      "frame_idx: 5000000, (100.00 %)"
>>>>>>> master
     ]
    }
   ],
   "source": [
    "num_frames = cfg.NUM_FRAMES\n",
    "batch_size = cfg.BATCH_SIZE\n",
    "gamma      = cfg.GAMMA\n",
    "episode = 0\n",
    "\n",
    "losses = []\n",
    "all_rewards = []\n",
    "episode_reward = 0\n",
    "\n",
    "state_traj = []\n",
    "q_value_traj = []\n",
    "\n",
    "episode_state = []\n",
    "episode_q_val = []\n",
    "\n",
    "state = env.reset()\n",
    "for frame_idx in range(1, num_frames + 1):\n",
    "    epsilon = epsilon_by_frame(frame_idx)\n",
    "    action = current_model.act(state, epsilon)\n",
    "\n",
    "    if episode % 20 == 0:\n",
    "        q_values = current_model.predict(state).data.cpu().numpy()[0]\n",
    "        episode_state.append(state)\n",
    "        episode_q_val.append(q_values)\n",
    "    \n",
    "    next_state, reward, done, _ = env.step(action)\n",
    "    replay_buffer.push(state, action, reward, next_state, done)\n",
    "    \n",
    "    state = next_state\n",
    "    episode_reward += reward\n",
    "    \n",
    "    if done:\n",
    "        state = env.reset()\n",
    "        all_rewards.append(episode_reward)\n",
    "        episode_reward = 0\n",
    "        if episode % 20 == 0:\n",
    "            state_traj.append(episode_state)\n",
    "            q_value_traj.append(episode_q_val)\n",
    "        \n",
    "        episode += 1\n",
    "        episode_state = []\n",
    "        episode_q_val = []\n",
    "        \n",
    "    if len(replay_buffer) > replay_initial:\n",
    "        loss = compute_td_loss(batch_size)\n",
    "        losses.append(loss.data[0])\n",
    "        \n",
    "    if frame_idx % 10000 == 0:\n",
    "        plot(frame_idx, all_rewards, losses)\n",
    "        update_target(current_model, target_model)\n",
    "    \n",
    "    print('\\rframe_idx: %7d, (%.2f %%)' %(frame_idx, frame_idx/num_frames*100), end='')"
   ]
  },
  {
   "cell_type": "code",
   "execution_count": 19,
   "metadata": {
    "ExecuteTime": {
<<<<<<< HEAD
     "end_time": "2018-06-20T00:47:23.186142Z",
     "start_time": "2018-06-20T00:46:46.490573Z"
    }
=======
     "end_time": "2018-06-18T23:53:40.210520Z",
     "start_time": "2018-06-18T23:45:32.919489Z"
    },
    "collapsed": false
>>>>>>> master
   },
   "outputs": [
    {
     "name": "stderr",
     "output_type": "stream",
     "text": [
      "/usr/local/lib/python3.5/dist-packages/torch/serialization.py:193: UserWarning: Couldn't retrieve source code for container of type CnnDQN. It won't be checked for correctness upon loading.\n",
      "  \"type \" + obj.__name__ + \". It won't be checked \"\n"
     ]
    }
   ],
   "source": [
    "from common.save_file import *\n",
    "\n",
    "model_dir = cfg.MODEL_DIR\n",
    "var_dir = cfg.VAR_DIR\n",
    "name = \"epsilon_\" + env_id\n",
    "\n",
    "save_model(current_model, model_dir, name)\n",
    "\n",
    "var_dict = {\n",
    "            \"all_rewards\": all_rewards,\n",
    "            \"losses\": losses,\n",
    "            \"state_traj\": state_traj,\n",
    "            \"q_value_traj\": q_value_traj\n",
    "           }\n",
    "\n",
    "save_variable(name, var_dir, var_dict)\n"
   ]
  },
  {
   "cell_type": "code",
   "execution_count": 20,
   "metadata": {
    "ExecuteTime": {
     "end_time": "2018-06-20T01:23:21.818080Z",
     "start_time": "2018-06-20T01:20:32.600459Z"
    }
   },
   "outputs": [
    {
     "name": "stderr",
     "output_type": "stream",
     "text": [
      "/usr/local/lib/python3.5/dist-packages/ipykernel_launcher.py:2: UserWarning: volatile was removed and now has no effect. Use `with torch.no_grad():` instead.\n",
      "  \n"
     ]
    }
   ],
   "source": [
    "model = torch.load('model/epsilon_DemonAttackNoFrameskip-v0.model')\n",
    "state = env.reset()\n",
    "done = False\n",
    "for i in range(10):\n",
    "    state = env.reset()\n",
    "    done = False\n",
    "    while not done:\n",
    "        env.render()\n",
    "        action = model.act(state,0.1)\n",
    "        #action = env.action_space.sample()\n",
    "        state, reward, done, info = env.step(action)\n",
    "    env.close()"
   ]
  },
  {
   "cell_type": "code",
   "execution_count": null,
   "metadata": {},
   "outputs": [],
   "source": []
  }
 ],
 "metadata": {
  "kernelspec": {
   "display_name": "Python 3",
   "language": "python",
   "name": "python3"
  },
  "language_info": {
   "codemirror_mode": {
    "name": "ipython",
    "version": 3
   },
   "file_extension": ".py",
   "mimetype": "text/x-python",
   "name": "python",
   "nbconvert_exporter": "python",
   "pygments_lexer": "ipython3",
   "version": "3.5.2"
<<<<<<< HEAD
  },
  "varInspector": {
   "cols": {
    "lenName": 16,
    "lenType": 16,
    "lenVar": 40
   },
   "kernels_config": {
    "python": {
     "delete_cmd_postfix": "",
     "delete_cmd_prefix": "del ",
     "library": "var_list.py",
     "varRefreshCmd": "print(var_dic_list())"
    },
    "r": {
     "delete_cmd_postfix": ") ",
     "delete_cmd_prefix": "rm(",
     "library": "var_list.r",
     "varRefreshCmd": "cat(var_dic_list()) "
    }
   },
   "position": {
    "height": "536px",
    "left": "878px",
    "right": "-10px",
    "top": "120px",
    "width": "380px"
   },
   "types_to_exclude": [
    "module",
    "function",
    "builtin_function_or_method",
    "instance",
    "_Feature"
   ],
   "window_display": false
=======
>>>>>>> master
  }
 },
 "nbformat": 4,
 "nbformat_minor": 2
}
