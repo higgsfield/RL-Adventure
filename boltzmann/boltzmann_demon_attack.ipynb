{
 "cells": [
  {
   "cell_type": "code",
   "execution_count": 3,
   "metadata": {
    "ExecuteTime": {
<<<<<<< HEAD
     "end_time": "2018-06-19T14:13:37.585429Z",
     "start_time": "2018-06-19T14:13:37.572359Z"
    }
=======
     "end_time": "2018-06-17T08:05:59.591042Z",
     "start_time": "2018-06-17T08:05:58.921349Z"
    },
    "collapsed": false
>>>>>>> master
   },
   "outputs": [],
   "source": [
    "import math, random\n",
    "import gym\n",
    "import numpy as np\n",
    "import sys\n",
    "import os\n",
    "\n",
    "import torch\n",
    "import torch.nn as nn\n",
    "import torch.optim as optim\n",
    "import torch.autograd as autograd \n",
    "import torch.nn.functional as F"
   ]
  },
  {
   "cell_type": "code",
   "execution_count": 4,
   "metadata": {
    "ExecuteTime": {
<<<<<<< HEAD
     "end_time": "2018-06-19T14:13:38.319214Z",
     "start_time": "2018-06-19T14:13:38.314131Z"
    }
=======
     "end_time": "2018-06-17T08:05:59.870390Z",
     "start_time": "2018-06-17T08:05:59.593025Z"
    },
    "collapsed": true
>>>>>>> master
   },
   "outputs": [],
   "source": [
    "from IPython.display import clear_output\n",
    "import matplotlib.pyplot as plt\n",
    "%matplotlib inline"
   ]
  },
  {
   "cell_type": "code",
   "execution_count": 5,
   "metadata": {
    "ExecuteTime": {
<<<<<<< HEAD
     "end_time": "2018-06-19T14:13:38.853334Z",
     "start_time": "2018-06-19T14:13:38.723736Z"
    }
=======
     "end_time": "2018-06-17T08:06:00.002745Z",
     "start_time": "2018-06-17T08:05:59.897761Z"
    },
    "collapsed": false
>>>>>>> master
   },
   "outputs": [],
   "source": [
    "sys.path.append('../')\n",
    "from common.wrappers import make_atari, wrap_deepmind, wrap_pytorch"
   ]
  },
  {
   "cell_type": "markdown",
   "metadata": {},
   "source": [
    "<h3> Set configuration </h3>"
   ]
  },
  {
   "cell_type": "code",
   "execution_count": 6,
   "metadata": {
    "ExecuteTime": {
<<<<<<< HEAD
     "end_time": "2018-06-19T14:13:39.850231Z",
     "start_time": "2018-06-19T14:13:39.842701Z"
    }
=======
     "end_time": "2018-06-17T08:06:00.601031Z",
     "start_time": "2018-06-17T08:06:00.586806Z"
    },
    "collapsed": false
>>>>>>> master
   },
   "outputs": [],
   "source": [
    "from common.config import *\n",
    "cfg = Config()"
   ]
  },
  {
   "cell_type": "markdown",
   "metadata": {},
   "source": [
    "<h1> Atari Environment </h1>"
   ]
  },
  {
   "cell_type": "code",
   "execution_count": 7,
   "metadata": {
    "ExecuteTime": {
<<<<<<< HEAD
     "end_time": "2018-06-19T14:13:41.777089Z",
     "start_time": "2018-06-19T14:13:41.580121Z"
    }
=======
     "end_time": "2018-06-17T08:06:01.418423Z",
     "start_time": "2018-06-17T08:06:01.201728Z"
    },
    "collapsed": false
>>>>>>> master
   },
   "outputs": [],
   "source": [
    "env_id = \"DemonAttackNoFrameskip-v0\"\n",
    "env    = make_atari(env_id)\n",
    "env    = wrap_deepmind(env)\n",
    "env    = wrap_pytorch(env)"
   ]
  },
  {
   "cell_type": "markdown",
   "metadata": {},
   "source": [
    "<h3>Use Cuda</h3>"
   ]
  },
  {
   "cell_type": "code",
   "execution_count": 8,
   "metadata": {
    "ExecuteTime": {
<<<<<<< HEAD
     "end_time": "2018-06-19T14:13:43.831598Z",
     "start_time": "2018-06-19T14:13:43.826870Z"
    }
=======
     "end_time": "2018-06-17T08:06:23.771942Z",
     "start_time": "2018-06-17T08:06:23.764207Z"
    },
    "collapsed": true
>>>>>>> master
   },
   "outputs": [],
   "source": [
    "os.environ[\"CUDA_DEVICE_ORDER\"]=\"PCI_BUS_ID\"\n",
    "os.environ[\"CUDA_VISIBLE_DEVICES\"]=\"2\""
   ]
  },
  {
   "cell_type": "code",
   "execution_count": 9,
   "metadata": {
    "ExecuteTime": {
<<<<<<< HEAD
     "end_time": "2018-06-19T14:13:44.510577Z",
     "start_time": "2018-06-19T14:13:44.469939Z"
    }
=======
     "end_time": "2018-06-17T08:06:24.389996Z",
     "start_time": "2018-06-17T08:06:24.384641Z"
    },
    "collapsed": true
>>>>>>> master
   },
   "outputs": [],
   "source": [
    "USE_CUDA = torch.cuda.is_available()\n",
    "Variable = lambda *args, **kwargs: autograd.Variable(*args, **kwargs).cuda() if USE_CUDA else autograd.Variable(*args, **kwargs)"
   ]
  },
  {
   "cell_type": "markdown",
   "metadata": {},
   "source": [
    "<h2>Replay Buffer</h2>"
   ]
  },
  {
   "cell_type": "code",
   "execution_count": 10,
   "metadata": {
    "ExecuteTime": {
<<<<<<< HEAD
     "end_time": "2018-06-19T14:13:46.100889Z",
     "start_time": "2018-06-19T14:13:46.084464Z"
    }
=======
     "end_time": "2018-06-17T08:06:25.165262Z",
     "start_time": "2018-06-17T08:06:25.138111Z"
    },
    "collapsed": true
>>>>>>> master
   },
   "outputs": [],
   "source": [
    "from collections import deque\n",
    "\n",
    "class ReplayBuffer(object):\n",
    "    def __init__(self, capacity):\n",
    "        self.buffer = deque(maxlen=capacity)\n",
    "    \n",
    "    def push(self, state, action, reward, next_state, done):\n",
    "        state      = np.expand_dims(state, 0)\n",
    "        next_state = np.expand_dims(next_state, 0)\n",
    "            \n",
    "        self.buffer.append((state, action, reward, next_state, done))\n",
    "    \n",
    "    def sample(self, batch_size):\n",
    "        state, action, reward, next_state, done = zip(*random.sample(self.buffer, batch_size))\n",
    "        return np.concatenate(state), action, reward, np.concatenate(next_state), done\n",
    "    \n",
    "    def __len__(self):\n",
    "        return len(self.buffer)"
   ]
  },
  {
   "cell_type": "code",
   "execution_count": 11,
   "metadata": {
    "ExecuteTime": {
<<<<<<< HEAD
     "end_time": "2018-06-19T14:13:46.398827Z",
     "start_time": "2018-06-19T14:13:46.388256Z"
    }
=======
     "end_time": "2018-06-17T08:06:25.374919Z",
     "start_time": "2018-06-17T08:06:25.363516Z"
    },
    "collapsed": true
>>>>>>> master
   },
   "outputs": [],
   "source": [
    "def plot(frame_idx, rewards, losses):\n",
    "    clear_output(True)\n",
    "    plt.figure(figsize=(20,5))\n",
    "    plt.subplot(131)\n",
    "    plt.title('frame %s. reward: %s' % (frame_idx, np.mean(rewards[-10:])))\n",
    "    plt.plot(rewards)\n",
    "    plt.subplot(132)\n",
    "    plt.title('loss')\n",
    "    plt.plot(losses)\n",
    "    plt.show()"
   ]
  },
  {
   "cell_type": "markdown",
   "metadata": {},
   "source": [
    "<h2> Deep Q Network </h2>"
   ]
  },
  {
   "cell_type": "code",
   "execution_count": 12,
   "metadata": {
    "ExecuteTime": {
<<<<<<< HEAD
     "end_time": "2018-06-19T14:13:48.749744Z",
     "start_time": "2018-06-19T14:13:48.652074Z"
    }
=======
     "end_time": "2018-06-17T08:06:26.068458Z",
     "start_time": "2018-06-17T08:06:25.927169Z"
    },
    "collapsed": true
>>>>>>> master
   },
   "outputs": [],
   "source": [
    "class CnnDQN(nn.Module):\n",
    "    def __init__(self, input_shape, num_actions):\n",
    "        super(CnnDQN, self).__init__()\n",
    "        \n",
    "        self.input_shape = input_shape\n",
    "        self.num_actions = num_actions\n",
    "        \n",
    "        self.features = nn.Sequential(\n",
    "            nn.Conv2d(input_shape[0], 32, kernel_size=8, stride=4),\n",
    "            nn.ReLU(),\n",
    "            nn.Conv2d(32, 64, kernel_size=4, stride=2),\n",
    "            nn.ReLU(),\n",
    "            nn.Conv2d(64, 64, kernel_size=3, stride=1),\n",
    "            nn.ReLU()\n",
    "        )\n",
    "        \n",
    "        self.fc = nn.Sequential(\n",
    "            nn.Linear(self.feature_size(), 512),\n",
    "            nn.ReLU(),\n",
    "            nn.Linear(512, self.num_actions)\n",
    "        )\n",
    "        \n",
    "    def forward(self, x):\n",
    "        x /= 255.0\n",
    "        x = self.features(x)\n",
    "        x = x.view(x.size(0), -1)\n",
    "        x = self.fc(x)\n",
    "        return x\n",
    "    \n",
    "    def feature_size(self):\n",
    "        return self.features(autograd.Variable(torch.zeros(1, *self.input_shape))).view(1, -1).size(1)\n",
    "    \n",
    "    def act(self, state, tau):\n",
    "        state   = Variable(torch.FloatTensor(np.float32(state)).unsqueeze(0), volatile=True)\n",
    "        q_value = self.forward(state)\n",
    "        q_value = torch.nn.functional.softmax(q_value/tau)\n",
    "        qv = q_value.data.cpu().numpy()[0]\n",
    "        action_val = np.random.choice(qv, p=qv)\n",
    "        action = np.argmax(action_val == qv)\n",
    "        return int(action)\n",
    "    \n",
    "    def predict(self, state):\n",
    "        state = Variable(torch.FloatTensor(np.float32(state)).unsqueeze(0), volatile=True)\n",
    "        q_value = self.forward(state)\n",
    "        return q_value\n",
    "    \n",
    "    def weights_init(self, m):\n",
    "        classname = m.__class__.__name__\n",
    "        if classname.find('Conv') != -1 and classname.find('Layer') == -1:\n",
    "            nn.init.xavier_normal(m.weight)\n",
    "        elif classname.find('Linear') != -1:\n",
    "            nn.init.xavier_normal(m.weight)\n",
    "            nn.init.constant(m.bias, 0.1)\n",
    "        elif classname.find('BatchNorm') != -1:\n",
    "            m.weight.data.normal_(1.0, 0.02)\n",
    "            m.bias.data.fill_(0)\n",
    "\n",
    "    "
   ]
  },
  {
   "cell_type": "code",
   "execution_count": 13,
   "metadata": {
    "ExecuteTime": {
<<<<<<< HEAD
     "end_time": "2018-06-19T14:13:54.406571Z",
     "start_time": "2018-06-19T14:13:50.479162Z"
    }
=======
     "end_time": "2018-06-17T08:06:38.859353Z",
     "start_time": "2018-06-17T08:06:26.198314Z"
    },
    "collapsed": false
>>>>>>> master
   },
   "outputs": [
    {
     "name": "stderr",
     "output_type": "stream",
     "text": [
      "/usr/local/lib/python3.5/dist-packages/ipykernel_launcher.py:50: UserWarning: nn.init.xavier_normal is now deprecated in favor of nn.init.xavier_normal_.\n",
      "/usr/local/lib/python3.5/dist-packages/ipykernel_launcher.py:52: UserWarning: nn.init.xavier_normal is now deprecated in favor of nn.init.xavier_normal_.\n",
      "/usr/local/lib/python3.5/dist-packages/ipykernel_launcher.py:53: UserWarning: nn.init.constant is now deprecated in favor of nn.init.constant_.\n"
     ]
    }
   ],
   "source": [
    "current_model = CnnDQN(env.observation_space.shape, env.action_space.n)\n",
    "target_model = CnnDQN(env.observation_space.shape, env.action_space.n)\n",
    "\n",
    "current_model.apply(current_model.weights_init)\n",
    "\n",
    "if USE_CUDA:\n",
    "    current_model = current_model.cuda()\n",
    "    target_model = target_model.cuda()\n",
    "    \n",
    "optimizer = optim.RMSprop(current_model.parameters(), lr=cfg.LEARNING_RATE)\n",
    "\n",
    "replay_initial = cfg.REPLAY_INIT\n",
    "replay_buffer = ReplayBuffer(cfg.REPLAY_BUFFER)"
   ]
  },
  {
   "cell_type": "markdown",
   "metadata": {},
   "source": [
    "### Synchronize current net and target net"
   ]
  },
  {
   "cell_type": "code",
   "execution_count": 14,
   "metadata": {
    "ExecuteTime": {
<<<<<<< HEAD
     "end_time": "2018-06-19T14:13:56.124850Z",
     "start_time": "2018-06-19T14:13:56.120635Z"
    }
=======
     "end_time": "2018-06-17T08:06:38.869474Z",
     "start_time": "2018-06-17T08:06:38.862615Z"
    },
    "collapsed": true
>>>>>>> master
   },
   "outputs": [],
   "source": [
    "def update_target(current_model, target_model):\n",
    "    target_model.load_state_dict(current_model.state_dict())"
   ]
  },
  {
   "cell_type": "code",
   "execution_count": 15,
   "metadata": {
    "ExecuteTime": {
<<<<<<< HEAD
     "end_time": "2018-06-19T14:13:57.366536Z",
     "start_time": "2018-06-19T14:13:57.363227Z"
    }
=======
     "end_time": "2018-06-17T08:06:38.927364Z",
     "start_time": "2018-06-17T08:06:38.873551Z"
    },
    "collapsed": false
>>>>>>> master
   },
   "outputs": [],
   "source": [
    "update_target(current_model, target_model)"
   ]
  },
  {
   "cell_type": "markdown",
   "metadata": {},
   "source": [
    "<h2>Computing Temporal Difference Loss</h2>"
   ]
  },
  {
   "cell_type": "code",
   "execution_count": 16,
   "metadata": {
    "ExecuteTime": {
<<<<<<< HEAD
     "end_time": "2018-06-19T14:14:04.859117Z",
     "start_time": "2018-06-19T14:14:04.830774Z"
    }
=======
     "end_time": "2018-06-17T08:06:38.970214Z",
     "start_time": "2018-06-17T08:06:38.929544Z"
    },
    "collapsed": true
>>>>>>> master
   },
   "outputs": [],
   "source": [
    "def compute_td_loss(batch_size):\n",
    "    state, action, reward, next_state, done = replay_buffer.sample(batch_size)\n",
    "\n",
    "    state      = Variable(torch.FloatTensor(np.float32(state)))\n",
    "    next_state = Variable(torch.FloatTensor(np.float32(next_state)), volatile=True)\n",
    "    action     = Variable(torch.LongTensor(action))\n",
    "    reward     = Variable(torch.FloatTensor(reward))\n",
    "    done       = Variable(torch.FloatTensor(done))\n",
    "\n",
    "    q_values      = current_model(state)\n",
    "    next_q_values = target_model(next_state)\n",
    "\n",
    "    q_value          = q_values.gather(1, action.unsqueeze(1)).squeeze(1)\n",
    "    next_q_value     = next_q_values.max(1)[0]\n",
    "    expected_q_value = reward + gamma * next_q_value * (1 - done)\n",
    "    \n",
    "    loss = (q_value - Variable(expected_q_value.data)).pow(2).mean()\n",
    "        \n",
    "    optimizer.zero_grad()\n",
    "    loss.backward()\n",
    "    optimizer.step()\n",
    "    \n",
    "    return loss"
   ]
  },
  {
   "cell_type": "markdown",
   "metadata": {},
   "source": [
    "<h2>Boltzmann exploration</h2>"
   ]
  },
  {
   "cell_type": "code",
   "execution_count": 17,
   "metadata": {
    "ExecuteTime": {
<<<<<<< HEAD
     "end_time": "2018-06-19T14:14:15.879298Z",
     "start_time": "2018-06-19T14:14:14.962311Z"
    }
=======
     "end_time": "2018-06-17T08:06:40.388367Z",
     "start_time": "2018-06-17T08:06:38.971951Z"
    },
    "collapsed": false
>>>>>>> master
   },
   "outputs": [
    {
     "data": {
      "text/plain": [
<<<<<<< HEAD
       "[<matplotlib.lines.Line2D at 0x7faa7f4d8fd0>]"
=======
       "[<matplotlib.lines.Line2D at 0x7fdec0245278>]"
>>>>>>> master
      ]
     },
     "execution_count": 17,
     "metadata": {},
     "output_type": "execute_result"
    },
    {
     "data": {
<<<<<<< HEAD
      "image/png": "iVBORw0KGgoAAAANSUhEUgAAAXcAAAD8CAYAAACMwORRAAAABHNCSVQICAgIfAhkiAAAAAlwSFlzAAALEgAACxIB0t1+/AAAFqNJREFUeJzt3WtwXOd93/HvH4v7hQRIghIlgqakypLlji3LUC1VrZLYiqM6HrtTe1K5TiK76Sht00RxO5ORxi8yfee0aSbO3axk19O4UlpFTWSNbSW1HHc8rmRD1l0UdSElkRQogvc7icvTF3tAgRAuC+xiF+fs9zODwdlnz+7zPzzgDw+ec/acSCkhSSqWlkYXIEmqPcNdkgrIcJekAjLcJamADHdJKiDDXZIKyHCXpAIy3CWpgAx3SSqg1np2tmHDhrR169Z6dilJuffEE08cSCkNLuU1dQ33rVu3MjIyUs8uJSn3IuL1pb7GaRlJKiDDXZIKyHCXpAIy3CWpgAx3SSqgRcM9Ir4aEfsj4rkZbesi4m8j4uXs+8DKlilJWopKRu7/Dbh1VttdwHdTSlcC380eS5JWiUXDPaX0f4FDs5o/CXw9W/468E9rXNcF/veTe/jzx5Z8mqckNa3lzrlflFIazZb3ARfNt2JE3BERIxExMjY2tqzOHn56lPt+9MayXitJzajqA6qpfIftee+ynVLallIaTikNDw4u6dOz5/V0tHLy7MRyS5SkprPccH8rIjYBZN/3166kd+rpaOXE2cmV7EKSCmW54f4QcHu2fDvw17UpZ269HSVH7pK0BJWcCnkf8P+AqyJiT0T8CvAl4Gcj4mXgluzxiunpaOX0+CSTU/PO/kiSZlj0qpAppc/M89RHalzLvHray2WeOjdBX2dbvbqVpNzKxSdUezrK4X7SeXdJqkhOwr0EwAnn3SWpIrkI997zI3fDXZIqkYtwPz8tc85wl6RK5CPc251zl6SlyEe4Z3PuTstIUmVyEe7Tc+4eUJWkyuQi3Hs8oCpJS5KLcO9qKxEBJ8855y5JlchFuLe0BN1tXl9GkiqVi3AHL/srSUuRm3Dv7Wj1gKokVSg34d7T0cop59wlqSI5CveSI3dJqlB+wr3dOXdJqlR+wt0DqpJUsVyFu/dRlaTK5CbceztKnPKqkJJUkdyEe3d7+WyZKe+jKkmLyk2493pNd0mqWG7C3fuoSlLlchTu3kdVkiqVm3CfnpbxoKokLS434T49LXPijOEuSYvJTbhPj9yPOy0jSYvKTbiv6WwD4Lgjd0laVG7Cva8zG7mfGW9wJZK0+uUm3HvPh7sjd0laTG7Cva3UQldbiWOnHblL0mJyE+5Qnppx5C5Ji8tfuJ915C5Ji6kq3CPiCxHxfEQ8FxH3RURnrQqbS19nmyN3SarAssM9Ii4FfgMYTin9faAE3FarwubS19nKMcNdkhZV7bRMK9AVEa1AN/Bm9SXNb01nm6dCSlIFlh3uKaW9wO8CbwCjwNGU0t/MXi8i7oiIkYgYGRsbW36lwJouD6hKUiWqmZYZAD4JXAZcAvRExC/OXi+ltC2lNJxSGh4cHFx+pUzPuTtyl6TFVDMtcwuwK6U0llIaBx4E/mFtyppbX0crZ8anGJ+cWsluJCn3qgn3N4AbIqI7IgL4CLC9NmXNrc9PqUpSRaqZc38ceAD4CfBs9l7balTXnPrOXzzMqRlJWkhrNS9OKf028Ns1qmVRjtwlqTI5+4RqeeR+zJG7JC0oZ+HuyF2SKpGrcPeGHZJUmVyFuzfskKTK5CrcvWGHJFUmV+E+fcMOR+6StLBchTt4ww5JqoThLkkFlMNwb/M8d0laRO7Cvb+7jaPeJFuSFpS/cO9q48gpw12SFpK7cF/b5chdkhaTv3DvbufYmXEmp1KjS5GkVSt/4d7VRkp+SlWSFpK7cO/vKl9fxqkZSZpf/sK9uxzuHlSVpPnlLtzXOnKXpEXlLtzPj9wNd0maV+7CfW1XOwBHT51rcCWStHrlMNydlpGkxeQu3NtbW+huL3lAVZIWkLtwh+wSBI7cJWleuQz3NV6CQJIWlMtw7+9u46jTMpI0r1yG+9quNo6c9mwZSZpPLsO9v6vdaRlJWkA+w73ba7pL0kJyGe5ruto4OzHFmfHJRpciSatSLsN9+hIETs1I0tzyGe7ZJQgOewkCSZpTVeEeEf0R8UBEvBgR2yPixloVtpCBbOR++KQjd0maS2uVr/8y8J2U0qcjoh3orkFNi1rXWx65HzrpyF2S5rLscI+ItcDNwOcAUkrngLqk7bqe6XA/W4/uJCl3qpmWuQwYA74WEU9GxD0R0VOjuhY00D0d7k7LSNJcqgn3VuA64E9TSh8ATgJ3zV4pIu6IiJGIGBkbG6uiu7e1lVpY09nqyF2S5lFNuO8B9qSUHs8eP0A57C+QUtqWUhpOKQ0PDg5W0d2F1vd2cNA5d0ma07LDPaW0D9gdEVdlTR8BXqhJVRVY19PuqZCSNI9qz5b5deAb2ZkyO4HPV19SZQa629lz+FS9upOkXKkq3FNKTwHDNaplSdb3tPPMniON6FqSVr1cfkIVyue6Hz51jpRSo0uRpFUnv+He3c74ZOL42YlGlyJJq05+w336g0wnPKgqSbPlN9ynL0HgGTOS9A75DfduR+6SNJ/8hnuPFw+TpPnkNtzXOy0jSfPKbbh3tZXoaG1x5C5Jc8htuEcE63vaOeicuyS9Q27DHWBDXwcHTnhlSEmaLdfhvrGvg7HjhrskzZbrcB/s62DMkbskvUO+w723g4MnzjI55fVlJGmmfId7XwdTCQ56RyZJukDOw70TwHl3SZol5+HeAcB+w12SLpDrcN+Yhbsjd0m6UK7DfdBwl6Q55TrcO9tK9HW2Gu6SNEuuwx2yc90Nd0m6QP7Dvddwl6TZch/uG9d0sv/4mUaXIUmrSu7D3ZG7JL1T/sO9r4OT5yY5eXai0aVI0qqR+3Df6AeZJOkdch/um/rLlyAYPXq6wZVI0uqR/3Bf2wXA6BEPqkrStAKEuyN3SZot9+He2VZioLuN0aOO3CVpWu7DHcpTM4a7JL2tIOHeabhL0gxVh3tElCLiyYh4uBYFLcem/k7n3CVphlqM3O8EttfgfZZt09oujpwa5/S5yUaWIUmrRlXhHhGbgZ8H7qlNOcvjGTOSdKFqR+6/D/wWMFWDWpZt+lz3fc67SxJQRbhHxMeB/SmlJxZZ746IGImIkbGxseV2t6DpkfubhrskAdWN3G8CPhERrwH3Ax+OiD+fvVJKaVtKaTilNDw4OFhFd/O7OAv3fU7LSBJQRbinlO5OKW1OKW0FbgMeTSn9Ys0qW4LOthLre9rZ6yUIJAkoyHnuAJvXdbPn8KlGlyFJq0JNwj2l9HcppY/X4r2Wa2igizcOGe6SBAUauW9Z183ew6eZnEqNLkWSGq4w4T60rpuJqeS57pJEgcJ9y7puAKdmJIkChfvQQDnc9xxy5C5JhQn3Tf2dlFrCkbskUaBwbyu1sGltJ7s9HVKSihPuUJ53d+QuSQUL96GBbnY75y5JxQr3Leu7OXDiLCfPTjS6FElqqEKF+9b1PQDsOnCywZVIUmMVKtyv2FgO91fHTjS4EklqrEKF+9b1PUTAzjFH7pKaW6HCvbOtxOaBLnY6LSOpyRUq3AEu39DLq/udlpHU3IoX7oM97DpwkimvDimpiRUu3K8Y7OX0+CT7jnlXJknNq3Dhfvlg+YwZD6pKamaFC/crBnsBT4eU1NwKF+4b+zro62zlpbeON7oUSWqYwoV7RHD1xX3s2Ge4S2pehQt3gPdsWsOL+46TkmfMSGpOhQz3qy9ew4mzE+w57BUiJTWnYob7pj4Ato8ea3AlktQYhQz3qy7qIwJedN5dUpMqZLj3dLTyrnXdvLjPkbuk5lTIcIfyvPv2UUfukppTYcP9PZvW8NrBk5zwrkySmlBhw/39Q2tJCZ7Zc6TRpUhS3RU33Df3A/D07qMNrkSS6q+w4T7Q087W9d08tftwo0uRpLorbLgDvH+o35G7pKa07HCPiKGI+F5EvBARz0fEnbUsrBauHepn37Ez7Dvqtd0lNZdqRu4TwH9IKV0D3AD8WkRcU5uyauP9Q+V596d2e1BVUnNZdrinlEZTSj/Jlo8D24FLa1VYLVyzaQ3tpRaeeP1Qo0uRpLqqyZx7RGwFPgA8Xov3q5XOthLXbunn8V2Gu6TmUnW4R0Qv8JfAb6aU3vF5/4i4IyJGImJkbGys2u6W7IbL1/Pc3qMcOzNe974lqVGqCveIaKMc7N9IKT041zoppW0ppeGU0vDg4GA13S3LDZevYyrByGuO3iU1j2rOlgngXmB7Sun3aldSbV23ZYD2UguP7TTcJTWPakbuNwG/BHw4Ip7Kvj5Wo7pqprOtxLVD/Ty282CjS5Gkumld7gtTSj8Aooa1rJgbr1jPHz76ModPnmOgp73R5UjSiiv0J1Sn/czVG5lK8P2X6n9AV5IaoSnC/X2XrmVDbzuPvri/0aVIUl00Rbi3tAQ/fdVGvv/SGBOTU40uR5JWXFOEO8CHr97I0dPjPOmlCCQ1gaYJ93985QbaSy088ty+RpciSSuuacK9r7ONm989yMPPjDI1lRpdjiStqKYJd4BPXHsJ+46d4cd+WlVSwTVVuN/yno10tZV46Ok3G12KJK2opgr37vZWbrnmIr717ChnJyYbXY4krZimCneAXxjezOFT43zHA6uSCqzpwv2mKzbwrvXdfOOxNxpdiiStmKYL95aW4LMf2sKPXjvEjn3HG12OJK2Ipgt3gE9/cIiO1hbu/cHORpciSSuiKcN9XU87t10/xIM/2cveI6cbXY4k1VxThjvAHT91BQDbvv9qgyuRpNpr2nC/tL+LT123mft+vJvdh041uhxJqqmmDXeAO2+5kpaA3/nOi40uRZJqqqnD/ZL+Ln715it4+JlRL0kgqVCaOtwBfvWnLueStZ3c/eCznBn3U6uSiqHpw727vZUvfep9vLL/BP/lb3Y0uhxJqommD3eAm989yGc/tIV7frCL7+3wVnyS8s9wz3zx59/D1Rev4Tfue5JdB042uhxJqorhnulub2XbL32QtlILn//aj3jr2JlGlyRJy2a4zzC0rpt7bh9m7PhZ/sV/fYz9xw14SflkuM9y3ZYBvvq563nzyBn+2Z/8kJfe8uJikvLHcJ/Dhy5fz/133MDZiSk+9Sc/5JveuUlSzhju83j/UD9/9Ws3ccXGXn79vie58/4nnaaRlBuG+wIu7e/igX99I1+45d1869lRfuY//x1/9OjLHDsz3ujSJGlBkVKqW2fDw8NpZGSkbv3V0q4DJ/nSt7fzyPNv0dNe4heuH+KfXz/E1RevaXRpkgouIp5IKQ0v6TWG+9I8t/co9/5gF998+k0mphLvvqiXW997MTf9vQ1cu6WfjtZSo0uUVDCGex0dOHGWbz87yjefHmXk9UNMJehsa+F9l/ZzzSVruGbTGq68qJehdd2s72knIhpdsqScqnu4R8StwJeBEnBPSulLC61fpHCf6ejpcR7feZAfvnqQZ/ceZfvoMU6de/siZF1tJTYPdHHx2k4GuttZ11P+Guhpp6+jla72Et3ZV1dba/l7e4nWlqC11JJ9D1pbWmgJ/EUhNZnlhHtrFZ2VgD8GfhbYA/w4Ih5KKb2w3PfMq7VdbXz0vRfz0fdeDMDUVOL1Q6fYOXaC3YdOsfvwaXYfOsXYibO8cegUh06e4/iZiWX311YKSi1BW0sLLS1BBLREEEA598tt04/jgsfZ8lzt5ZeuCquhjNXyS3R1VKFq3Xv79WxZ3123/pYd7sA/AF5JKe0EiIj7gU8CTRfus7W0BJdt6OGyDT3zrnNuYoojp85x4uwEp85Ncnp8svz93ASnxyc5fW6KiakpJiYTE1NTjE8mJqcSE5NTTEyl8tdkYnJqigSkBFMpnV+GRErl5TS9zKzHM9Yvf6/fFN1CVkUVq6KI8r5SMbS31vfkxGrC/VJg94zHe4APVVdO82hvbWHjmk42NroQSYW04r9KIuKOiBiJiJGxsbGV7k6SRHXhvhcYmvF4c9Z2gZTStpTScEppeHBwsIruJEmVqibcfwxcGRGXRUQ7cBvwUG3KkiRVY9lz7imliYj4d8AjlE+F/GpK6fmaVSZJWrZqDqiSUvoW8K0a1SJJqhEvHCZJBWS4S1IBGe6SVEB1vXBYRIwBry/z5RuAAzUsJw/c5ubgNhdftdv7rpTSks4lr2u4VyMiRpZ64Zy8c5ubg9tcfI3YXqdlJKmADHdJKqA8hfu2RhfQAG5zc3Cbi6/u25ubOXdJUuXyNHKXJFUoF+EeEbdGxI6IeCUi7mp0PYuJiKGI+F5EvBARz0fEnVn7uoj424h4Ofs+kLVHRPxBtn3PRMR1M97r9mz9lyPi9hntH4yIZ7PX/EFktw2ar486bXcpIp6MiIezx5dFxONZjX+RXWCOiOjIHr+SPb91xnvcnbXviIifm9E+58/AfH3US0T0R8QDEfFiRGyPiBuLvJ8j4gvZz/RzEXFfRHQWcT9HxFcjYn9EPDejrWH7daE+5pVSWtVflC9K9ipwOdAOPA1c0+i6Fql5E3BdttwHvARcA/wn4K6s/S7gd7LljwHfpnxHtRuAx7P2dcDO7PtAtjyQPfejbN3IXvtPsvY5+6jTdv974H8AD2eP/ydwW7b8Z8C/yZb/LfBn2fJtwF9ky9dk+7cDuCzb76WFfgbm66OO2/x14F9ly+1Af1H3M+Ub9OwCumb823+uiPsZuBm4DnhuRlvD9ut8fSy4DfX8j7DMf+QbgUdmPL4buLvRdS1xG/6a8r1mdwCbsrZNwI5s+SvAZ2asvyN7/jPAV2a0fyVr2wS8OKP9/Hrz9VGHbdwMfBf4MPBw9kN4AGidvR8pX0n0xmy5NVsvZu/b6fXm+xlYqI86bfNaymEXs9oLuZ95++5r67L99jDwc0Xdz8BWLgz3hu3X+fpYqP48TMvMdTu/SxtUy5Jlf4p+AHgcuCilNJo9tQ+4KFuebxsXat8zRzsL9LHSfh/4LWAqe7weOJJSmr4T+Mwaz29X9vzRbP2l/jss1Ec9XAaMAV+L8nTUPRHRQ0H3c0ppL/C7wBvAKOX99gTF38/TGrlfl5yDeQj33IqIXuAvgd9MKR2b+Vwq//pd0VOV6tEHQER8HNifUnpipftaZVop/+n+pymlDwAnKf8pfV7B9vMA8EnKv9QuAXqAW1e639UoD/s1D+Fe0e38VpuIaKMc7N9IKT2YNb8VEZuy5zcB+7P2+bZxofbNc7Qv1MdKugn4RES8BtxPeWrmy0B/REzfM2Bmjee3K3t+LXCQpf87HFygj3rYA+xJKT2ePX6ActgXdT/fAuxKKY2llMaBBynv+6Lv52mN3K9LzsE8hHvubueXHfm+F9ieUvq9GU89BEwfMb+d8lz8dPsvZ0fEbwCOZn+aPQJ8NCIGslHTRynPNY4CxyLihqyvX571XnP1sWJSSnenlDanlLZS3j+PppQ+C3wP+PQctcys8dPZ+ilrvy07y+Iy4ErKB57m/BnIXjNfHysupbQP2B0RV2VNHwFeoKD7mfJ0zA0R0Z3VM729hd7PMzRyv87Xx/xW+qBEjQ5sfIzyGSevAl9sdD0V1PuPKP859QzwVPb1Mcpzh98FXgb+D7AuWz+AP86271lgeMZ7/Uvglezr8zPah4Hnstf8EW9/IG3OPuq47T/N22fLXE75P+0rwP8COrL2zuzxK9nzl894/RezbdpBdgbBQj8D8/VRx+29FhjJ9vVfUT4rorD7GfiPwItZTf+d8hkvhdvPwH2UjyuMU/4L7VcauV8X6mO+Lz+hKkkFlIdpGUnSEhnuklRAhrskFZDhLkkFZLhLUgEZ7pJUQIa7JBWQ4S5JBfT/AUMt6lxs2NZyAAAAAElFTkSuQmCC\n",
      "text/plain": [
       "<matplotlib.figure.Figure at 0x7faa985dd7b8>"
=======
      "image/png": "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\n",
      "text/plain": [
       "<matplotlib.figure.Figure at 0x7fdecdc966a0>"
>>>>>>> master
      ]
     },
     "metadata": {},
     "output_type": "display_data"
    }
   ],
   "source": [
    "tau_start = cfg.TAU_START\n",
    "tau_final = cfg.TAU_FINAL\n",
    "tau_decay = cfg.TAU_DECAY\n",
    "\n",
    "tau_by_frame = lambda frame_idx: tau_final + (tau_start - tau_final) * math.exp(-1. * frame_idx / tau_decay)\n",
    "plt.plot([tau_by_frame(i) for i in range(1000000)])"
   ]
  },
  {
   "cell_type": "markdown",
   "metadata": {},
   "source": [
    "<h2> Training </h2>"
   ]
  },
  {
   "cell_type": "code",
   "execution_count": 18,
   "metadata": {
    "ExecuteTime": {
<<<<<<< HEAD
     "end_time": "2018-06-20T00:22:27.658344Z",
     "start_time": "2018-06-19T14:14:16.674015Z"
    },
=======
     "end_time": "2018-06-19T00:20:28.782001Z",
     "start_time": "2018-06-17T08:06:40.389969Z"
    },
    "collapsed": false,
>>>>>>> master
    "scrolled": true
   },
   "outputs": [
    {
     "data": {
<<<<<<< HEAD
      "image/png": "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\n",
      "text/plain": [
       "<matplotlib.figure.Figure at 0x7faa29f60908>"
=======
      "image/png": "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\n",
      "text/plain": [
       "<matplotlib.figure.Figure at 0x7fd681100390>"
>>>>>>> master
      ]
     },
     "metadata": {},
     "output_type": "display_data"
    },
    {
     "name": "stdout",
     "output_type": "stream",
     "text": [
      "\r",
<<<<<<< HEAD
      "frame_idx: 1400000, (100.00 %)"
=======
      "frame_idx: 5000000, (100.00 %)"
>>>>>>> master
     ]
    }
   ],
   "source": [
    "num_frames = cfg.NUM_FRAMES\n",
    "batch_size = cfg.BATCH_SIZE\n",
    "gamma      = cfg.GAMMA\n",
    "episode = 0\n",
    "\n",
    "losses = []\n",
    "all_rewards = []\n",
    "episode_reward = 0\n",
    "\n",
    "state_traj = []\n",
    "q_value_traj = []\n",
    "\n",
    "episode_state = []\n",
    "episode_q_val = []\n",
    "\n",
    "state = env.reset()\n",
    "for frame_idx in range(1, num_frames + 1):\n",
    "    tau = tau_by_frame(frame_idx)\n",
    "    action = current_model.act(state, tau)\n",
    "    \n",
    "    if episode % 20 == 0:\n",
    "        q_values = current_model.predict(state).data.cpu().numpy()[0]\n",
    "        episode_state.append(state)\n",
    "        episode_q_val.append(q_values)\n",
    "    \n",
    "    next_state, reward, done, _ = env.step(action)\n",
    "    replay_buffer.push(state, action, reward, next_state, done)\n",
    "    \n",
    "    state = next_state\n",
    "    episode_reward += reward\n",
    "    \n",
    "    if done:\n",
    "        state = env.reset()\n",
    "        all_rewards.append(episode_reward)\n",
    "        episode_reward = 0\n",
    "        \n",
    "        if episode % 20 == 0:\n",
    "            state_traj.append(episode_state)\n",
    "            q_value_traj.append(episode_q_val)\n",
    "        \n",
    "        episode += 1\n",
    "        episode_state = []\n",
    "        episode_q_val = []\n",
    "        \n",
    "    if len(replay_buffer) > replay_initial:\n",
    "        loss = compute_td_loss(batch_size)\n",
    "        losses.append(loss.data[0])\n",
    "        \n",
    "    if frame_idx % 10000 == 0:\n",
    "        plot(frame_idx, all_rewards, losses)\n",
    "        update_target(current_model, target_model)\n",
    "        \n",
    "    print('\\rframe_idx: %7d, (%.2f %%)' %(frame_idx, frame_idx/num_frames*100), end='')"
   ]
  },
  {
   "cell_type": "code",
<<<<<<< HEAD
   "execution_count": 19,
   "metadata": {
    "ExecuteTime": {
     "end_time": "2018-06-20T00:27:44.659546Z",
     "start_time": "2018-06-20T00:27:03.750333Z"
    }
=======
   "execution_count": 20,
   "metadata": {
    "ExecuteTime": {
     "end_time": "2018-06-19T01:22:25.779378Z",
     "start_time": "2018-06-19T01:15:08.926461Z"
    },
    "collapsed": false
>>>>>>> master
   },
   "outputs": [
    {
     "name": "stderr",
     "output_type": "stream",
     "text": [
      "/usr/local/lib/python3.5/dist-packages/torch/serialization.py:193: UserWarning: Couldn't retrieve source code for container of type CnnDQN. It won't be checked for correctness upon loading.\n",
      "  \"type \" + obj.__name__ + \". It won't be checked \"\n"
     ]
    }
   ],
   "source": [
    "from common.save_file import *\n",
    "\n",
    "model_dir = cfg.MODEL_DIR\n",
    "var_dir = cfg.VAR_DIR\n",
    "name = \"boltzmann_\" + env_id\n",
    "\n",
    "save_model(current_model, model_dir, name)\n",
    "\n",
    "var_dict = {\n",
    "            \"all_rewards\": all_rewards,\n",
    "            \"losses\": losses,\n",
    "            \"state_traj\": state_traj,\n",
    "            \"q_value_traj\": q_value_traj\n",
    "           }\n",
    "\n",
    "save_variable(name, var_dir, var_dict)"
   ]
  },
  {
   "cell_type": "code",
   "execution_count": null,
   "metadata": {
    "collapsed": true
   },
   "outputs": [],
   "source": []
  }
 ],
 "metadata": {
  "kernelspec": {
   "display_name": "Python 3",
   "language": "python",
   "name": "python3"
  },
  "language_info": {
   "codemirror_mode": {
    "name": "ipython",
    "version": 3
   },
   "file_extension": ".py",
   "mimetype": "text/x-python",
   "name": "python",
   "nbconvert_exporter": "python",
   "pygments_lexer": "ipython3",
   "version": "3.5.2"
<<<<<<< HEAD
  },
  "varInspector": {
   "cols": {
    "lenName": 16,
    "lenType": 16,
    "lenVar": 40
   },
   "kernels_config": {
    "python": {
     "delete_cmd_postfix": "",
     "delete_cmd_prefix": "del ",
     "library": "var_list.py",
     "varRefreshCmd": "print(var_dic_list())"
    },
    "r": {
     "delete_cmd_postfix": ") ",
     "delete_cmd_prefix": "rm(",
     "library": "var_list.r",
     "varRefreshCmd": "cat(var_dic_list()) "
    }
   },
   "types_to_exclude": [
    "module",
    "function",
    "builtin_function_or_method",
    "instance",
    "_Feature"
   ],
   "window_display": false
=======
>>>>>>> master
  }
 },
 "nbformat": 4,
 "nbformat_minor": 2
}
