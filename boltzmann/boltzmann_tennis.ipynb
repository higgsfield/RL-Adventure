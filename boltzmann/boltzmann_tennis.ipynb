{
 "cells": [
  {
   "cell_type": "code",
   "execution_count": 1,
   "metadata": {
    "ExecuteTime": {
     "end_time": "2018-06-19T02:59:28.857744Z",
     "start_time": "2018-06-19T02:59:28.514517Z"
    }
   },
   "outputs": [],
   "source": [
    "import math, random\n",
    "import gym\n",
    "import numpy as np\n",
    "import sys\n",
    "import os\n",
    "\n",
    "import torch\n",
    "import torch.nn as nn\n",
    "import torch.optim as optim\n",
    "import torch.autograd as autograd \n",
    "import torch.nn.functional as F"
   ]
  },
  {
   "cell_type": "code",
   "execution_count": 2,
   "metadata": {
    "ExecuteTime": {
     "end_time": "2018-06-19T02:59:29.057061Z",
     "start_time": "2018-06-19T02:59:28.863217Z"
    }
   },
   "outputs": [],
   "source": [
    "from IPython.display import clear_output\n",
    "import matplotlib.pyplot as plt\n",
    "%matplotlib inline"
   ]
  },
  {
   "cell_type": "code",
   "execution_count": 3,
   "metadata": {
    "ExecuteTime": {
     "end_time": "2018-06-19T02:59:29.513438Z",
     "start_time": "2018-06-19T02:59:29.485545Z"
    }
   },
   "outputs": [],
   "source": [
    "sys.path.append('../')\n",
    "from common.wrappers import make_atari, wrap_deepmind, wrap_pytorch"
   ]
  },
  {
   "cell_type": "markdown",
   "metadata": {},
   "source": [
    "<h3> Set configuration </h3>"
   ]
  },
  {
   "cell_type": "code",
   "execution_count": 4,
   "metadata": {
    "ExecuteTime": {
     "end_time": "2018-06-19T02:59:30.506236Z",
     "start_time": "2018-06-19T02:59:30.502658Z"
    }
   },
   "outputs": [],
   "source": [
    "from common.config import *\n",
    "cfg = Config()"
   ]
  },
  {
   "cell_type": "markdown",
   "metadata": {},
   "source": [
    "<h1> Atari Environment </h1>"
   ]
  },
  {
   "cell_type": "code",
   "execution_count": 5,
   "metadata": {
    "ExecuteTime": {
     "end_time": "2018-06-19T02:59:32.701274Z",
     "start_time": "2018-06-19T02:59:32.485564Z"
    }
   },
   "outputs": [],
   "source": [
    "env_id = \"TennisNoFrameskip-v0\"\n",
    "env    = make_atari(env_id)\n",
    "env    = wrap_deepmind(env)\n",
    "env    = wrap_pytorch(env)"
   ]
  },
  {
   "cell_type": "markdown",
   "metadata": {},
   "source": [
    "<h3>Use Cuda</h3>"
   ]
  },
  {
   "cell_type": "code",
   "execution_count": 6,
   "metadata": {
    "ExecuteTime": {
     "end_time": "2018-06-19T02:59:34.139364Z",
     "start_time": "2018-06-19T02:59:34.134381Z"
    }
   },
   "outputs": [],
   "source": [
    "os.environ[\"CUDA_DEVICE_ORDER\"]=\"PCI_BUS_ID\"\n",
    "os.environ[\"CUDA_VISIBLE_DEVICES\"]=\"1\""
   ]
  },
  {
   "cell_type": "code",
   "execution_count": 7,
   "metadata": {
    "ExecuteTime": {
     "end_time": "2018-06-19T02:59:36.044359Z",
     "start_time": "2018-06-19T02:59:35.864389Z"
    }
   },
   "outputs": [],
   "source": [
    "USE_CUDA = torch.cuda.is_available()\n",
    "Variable = lambda *args, **kwargs: autograd.Variable(*args, **kwargs).cuda() if USE_CUDA else autograd.Variable(*args, **kwargs)"
   ]
  },
  {
   "cell_type": "markdown",
   "metadata": {},
   "source": [
    "<h2>Replay Buffer</h2>"
   ]
  },
  {
   "cell_type": "code",
   "execution_count": 8,
   "metadata": {
    "ExecuteTime": {
     "end_time": "2018-06-19T02:59:37.586740Z",
     "start_time": "2018-06-19T02:59:37.564319Z"
    }
   },
   "outputs": [],
   "source": [
    "from collections import deque\n",
    "\n",
    "class ReplayBuffer(object):\n",
    "    def __init__(self, capacity):\n",
    "        self.buffer = deque(maxlen=capacity)\n",
    "    \n",
    "    def push(self, state, action, reward, next_state, done):\n",
    "        state      = np.expand_dims(state, 0)\n",
    "        next_state = np.expand_dims(next_state, 0)\n",
    "            \n",
    "        self.buffer.append((state, action, reward, next_state, done))\n",
    "    \n",
    "    def sample(self, batch_size):\n",
    "        state, action, reward, next_state, done = zip(*random.sample(self.buffer, batch_size))\n",
    "        return np.concatenate(state), action, reward, np.concatenate(next_state), done\n",
    "    \n",
    "    def __len__(self):\n",
    "        return len(self.buffer)"
   ]
  },
  {
   "cell_type": "code",
   "execution_count": 9,
   "metadata": {
    "ExecuteTime": {
     "end_time": "2018-06-19T02:59:37.749398Z",
     "start_time": "2018-06-19T02:59:37.740075Z"
    }
   },
   "outputs": [],
   "source": [
    "def plot(frame_idx, rewards, losses):\n",
    "    clear_output(True)\n",
    "    plt.figure(figsize=(20,5))\n",
    "    plt.subplot(131)\n",
    "    plt.title('frame %s. reward: %s' % (frame_idx, np.mean(rewards[-10:])))\n",
    "    plt.plot(rewards)\n",
    "    plt.subplot(132)\n",
    "    plt.title('loss')\n",
    "    plt.plot(losses)\n",
    "    plt.show()"
   ]
  },
  {
   "cell_type": "markdown",
   "metadata": {},
   "source": [
    "<h2> Deep Q Network </h2>"
   ]
  },
  {
   "cell_type": "code",
   "execution_count": 10,
   "metadata": {
    "ExecuteTime": {
     "end_time": "2018-06-19T02:59:39.773422Z",
     "start_time": "2018-06-19T02:59:39.634185Z"
    }
   },
   "outputs": [],
   "source": [
    "class CnnDQN(nn.Module):\n",
    "    def __init__(self, input_shape, num_actions):\n",
    "        super(CnnDQN, self).__init__()\n",
    "        \n",
    "        self.input_shape = input_shape\n",
    "        self.num_actions = num_actions\n",
    "        \n",
    "        self.features = nn.Sequential(\n",
    "            nn.Conv2d(input_shape[0], 32, kernel_size=8, stride=4),\n",
    "            nn.ReLU(),\n",
    "            nn.Conv2d(32, 64, kernel_size=4, stride=2),\n",
    "            nn.ReLU(),\n",
    "            nn.Conv2d(64, 64, kernel_size=3, stride=1),\n",
    "            nn.ReLU()\n",
    "        )\n",
    "        \n",
    "        self.fc = nn.Sequential(\n",
    "            nn.Linear(self.feature_size(), 512),\n",
    "            nn.ReLU(),\n",
    "            nn.Linear(512, self.num_actions)\n",
    "        )\n",
    "        \n",
    "    def forward(self, x):\n",
    "        x /= 255.0\n",
    "        x = self.features(x)\n",
    "        x = x.view(x.size(0), -1)\n",
    "        x = self.fc(x)\n",
    "        return x\n",
    "    \n",
    "    def feature_size(self):\n",
    "        return self.features(autograd.Variable(torch.zeros(1, *self.input_shape))).view(1, -1).size(1)\n",
    "    \n",
    "    def act(self, state, tau):\n",
    "        state   = Variable(torch.FloatTensor(np.float32(state)).unsqueeze(0), volatile=True)\n",
    "        q_value = self.forward(state)\n",
    "        q_value = torch.nn.functional.softmax(q_value/tau)\n",
    "        qv = q_value.data.cpu().numpy()[0]\n",
    "        action_val = np.random.choice(qv, p=qv)\n",
    "        action = np.argmax(action_val == qv)\n",
    "        return int(action)\n",
    "    \n",
    "    def predict(self, state):\n",
    "        state = Variable(torch.FloatTensor(np.float32(state)).unsqueeze(0), volatile=True)\n",
    "        q_value = self.forward(state)\n",
    "        return q_value\n",
    "    \n",
    "    def weights_init(self, m):\n",
    "        classname = m.__class__.__name__\n",
    "        if classname.find('Conv') != -1 and classname.find('Layer') == -1:\n",
    "            nn.init.xavier_normal(m.weight)\n",
    "        elif classname.find('Linear') != -1:\n",
    "            nn.init.xavier_normal(m.weight)\n",
    "            nn.init.constant(m.bias, 0.1)\n",
    "        elif classname.find('BatchNorm') != -1:\n",
    "            m.weight.data.normal_(1.0, 0.02)\n",
    "            m.bias.data.fill_(0)\n",
    "\n",
    "    "
   ]
  },
  {
   "cell_type": "code",
   "execution_count": 11,
   "metadata": {
    "ExecuteTime": {
     "end_time": "2018-06-19T02:59:44.617456Z",
     "start_time": "2018-06-19T02:59:40.706314Z"
    }
   },
   "outputs": [
    {
     "name": "stderr",
     "output_type": "stream",
     "text": [
      "/usr/local/lib/python3.5/dist-packages/ipykernel_launcher.py:50: UserWarning: nn.init.xavier_normal is now deprecated in favor of nn.init.xavier_normal_.\n",
      "/usr/local/lib/python3.5/dist-packages/ipykernel_launcher.py:52: UserWarning: nn.init.xavier_normal is now deprecated in favor of nn.init.xavier_normal_.\n",
      "/usr/local/lib/python3.5/dist-packages/ipykernel_launcher.py:53: UserWarning: nn.init.constant is now deprecated in favor of nn.init.constant_.\n"
     ]
    }
   ],
   "source": [
    "current_model = CnnDQN(env.observation_space.shape, env.action_space.n)\n",
    "target_model = CnnDQN(env.observation_space.shape, env.action_space.n)\n",
    "\n",
    "current_model.apply(current_model.weights_init)\n",
    "\n",
    "if USE_CUDA:\n",
    "    current_model = current_model.cuda()\n",
    "    target_model = target_model.cuda()\n",
    "    \n",
    "optimizer = optim.RMSprop(current_model.parameters(), lr=cfg.LEARNING_RATE)\n",
    "\n",
    "replay_initial = cfg.REPLAY_INIT\n",
    "replay_buffer = ReplayBuffer(cfg.REPLAY_BUFFER)"
   ]
  },
  {
   "cell_type": "markdown",
   "metadata": {},
   "source": [
    "### Synchronize current net and target net"
   ]
  },
  {
   "cell_type": "code",
   "execution_count": 12,
   "metadata": {
    "ExecuteTime": {
     "end_time": "2018-06-19T02:59:44.622152Z",
     "start_time": "2018-06-19T02:59:44.619157Z"
    }
   },
   "outputs": [],
   "source": [
    "def update_target(current_model, target_model):\n",
    "    target_model.load_state_dict(current_model.state_dict())"
   ]
  },
  {
   "cell_type": "code",
   "execution_count": 13,
   "metadata": {
    "ExecuteTime": {
     "end_time": "2018-06-19T02:59:45.514468Z",
     "start_time": "2018-06-19T02:59:45.510514Z"
    }
   },
   "outputs": [],
   "source": [
    "update_target(current_model, target_model)"
   ]
  },
  {
   "cell_type": "markdown",
   "metadata": {},
   "source": [
    "<h2>Computing Temporal Difference Loss</h2>"
   ]
  },
  {
   "cell_type": "code",
   "execution_count": 14,
   "metadata": {
    "ExecuteTime": {
     "end_time": "2018-06-19T02:59:47.384230Z",
     "start_time": "2018-06-19T02:59:47.353708Z"
    }
   },
   "outputs": [],
   "source": [
    "def compute_td_loss(batch_size):\n",
    "    state, action, reward, next_state, done = replay_buffer.sample(batch_size)\n",
    "\n",
    "    state      = Variable(torch.FloatTensor(np.float32(state)))\n",
    "    next_state = Variable(torch.FloatTensor(np.float32(next_state)), volatile=True)\n",
    "    action     = Variable(torch.LongTensor(action))\n",
    "    reward     = Variable(torch.FloatTensor(reward))\n",
    "    done       = Variable(torch.FloatTensor(done))\n",
    "\n",
    "    q_values      = current_model(state)\n",
    "    next_q_values = target_model(next_state)\n",
    "\n",
    "    q_value          = q_values.gather(1, action.unsqueeze(1)).squeeze(1)\n",
    "    next_q_value     = next_q_values.max(1)[0]\n",
    "    expected_q_value = reward + gamma * next_q_value * (1 - done)\n",
    "    \n",
    "    loss = (q_value - Variable(expected_q_value.data)).pow(2).mean()\n",
    "        \n",
    "    optimizer.zero_grad()\n",
    "    loss.backward()\n",
    "    optimizer.step()\n",
    "    \n",
    "    return loss"
   ]
  },
  {
   "cell_type": "markdown",
   "metadata": {},
   "source": [
    "<h2>Boltzmann exploration</h2>"
   ]
  },
  {
   "cell_type": "code",
   "execution_count": 15,
   "metadata": {
    "ExecuteTime": {
     "end_time": "2018-06-19T02:59:50.279995Z",
     "start_time": "2018-06-19T02:59:49.126275Z"
    }
   },
   "outputs": [
    {
     "data": {
      "text/plain": [
       "[<matplotlib.lines.Line2D at 0x7fa612f294a8>]"
      ]
     },
     "execution_count": 15,
     "metadata": {},
     "output_type": "execute_result"
    },
    {
     "data": {
      "image/png": "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\n",
      "text/plain": [
       "<matplotlib.figure.Figure at 0x7fa61ccf87f0>"
      ]
     },
     "metadata": {},
     "output_type": "display_data"
    }
   ],
   "source": [
    "tau_start = cfg.TAU_START\n",
    "tau_final = cfg.TAU_FINAL\n",
    "tau_decay = cfg.TAU_DECAY\n",
    "\n",
    "tau_by_frame = lambda frame_idx: tau_final + (tau_start - tau_final) * math.exp(-1. * frame_idx / tau_decay)\n",
    "plt.plot([tau_by_frame(i) for i in range(1000000)])"
   ]
  },
  {
   "cell_type": "markdown",
   "metadata": {},
   "source": [
    "<h2> Training </h2>"
   ]
  },
  {
   "cell_type": "code",
   "execution_count": null,
   "metadata": {
    "ExecuteTime": {
     "start_time": "2018-06-19T02:59:53.004Z"
    }
   },
   "outputs": [
    {
     "data": {
<<<<<<< HEAD
      "image/png": "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\n",
      "text/plain": [
       "<matplotlib.figure.Figure at 0x7f9fecd66860>"
=======
      "image/png": "iVBORw0KGgoAAAANSUhEUgAAAxIAAAE/CAYAAADSafUKAAAABHNCSVQICAgIfAhkiAAAAAlwSFlzAAALEgAACxIB0t1+/AAAIABJREFUeJzs3XmcXFWZ//HP00sSlmBYAggBGgFFQARtYVQcZXEIgqCi/tDRgXHBGYdxFB1oBmQYQEFQUAwDBkQQUUQZFumEkJAAYQkkQMi+EbLv+9Lp/fn9cW93qquruqu6blXdqvq+X69+ddVdzz11q+55zj3nHnN3REREREREslFV7ASIiIiIiEjpUSAhIiIiIiJZUyAhIiIiIiJZUyAhIiIiIiJZUyAhIiIiIiJZUyAhIiIiIiJZUyBRxszsfWY23cy2m9n3ip0eiS8zu9/Mbix2OkRESoWZLTGzs4qdDpFiUiBR3q4AJrn7UHe/o9iJSWZmo81svpl1mtklSfMuNrPXzWybma0ws1vMrCZh/h/MbHU4f4GZfStp/TPNbJ6ZNZnZJDM7ImHeYDO7L1x3jZldHtW6lcjMDjSzP5nZKjPbamYvmdmpCfNPN7OZZrbFzDaa2WNmdmiabR1uZjuS/tzMfli4IxIREZFMKJAob0cAs9PNNLPqAqYllbeA7wJvpJi3J/B94ADgVOBM4EcJ828C6tx9H+B84EYz+zCAmR0A/B/wY2A/YBrw54R1rwOOIcif04ErzGxkrutmqxj5nxiMRWhvYCrwYYI8ewBoNLO9w/lzgLPdfRhwCLAQuCvVhtx9mbvv3fUHfADoBB7NQ7pFREQkBwokypSZTSQo6I4Ka3XfGzZfucvMxpjZTuB0MzvXzN4Ma9iXm9l1CduoC2uD/zmct9nM/sXMPmJmM8Ia5lFJ+/2Gmc0Nlx2XWJufzN3vdPdngeYU8+5y98nu3uruK4GHgI8nzJ/t7i1db8O/o8L3XwBmu/tf3L2ZoPD/QTM7Npx/MXCDu29297nAPcAlEazbpzT5P9jMfm5my8xsrZndbWZ7hMs/b2YXhq8/Hn4W54bvzzSz6eHro8xsYljbv8HMHjKzYQn7XWJmV5rZDGCnmdWY2clm9oYFzd7+DAzJ5BhScffF7n6bu6929w53Hw0MAt4Xzl/r7qsSVukAjs5w8/8EvODuSwaaPhGRfAp/x38Z3pVdFb4eHM47wMyeCq+Xm8xssplVhfOuNLOV4e/wfDM7s7hHIpI9BRJlyt3PACYDl4W1uwvCWV8FfgIMBV4EdhIU1oYB5wL/amafS9rcqQS18P8P+CVwNXAWcDzwZTP7JICZXQD8F0FhfHi4/z9FdEh/T9LdFTP7XzNrAuYBq4Ex4azjCe52AODuO4G3gePNbF/g3Ynzw9fHR7BuJpLz/2bgvcBJBIXrQ4Frw2WfBz4Vvv4ksJggH7rePx++NoI7NIcA7wcOIwiAEn2F4PMdRvC9fxx4kOAOwl+ACxMXDi96p2VxXInrnkQQSCxKmHa4mW0BdhHcWbolg+0Ywbn5wEDSISJSIFcDf0fwO/5B4BTgmnDeD4EVBNfEgwiukW5m7wMuAz7i7kOBs4ElhU22SO4USFSeJ9z9JXfvdPdmd3/O3WeG72cQFPw/mbTODeGyzxAEHn9y93XhnYLJwMnhcv8C3OTuc929HfgpcFJfdyUyYWbfAOqBnydOd/fvEhTIP0HQHKnrDsXewNakzWwNl9074X3yvFzXzUR3/ofpvRT4gbtvcvftBHl2Ubjs8+z+LP6eIFjoet8dSLj7Incf7+4t7r4euI3en+Ed7r7c3XcRXPBqgV+6e5u7/5WgaVI3dx/m7i9mcVwAmNk+BAHK/7h7dz6FTZaGETRVu4Yg+OvPaQQX3r9mmw4RkQL6R+D68Lq4Hvgf4OvhvDaCCqgjwt/bye7uBHdmBwPHmVmtuy9x97eLknqRHCiQqDzLE9+Y2akWdCheb2ZbCYKBA5LWWZvweleK910F7COAX4W12VuATQS15Sk71mYivDtyE3COu29Inh82pXkRGAH8azh5B7BP0qL7ANvDeSTN75qX67qZSMz/4QR9QV5PyLOnw+kArwDvNbODCGq6fg8cFvbjOAV4AcDMDjKzh8Nb5NuAP9D7M0zc7yHAyvBi1mVppgdgZrNtd0foTyRM3wP4GzDF3W9Kta67byK4w/BEBv01LgYedfcd/SwnIlJMh9DzN3RpOA3gVoK7s8+Y2WIza4CgAoigH+B1wLrwN/wQREqMAonK40nv/wg8CRzm7u8C7iYo/A/EcuA7YW12198e7v7yQDZmQSfme4DPuvvMfhavYXcfidkEt5e7trNXOG+2u28maAb1wYR1P8juZlO5rJuJxPzfQBCIHZ+QX+8KOxnj7k3A68B/ALPcvRV4GbgceDshsPppuN0PhJ3Pv0bvzzBxv6uBQ8OmQ10Oz/gA3I9P6BA9GYI2wgTNpVYA3+lnEzXAgfQO2LqFQcmXULMmEYm/VQQVaV0OD6fh7tvd/Yfu/h6CB4Nc3tUXwt3/6O6nhes68LPCJlskdwokZCiwyd2bzewUgjb8A3U3cJWZHQ9gZu8ysy+lW9jMBpnZEIJCb62ZDUnohHYGQQfrC939taT1DjSzi8xsbzOrNrOzCfoAPBsu8hhwgpldGG7/WmCGu3c1p/k9cI2Z7Rt2ov42cH8E62YlbN50D3C7mR0YHtuh4fF0eZ6gHW1Xf4jnkt5D8BnuALZa8FjV/+xn168A7cD3zKzWzL5AcIdjQMyslqD50S7g4vC4Eud/wYIxTarMbDhB06s3w7sT6Xwe2AxMGmi6REQK5E8E14Xh4R3jawnuDGNm55nZ0WHFzVaCJk2d4W/iGWElTDPB72dnmu2LxJYCCfkucL2ZbSf48XtkoBty98cIalQeDpvYzALO6WOVZwh+PD8GjA5fd3Um/jHwLmBMQjOasV27ImjGtIKgsPlz4Pvu/mSYjvUEnYd/Es4/ld39DgD+m6AD9VKCAvmt7v50ruva7jEQMq7dB64kuO09JcyzCYRPOwo9TxAovJDmPQTtcT9EcJFqJOgvklZ4Z+MLBE+b2kTQib7HOsnNlvrxMeA84B+ALSmaPR1K0GRrOzCT4GL5+YR93W1mdydt82LgwaTmVyIicXQjwaPCZxD8xr0RToPgQSUTCCp7XgH+190nEfSPuJngzvQagru0VxU22SK5M12nRUREREQkW7ojISIiIiIiWVMgISIiIiIiWVMgISIiIiIiWVMgISIiIiIiWVMgISIiIiIiWetvZNlYOuCAA7yurq7YyRARiZ3XX399g7sP73/J8qbrhIhIalFeJ0oykKirq2PatGnFToaISOyY2dJipyEOdJ0QEUktyuuEmjaJiIiIiEjWFEiIiIiIiEjWFEiIiIiIiEjWFEiIiIiIiEjWFEiIiIiIiEjWFEiIiIiIiEjWFEiIiIiIiEjWcgokzOxWM5tnZjPM7DEzGxZO39/MJpnZDjMb1cf6+5nZeDNbGP7fN5f0iIiIiIhIYeR6R2I8cIK7nwgsAK4KpzcDPwZ+1M/6DcCz7n4M8Gz4XkREREREYi6nQMLdn3H39vDtFGBEOH2nu79IEFD05QLggfD1A8DncklPoW3c0cKslVuLnQwREYnI9OVb2NrUVuxkiIiUhCj7SHwDGJvlOge5++rw9RrgoHQLmtmlZjbNzKatX79+oGmM1Ll3vMh5v36x2MkQESlpZjbSzOab2SIzS3ln2sy+bGZzzGy2mf0xX2n53J0v8fX7Xs3X5kVEykpNfwuY2QTg4BSzrnb3J8JlrgbagYcGmhB3dzPzPuaPBkYD1NfXp12ukNZs6++Gi4iI9MXMqoE7gU8DK4CpZvaku89JWOYYgqazH3f3zWZ2YD7TNGOF7jSLiGSi30DC3c/qa76ZXQKcB5zp7tkW8Nea2bvdfbWZvRtYl+X6IiJS2k4BFrn7YgAze5ig2euchGW+Ddzp7psB3F3XChGRGMj1qU0jgSuA8929aQCbeBK4OHx9MfBELukREZGScyiwPOH9inBaovcC7zWzl8xsSnjtERGRIsu1j8QoYCgw3symm9ndXTPMbAlwG3CJma0ws+PC6feaWX242M3Ap81sIXBW+F5ERCRRDXAM8CngK8A9XY8bTxTHvnQiIuWs36ZNfXH3o/uYV5dm+rcSXm8EzswlDSIiUtJWAoclvB8RTku0AnjV3duAd8xsAUFgMTVxoTj2pRMRKWca2VpERIppKnCMmR1pZoOAiwiavSZ6nOBuBGZ2AEFTp8WFTKSIiPSmQEJERIomHIvoMmAcMBd4xN1nm9n1ZnZ+uNg4YKOZzQEmAf8Z3tEWEZEiyqlpk4iISK7cfQwwJmnatQmvHbg8/BMRkZjQHQkREREREcmaAgkREREREcmaAgkREREREcmaAgkREREREcmaAgkREREREcmaAgkREREREcmaAgkREREREcmaAgkREREREcmaAgkREREREcmaAgkREREREcmaAgkREREREcmaAgkREREREcmaAgkREREREcmaAgkREREREcmaAgkREREREcmaAgkREREREcmaAgkREREREcmaAgkREREREcmaAgkREREREcmaAgkREREREcmaAgkREREREcmaAgkREREREcmaAgkREREREcmaAgkREREREcmaAgkREREREcmaAgkREREREcmaAgkREREREcmaAgkREREREcmaAgkREREREclaToGEmd1qZvPMbIaZPWZmw8Lp+5vZJDPbYWaj+lj/OjNbaWbTw7/P5JIeEREREREpjFzvSIwHTnD3E4EFwFXh9Gbgx8CPMtjG7e5+Uvg3Jsf0iIiIiIhIAeQUSLj7M+7eHr6dAowIp+909xcJAgoRERERESkzUfaR+AYwdgDrXRY2jbrPzPaNMD0iIlICzGykmc03s0Vm1pBi/iVmtj6hGey3ipFOERHpqd9AwswmmNmsFH8XJCxzNdAOPJTl/u8CjgJOAlYDv+gjHZea2TQzm7Z+/fosdyMiInFkZtXAncA5wHHAV8zsuBSL/jmhGey9BU2kiIikVNPfAu5+Vl/zzewS4DzgTHf3bHbu7msTtnMP8FQfy44GRgPU19dntR8REYmtU4BF7r4YwMweBi4A5hQ1VSIi0q9cn9o0ErgCON/dmwaw/rsT3n4emJVLekREpOQcCixPeL8inJbswrAZ7F/N7LDCJE1ERPqSax+JUcBQYHzYbvXurhlmtgS4DbjEzFZ03ao2s3vNrD5c7BYzm2lmM4DTgR/kmB4RESk/fwPqwicEjgceSLWQmsCKiBRWv02b+uLuR/cxry7N9G8lvP56LvsXEZGStxJIvMMwIpzWzd03Jry9F7gl1YbUBFZEpLA0srWIiBTTVOAYMzvSzAYBFwFPJi6Q1Az2fGBuAdMnIiJp5HRHQkREJBfu3m5mlwHjgGrgPnefbWbXA9Pc/Unge2Z2PsHTATcBlxQtwSIi0k2BhIiIFJW7jwHGJE27NuH1VcBVhU6XiIj0TU2bREREREQkawokREREREQkawokREREREQkawokREREREQkawokREREREQkawokREREREQkawokREREREQkawokREREREQkawokREREREQkawokREREREQkawokREREREQkawokREREREQkawokREREREQkawokREREREQkawokREREREQkawokREREREQkawokREREREQkawokREREREQkawokREREREQkawokREREREQkawokREREREQkawokREREREQkawokREREREQkawokREREREQkawokREREREQkawokREREREQkawokREREREQkawokREREREQkawokREREREQkazkFEmZ2q5nNM7MZZvaYmQ0Lp3/azF43s5nh/zPSrL+fmY03s4Xh/31zSY+IiIiIiBRGrnckxgMnuPuJwALgqnD6BuCz7v4B4GLgwTTrNwDPuvsxwLPhexERERERibmcAgl3f8bd28O3U4AR4fQ33X1VOH02sIeZDU6xiQuAB8LXDwCfyyU9IiJSesxspJnNN7NFZpa2QsnMLjQzN7P6QqZPRERSi7KPxDeAsSmmXwi84e4tKeYd5O6rw9drgIMiTM+A1DU0ct2Ts9POv2nMXOoaGvvcxorNTdQ1NDJp/rqs9r21qY26hkYefX1F97Sv//ZV6hoaU+7z/pfeoa6hkea2jl7zdrV2UNfQyIOvLOmedsbPn+Nr974KwK3j5lHX0MjHb54IwE8a53TvY9qSTdQ1NHL27S/02u7yTcGxvbBgfcbH9dGbnqWuoZGZK7b2udw1j8/kPVf1nbe5enXxxu783NXaM99++MhbHHft00yct5a6hkZWbdnFwrXbqWtoZOqSTSm3d9PYnufD60uDvJu/Znuf6ejaV7KnZ62mrqGRddub+1y/rqGR28YvAGDN1mbqGhoZP2dtn+sAHHlVI9c8PrPf5aYv30JdQyNzVm3rMX311l3UNTQyIWFfre2d1DU0cu/kxf1udyBefnsDdQ2NnPDf4wC454XF1DU00tbRyTm/mswX73q5x/Lbmtu6P+O6hkZ+OmbugPf93Px11DU0snxTU4/p//bQG3zohvH9rr9+ewt1DY2Mmbm632UrlZlVA3cC5wDHAV8xs+NSLDcU+A/g1cKmUERE0uk3kDCzCWY2K8XfBQnLXA20Aw8lrXs88DPgO/3tx90d8D7ScamZTTOzaevXZ16IHYj7X16Sdt5vXui/sPTmsi0A/DUhIMjEsrCw8ruX3+meNnnhhrTL3/nc2wBs29XWa97GnUHcdvfzu9O7eMNOXlwUbO/OScG6K7fsAuCeybv3+dSMoNAzf23vwvDrSzcD8OgbmR/b6q1BoXj83L4Lun+YsozOtGdANJ58a1X366486vLoGytoau3g4deWAzBjxdbu/G+ckbog+Jvne54PjTPWADB5Yd/naNe+kv1hyjKAfgMRgDueXQjArJVBgPbwa8v6Xcd99z76Mm52cBzJwXBXMPjw1OXd03a2BDclR01a1O92B+LxN1cCsCPcT9dx72rrYO7qbUwLz8kuq8JzusvoDL6z6fwl/A5PX76lx/TGmavZtLO13/UXhN+hP0xZOuA0VIBTgEXuvtjdW4GHCe5WJ7uB4HrSd5QtIiIFU9PfAu5+Vl/zzewS4DzgzDAY6Jo+AngM+Cd3fzvN6mvN7N3uvtrM3g2krcJ399HAaID6+vo8FzeLw9PHUQPfppdlVkmMFOsM06ldNg4Flie8XwGcmriAmX0IOMzdG83sPwuZOBERSS/XpzaNBK4Aznf3poTpw4BGoMHdX+pjE08SdMYm/P9ELukpF4blvg3LfRvlKN9lz0rO9oIdegXncSUysyrgNuCHGSxbsDvXIiKSex+JUcBQYLyZTTezu8PplwFHA9eG06eb2YEAZnZvQke5m4FPm9lC4KzwvYiIVI6VwGEJ70eE07oMBU4AnjOzJcDfAU+m6nDt7qPdvd7d64cPH57HJIuICGTQtKkv7n50muk3AjemmfethNcbgTNzSYOIiJS0qcAxZnYkQQBxEfDVrpnuvhU4oOu9mT0H/MjdpxU4nSIikkQjW4uISNGEjxC/DBgHzAUecffZZna9mZ1f3NSJiEhfcrojIdHKR+dR9UftqVAddCupI3DROvRXUB6XO3cfA4xJmnZtmmU/VYg0iYhI/3RHIoai6LCr/qjFUcn5XqgO/pWcxyIiInGiQEKkxOiRviIiIhIHCiRERERERCRrCiRERERERCRrCiRiJB8NVtQKJllhMiQfo5R3bztmn2nRRrZWb2sREZGiUiARQ1F0Jq3kEZaLqZLzvVCHrlHbRURE4kGBhEiJUT28iIiIxIECCRERERERyZoCiRjJx2M91Y68p3IYkC5uj38t2nh08coGERGRiqNAIo4iaANuGrarKCq5/X6hDr2Cs1hERCRWFEjkU5Y1pgOtYO1rvahrbSvrDsfAjzWfuRSPT8ATXuU3RenO4YLkQ4470V0TEREpZwokREREREQkawok8inLJhgDbbHR13pRNwOprCZTAz/W8s8lS3iV36NNdw4XJI9z3ImaYYmISDlTIBEjGpAu/wrW2Tqf247ZZ1qs5m4xywYREZGKo0AinwZY0sm2EjPVbvJVE6o+En2rnArolGddfvaUtKuC5rH6SIiIiKSlQEKkxFRWMCciIiJxpUAinwr1OMzC7CbcV+XUuVfS/YXsFS5vitrPQH0kRERE0lIgESP5aAahuuueClWbn98B6fK37QEp2oB0ccsIERGRyqJAIoaiqMVURWiRVHDGF25AugrOZBERkRhRIJFPWVeYDqyGVQPS5UsuA9KVez55ild52pMGpBMREYklBRIiIiIiIpI1BRL5lHULjIE12dCAdPmSy4B05Z5PluJVnvakAelERERiSYFErETfDkJNK3oq3IB0+dtR3D7TYiUnZtkgIiJScRRIRCDt02OKOCBdvqpry7/tf6KBDEhXKVXQvfMmX0euAelERETiSYGESImprGBORERE4kqBRD5pQLoSV0nHmi0NSJfR6jqFRESkjCmQiJH8NINQ7XUxVNKAdMVKT9zyQUREpNIokIihKAbcqqw7B5nLd9mzkmugCzcgXWH2IyIiIn1TIJFPWZZaB1rI1YB0+RLPY41HqhIHpMtvitI/y6AAOaHO1iIiImkpkChTlVXgFxEREZFCyymQMLNbzWyemc0ws8fMbFg4/dNm9rqZzQz/n5Fm/evMbKWZTQ//PpNLeoolba1jlk0wBtpiQwPS5UslHWu2Egeky28+qbO1iIhIPOV6R2I8cIK7nwgsAK4Kp28APuvuHwAuBh7sYxu3u/tJ4d+YHNNT0vJxD0FNK3oqh/xIO25JkRTt7le8skFERKTi5BRIuPsz7t4evp0CjAinv+nuq8Lps4E9zGxwLvsqScUckC5PKqvJ1EAGpCuc4tZ2pxqQLj8J6h03FfDA1UeiIMxspJnNN7NFZtaQYv6/hHe4p5vZi2Z2XDHSKSIiPUXZR+IbwNgU0y8E3nD3ljTrXRY2jbrPzPaNMD2VTQWYsqWPNqB8KA9mVg3cCZwDHAd8JUWg8Ed3/4C7nwTcAtxW4GSKiEgK/QYSZjbBzGal+LsgYZmrgXbgoaR1jwd+BnwnzebvAo4CTgJWA7/oIx2Xmtk0M5u2fv36fg8sFjQgXYmrpGPNlgaky2h1nUKZOAVY5O6L3b0VeBi4IHEBd9+W8HYvFEeKiMRCTX8LuPtZfc03s0uA84AzPaHxtpmNAB4D/snd306z7bUJy98DPNVHOkYDowHq6+vL8iKSj2YQZZlRJSCf/Rji1lxGA9JJjg4Flie8XwGcmryQmf0bcDkwCEj5AA8RESmsXJ/aNBK4Ajjf3ZsSpg8DGoEGd3+pj/XfnfD288CsXNJTLlSLmT/57uNRyM8ubqeJBqSTfHL3O939KOBK4JpUy5TknWsRkRKWax+JUcBQYHzYCe7ucPplwNHAtQmPdj0QwMzuNbP6cLlbwg50M4DTgR/kmJ6iSFs0zXZAugFWsfY9IF20BWd1ts5wzXxmUyw+Ak/xKk970oB05W4lcFjC+xHhtHQeBj6Xaoa7j3b3enevHz58eIRJFBGRVPpt2tQXdz86zfQbgRvTzPtWwuuv57J/SU/lFxEpEVOBY8zsSIIA4iLgq4kLmNkx7r4wfHsusBARESm6nAIJ6Ue2A9INsM1G3wPSRdsORJ2tM1yz7LNJna0zWr3sz4PcuXu7mV0GjAOqgfvcfbaZXQ9Mc/cnCZ7udxbQBmwmGJ9IRESKTIFEjOSjg27cBi8rugJlRz6zPW7Ny4p1junULh/hYKRjkqZdm/D6PwqeKBER6VeU40hIsgEPSJddNaYGpMuXgQxIV8ia+mJWd6cakC5Pe0raVUGPWn0kRERE0lIgkQcDLd9lW+bIZDf5KseUbIuNhIRnUhAv1GeZ1baLWDhNlWdFe/xrAfeVa8ymJk4iIlKOFEhEILlpR6EKVn0/ral4+461hIRn0iQn03yslCZklXKcyXI97ArNNhERKXMKJPJJI1uXuHgeazzKpMXvbF2QoEZ3IkRERNJSIBFHWRY+4lGwLA35zqvKHpCuMClS4VxERCQeFEjkU9YD0uUhCRFvU52tM1wzn09tikU7mYQB6fLdjC7dgHSFyAY1aRIREUlLgcQAxaMwl15lFfiLL+ang4iIiEjkFEjkU9YD0kW/m6ibgaiPRIZrln02Fb+PRGF2nuPqZX8eiIhIJVMgESOl0LSp1BXqTlJ+B6SLF939EoHNO1uLnQQRkYJTIBGBtMWoAQ9IF9H+86CyCo0DGZCucIpb212486D3gHQFPHD1kZAM/O2tVZx8w3jeWLa52EkRkRK3rbmN1vbOYicjYwok8mDgg5hlV+rIaEC6PJVkSrXFRuKThfI7IF3+SpAakK7w+9WAdNKXVxZvBGDOqm1FTomIlLoTr3uGb/9+WrGTkTEFEgPUVyFGA9LFV2JgFemAdANNUImJ+0MG8kUD0lWe0342kb/76bPFToaIVKDnF6wvdhIyVlPsBJS1MqyFVGfr4otH87LdeVOssTkKkg+6E1GxVmzeVewkiIjEnu5IxFC2hQ/VdmYu71lVwJJj3IK6Qh26CuciIiLxoEAin7IttebjqU3ZLt9PVBKP2vBCieeAdPH4CLJrIpbTnjQgnUjJmDR/HQ9OWVrsZIhIgahp0wDFvXwQ9/SVm6AwrapyEals//y7qQB8/e+OKHJKRKQQdEciAmlrHbMtV+ahHBr1JuPWnCa/NCBdehqQLqPVy/48EBGRSqZAIk5i0LRJolFZA9JV1n5FRLI1Y8UWlmzYWexkiEROgUQ+DXhAuuyqMaPst9BfAVh9JPpW0AromA1Il6/a994D0hWQ+kiISATOH/USn/r5c8VORqxsb27jotGvsGxj04DWb2nvoKNTP7LFpkAiDwY+iFmW+8nHRqPcd8ylG5AucXKhPsustl3Ep57Ga0C6wu1YA9IJQHtHJ1uaWvOy7c5Op66hkdvGL8jL9ktBZ6ezcUdLsZMxYDNXbOVLd79Mc1tHsZNSEibMXcuUxZu4bfz8Aa3/vmtbSYesAAAgAElEQVSe5uu/fTXiVEm2FEgMUF+FmHgMSJfnJ+nkdev5k5gt6fKo5zIZbjeHNMVRuuPRgHTFWV+K57ZndhdyfvzEbE66fnxeCortYc3qXc8tinzbpeL2CQv48I0TWLetudhJ4Z0NO7P+nH/8xCymLtnMnNUa4bxQXn57Y162O3HeWsbNXpOXbZcbBRL5VIa1kOpsXXzxaF6WmDf5TU/6AekKQHciKt4dE3cX7J96axUArR2dBdv/xh0tXPfkbNpS7PNvb62KpNC9cUcLn//fl1i9NdpB+L589yu89+qxzF29jSmL+y/wTZi7DoDbxi/IOC2zVm5l5oqtOaUzWXNbB6f//Dl+8OfpaedPW7Ip7fqv5KlwWy5eXrSBJ8PvUqJvPTCVu59/O+vt1TU00toe7XfyG/dP4zsPvh7pNsuVAokIpC3YDbSPRBEHpOtvU/EoxBbKAPpIFLDgWNwyaoo+EnlKUa8+EoXMZN2JkCK7/qk53P/yku7a0e8//CZ1DY3sbGnn3//0Jv94b+5NO/7vjZW8uWwLv538Ts7bSvTakk20dnRyzq8mc9HoKRmv9/DU5d2Pke3Peb9+kc+OenGgSUypK1B8ceGGlPMbHp3BF+9+hRWbU7ftv3XcwJrqVIqv3vsq3/vTm93vu34mJ8xdx81j5w1om1t3tUWQMhkIjSORBwNuV59loSOT3eSrHFPOFa1R9JHIZwlSfSQKv1/1kahsG3a08MT0VQWpRkk+r7uaPHVNf3x6UJPbGU5YvbX4zYDyYUtTfAuGc1dvB2BHS3uRU1LaKquFQ/lSIDFAffdPyNM+3XsU5IqRhkz2HWeJ6c5kxOSM+0iUaoakoT4SPamPRGX7j4ff5KVFu5urdHQ4m3a2st9egyLbh4LN0qfPUCqRmjblU5Y/Kvn4EdKAdLnI4VjL/oqiAekyWr3cT4MKkdxs4uQbxvOhG8azM4Ma6S/e9TInXjcuX0kTKXnlWNHi7tz13Nus3BJtv6M4UiARI/n4MpXh97M05LNpU962PDDFS0/cckIqTVNr/0/1mbZ0M9uaM28Co7M6/iqrr2D+RFnRUsxKm/f/+GnqGhp5fsH67mnLN+3iZ0/P49sPTCtewgpEgUQ+Faqz9cB2k3pb/RSAK+sHdCAD0lVITX0RB6QrKDVpEorbL0niq7Lu0JePddubqWto5Ln56yLZ3q7wMcET5qztntYR/mg0tZZ/PxoFEnkw8EHMsrtaZdTZOk9XwHL++Yz/gHT5L9Wos3VP6mwt5WZXawct7dmPh/HI1OU8o+frp6SveWnoelzw719ZWuSUlAcFEgPUV4fc/HW2Tnqfn91kpFQrWjMphA9sQLpSzZHU1Nm6J3W2llTiEiAu2bCTX01YmNX38/3XPs0nb3ku631d8egMLtXz9cvSiws3sHDt9oLvN4qfx5h8FbtV0rUy50DCzG41s3lmNsPMHjOzYeH0U8xsevj3lpl9Ps36R5rZq2a2yMz+bGbRPQaj2OJ2Zkegsm7lxvNY4/H7lPj0MA1Il3b1eJ5CkqWoB7uCYFCz15f2HtQssQDS1tHJS4tSj2WQ6OLfvcbtExawdltLVmlYE4MRpKOyeWdryumL1u3g5bf7z8NspPsNfmPZlkj3U2hf++2rfPr2FyLZ1tptzSzduLP7vbtz67h5vL50c7/r3jt5MWNnrk45r7mtg87OWFwEM5LNuEfuXlLH1iWKOxLjgRPc/URgAXBVOH0WUO/uJwEjgd+YWarHzf4MuN3djwY2A9+MIE3xMNA+ElmWXqKMfDUgXaK4D0hXzFJqqgHp8rSnXgPS5WlHKXee4+qV9HUpYwvX7Yh8m1c/NosL73qFV97eSEt7R48Cx+adrfzfGyv4xTML+h1PYUdLOy1tQaDjOL95/u0Bt/1es605o4JeMaW73p18w/iU08+67Xm+ek/ug/alsmFHC1t3teHu3QMGRmXdtmbueWFxxtf3FZubuHfy4rTzb3tmPq8mjS4+f812Zq3MfFRwd+fR11ewK4OHDJz602f55K3Pdb9ftqmJOye9zYV3vdzvujc2zuVfH3qj1/SOTufYHz/NdX+bnXGao/T4mytZvin1IIRR+OLdr/Ce/xrT/f5914wtiTsbOQcS7v6Mu3f1JpkCjAinNyVMH0KKS7IFv5xnAH8NJz0AfC7XNBWbBqQrbZH0kYj/d79P6iPRk/pI5JeZjTSz+eGd6YYU8y83sznhne9nzeyIYqQz2a7WDprbMutn8MT0ldQ1NHbXnM9eFRTgvnLPFC7/81s9lv33P73J5Y+8RePMVT2mPzJteffrjjQ1lzeNnccl4ajQ9734DvPX9N1UpbPTu4/hqRmrUxb0mts6mLdmW8o7KNlavqmJ9duDOyebdrayIIumNG8s28yRV43h532MHO0eHE9dQyNX/HV3vq7e2vMxnO3h6NWbd7byxrKBBU//eO+rfPSmZ/nTa8v5Tg7NvZrbOnoVUP/tj2/wkzFzWRQGsR2dzrVPzOJHf3kr5R2yz935Mjc2zmXS/HUpC7t3TFzE/0saXfzsX77Aeb/uPSr4qIkLe/SfWbG5CXfnlcUb+eFf3uKGxjkZH1tXvqf6vW7vCCb+7a1VzFm1Le02us6XCXODzsy/f2Upk+b1DJY7HXa2tDNu9hpeWLCeRet2MH/NdiYvXM91T87mQ2GgOXvVVt7M4s7RLU/P49LfT2P2qq18/8/T+cQtkxj9wtsAjJm5mg07dt8FnDB3Leu2N/PrZxcyPux4/c6GnTwydXmP/Gzv6OSpGat4fekmOjq9exvJQXxLeycbdrSyassu6hoa+e8nZsUysIh6QLpvAH/uemNmpwL3AUcAX08ILLrsD2xJmL4CODTiNHV7bv46LvndVO74ysmMmriQBWt38NH37M/7Dh7KkQfsxceO2r972bqGRuqP2Jc9BlUzbM9BXPKxI7j6sVnd8997zdju17NXbeWvr6/ktXc2csDeg1m6MfgSN85czUenLGX55iaqzJiyeCOn1O0HwKnv2Y9fT1yEAZedcTTfuH/3I8JeXLSBXz+7kG9+4sie6V+wjlETF/Va/o1lW3hwylLetUctC9Zs5/Hpqzh02B5A8HjCaUs2MXRIbffyD7y8pMd2P37zxO7Xx1w9tse8sTNX8+KiDexq7eDmC0/kB+EF7/Hpq9jZ2sHUJZv40odH8Hfv2Z9xs9dw1PC9uWnsPL53xtFs2NnKH19d1r2tO55dyF+mLec9w/fi2IP3oW7/PfnxE7MZOriGey6u717uH++dwn57DWbP2mrWbW9m0vz1HDV8LzbsaO1+nvt3P3UU//tc8GU+Yv89WbqxidOOPoCPHrU/T0xfydEH7s28Ndv55mlH8uepy7nm3OP45v1T2Z7w3PfRLyzm40cfwIeP2JeRv9x9O7fre3rT2Hndn+WUxRv5vzdW8P5378M5v5oMwFXnHNu9zvHXjuObnziS3zwf1AiNmrSIddubufazx/OpWyexYUcrR+y/J8//5+k9OiqOm72GjTtaOfrAvXlk2nJeDJsxfP23rwHwsaP2Z9ietaza0kxbRyebd7ayx6BqIHhSxJfufpmpS4Ifn2fnreOE/x7H5CtOp8qMD17/TI/P8ksfHtH9uq6hkZMOG8babc2s3trMx47anxH77sGZ7z+IKYs3MqgmqGMYNXERt46bzyffO5wffPq9fPv3wXk3Ye46Rk1cyKnv2Z8v3f0KEIzAe8bPn+NfPnUUV/3fTK6/4HiWbWxizbZmnpi+imvOfT+NM1djwKivfoh//9ObnH38QUxeuIGZK7fy/oP3YfnmJg4cOjhtE4G6hsbu12cnfGZ1DY1c99njuGnsPFpSXGR3tXZw5aMzaO/s5Pn567li5LFsaWpjz0HVbNzZyt3Pv91j+StHHsvWXW00hrfXL/vjmxw6bA9OPnzfHj/k594xmUOG7cGRB+zF9886hvFz1jJn9TaeeHNVj2YjLy3a2J32n3/pg9w7eTFtHZ28vT649X/cu/dhzbZmvlx/GHc//zbfO+NoLv+H96XMg3JjZtXAncCnCa4BU83sSXdPLK28SXCHu8nM/hW4Bfh/hU9tT5+4ZRIAX/hQcNl6Zs5avvZ3R3D382/zqfcN59iD9+le9j8eng4ENef/eOrhzEso4DfOXM267cH50ul0/w4s37S78Dtr5VZ+88LuGueTru9dA/+XaSu6X//ptWVc/1SQhf9z/vF84UOHcspPnmVXWwdTrz6re7n/emwmD09d3mM7T81YxXknHgLAnFXb+Mwdk3vta8OOFsbOXM39Ly/h3os/wrl3TObnX/pg9/x0oz535Vmir556OH9/zAG9Ckn1N05g084WFt90Lmf+4rnu78uoSYv40dm9vx/PzF7DpQ++zr+fcTQAjyTkx0dvmsgT//ZxLrjzpR7Xjy5Lbj63+/WKMN+3hwXTeycvZmdLB5947wHdv/Fdmlo7mJJU059o2pJN/HriorTzn5i+svvcmH/jSAbXBL/v23YF+dfh3uPYIbhG/eLLQV7PWrmVB19Z2l0Y/ecwiHyp4QxmrdzKkNpq7kk4b86+/QVOOXI//usz7++e1tbRSW317nrlnz+zgFff2cT3zjym+/cd4NdfORmAdVk0ofvoTRM5aJ/BKYOfH/5ld6CX6hyDoAyS6u7EP98/tcf7j/xkQr9p+dnT87gr4XN/MymAfGTqck4/9kCGDx3cPa3rPHkm4YlMPx0zj/XbW7hn8jvsFV6PIRhl/pSfPNtrv1c8OoNpSzdxyxeDz+zXExfxq2cXAvAPxx3EM3PW8tZ//0PKNCce1wOvLOX4Q97Flz9yWL/HWkiWSXRjZhOAg1PMutrdnwiXuRqoB77gSRs1s/cT3G34e3dvTph+ADAlbNaEmR0GjHX3E1Kk4VLgUoDDDz/8w0uXZt/bPrEQksoetdXdj/GKg++deQx3hCdbLg551xDW72ihrSO3SPZvl53GZ0f1rr0odVeOPJafPT2v+33XFzsKl3ysjvsTArepV5+V0Q9eLs7/4CG0d3YyZubAb7V//uRDeezNlRGmqqeaKqO9gG1BL//0e7lt/IKct7Pk5nNZunFnj1v2Xb53xtHc0UeBYSD7Gggze93d6/tfMh7M7KPAde5+dvj+KgB3vynN8icDo9z9431tt76+3qdNy/4Z7v1dJ/rzsws/wJWPzqS22lj4k8/kvL0uJ454FzNWZN4MJdk3TzuS3774DgBnvf9AJsxN3/zpoo8cxs0XngjATxrncM/kd/rc9rknvpvGGT3btF91zrHcNHZej2lLbj63z/yorbbu69TB+wzpDsZ/8/UP96rx7/p+ZJO//3b6Udw56e2U8xK/b1//7atMXhgEc2cceyAT52XfVKxrex+/eWKPQcmSv9eJ6Z9z/dnsOSio3z379heYv3Y7T3//E4z8Zc9C9oFDB/NaGAymO/799xrExp2tacs1j/7rR7nwriBImHLVmRz8riG9tnXZ6UczatLu37Sua+VZ7z+Iey/u+ycmivN+yc3ncsNTc7rP23zo+jxWbdnFx26eyMmHD+Ox7348su9tlw+OeBdPXHYaAD985C0efWNFj/kvXnk6p/2sd5Cd7PwPHsIdYUCXiyivExndkXD3s/qab2aXAOcBZyYHEeH6c81sB3ACkPjLvhEYZmY14V2JEUDK0ou7jwZGQ3CByCTd2YpTEAFBLUEUVm2NpkNdufaPGMgjEDPVGtFnmNU+2zuLst9sFDKIgOi+SxDUGKfcRwl2kouJQ4HEKvEVwKl9LP9NYGyqGUkVTlGlLytXPjoTIOeKm6i1J3wHZmbRLr6Q0v0uLE6ojS9nqep1B9qSZWOazueSWlczq8SmSpKZKJ7aNBK4Ajjf3ZsSph/Z1bk6bM96LLAkcd0w6JgEfDGcdDHwRK5pEhGR8mNmXyO4831rqvnuPtrd6929fvjw4YVNXMwllke72pxnIpunzsRdDJuXp1VG2S4E/R1eSBj5upxE8dSmUcBQYHz4qNe7w+mnAW+Z2XTgMeC77r4BwMzGmNkh4XJXApeb2SKCPhO/jSBNIgOmH3CRgloJJDb6TXln2szOAq4mqLQqiWrDu55L3Yym2HTzTCS1fAWb89Zs55/ue423lpf2I4JTybmzdVf/hhTTHwQeTDPvMwmvFwOn5JoOkaiUUq1VvsTxyRBStqYCx5jZkQQBxEXAVxMXCPtF/AYY6e4De7ZpEST2vSpVf0p4YEalKNZdmFS/ujkPhpm2SfLuY1TlWeHyYHNT6iZnpXzJ1cjWItJLCf+mSYkJ+8ddBowD5gKPuPtsM7vezM4PF7sV2Bv4S3jn+8kiJbdkDbSgsj3N05dKkX7XJBNRPOSmkkT9+FcREZGsuPsYYEzStGsTXvf5wA/p319eX97/Qnn20KvZP20RKqfGPB93gos7cGlpenDKwM7TTKR6DG6p0x0JkSSVctESkcrR3Fb8AkziWEySmU0FePpSukte4qNfMzVr5dZe4/KUknw3Mbo0h4EL40p3JESSlHJbxS651myVQx6ISG7ac3hs8tosBi3rkvi7sz4Pj+Hs63ft+w+/yePTVzHn+rN7PF0nm5G3k3V0elaPnk5M3urwse1f++2rvZbb3NTKtuY29kkYaDb9NqP7Md+Zopnbum3NDK6pZuPOFvbba1DKkbJLSeKYH3E0a9VWpi/fwkmHDSt2UrrpjoSI9KI4QqRyPTx1Oe7OyF+lHm042ZoUYxXd91Jug4h1JDxa6uaxqTutf+fB7AccTOfx6asAOO7acT2mr9g88ILlJb97jXVpHrXb1NrO1l1tPaadeN0zTJizlg07WnrNS9TW4Zx43TMDThfA3NXberzva3TuLol3KMbMXM19L77DKT99llN+OoEzfvF8ytHWc3HDU3N4bn7+n63wx1eXsaUpfX7HyeL1O/ncnS8VOxk96I6ESBkqp2e/iwg5jWo9ELeNX8CidTsyWvb1pZvznJreBjLy8AMvL4k+IWlc8/jM7tGxE906bh777zWY65+ak3K9b/0+8+AokzxI16Ttmsd3NzM75afPZrxPgAlz1zJh7tru9y15avefzxGtu0Q9gnUmkke1BvjELf2Pap2orqGR+//5I3zqfQdGlawBUyAhIiIiPfx6Yvbt4+NuV1tHwfb1hympH5t756TS7T8g8XLJ76ay5OZzi50MNW0SSabKfBEREZH+KZAQSaKOxhqQTkRERPqnQEJEelEYISIiIv1RIBFjcasUjlt6opLP40redpSP4ku7T1x3FJJEmR3KWxERkYACCZEk6iMhIiIi0j8FEjEWtwJt3NITleTjirLCOXnblnYM0Qj3GcU+yqzSPcpzV4/WFRERCSiQkIypRUflKEQTrELSuSsiIhI9BRIiZUi15iIiIpJvCiQkY6rULR3qENxTud1hERERiQMFEiJJVJkvIiIi0j8FEjEWt0rlSqnlLofDzPUQyiEPEpXb8YiIiMSBAgkR6UUFbxEREemPAgmRMqRAQERERPJNgUSMxa2DaLxSkz/qI1F+KuXcFRERKSQFEiJlSAVnERERyTcFEnEWs9JgpTSXyedxxu0uUzqlks5MVcq5KyIiUkgKJESkFxW8RUREpD8KJGIsfmW5+KWo5BQoCyvlUb2ZKrc7LCIiInGgQEIkiTpbi4iIiPRPgUSMxa1WOWbJiUzycUV5nL22Hd2m0+8zgr2U3Ucd6WdadrkjIiIyIAokYkzlFRmoXM+dcjv3yuxwREREYkGBRIypiU1h5DOfi/EZGjpxkkWZI6YvpoiICKBAItbiViscs+TkTT7LiXH7TCuFsl1ERCR6CiREypCeUiQiIiL5pkAixuJWFKyU2nQNSAfxO/tyow7SIiIi0cspkDCzW81snpnNMLPHzGxYOP0UM5se/r1lZp9Ps/79ZvZOwrIn5ZIeEQmos7WIiIjkW653JMYDJ7j7icAC4Kpw+iyg3t1PAkYCvzGzmjTb+E93Pyn8m55jespK3ApzlVKrqz4S5Uf5Hm9mNtLM5pvZIjNrSDH/783sDTNrN7MvFiONIiLSW06BhLs/4+7t4dspwIhwelPC9CGUWzsJERGJhJlVA3cC5wDHAV8xs+OSFlsGXAL8sbCpExGRvkTZR+IbwNiuN2Z2qpnNBmYC/5IQWCT7Sdg06nYzGxxhekpe3NrTxys10SnHAelybtoUTVJiI8rjqZQ7cwV0CrDI3Re7eyvwMHBB4gLuvsTdZwCdxUigiIik1m8gYWYTzGxWir8LEpa5GmgHHuqa5u6vuvvxwEeAq8xsSIrNXwUcGy6zH3BlH+m41Mymmdm09evXZ3yApUzllXJQnA8x1yC03ArLZXY45eZQYHnC+xXhNBERibl0/Ra6uftZfc03s0uA84AzPUXpw93nmtkO4ARgWtK81eHLFjP7HfCjPtIxGhgNUF9fXxHFAo17VRj5zefCf4gakK63KD9jDUgXX2Z2KXApwOGHH17k1IiIlL9cn9o0ErgCON/dmxKmH9nVudrMjiC467AkxfrvDv8b8DmCTtoSilstatzSky/RlhN7Zlq51fSXimibq+kzjNhK4LCE9yPCaVlz99HuXu/u9cOHD48kcSIikl6ufSRGAUOB8eHjW+8Op58GvGVm04HHgO+6+wYAMxtjZoeEyz1kZjMJ+lEcANyYY3pEhMoJ+qQsTAWOCSugBgEXAU8WOU0iIpKBfps29cXdj04z/UHgwTTzPpPw+oxc9i+FFbfO3/mS187WJZKFJZLMjEV57pZb3hSbu7eb2WXAOKAauM/dZ5vZ9cA0d3/SzD5CUCm1L/BZM/ufsA+eiIgUUU6BhIjEU66F3VIJeKQ8uPsYYEzStGsTXk8lfLy4iIjER5SPf5WIxa4tdsySE5XkbI6yj0QxPkLHy/azGqh83mUSERGpVAokYkzlldJXKc3BREREpPIokJCMVUqROJ81zqVSm10iySwS5Y6IiAgokIi1Uil0SnrF+gw1IF1P5XY8IiIicaBAIsY07lVh5DOf9RnGgwaRExERiZ4CiRiLWyVq3NKTL/nsbK0+E8UR5R2JSvkeiIiI9EeBhGRMheDS4K7CroiIiOSfAokYi1vBvVIKp5E+KjSP25bMRZnt+ghFREQCCiQkY5VSgCr143Q0IJ2IiIjknwKJGItbYa5cn3zTa0C6PG67EDkYNG0qz89qoDQgnYiISPQUSMRY3MorcUtPKYhb87RKpc9BREQkegokYkwPrCyM5Kc0RVnktBL9FMut4F2Iz6E0P2kREZGBUyARY7ErysUuQfkRbWfrnhsrlSZHJZLMjEUZGKXbVpllmYiISL8USEjGyq2WunzpkxIREZH8UyARY3GrFY5bevIl0kGQi9DZWnpTZ2sREZHoKZCQjKkAVRo0IJ2IiIgUggKJWItXaTBeqYlOr0e0lviAdBpHordIB6Qrs7wREREZKAUSMRa3AkupdBTOXYQdc0s0z8qtl0WJfgwiIiKxpkBCMlY5ZbF8Psgz/7noatuUV+UWZImIiAyUAokYi1tZMG7pKQXKsrjQJyEiIhI1BRIxFunTgyStfOazPsK40IB0IiIiUVMgEWPxuwMQuwTlSZSDlyW9L5EsLJV0Zi7Kfi/53oOIiEhpUCAhGSu/wmVqpX6ckTy1KYqEiIiISFlTIBFjcevUGa/URCc5cIiyqVOvR8tGt+k+91nqwVDUlB8iIiLRUyARY3Er/MQtPaVAWRYPOndFRESip0BCMha3OyT5ks9CZ+EGpMtxR5XxUQ+IghIREZGAAokYi1t5pVIKUNGOglyamVZuQWO5HY+IiEgcKJCQjFVKUSzKx3j2empTgQakK9H4pSQoKBEREQkokIixuBUGS7V2vaiUZbGgU1dERCR6CiRiTAPSFYbyufwV4jOOehcK3EVEJO4USMSYyhHFEWkfiaStFeozzXU/5XbuRXk85ZY3IiIiA6VAQjKmAlT2lGcyUDp3REQk7nIOJMzsVjObZ2YzzOwxMxuWNP9wM9thZj9Ks/6RZvaqmS0ysz+b2aBc01Qu4tapM27piUohH/dakMe/uka2ThbtXab876PSmNlIM5sfXgcaUswfHF4fFoXXi7rCp1JERJJFcUdiPHCCu58ILACuSpp/GzC2j/V/Btzu7kcDm4FvRpCm8hCzkolqSLNXrsFXqSnFc7cEkzwgZlYN3AmcAxwHfMXMjkta7JvA5vA6cTvBdUNERIos50DC3Z9x9/bw7RRgRNc8M/sc8A4wO9W6ZmbAGcBfw0kPAJ/LNU3l4u0NO4udhB5mrtxa7CTkxaJ1O3q8f3v9jjRLZm/11uYe719ZvDGybaezcN12Fq7dntM21iSlu9Qt3hDNZzp+zlpeeyf1Zzhv9bZI9lGBTgEWuftid28FHgYuSFrmAoLrAwTXizPD64eIiBRRTcTb+wbwZwAz2xu4Evg0kLJZE7A/sCUhEFkBHJpqQTO7FLgU4PDDD48wyfH11vItxU5CD797aUmxk5AXjTNX93i/dGNTZNuesaJn8HXDU3Mi23Y6a7e15LyNlVt2RZCS+HhzWTTfpW//flraeZPmr49kHxXoUGB5wvsVwKnplnH3djPbSnD92JC4UCVeJ0REiimjQMLMJgAHp5h1tbs/ES5zNdAOPBTOu46gydKOKCqO3H00MBqgvr5+QHf9x3zvE2xuamXPQdW0tHfiDrXVRm11FWZgGFt3tdHpzr57DmJnaztVZpjBkJpqmts76Ox0Wjs6qTZjUE0VHZ3OnoNqaOvspKbK2NXaQU210dzWiRkMrqmi06G6yujs3N3QZUhNNdtb2jCMvQfXsHVXG7XVhgNDaqtp7+hkSG01Ta0dDKkNbhx1OjS1tjN0cC2bm1qpra6iptoYXFNFW0cnnQ5VBtub2xlSW82Q2moMqArzf3tLG4NrqhlcU0WVGTtb2zGgpjpYv62jk45Op9qM1o5Ohg6pxWz3YygH11TT1l7y3zAAAAwnSURBVNHJ9uZ2aqurqK4y3J2qKmNQdRWtHZ3hvpxB1dU4zo6Wdg7YezA7WtrZ2dLOHrXVVFUZ1WG+NrcF+917cA1m0NbRSW11Fe2d3r3fKjM6Op2W9k463Tl4nyG0dTid7mxuamXvwTUMqa0GoKW9k47OIB3tnU6VGW0dnew5qJptu9oZOqSG9s5Omlo72HtwcPrXVlfR0t5Bc1snQ2qrGFxTza62DgZV787XwTVBmgZVV7FlVyuGscegYJ9Nre3d7zvdqa4K0jsozKOdLe20dTiDa6vYo7Y63KbT3Bakq9M9TENneLxQU1XF1l1tDK6p6j621q7Pp8q6P+ehQ2qorqpiR3M7g2qqaG3vZNietQBsa24DYOjgWprbOxhcU8XOlg6qDDrc2aO2ml2tHVRVWXCeVBl71FZ372NXWwcW7re2uoohYb50ulNTFZyrg2uq2LSzlaFDahlcU8W25jb2qK3GgZoqo6W9EwvP6Y5OD885Y+iQGna0tHd/h4JzCYbUVtHW4TS1tuPh92aP8HtQUx18hwbVBMtUh/dTm1o7qK0O8nZbcxt7DqqhvaOTQeFnBgTH2tYBBI9prQ3PVyP8brrT2u50dHrwfQ+/c+0dwfod7uw9uKb7u9T1G7D3kBo272zFw310fYZd36eaquD4BtcG59LgmmrMoKUtSF9NVfCbs++eg7q3u3LLLg7eZwhVqm/PWhTXiSU3nxtJWprbOhhSW832ru/hkFqemL6SC046lGUbm2hqa+fYg/dh9qqtHH/Iu9i4o4Vtze0cecBerNvWzPChg+nodNo7nSG11WxpamWfIbW0dzobd7aw316D6OzsusY4m3a2cuA+Q9i6K/gOAsxbs40TRwzjxYUbOGL/PRmx7x5sb2lnnyG1rNnazOCaKvbdaxCPvbmCz588gp0t7ZjBnoOC83rfvQbR3NZBa0cn+wypZd32Zg4cOoT121vY0RKkddnGJg7bbw9a2jvZ1tzGgUOHsK25jb0H1dDhzpamNoYPDa4Be4W/mc1tnewxqJqW9g5qqqq6r49V4TUFILHc0BF+j6sTvhRtHcE13CyYP6S2unswzqqE7XV0Om3h9bRLqn0kau/opCb8gUncTpWlX6cvqdKfqa5yQybrunva9PU1L5P5IulYFM8qN7NLgO8AZ7p7UzhtMnBYuMgwoBO41t1HJaxnwHrg4LCW6aPAde5+dl/7q6+v92nT0tcMiohUKjN73d3ri52OTCX/7pvZVQDuflPCMuPCZV4xsxpgDTDc+7iA6TohIpJalNeJKJ7aNBK4Aji/K4gAcPdPuHudu9cBvwR+mhhEhMs4MAn4YjjpYuCJXNMkIiIlYypwTPgEv0HARcCTScs8SXB9gOB6MbGvIEJERAojiqc2jQKGAuPNbLqZ3d3fCmY2xswOCd9eCVxuZosI2rz+NoI0iYhICQj7yF0GjAPmAo+4+2wzu97Mzg8X+y2wf3iduBzo9YhYEREpvJw7W4eP4+tvmeuS3n8m4fVigqd2iIhIBXL3McCYpGnXJrxuBr5U6HSJiEjfNLK1iIiIiIhkTYGEiIiIiIhkTYGEiIiIiIhkTYGEiIiIiIhkTYGEiIiIiIhkTYGEiIiIiIhkTYGEiIiIiIhkzUpxcFAzWw8sHeDqBwAbIkxOOVHepKe8SU95k14x8uYIdx9e4H3Gjq4TQPkcB5TPsZTLcYCOJY4yPY7IrhMlGUjkwsymuXt9sdMRR8qb9JQ36Slv0lPelKZy+dzK5TigfI6lXI4DdCxxVIzjUNMmERERERHJmgIJERERERHJWiUGEqOLnYAYU96kp7xJT3mTnvKmNJXL51YuxwHlcyzlchygY4mjgh9HxfWREBERERGR3FXiHQkREREREclRxQQSZjbSzOab2SIzayh2eorBzJaY2Uwzm25m08Jp+5nZeDNbGP7fN5xuZnZHmF8zzOxDxU199MzsPjNbZ2azEqZlnR9mdnG4/EIzu7gYxxK1NHlznZmtDM+f6Wb2mYR5V4V5M9/Mzk6YXlbfOzM7zMwm/f/2zi3EqioMwN+P02iZOGOBTBo4ExL4pCYxkkh0MRUxBB8UQe1C0AW6EOEwL/ZoNwoKlW6EmFmmFUIYWc9TSWneG1NS8ZaQQr1o/j2s/8xsj+ds23v2mX32Of8Hi1l7rXXOv/7LWnuvs9feIyL7RWSfiDxr5R43DUC9xOtwxJmI3GXng377rMTJyECnESLys4hst+NOEekz+ZtFpNXKR9pxv9VPinxHonmmmowh6NAmIltE5KCIHBCRmUX1iYg8b7G1V0Q2icioovhEanzuTuqHOBkp9HjV4muPiGwTkbasbZ3Gn7GoasMnYARwBOgCWoHdwJS8+5WDHY4Bt5aVvQKssvwqYI3l5wNfAwJ0A315978G9pgNTAf2prUHMA743f62W749b91qZJvVwIsV2k6xMTUS6LSxNqIRxx3QAUy3/BjgsOnvcVPwVE/xOhxxBvxgbcU+O8/KK8rIQKcXgI+B7Xb8KbDE8uuAJy3/FLDO8kuAzZZPPM9UkzEEHT4CHrd8K9BWRJ8AE4CjwI0RO60sik+o8bk7qR+qyUipxxygxfJrIjIys3VSf15XjywmiHpPwExgR+S4B+jJu1852OEY1y4kDgEdlu8ADll+PbC0UrtGSsCkskGcyB7AUmB9pPyqdkVOFWyzmsoLiavGE7DDxlzDjzvgS+BBj5vip3qO16zjzOoORsoH2lWTMcT+TwR2AvcB2wkXXH8yeME0YPvS/GH5FmsnSeeZOBkpdRhLuPiWsvLC+YSwkDhOuIhuMZ88VCSfUKNzdxo/VJORRo+yukXAxqgNs7B1Un9eT4dm2dpUGjQlTlhZs6HANyKyS0SesLLxqnrK8qeB8ZZvVpsltUez2ekZu+X6QeT2elPaxm4HTwP68LhpBOrSJzWKswmWLy8nRsZQeBN4Cbhix7cAf6nq5QryB/ps9ResfVId42SkoRM4B3woYYvWeyIymgL6RFVPAq8BfwCnCDbeRfF8EiVPP9Rq7niUcKcjTkYaWyf1ZyzNspBwArNUdTowD3haRGZHKzUsQTWXntUhbo9rWAvcAUwlnHxez7c7+SEiNwOfA8+p6sVonceNkxV5x1kWMkRkAXBWVXdl06vcaCFsQ1mrqtOAvwnbWwYokE/agYcJi6PbgNHA3KH3rj4oih/iEJFe4DKwsVYysqJZFhIngdsjxxOtrKmwXyFQ1bPANuBu4IyIdADY37PWvFltltQeTWMnVT2jqv+q6hXgXUL8QJPZRkRuIFzcbVTVrVbscVN86sonNY6zk5YvL4+TkZZ7gIUicgz4hLC96S2gTURaKsgf6LPVjwXOp9DxfIyMNJwATqhqnx1vISwsiuiTB4CjqnpOVS8BWwl+KppPouTph0znDhFZCSwAltmCJY0ecbZO6s9YmmUh8SMw2Z5gbyU8XPJVzn0aVkRktIiMKeUJD/TsJdhhhTVbQdiLi5Uvt7cRdAMXIrf0Gpmk9tgBzBGRdvuVZ46VNRylCdRYRIgfCLZZYm+C6AQmEx5Wa7hxZ2/veB84oKpvRKo8bopP3cRrrePM6i6KSLfJWl72XZVkpEJVe1R1oqpOItj0O1VdBnwPLK6iS0n+YmuvJJxn7DPVZKTR4zRwXETutKL7gf0U0CeELU3dInKTySrpUiiflJGnHzK7XhKRuYRtgAtV9Z8y/bKydVJ/xvN/HgZphER4qv4w4Sn03rz7k4P+XYSn8XcD+0o2IOyL2wn8BnwLjLNyAd4xe/0KzMhbhxrYZBNhi84lwq9Nj6WxB2EfY7+lR/LWq4a22WC677EJpyPSvtdscwh7w4WVN9S4A2YRbmfvAX6xNN/jpjFSvcTrcMQZMIPwY8AR4G0G/0FtRRkZ6XUvg29t6iJcpPQDnwEjrXyUHfdbfVfk84nmmWoyhtD/qcBP5pcvCG/7KaRPgJeBgyZvA+FNPYXwCTU+dyf1Q5yMFHr0E55TKI37dVnbOo0/45L/Z2vHcRzHcRzHcRLTLFubHMdxHMdxHMfJEF9IOI7jOI7jOI6TGF9IOI7jOI7jOI6TGF9IOI7jOI7jOI6TGF9IOI7jOI7jOI6TGF9IOI7jOI7jOI6TGF9IOI7jOI7jOI6TGF9IOI7jOI7jOI6TmP8Aof2EJa9JptMAAAAASUVORK5CYII=\n",
      "text/plain": [
       "<matplotlib.figure.Figure at 0x7fa061180ba8>"
>>>>>>> master
      ]
     },
     "metadata": {},
     "output_type": "display_data"
    },
    {
     "name": "stdout",
     "output_type": "stream",
     "text": [
<<<<<<< HEAD
      "frame_idx: 1374879, (27.50 %)"
=======
      "frame_idx: 1232632, (24.65 %)"
>>>>>>> master
     ]
    }
   ],
   "source": [
    "num_frames = cfg.NUM_FRAMES\n",
    "batch_size = cfg.BATCH_SIZE\n",
    "gamma      = cfg.GAMMA\n",
    "episode = 0\n",
    "\n",
    "losses = []\n",
    "all_rewards = []\n",
    "episode_reward = 0\n",
    "\n",
    "state_traj = []\n",
    "q_value_traj = []\n",
    "\n",
    "episode_state = []\n",
    "episode_q_val = []\n",
    "\n",
    "state = env.reset()\n",
    "for frame_idx in range(1, num_frames + 1):\n",
    "    tau = tau_by_frame(frame_idx)\n",
    "    action = current_model.act(state, tau)\n",
    "    \n",
    "    if episode % 20 == 0:\n",
    "        q_values = current_model.predict(state).data.cpu().numpy()[0]\n",
    "        episode_state.append(state)\n",
    "        episode_q_val.append(q_values)\n",
    "    \n",
    "    next_state, reward, done, _ = env.step(action)\n",
    "    replay_buffer.push(state, action, reward, next_state, done)\n",
    "    \n",
    "    state = next_state\n",
    "    episode_reward += reward\n",
    "    \n",
    "    if done:\n",
    "        state = env.reset()\n",
    "        all_rewards.append(episode_reward)\n",
    "        episode_reward = 0\n",
    "        \n",
    "        if episode % 20 == 0:\n",
    "            state_traj.append(episode_state)\n",
    "            q_value_traj.append(episode_q_val)\n",
    "        \n",
    "        episode += 1\n",
    "        episode_state = []\n",
    "        episode_q_val = []\n",
    "        \n",
    "    if len(replay_buffer) > replay_initial:\n",
    "        loss = compute_td_loss(batch_size)\n",
    "        losses.append(loss.data[0])\n",
    "        \n",
    "    if frame_idx % 10000 == 0:\n",
    "        plot(frame_idx, all_rewards, losses)\n",
    "        update_target(current_model, target_model)\n",
    "        \n",
    "    print('\\rframe_idx: %7d, (%.2f %%)' %(frame_idx, frame_idx/num_frames*100), end='')"
   ]
  },
  {
   "cell_type": "code",
   "execution_count": null,
   "metadata": {
    "ExecuteTime": {
     "start_time": "2018-06-19T02:59:55.242Z"
    }
   },
   "outputs": [],
   "source": [
    "from common.save_file import *\n",
    "\n",
    "model_dir = cfg.MODEL_DIR\n",
    "var_dir = cfg.VAR_DIR\n",
    "name = \"boltzmann_\" + env_id\n",
    "\n",
    "save_model(model, model_dir, name)\n",
    "\n",
    "var_dict = {\n",
    "            \"all_rewards\": all_rewards,\n",
    "            \"losses\": losses,\n",
    "            \"state_traj\": state_traj,\n",
    "            \"q_value_traj\": q_value_traj\n",
    "           }\n",
    "\n",
    "save_variable(name, var_dir, var_dict)"
   ]
  },
  {
   "cell_type": "code",
   "execution_count": null,
   "metadata": {
    "collapsed": true
   },
   "outputs": [],
   "source": []
  }
 ],
 "metadata": {
  "kernelspec": {
   "display_name": "Python 3",
   "language": "python",
   "name": "python3"
  },
  "language_info": {
   "codemirror_mode": {
    "name": "ipython",
    "version": 3
   },
   "file_extension": ".py",
   "mimetype": "text/x-python",
   "name": "python",
   "nbconvert_exporter": "python",
   "pygments_lexer": "ipython3",
   "version": "3.5.2"
  }
 },
 "nbformat": 4,
 "nbformat_minor": 2
}
