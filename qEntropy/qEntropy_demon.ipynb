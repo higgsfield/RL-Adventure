{
 "cells": [
  {
   "cell_type": "code",
   "execution_count": 1,
   "metadata": {
    "ExecuteTime": {
<<<<<<< HEAD
     "end_time": "2018-06-21T04:12:41.024992Z",
     "start_time": "2018-06-21T04:12:40.808627Z"
    }
=======
     "end_time": "2018-06-15T04:23:52.537025Z",
     "start_time": "2018-06-15T04:23:52.276700Z"
    },
    "collapsed": false
>>>>>>> master
   },
   "outputs": [],
   "source": [
    "import math, random, time\n",
    "import gym\n",
    "import numpy as np\n",
    "import sys\n",
    "import os\n",
    "\n",
    "import torch\n",
    "import torch.nn as nn\n",
    "import torch.optim as optim\n",
    "import torch.autograd as autograd \n",
    "import torch.nn.functional as F"
   ]
  },
  {
   "cell_type": "code",
   "execution_count": 2,
   "metadata": {
    "ExecuteTime": {
<<<<<<< HEAD
     "end_time": "2018-06-21T04:12:51.831800Z",
     "start_time": "2018-06-21T04:12:51.632945Z"
    }
=======
     "end_time": "2018-06-15T04:23:52.969732Z",
     "start_time": "2018-06-15T04:23:52.812941Z"
    },
    "collapsed": true
>>>>>>> master
   },
   "outputs": [],
   "source": [
    "from IPython.display import clear_output\n",
    "import matplotlib.pyplot as plt\n",
    "%matplotlib inline\n"
   ]
  },
  {
   "cell_type": "code",
   "execution_count": 3,
   "metadata": {
    "ExecuteTime": {
<<<<<<< HEAD
     "end_time": "2018-06-21T04:12:56.240701Z",
     "start_time": "2018-06-21T04:12:56.198755Z"
    }
=======
     "end_time": "2018-06-15T04:23:53.090336Z",
     "start_time": "2018-06-15T04:23:53.065221Z"
    },
    "collapsed": false
>>>>>>> master
   },
   "outputs": [],
   "source": [
    "sys.path.append('../')\n",
    "from common.wrappers import make_atari, wrap_deepmind, wrap_pytorch\n",
    "from common.entropy import *"
   ]
  },
  {
   "cell_type": "code",
   "execution_count": 4,
   "metadata": {
    "ExecuteTime": {
<<<<<<< HEAD
     "end_time": "2018-06-21T04:12:58.459674Z",
     "start_time": "2018-06-21T04:12:58.457468Z"
    }
=======
     "end_time": "2018-06-15T04:23:53.302462Z",
     "start_time": "2018-06-15T04:23:53.299719Z"
    },
    "collapsed": true
>>>>>>> master
   },
   "outputs": [],
   "source": [
    "os.environ[\"CUDA_DEVICE_ORDER\"]=\"PCI_BUS_ID\"\n",
<<<<<<< HEAD
    "os.environ[\"CUDA_VISIBLE_DEVICES\"]=\"1\""
=======
    "os.environ[\"CUDA_VISIBLE_DEVICES\"]=\"2\""
>>>>>>> master
   ]
  },
  {
   "cell_type": "markdown",
   "metadata": {},
   "source": [
    "<h3> Set configuration </h3>"
   ]
  },
  {
   "cell_type": "code",
   "execution_count": 5,
   "metadata": {
    "ExecuteTime": {
<<<<<<< HEAD
     "end_time": "2018-06-21T04:13:00.971736Z",
     "start_time": "2018-06-21T04:13:00.969055Z"
    }
=======
     "end_time": "2018-06-15T04:23:53.760471Z",
     "start_time": "2018-06-15T04:23:53.757799Z"
    },
    "collapsed": true
>>>>>>> master
   },
   "outputs": [],
   "source": [
    "from common.config import *\n",
    "cfg = Config()"
   ]
  },
  {
   "cell_type": "markdown",
   "metadata": {},
   "source": [
    "<h1>Atari Environment</h1>"
   ]
  },
  {
   "cell_type": "code",
   "execution_count": 6,
   "metadata": {
    "ExecuteTime": {
<<<<<<< HEAD
     "end_time": "2018-06-21T04:13:03.574245Z",
     "start_time": "2018-06-21T04:13:03.371042Z"
    }
   },
   "outputs": [],
   "source": [
    "env_id = \"DemonAttackNoFrameskip-v0\"\n",
=======
     "end_time": "2018-06-15T04:23:54.428422Z",
     "start_time": "2018-06-15T04:23:54.197784Z"
    },
    "collapsed": false
   },
   "outputs": [],
   "source": [
    "env_id = \"DemonAttack-v0\"\n",
>>>>>>> master
    "env    = make_atari(env_id)\n",
    "env    = wrap_deepmind(env)\n",
    "env    = wrap_pytorch(env)"
   ]
  },
  {
   "cell_type": "markdown",
   "metadata": {},
   "source": [
    "<h3>Use Cuda</h3>"
   ]
  },
  {
   "cell_type": "code",
   "execution_count": 7,
   "metadata": {
    "ExecuteTime": {
<<<<<<< HEAD
     "end_time": "2018-06-21T04:13:07.598279Z",
     "start_time": "2018-06-21T04:13:07.278431Z"
    }
=======
     "end_time": "2018-06-15T04:23:54.730531Z",
     "start_time": "2018-06-15T04:23:54.661822Z"
    },
    "collapsed": true
>>>>>>> master
   },
   "outputs": [],
   "source": [
    "USE_CUDA = torch.cuda.is_available()\n",
    "Variable = lambda *args, **kwargs: autograd.Variable(*args, **kwargs).cuda() if USE_CUDA else autograd.Variable(*args, **kwargs)"
   ]
  },
  {
   "cell_type": "markdown",
   "metadata": {},
   "source": [
    "<h2>Replay Buffer</h2>"
   ]
  },
  {
   "cell_type": "code",
   "execution_count": 8,
   "metadata": {
    "ExecuteTime": {
<<<<<<< HEAD
     "end_time": "2018-06-21T04:13:14.996632Z",
     "start_time": "2018-06-21T04:13:14.974378Z"
    }
=======
     "end_time": "2018-06-15T04:23:55.198660Z",
     "start_time": "2018-06-15T04:23:55.180202Z"
    },
    "collapsed": true
>>>>>>> master
   },
   "outputs": [],
   "source": [
    "from collections import deque\n",
    "\n",
    "class ReplayBuffer(object):\n",
    "    def __init__(self, capacity):\n",
    "        self.buffer = deque(maxlen=capacity)\n",
    "    \n",
    "    def push(self, state, action, reward, next_state, done):\n",
    "        state      = np.expand_dims(state, 0)\n",
    "        next_state = np.expand_dims(next_state, 0)\n",
    "            \n",
    "        self.buffer.append((state, action, reward, next_state, done))\n",
    "    \n",
    "    def sample(self, batch_size):\n",
    "        state, action, reward, next_state, done = zip(*random.sample(self.buffer, batch_size))\n",
    "        return np.concatenate(state), action, reward, np.concatenate(next_state), done\n",
    "    \n",
    "    def __len__(self):\n",
    "        return len(self.buffer)"
   ]
  },
  {
   "cell_type": "code",
   "execution_count": 9,
   "metadata": {
    "ExecuteTime": {
<<<<<<< HEAD
     "end_time": "2018-06-21T04:13:21.843759Z",
     "start_time": "2018-06-21T04:13:21.835081Z"
    }
=======
     "end_time": "2018-06-15T04:23:55.475979Z",
     "start_time": "2018-06-15T04:23:55.468827Z"
    },
    "collapsed": true
>>>>>>> master
   },
   "outputs": [],
   "source": [
    "def plot(frame_idx, rewards, losses):\n",
    "    clear_output(True)\n",
    "    plt.figure(figsize=(20,5))\n",
    "    plt.subplot(131)\n",
    "    plt.title('frame %s. reward: %s' % (frame_idx, np.mean(rewards[-10:])))\n",
    "    plt.plot(rewards)\n",
    "    plt.subplot(132)\n",
    "    plt.title('loss')\n",
    "    plt.plot(losses)\n",
    "    plt.show()"
   ]
  },
  {
   "cell_type": "markdown",
   "metadata": {},
   "source": [
    "<h2> Deep Q Network </h2>"
   ]
  },
  {
   "cell_type": "code",
<<<<<<< HEAD
   "execution_count": 11,
   "metadata": {
    "ExecuteTime": {
     "end_time": "2018-06-21T04:16:50.896429Z",
     "start_time": "2018-06-21T04:16:50.790246Z"
    }
=======
   "execution_count": 10,
   "metadata": {
    "ExecuteTime": {
     "end_time": "2018-06-15T04:23:56.663974Z",
     "start_time": "2018-06-15T04:23:56.577468Z"
    },
    "collapsed": false
>>>>>>> master
   },
   "outputs": [],
   "source": [
    "class CnnDQN(nn.Module):\n",
    "    def __init__(self, input_shape, num_actions):\n",
    "        super(CnnDQN, self).__init__()\n",
    "        \n",
    "        self.input_shape = input_shape\n",
    "        self.num_actions = num_actions\n",
    "        \n",
    "        self.features = nn.Sequential(\n",
    "            nn.Conv2d(input_shape[0], 32, kernel_size=8, stride=4),\n",
    "            nn.ReLU(),\n",
    "            nn.Conv2d(32, 64, kernel_size=4, stride=2),\n",
    "            nn.ReLU(),\n",
    "            nn.Conv2d(64, 64, kernel_size=3, stride=1),\n",
    "            nn.ReLU()\n",
    "        )\n",
    "        \n",
    "        self.fc = nn.Sequential(\n",
    "            nn.Linear(self.feature_size(), 512),\n",
    "            nn.ReLU(),\n",
    "            nn.Linear(512, self.num_actions)\n",
    "        )\n",
    "        \n",
    "    def forward(self, x):\n",
    "        x /= 255.0\n",
    "        x = self.features(x)\n",
    "        x = x.view(x.size(0), -1)\n",
    "        x = self.fc(x)\n",
    "        return x\n",
    "    \n",
    "    def feature_size(self):\n",
    "        return self.features(autograd.Variable(torch.zeros(1, *self.input_shape))).view(1, -1).size(1)\n",
    "    \n",
<<<<<<< HEAD
    "    def act(self, state):\n",
    "        state   = Variable(torch.FloatTensor(np.float32(state)).unsqueeze(0), volatile=True)\n",
    "        q_value = self.forward(state)\n",
    "        action  = q_value.max(1)[1].data[0]\n",
=======
    "    def act(self, state, epsilon):\n",
    "        if random.random() > epsilon:\n",
    "            state   = Variable(torch.FloatTensor(np.float32(state)).unsqueeze(0), volatile=True)\n",
    "            q_value = self.forward(state)\n",
    "            action  = q_value.max(1)[1].data[0]\n",
    "        else:\n",
    "            action = random.randrange(env.action_space.n)\n",
>>>>>>> master
    "        return action\n",
    "    \n",
    "    def predict(self, state):\n",
    "        state = Variable(torch.FloatTensor(np.float32(state)).unsqueeze(0), volatile=True)\n",
    "        q_value = self.forward(state)\n",
    "        return q_value\n",
    "    \n",
    "    def weights_init(self, m):\n",
    "        classname = m.__class__.__name__\n",
    "        if classname.find('Conv') != -1 and classname.find('Layer') == -1:\n",
    "            nn.init.xavier_normal(m.weight)\n",
    "        elif classname.find('Linear') != -1:\n",
    "            nn.init.xavier_normal(m.weight)\n",
    "            nn.init.constant(m.bias, 0.1)\n",
    "        elif classname.find('BatchNorm') != -1:\n",
    "            m.weight.data.normal(1.0, 0.02)\n",
    "            m.bias.data.fill(0)"
   ]
  },
  {
   "cell_type": "code",
<<<<<<< HEAD
   "execution_count": 19,
   "metadata": {
    "ExecuteTime": {
     "end_time": "2018-06-21T04:40:29.441082Z",
     "start_time": "2018-06-21T04:40:29.341260Z"
    }
   },
   "outputs": [],
=======
   "execution_count": 11,
   "metadata": {
    "ExecuteTime": {
     "end_time": "2018-06-15T04:24:00.795541Z",
     "start_time": "2018-06-15T04:23:57.548851Z"
    },
    "collapsed": false
   },
   "outputs": [
    {
     "name": "stderr",
     "output_type": "stream",
     "text": [
      "/usr/local/lib/python3.5/dist-packages/ipykernel_launcher.py:50: UserWarning: nn.init.xavier_normal is now deprecated in favor of nn.init.xavier_normal_.\n",
      "/usr/local/lib/python3.5/dist-packages/ipykernel_launcher.py:52: UserWarning: nn.init.xavier_normal is now deprecated in favor of nn.init.xavier_normal_.\n",
      "/usr/local/lib/python3.5/dist-packages/ipykernel_launcher.py:53: UserWarning: nn.init.constant is now deprecated in favor of nn.init.constant_.\n",
      "/usr/local/lib/python3.5/dist-packages/ipykernel_launcher.py:6: UserWarning: nn.init.normal is now deprecated in favor of nn.init.normal_.\n",
      "  \n",
      "/usr/local/lib/python3.5/dist-packages/ipykernel_launcher.py:7: UserWarning: nn.init.constant is now deprecated in favor of nn.init.constant_.\n",
      "  import sys\n"
     ]
    },
    {
     "name": "stdout",
     "output_type": "stream",
     "text": [
      "Initialized with Xavier initializer\n"
     ]
    }
   ],
>>>>>>> master
   "source": [
    "current_model = CnnDQN(env.observation_space.shape, env.action_space.n)\n",
    "target_model = CnnDQN(env.observation_space.shape, env.action_space.n)\n",
    "\n",
<<<<<<< HEAD
    "#if cfg.INITIALIZER == 'Xavier':\n",
    "#    current_model.apply(current_model.weights_init)\n",
    "#    nn.init.normal(current_model.fc[2].weight.data,0,0.01)\n",
    "#    nn.init.constant(current_model.fc[2].bias.data,0)\n",
    "#    print('Initialized with Xavier initializer')\n",
=======
    "if cfg.INITIALIZER == 'Xavier':\n",
    "    current_model.apply(current_model.weights_init)\n",
    "    nn.init.normal(current_model.fc[2].weight.data,0,0.01)\n",
    "    nn.init.constant(current_model.fc[2].bias.data,0)\n",
    "    print('Initialized with Xavier initializer')\n",
>>>>>>> master
    "\n",
    "if USE_CUDA:\n",
    "    current_model = current_model.cuda()\n",
    "    target_model = target_model.cuda()\n",
    "    \n",
<<<<<<< HEAD
    "optimizer = optim.Adam(current_model.parameters(), lr=1e-4)\n",
=======
    "optimizer = optim.RMSprop(current_model.parameters(), lr=cfg.LEARNING_RATE)\n",
>>>>>>> master
    "\n",
    "replay_initial = cfg.REPLAY_INIT\n",
    "replay_buffer = ReplayBuffer(cfg.REPLAY_BUFFER)"
   ]
  },
  {
   "cell_type": "markdown",
   "metadata": {},
   "source": [
    "### Synchronize current net and target net"
   ]
  },
  {
   "cell_type": "code",
<<<<<<< HEAD
   "execution_count": 20,
   "metadata": {
    "ExecuteTime": {
     "end_time": "2018-06-21T04:41:03.656379Z",
     "start_time": "2018-06-21T04:41:03.651775Z"
    }
=======
   "execution_count": 12,
   "metadata": {
    "ExecuteTime": {
     "end_time": "2018-06-15T04:24:00.799623Z",
     "start_time": "2018-06-15T04:24:00.796992Z"
    },
    "collapsed": true
>>>>>>> master
   },
   "outputs": [],
   "source": [
    "def update_target(current_model, target_model):\n",
<<<<<<< HEAD
    "    target_model.load_state_dict(current_model.state_dict())\n",
    "\n",
=======
    "    target_model.load_state_dict(current_model.state_dict())"
   ]
  },
  {
   "cell_type": "code",
   "execution_count": 13,
   "metadata": {
    "ExecuteTime": {
     "end_time": "2018-06-15T04:24:00.817917Z",
     "start_time": "2018-06-15T04:24:00.801137Z"
    },
    "collapsed": true
   },
   "outputs": [],
   "source": [
>>>>>>> master
    "update_target(current_model, target_model)"
   ]
  },
  {
   "cell_type": "markdown",
   "metadata": {},
   "source": [
    "<h2>Computing Temporal Difference Loss</h2>"
   ]
  },
  {
   "cell_type": "code",
<<<<<<< HEAD
   "execution_count": 21,
   "metadata": {
    "ExecuteTime": {
     "end_time": "2018-06-21T04:41:37.421324Z",
     "start_time": "2018-06-21T04:41:37.396782Z"
    }
=======
   "execution_count": 14,
   "metadata": {
    "ExecuteTime": {
     "end_time": "2018-06-15T04:24:00.841811Z",
     "start_time": "2018-06-15T04:24:00.819231Z"
    },
    "collapsed": true
>>>>>>> master
   },
   "outputs": [],
   "source": [
    "def compute_td_loss(batch_size):\n",
    "    state, action, reward, next_state, done = replay_buffer.sample(batch_size)\n",
    "\n",
    "    state      = Variable(torch.FloatTensor(np.float32(state)))\n",
    "    next_state = Variable(torch.FloatTensor(np.float32(next_state)), volatile=True)\n",
    "    action     = Variable(torch.LongTensor(action))\n",
    "    reward     = Variable(torch.FloatTensor(reward))\n",
    "    done       = Variable(torch.FloatTensor(done))\n",
    "\n",
    "    q_values      = current_model(state)\n",
    "    next_q_values = target_model(next_state)\n",
    "\n",
    "    q_value          = q_values.gather(1, action.unsqueeze(1)).squeeze(1)\n",
    "    next_q_value     = next_q_values.max(1)[0]\n",
    "    expected_q_value = reward + gamma * next_q_value * (1 - done)\n",
    "    \n",
    "    loss = (q_value - Variable(expected_q_value.data)).pow(2).mean()\n",
    "        \n",
    "    optimizer.zero_grad()\n",
    "    loss.backward()\n",
    "    optimizer.step()\n",
    "    \n",
    "    return loss"
   ]
  },
  {
<<<<<<< HEAD
   "cell_type": "markdown",
   "metadata": {},
   "source": [
    "## Q Entropy Threshold"
   ]
  },
  {
   "cell_type": "code",
   "execution_count": 22,
   "metadata": {
    "ExecuteTime": {
     "end_time": "2018-06-21T04:42:12.106132Z",
     "start_time": "2018-06-21T04:42:12.102728Z"
    }
=======
   "cell_type": "code",
   "execution_count": 15,
   "metadata": {
    "ExecuteTime": {
     "end_time": "2018-06-15T04:24:01.713972Z",
     "start_time": "2018-06-15T04:24:01.708568Z"
    },
    "collapsed": false
>>>>>>> master
   },
   "outputs": [
    {
     "name": "stdout",
     "output_type": "stream",
     "text": [
<<<<<<< HEAD
      "entropy maximum: 1.792, threshold: 1.702\n"
=======
      "entropy maximum: 1.792, threshold: 1.254\n"
>>>>>>> master
     ]
    }
   ],
   "source": [
<<<<<<< HEAD
    "entropy_threshold = np.log(env.action_space.n) * 0.95#cfg.Q_ENTROPY_THRESHOLD\n",
=======
    "entropy_threshold = np.log(env.action_space.n) * cfg.Q_ENTROPY_THRESHOLD\n",
>>>>>>> master
    "qe_max = np.log(env.action_space.n)\n",
    "print('entropy maximum: %.3f, threshold: %.3f' %(qe_max, entropy_threshold))"
   ]
  },
  {
   "cell_type": "code",
<<<<<<< HEAD
   "execution_count": 23,
   "metadata": {
    "ExecuteTime": {
     "end_time": "2018-06-21T09:59:47.477768Z",
     "start_time": "2018-06-21T04:42:46.086655Z"
    },
=======
   "execution_count": 16,
   "metadata": {
    "ExecuteTime": {
     "end_time": "2018-06-16T03:12:00.002313Z",
     "start_time": "2018-06-15T04:24:03.720663Z"
    },
    "collapsed": false,
>>>>>>> master
    "scrolled": false
   },
   "outputs": [
    {
     "data": {
<<<<<<< HEAD
      "image/png": "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\n",
      "text/plain": [
       "<matplotlib.figure.Figure at 0x7fa48d398cc0>"
=======
      "image/png": "iVBORw0KGgoAAAANSUhEUgAAAv4AAAE/CAYAAAA+Occ1AAAABHNCSVQICAgIfAhkiAAAAAlwSFlzAAALEgAACxIB0t1+/AAAIABJREFUeJzs3XmcHHWdP/7XO8nkTiCQkI0gBhXlq7sLrAFl8QJBuRQQ7/25rOKieKwuKgZcFJEjoNyEIwgSOSIQjiAJIXcmx+SYJHMkmUnmyGSOzH32XD19vH9/VM2kZ6Z7urq7uqu6+/V8POYx3XW+q69616c+h6gqiIiIiIgos41zOgAiIiIiIko+Jv5ERERERFmAiT8RERERURZg4k9ERERElAWY+BMRERERZQEm/kREREREWYCJfxoRkY+KSIGIeETkf5yOh9xLRDaJyA+cjoOIyG1EpEpELnE6DiInMPFPL7cA2KiqM1T1UaeDCSUiHxGRFSLSLCJtIvKeiHw0ZP5/iUhARLpD/j5vzjtFRJaJyDER6RSRbSLyyRHb/46IHBWRHhF5S0ROCpl3koi8ac47KiLfsWvdbCAi14vIHhHpEpFaEblfRCaMsfyXRWS/+R5uF5GPpTJeIiIiig8T//TyAQAHIs0UkfEpjGWkEwG8DeCjAOYC2AVgxYhl8lR1esjfJnP6dAC7AXwCwEkAlgJYKSLTAUBEPg7gaQDfNbfdC+CJkO0uBjBgzvsPAE+a6yS0bizEkPLv01gJegymAvgFgNkAPgngCwB+FWF/ZwJ4CcCPYLzn/wDwtk1xEBERURIx8U8TIrIBwEUAHjdLWj8iIs+LyJMiskpEegBcJCJXisg+s/S2RkTuCNnGfBFREfmeOa9dRH4kIueJSJGIdIjI4yP2+30RKTGXfU9EPhAuPlXdparPqmqbqvoAPATgoyJycrRjU9VKVX1QVetVNaCqSwBMhHERARgJ+T9UNVdVuwHcDuCrIjJDRKYBuA7A7ararapbYVyAfNeGdcdkVqe5W0S2wbig+KCInCAiz4pIvYjUichdgxdk5h2FT5iP/8N8LwYvUG4QkbfMx+eLSJ75ftSLyOMiMjFkvyoiPxGRMgBl5rRLRaTUvGPyOACxcgzm6/+kqm5R1QFVrYOR2F8YYfEvAdiiqltV1Q/gPgCnAvic1f0REbmBiEwSkYfNu83HzMeTzHmzReQd83e4TUS2DBbuiMhvzN93j4gcEpEvOHskRNYx8U8TqnoxgC0AfmqWlh82Z30HwN0AZgDYCqAHwH/CKI29EsBNInLNiM19EsCZAL4J4GEAvwVwCYCPA/iGiHwOAETkagC3AfgqgDnm/pdZDPmzABpUtTVk2rki0iIih0Xk9kilxCJyDozEv9yc9HEAhSGvRQWMUvqPmH/+kNcD5rIft2FdK74L4EYYr/9RAM8D8AP4MIBzAXwRwGBd+80APm8+/hyAShiv0+DzzebjAID/hVECfwGMEvgfj9jvNTDex4+JyGwAbwD4P3OdCoQk7iJyunnyOt3iMX0WY9xZwvCLCjH//tnitomI3OK3AD4F4BwAZwM4H8bvKAD8EkAtjHPfXBjnQhWjCutPAZynqjNgFIZUpTZsovgx8U9/K1R1m6oGVbVfVTeparH5vAhGoj6yNPaP5rJrYFwoLFPVJrO0dwuMhBUwqnPcq6olZunuPQDOiVTqP0hEToNRhebmkMm5MJLDU2CUsn8bwK/DrDsTwAsA/qCqnebk6QA6RyzaCSPZng6gK8K8RNe14nlVPWC+PicBuALAL1S1R1WbYNz5+Ja57GYcfy8+A+DekOdDib+q7lHVHarqV9UqGFWVRr6H95p3V/rMfR5Q1eXm3ZaHATQMLqiq1ap6oqpWRzsYEfk+gAUA/hxhkXUAPicinzfvQtwG4yJtarRtExG5zH8AuNM8/zUD+AOO3/H1AZgH4AOq6jPviiqMgplJMApdclS1yixQIkoLTPzTX03oExH5pIhsFKORbSeM5H32iHUaQx73hXk+3Xz8AQCPmKXFHQDaYJTunhopGBGZA2ANgCdUdejugFmd54h5QVIM4E4AXxux7hQYdcZ3qOq9IbO6AcwcsauZADxR5iW6rhWhr/8HAOQAqA95zZ6GcbEDGIn9Z0RkHoDxAF4FcKGIzAdwAoACYKih9Dsi0iAiXTAuuEa+h6H7fV/oc/PkVIMYmXeG7gVwuaq2hFtGVUsBXA/gcQD1ZlwHYZSMERGlk/fBuFM76Kg5DQD+BOOu8xoRqRSRhQCgquUw2kTdAaBJRP4uIu8DUZpg4p/+dMTzl2HUU3+/qp4A4CnEUN97hBoAPzRLiwf/pqjq9nALi8gsGEn/26p6t4W4h+Iy61W+BSOB/OGIZQ/AuA07uOwHYZS4HDb/JpiNTgedjeNVVRJZ14rQ178GgBfA7JDXa6aqfhwYOmH0AvgZgFxV7YJRMn8jgK2qGjS38ySAUgBnqupMGKXqI9/D0P3WA3h/yDFK6HMrROQyAM8A+LJ5YRb5gI07C/+sqicD+D2A+TAaZxMRpZNjMApsBp1uToOqelT1l6r6QQBfAXDzYF1+VX1ZVT9trqsw2joRpQUm/plnBoA2Ve0XkfNhtAGI11MAbg1pgHqCiHw93IJmFZ33AGxT1YVh5l8uInPNx2fBaGS7wnyeA2A5jLsN14ckwINeAvBlEfmM2SD3TgBvmD/MPTDqt98pItNE5EIAV8OoLpToujFR1XoYFz4PiMhMERknIh8abDNh2gyjfuhgff5NI54DxnvYBaDbfK1uirLrlQA+LiJfNdtN/A+Af7Iat4hcDON1uk5Vd1lY/hMiMt68u7MExoVeqdX9ERG5xDIA/ycic8y2Ur8D8CIAiMhVIvJhsyClE0YVn6AY4+lcbBZW9cM4b408ZxG5FhP/zPNjGImsB8aP2KvxbkhV34RRkvF3s8rJfgCXR1j8WgDnAfieDO+rf7BB6RcAFInR+9AqGAn3Pea8fwdwFYyGsB0h637GjOMAjCpLLwFogpEYhzZ2/TGAKea8ZQBuMtdJaF3zYqE7ltcMRsPqiTCqv7TDuKCZFzJ/sxlDboTngNGV5ndgVDl6BsArY+3QrJbzdQCLALTCaLi9bXC+2bg39L0Y6XYYVY1Whbz274as/66I3Bay/CMAOgAcMo/xv8eKj4jIpe4CkA+gCEAxgL3mNMD4HV0Ho0poHozqqxth3DFeBKAFxh3bUwDcmtqwieInRnVgIiIiIiLKZCzxJyIiIiLKAkz8iYiIiIiyABN/IiIiIqIswMSfiIiIiCgLMPEnIiIiIsoCE1K5s9mzZ+v8+fNTuUsiorSwZ8+eFlWd43QcTuN5gogoPDvOEylN/OfPn4/8/PxU7pKIKC2IyFGnY3ADnieIiMKz4zzBqj5ERERERFmAiT8RERERURZg4k9ERERElAWY+BMRERERZQEm/kREREREWYCJPxERERFRFmDiT0RERESUBZj4ExERERFlASb+RERERERZgIk/pYW6jj6UN3mcDoOIiIjSSHvPAIpqO5wOwzWY+FNauHDRBlzyYK7TYRAREVEa+dpT2/GVx7c5HYZrMPEnIiIiooxU0dzjdAiuwsSfiIiIiCgLMPEnIiIiIsoCTPyJiIiIiLIAE38iIiIioizAxJ+IiIiIKAsw8SciIiIiygJM/ImIiIiIsgATfyIiIiKiLMDEn4iIiIgoCzDxJyIiIiLKAkz8KS0dPNaFlm6v02EQERERpQ0m/pSWrnh0C774UK7TYRARERGlDSb+lLbaegacDoGIiIgobTDxJyIiIiLKAlETfxGZLCK7RKRQRA6IyB/M6c+LyBERKTD/zkl+uEREREREqVPR3I35C1diz9E2p0NJmJUSfy+Ai1X1bADnALhMRD5lzvu1qp5j/hUkLUoiInI1ETlRRJaLSKmIlIjIBSJykoisFZEy8/8sp+MkIorVlsPNAIC3C445HEnioib+aug2n+aYf5rUqIiIKN08AmC1qp4F4GwAJQAWAlivqmcCWG8+JyIih1iq4y8i40WkAEATgLWqutOcdbeIFInIQyIyKWlRkmv89OW9eGRdmdNhUBx+tmwfHl532OkwKAOJyAkAPgvgWQBQ1QFV7QBwNYCl5mJLAVzjTIRERARYTPxVNaCq5wA4DcD5IvLPAG4FcBaA8wCcBOA34dYVkRtFJF9E8pubm20Km5zyTlE9HmLymJb+UXgMD/OijZLjDADNAP4qIvtE5C8iMg3AXFWtN5dpADDXsQiJiCi2Xn3MEpyNAC5T1XqzGpAXwF8BnB9hnSWqukBVF8yZMyfxiImIyG0mAPg3AE+q6rkAejCiWo+qKiJUE2UBERFlqs5en9MhDGOlV585InKi+XgKgEsBlIrIPHOawLh9uz+ZgRIRkWvVAqgNqQa6HMaFQGPIuWIejOqio7CAiIgy0ebDzTj7zjXYWtbidChDrJT4zwOwUUSKAOyGUcf/HQAviUgxgGIAswHclbwwiYjIrVS1AUCNiHzUnPQFAAcBvA3genPa9QBWOBAeEZEj8quM7j/3Vrc7HMlxE6ItoKpFAM4NM/3ipERERETp6GcwCoQmAqgE8D0YhUuvisgNAI4C+IaD8RERZb2oiT8REVE05lguC8LM+kKqYyEiovBiatxLRERERJSNMmEQKyb+REREREQRGP3YZAYm/kREREREWYCJPxERERHh5lcK8Gp+jdNhUBIx8SciIiIivLGvDrcsL3I6DEoiJv5ERERERFmAiT8RERERURZg4k9ERERElAWY+BMRERERZQEm/kREREREWYCJPxERERFRFBrn0L3xrpcMTPyJiIiIiCKId+BeN473y8SfiDJSIKjIq2h1OgwiIspSLiroH8LEn4gy0lObK/DtZ3ZgS1mz06EQEVEWi/eOQTIw8SeijFTR3A0AaOzyOhwJERGROzDxJyIiIqKscvkjW/Cvd7zndBgpN8HpAIiIiIiIUqmkvsvpEBzBEn8iIiIioizAxJ+IiIiIKAsw8SciIiIiygJM/ImIiIiIolBX9swfGyb+REREREQRuKgb/oQx8SciIiIiygJRE38RmSwiu0SkUEQOiMgfzOlniMhOESkXkVdEZGLywyUiIiIionhYKfH3ArhYVc8GcA6Ay0TkUwDuA/CQqn4YQDuAG5IXJhERERFR+lEXNQ2Imvirodt8mmP+KYCLASw3py8FcE1SIiTHNXu8KGv0DJt24FinQ9GEt7OyFYFgcr5ZO5K4bSIiInJeMKjw+gO2btONbQMs1fEXkfEiUgCgCcBaABUAOlTVby5SC+DUCOveKCL5IpLf3NxsR8yUYp++bwMufSh32LQrH93qUDSj5VW04ptLdmDxxnLbt72lrBnfWrIDT+dW2L5tIiIicoffvlWMj/7faqfDSDpLib+qBlT1HACnATgfwFlWd6CqS1R1gaoumDNnTpxhkpO8/qDTIYypsasfAFDR3B1lydjVdxrbrmzusX3bRERE5A7LdtU4HUJKxNSrj6p2ANgI4AIAJ4rIBHPWaQDqbI6NiChh6qbKlURElDXcePax0qvPHBE50Xw8BcClAEpgXAB8zVzsegArkhUkERG5m4hUiUixiBSISL457SQRWSsiZeb/WU7HSUQUr3jLkcRFlf2tlPjPA7BRRIoA7AawVlXfAfAbADeLSDmAkwE8m7wwiYjiI276xc18F6nqOaq6wHy+EMB6VT0TwHrzORFResmg88iEaAuoahGAc8NMr4RR35+IiCicqwF83ny8FMAmGIVGRETkAI7cS5Zd9nBu9IVSYCBCY2NW5SZylAJYIyJ7RORGc9pcVa03HzcAmOtMaETkhGaPFx29A06HQSGilvgTDSpt8ERfKAXqO/uGPc+gO3BE6ezTqlonIqcAWCsipaEzVVVFJOzluXmhcCMAnH766cmPlIhS4ry71wEAqhZd6XAkQI/Xj2mTmPayxJ+IiBKmqnXm/yYAb8KoCtooIvMAwPzfFGFddvtMRElVXOeugUedwsSfyAJWIyKKTESmiciMwccAvghgP4C3YfT6BrD3NyIix/GeB9EYWIuIyJK5AN40e1CaAOBlVV0tIrsBvCoiNwA4CuAbDsZIRBSfDCr9Y+JPREQJMXt5OzvM9FYAX0h9RESUKcqbPLjtjf14/vvnYepEZ9NWEWD5nlqceuIUXPChkx2NJV6s6pMlgkHFriNtjsZQ3tSNJk9/0rafjtfj3V4/9ofUO2zs6seRlh4HI0p/5U3daPZ4nQ6DiIhscPfKEuyqasOOylanQwEA/Oq1Qnz7mR1OhxE3Jv5Z4qncCnzj6TxsLWtxLIZLHtyMT96z3rH9u9F/L83HVY9tHeqi9JP3rMdFf97kbFBp7pIHN+PfF/FzRkRE9oq3xo+bagox8c8S5U3dAICGruSVuFthx4dfMqjm/d7qdgBA0E2/ChnAF+DrSUSUjt4trsfq/Q1OhzFcnP2GuzFbYeJPRERERK5w00t78aMX96Rsf0W1HegbCKRsf05j4k9ERERESdfs8aKkvitp2+/s8+Gz928c1nYumq88vg3/+0pB0mJyGyb+RERERJR0Fz+wCZc/siVp2991pA3Vbb14eN3hmNYrrO1IUkTuw8SfyAJNyz6DCACU7SeIiFzB0++Pe91AEGnXY5sbzz5M/CljxJLgff/53Xhld3XU5STOBj1WJfqj8Id/HMB9q0tHTf/P53Zh+Z7aBLeePr69ZAdWFNQ5HQYRUUYrru2EPxB0ZN8PrDmE8+5eZyn5r2rtHTXNyTKgJKcSMWHiT2kvnuR8Q2kTfvN6cRKiSa2/bqvCk5sqRk3PPdyMX71W6EBEzsirbMXP/x6+jmayL96IiLJBaUMXvvz4VvxpzSGH9u8BALT1DERc5pXdNQCO92QYKpuq84yFiT+lHeZxREREqTVY0n6gLnmNcxNRXNuJdSWNEecvercU28qdG8vILZj4ExEREVFa6/NF75Kzrr0vBZG4GxN/IiIiIqIo3NhYN1ZM/ImIiIiIIsikGsYZmfjvOdrmWKvzbOcPBLHnaFtC2xjwB7HnaHvM68VzJd7a7XDXYJlQfJBi/b4ACmrYSIuIKBuM1UGDqrLL5hhlXOJfWNOB657MwwNrYxu8gezx5zWHcd2TeShKoPX8PatKcN2T23G40WNp+USuxC9+YHMCa9uHDZat++2b+3HN4m2o62BdTSKiVHFjfn3GravwnWd2Oh1GWsm4xH+w1fnhBmtJI9nrUIPR2r8lgZL0g+Zw3mN12WWXzj5f0vdB9hocit3Tz/eOiCjVkllQNbL0vtvrx4bSpjHXyatsTV5AMTra2hP2DoSqcWyBoPNXTxmX+BMlhfPfVSIiooy2t3p4bYHntx1JyX7tuJuxo7IVn/vTJryWf3zwzNBrpF+8UoAP3bYq8R0lKGriLyLvF5GNInJQRA6IyM/N6XeISJ2IFJh/VyQ/XKLUYg0cIiKisXV7/bh/dSl8CbavdEOJeLwGBw0riFDVeUXBsVSGE5GVEn8/gF+q6scAfArAT0TkY+a8h1T1HPPP+csYIiIiIkqpB9ccxhObKvD6ntroC1u0qrg+7PQvPZyL+k628YpX1MRfVetVda/52AOgBMCpyQ6MKGbpW1DgykZTREREVnj9xuBZPhtL7H/80t6I865ZvC2pvTeqKq5evA2r94e/+EhnMdXxF5H5AM4FMNiE+qciUiQiz4nILJtjS0gm5FFVLT246M+bhhos2+FXrxVi2a5qfP5PG5NyxbzxULPt24yGPeKkt/99pQB/2VJpy7bCNSp/dmv4OqLfeDoP70YoUSIiouHclFc1dnmRW5a8fMMXUBTWdOBny/YNm/7yzuqk7TNVLCf+IjIdwOsAfqGqXQCeBPAhAOcAqAfwQIT1bhSRfBHJb25OflKYSUngs1uP4EhLD961+Yrz1jeKUdXaa+stOUpMJn1uY/XmvjrctbLElm29u79h1LQSs5eokXYdacNNY5QoERERxeNLD+Xi+8/vDjtvX3Xs4xTZyVLiLyI5MJL+l1T1DQBQ1UZVDahqEMAzAM4Pt66qLlHVBaq6YM6cOXbFTVksm5NkAtRiuZOwaTYREdkgXN4x1sBhhxo92FDaFPZsdbS1177A4mClVx8B8CyAElV9MGT6vJDFrgWw3/7wKCu56X4iuVa0xN7qBQIREblDOo3C2+cLWF7WTQWWVkr8LwTwXQAXj+i6834RKRaRIgAXAfjfZAZK2cdF3xMiIiJyqd+v2O+q5NrNJkRbQFW3InwOxu4700g6Vntw03W/m2IhIiJyk8HS70MNXZi/cCVevOGT+PSZs1O2/6V5R3HFv8yLvmCM0ugGhGUZO3JvOt0uSlR+VVvCg17sr+vEpkPHh8VWVeyuakNpQ/iGkVZ09vpwqMFjadmjrT14t7gevkAQte3H67/tr+tE74Df0jbirdrR3jMw9Li+sw81bcf3H7T4OdpX3Y4Bf+xdi7E6ymiNXf042trjdBhDdle1ZdXvCRFRrN7YWwfA6DQBAN47MLqjhWRrDTmXJyqT7x5kXOKfyW9WODsqW/G1p/Lw5KbymNcNzWWuemwr/uuvx1ugv5pfg68/lYfLHt4SV1yqwHVPbceXHs61tPzn/rQJN720F/e9W4pjnf0AgB6vH1c9thU/e3nfmOsmejfj3D+uHXp8wb0b8Jn7Nw49f2JTBYDjP2bhVDR349ontuOP7xyMO4Z0vCOTLJ+8Zz0+96dNTocBAFhzoAFffyoPL+w46nQoRESOYgGIPeIpJLRTxiX+mWis71qDmSSXmUNF26WyJfES1/I4YioNuUPgNb8c+2rCD3+dCkfM16HJ0x9xmcE7BgcjdBtJqWP18snqCay23RjrorLZPXcg3ExExovIPhF5x3x+hojsFJFyEXlFRCY6HSMRJUbGKGH1Bdx9cXCo0WPb3Yjz716Pbq+1GgmhHlp32Jb9x4uJv4tl290LwFrVl7F+dIjIUT+HMbr7oPsAPKSqHwbQDuAGR6IiopQYLCzzB50t1Y7k2a1H8MMX9oyaHk+1226vH6uK6tHvC6BvIADfGCMJh5Y1hRtoMpWiNu4lIiKKRkROA3AlgLsB3Gx2BX0xgO+YiywFcAeMwR+JKIP5U1Dyf6QlOf3ht3Z7MXNKjqVlb3m9CBtKm7A6wl2EwVoZbsIS/wyRKVXvwh0H6xVSKH4cXOthALcAGCz2OhlAh6oO3guvBXCqE4ERkfv0eP1Ytqt62Dk+lp/3RNrVjaWx63iJ/GA8Y7XD21reEnHea3tq7QrLNkz801wm13qJ9dDSMSFMx5jdIpM/++lGRK4C0KSqo++hW1v/RhHJF5H85uZmm6MjIje68x8HcesbxciraLVlez9+aa8t2wFG5x9WexdMBxmb+DOfii7ca3TJg5tx6xtFeHpzpa37+t0KawM7hybCN1n4Eu+tbsdPXrbvy+4mS3Ir8JvlRU6HEVGP14/LHs7F/rrOpGy/s8+HSx/cjMON1rqEjdcPluZj8cZy/PbN4lHzeHFh2YUAviIiVQD+DqOKzyMAThSRwSqlpwGoC7eyqi5R1QWqumDOnDmpiJeIYmR3XjVY1713wPoIuLGws/ecu1aWRF8oTWRc4s9uERNT3tSNZbtqbN/u3/KS0x3iH/6RnFt9I1kpmbe7StI9q0rxSr7974Vd8o+2o7TBg/tWlyZl+7mHm1HW1I1H1pclZfuD1pU04k/vHcJLO6uTup9Mpqq3quppqjofwLcAbFDV/wCwEcDXzMWuB7DCoRCJyCbpkmVd8uBmp0NwpYxL/DNRttdxd8PRjxUDS4WJIvoNjIa+5TDq/D/rcDxE5JCbXylI6f6q25LT+Dcea0tSP6BZJOzVx8ViySfdkBzbwVJ3nimIg9KT1YuwLL+WTipV3QRgk/m4EsD5TsZDRO7wxr6wNf2GsXtMIrfYX+eecX5Y4k/kAvH0IUxERJTuQs9+t79lrT1gMoWejzOxxgUTf3KVRL5j6fj9ZDUhC+J8X+1s75OJP/5ERE5y8vzX2ecbc34mDxSaFon/kZYeNHtiG+ksE87T+2o6nA4hqkMNnqhfoFiEG9FurPeyqSv64Bi+QBD7qttj3u9InX0+lDYkfruuvMmDtp4BAJGPLRiM/gEut3BL1M5eDazKr2qLmCgHg4o9R9ssbSfS7+5Yr0zo8Y51F6XRE/5zs6+6HZ19PuyobEVJfRerlRERDUrDvOruleE7ADn7D2ssb6O23T1tBeyQFon/RX/ehPPuXmdt4Qw5UxfVdqCo1no3ifGUSCZ6cVTb3osvPZyLbz6dZ9u2K5p7Ylq+3sKoePeuKsW1T2wfs1vIz96/ccxtqCq+tWQHLnt4S0zxhXPJg7n44kNj9zbwzJbo3ala6bEgWQOcRLKhtBFfeyoPS7dXhZ3/dG4lrnsyD9srIg94YlW4r/qdFo/3gns3hJ1+7RPbcfYf1uBbS3bg8kcSf6+JiDKNlcJwK8sM5gntZkFYMjyz5UjM63T1De+z3+7egZwumE6LxD8bNXVZu8Ph5O2owS9HaUNy+1lP1P5jxgVU2xg/Llb6ES6pt69xTkv32D90djVwGjz2VKlt7wMQ+QJu8OIrWcOYO/2DSkRE1hSbY8Dc8nrk8WraeuyrUWDVt5/ZMex5vy/1d86TiYk/kU2YcxIREVkzEIieUD+3LfYS+3hkU6ERE/80kEWfx7BGVmNyX5sb1wWUEtl51EREZAc3n0MG2/NZaG6Xdpj4E1mQgd99R8VSuuKGrk6dj4CIKDZrDzbi53/f58i+X82vHVZoF0izDPrKR7c6HULSZGzin14fscRl2/GG44YEMVaRIs7U246xlPDY2R1nvDK5Szciymz//bd8rCg4Ztv2Yj3Hhrb/+2uKquxQdBmX+DtxmvYHgvjqE9uwrXx4TyWqim8v2YG1Bxtj3qbVfCOR431o3eEE1h5u/sKV8PQfb4Rz86vHh+b+yxg91FQ2d0ft4Sa0pOCFvKoxl32n6BguXLQBX3ooF519Plz/3C7sOmJ0H7n7SBuufnwrFr1bGnbdHyzdPea2Q/V4/bjs4Vz8yx3vYUPp8Pf3wLFOXPZwLrr6fbj8kS2Yv3BlxIbByS4F2VedvC5h//PpbRrxAAAgAElEQVS5XRHnjTxBePp9uOzh3Lgagm8pa8F1T24f9Vpd8egW9Hj9EdYCjraO7oLNFwjimsXbYo5hLK/l1+CmF/fYuk0iIreymneE/mY3W+gyO1s4XZ6UcYm/E5o8Xuyt7sCvXiscNj2oQF5lK374Qr5DkR2Xig/a9orWocdd/ccTsrtWlkRc56nNFTjcOHYPNj0hPe7cvuJAxOUEgp++vA91HX041OhB7uFmbD7cPDT/gbWHUVjbiac2V4Rdf11JU8RtjyyBzz/ajtIGDzz9fizeOHx7968+hNIGDzaWNg0l/A+sse8iy80ifcy2lbeitMGDgzH0jDR48eDp92PP0fZRvTL5AoqCMca62HN09NgNte19Y64Tj18vL8K7+xts3SYREWUmp+/oM/En2zj9Yab0wY8KEVF62nioGfMXroTPQq88Y8nUqpR1ZrfWkQQcTpaY+GcKF2RS8QwiFg+rdb9T/ZLYefjp2F4hk/GiloiyyVv76qIuY2X8m7GkKmdItdCaBuE4fbkTNfEXkfeLyEYROSgiB0Tk5+b0k0RkrYiUmf9nJT/c7DTWd8PJC+aRyWmaNdonmyTrt9sdjXudjoCIKPX+UWhfo+BM1z1GWzM3slLi7wfwS1X9GIBPAfiJiHwMwEIA61X1TADrzeeukalXkm7mdCm10/un5OL7S0SUpqL8fPcO+MfsMCLZ/FlUchk18VfVelXdaz72ACgBcCqAqwEsNRdbCuCaZAUZCyfqjFn5uLT3DKC8aXgjVq8/gMIIDQ0jHUZrtxfL9xzvH/dYx/C6ZAP+4NA2/5ZXhb4Eb8XFYqweVkLVdfSNijsZErn4O9rag4PHjjdETfbHateRtoQvVotqO+D1x/Z+B4KKl3dWW37vrGrv9Q37vI98/QaP9cCxzqFpe44Ofw1q20f3yjNSSX2X7bGPZc/RNgSz6ARBRDQokVPU07mRe/cDgPUlTciNUkUmmUZ2HpHJYqrjLyLzAZwLYCeAuapab85qADA3wjo3iki+iOQ3Nzv3pqbCWLnhZY/k4pIHh3dbeec/DuLqxdtwtLXH8j4+cdc6/Oq1Qrxp1r+7Z9XwrinvWVWCqxdvw/2rS/G7FQfw/3632vK2E/Wb14stLXfhog3490UbALijOkc4n/vTJlzx6Jah58m+gfTdZ3dh+Z7auNev6+jDVx7fhtvf2h/Teo+uL8Ntbxbj3D+ujXvf4awsqh/2eQ/3+nn6fcMGSbnuyTws21Uz9PzeCN2uhrprZQluemlv1OW2j+hqNx65h5tx3ZN5KRtCnojIDfp9AfQOpFd1FjdzuujIcuIvItMBvA7gF6o6rE8+NYrpwh6Lqi5R1QWqumDOnDkJBZvOGrtG92FbXGeUdnb0+kbNCxWutLlqRB/lg9UgBreZV9k6ah2yTzIuV6pCLwBj/GXoND9DRbWdUZYcbrB7zQF/Yr0zDInh1ki/b/Q+K5rH7to1nD1VbVGXOdbZH/N2R6oz71KNvHNHRJTJFty1Dh/73XsR54feHY9Fpvbq43aWEn8RyYGR9L+kqm+YkxtFZJ45fx6AyJ2gExFZMOadFQeLSdi+gIiy1ViNV9870DDs7rhVy/fUDqte80Le0bhio9hZ6dVHADwLoERVHwyZ9TaA683H1wNYYX94ROR28STFiaTRqWy4z/IoIsoUKwrqMH/hSvT7RrcFq23vhT+OfvnjuUsLYNSAp7ss3Lkle1gp8b8QwHcBXCwiBebfFQAWAbhURMoAXGI+J5u4te57KLd1nOR0PCN3H+ttTKfjTyarLwVL1omI4vPr1wpx/+rIbaMGR5Bv7Bpe9bGl24tP37cRd60ssTWeADtCcKUJ0RZQ1a2IXPD1BXvDSU/JLoG0svmRy2RyEmlVOr8GsYbuZMIc7+scLmY3v2dujo2I6DWzg4hbLjsrpvUG2xnmlo3dAUusv4HrSxpjW4FSIuNG7k1lOfmOylZ85fGtuGbxNmPfSWqocuc7B0fdmnt0fdmwW2xj1cHbUNqYUI8xkeyL0BVpst29ylqpxOFGT5IjGe17f901NGqf3ReEhxs9uPyRLejqj9wYPNxncEdlK776xLZh0yqau3HZw7lDjYIjKazpwJcf2zrULWzfQABffmwrimpHv/c/WLob74QZ9GVLWTN++MKeMfdjRSKv5q9eK8Qn/rg25q4/b19xAACwoaQJt705dq9VPMkRER0XYGlJWE6/LBmX+KfSLcuLUFTbiZbu5Pf/WlI/utX84o3lQ4/zq9ojrvujF6J3dxiP36+IretIu1gdUfCJTRVJiyHSNd7GQ8nrsvbBNYdRUt+FbWWxdU15y/Ii7K0enqg/vqEcpQ2eqPUq73znIIrrOof62y+s7UBxXWfYW8LrSpqw88jo7f387wWjNxzhhy+eiyWra7T2DGBXmPissNIr0E0vJud7RkSUiL3VkfODSNjhTuZi4k+UJNnSVZnTpRdERKlWWNMRtpGsG331ie1o8iTepXE4Y7VHXLwxeYVvFD8m/m6VHTkjhci6/DnMAWfda0BEaaehsx9XL96GW9+wNmhlrNYebERehb1j8fR6j1+krCpuQFXL2AOHritpiutOAbkfE/8MMbKhZDYmUJl0zLFWecmUUvdkH0cyN88eiYiyQ7d3cMDE5LRz+++/5ePbz+ywdZt5la1Dv1H3rS4dNrJ6JF99YrutMZDB6coAGZv4Z0oiNKaQY8yK43U7F7wJKfs9SfBQIyXJYyXPkV5e3hwjIhrbyLsT/ji62hy5xoNrDrHAIw1lXOJv5UqqpL4LvQPRe/ewulyi9psNJ2O1reJ4I0+vP4iO3uONjA9a3OaaAw1o7fbGtX87uugtj3Pwj3RT3uTBpkNNMfcqE2rwB7azzxf3oCkAUFzbiYEoA7WUN3Wjpq0X5U3GfsqautHRO4C/bKmMe79W7KuOXoJW0Tz8FnXPgPV6tu099jXE33ioaej1ISJy0si7xM9vOzJqmZq2Plv3uTTvqKXfbBrO6TLCqP34Z5p+XwCXP7IFn/vIHCz9/vkRl+sd8OPyR7bg4rNOwXP/dV5SYhm8Rvntm/tx6f+bi1NmTo5p/cau4Qn7lY9uxT+dYGzDF7D2ybrRhm4WE7HnaObWIQy9Bq1q7cV//XU3LvjgyRGXr7CYRC6MsV7pyIvhLz++Neo6I28D3/pGccT6rHaW+Bw4Nrr3qlChF7fxeDykJ6xEFNZ04Ht/3W3LtjKBiEwGkAtgEozzynJV/b2InAHg7wBOBrAHwHdVNfndoBFlmfoRPY/d8Y+DltY70tIDfzD2EXsHpXIkdbJHxpX4RzN4eys/SjeGPr+15eziSaAkeFBdR4SredaFcI2dRyI32Gq1sTQ6VNLrzUfZfqQTQzxh9cZQup9MI0e+BJwvxXGYF8DFqno2gHMAXCYinwJwH4CHVPXDANoB3OBgjEQUosnTj4v+vAl3vH3A0vKL3g03hg4TjHSTdYm/nZLZQGPkprM7p8g+mf5+x5Mksy6pe6lh8JZVjvmnAC4GsNycvhTANQ6ER0RhdPUZjZR3VFor4BxZzZLSU9Ym/nakEFlewkcu5HRvAeFky3gG2U5ExotIAYAmAGsBVADoUNXB25m1AE51Kj4iGq7ShkQ+93DyBq2k5Mi6xD/WFIS5ffpw24UY893MxPc1PFUNqOo5AE4DcD6As6yuKyI3iki+iOQ3NzORoOxzuNGDI1H61rdbnw0DkEXrKILcJ+sSf8viOLkzIchuI6877L4QcduFzaB4w4rneNzwHYsUt0vfnpRT1Q4AGwFcAOBEERnsROI0AHUR1lmiqgtUdcGcOXNSFClR8nz5sa344Qv5lpf/4kO5uOjPm2LaR78vgO8/vxtHWnqw9mBjjBFStsraxD/SyXvXkTZ8/ant8MdxFdvt9eOqx7bgUINn2PTQbi+/8VQefIEg9td1orD2eJebVzyyJXLj3BgE3ZodhnHbm/aOerjxUJOt24vE0+8LO0x5UW30LlRDPwvzF64cNi+0h6O2kIa+nX0+XPrgZqwZ44f9msXbABi94lz+yJaocSQqtL79riNt+NaSvLDLfffZncOOZdCKgmP41L3rY9rnlx/bhgIXdB23u6otbG9YATv6t01TIjJHRE40H08BcCmAEhgXAF8zF7sewApnIiRKreK6Trx3IDnJ+PyFK3H3yoPYWtaCDaVNuOudg/i9xQa6of703qEkREdul3WJf7QSw1uWF2J3VTtq280kPIZzeUevD/vruvDAmshfpl1VbWjo7Med7wzvasvrD+JveVUhccZXtNnZ64trPSe8vLPa1u2lKvHaVm7vUOrhbCk7PkbDxtImlEXp6jN0MJaS+uFdYqailDxS47DQ4wiVVxn7a9jS7cVNL+2NeT27sYFbWPMAbBSRIgC7AaxV1XcA/AbAzSJSDqNLz2cdjJHIdfZVt6PJM7qXsGie2TK6n/5YDeU5lFWyrh9/q9xQpcAuGXQoRORCqloE4Nww0yth1PcnojCufWK70yFAxL1VScl+WZv4s2tASja3XDzyB52IyF36fQGcdfvqmNZp8vTj6c2jR09PdaNgSm8Zm/hHSuzD1c0Ou76FZCmViR2TNzfhm8HPIxFR/Fq6vTGvc9sbxVhXMrotW2df8qr4cmTezJNxdfytJvYR1x+RzcfzkY+2TjK/R/yKZh633DkgIqLUmb9w5bBOIHyB1J/hH9tQnvJ9UnKlXeLf7wvgwLHovacAQN9AYFRDx+PbCaLH6w87DxiebB041ol+s79bVcXe6naoasQEfn9dJ3xj9ApUWNuBYISGqP2+AA4e6wp7+VJQ43yPJgT0eAMpTcarWnpTsp+atl7Ljcx4MUJElFqbHRgs652iYynfJyVX2iX+t71RjCsf3WopQfnZsn24/JEtwxL80ITlB0uj97Hb7fXjyke34rdv7gdgdEP41Se24+3CyF+G+s5+3L2yZMy48kO6bgz1y9cKccWjW9DeO7wLxL1H24e6bCRn/fK1QkvL9Q4kPjgKADy07nBC61tN0j9z/0acf3dsXWwSEVFsKpq7sbE0tu6nw3WLHEl5lF7gRmJtnuySdnX891YbCXOPNwDMGHvZ/KNGF4MD/iCmTRo9f+eRyF0KjvwiFNQY+600G9FEa0xTXGftrsRIe80Lgv4RI+od62S3W+nG78BtWSIicrcvPLA55nViqWt/yYOxb5+yR9qV+CdbutdgCPfjwGoZZDeWEBER2e+5rdb75y8yCxiT+XN8uDG2uwfkflETfxF5TkSaRGR/yLQ7RKRORArMvyuSG2bqRUuWoyU+cbWEZzJFRESUtV7YcdTyso+uLwMQWzUgIisl/s8DuCzM9IdU9Rzzb5W9YUUXLbFOVolksgvPB+NOtHciokEsnSciSl8rCuqcDoEySNTEX1VzAbSlIBZLRna3OXr+6GlxdcmZYD/+CedaMvIpLwSIiIiyzc//XhA19yGyKpE6/j8VkSKzKtAs2yKyyfaKVnT0jh7UYqzvTnvPwFDj3SZP7INrJOrp3Eo0dBm9Fd2yvGjYvPJma/XsqlpT0/Vjtns1vybqMn/Lq0p6HFZUt9n/meBNBCIi6+o6+lCTwG9xYS278yZ7xJv4PwngQwDOAVAP4IFIC4rIjSKSLyL5zc329UGbjMTjneL6ocev7B6e2MUzsJed1+e5DvTfS5GtKIjet3FpgycFkRARkVut3t+AtwuP4cJFG/CZ+zfGvZ1YGv0SjSWuxF9VG1U1oKpBAM8AOH+MZZeo6gJVXTBnzpx44xwSTzIdXwIePrW3ereN9aopk/GmMxFli/ImD775dB56B4YP+lnR3DPmQKAA8KMX9+B/lu2zvK9oXYUnU2Wzc/um1Ikr8ReReSFPrwWwP9KymSxdknu2DyAiIorPPatKsfNIG/IqjLF/fvLS8UT+aGsv/IEgvP7jY+/E1asfUYpEHcBLRJYB+DyA2SJSC+D3AD4vIufAKBavAvDDJMbokBFVe/hFJhrCbwMRZatDjcOrcV77xHYU13WiatGVAIADx7ps3ycb95Jdoib+qvrtMJOfTUIsMYmUh4f7asSTpET9jkXrTjSOfRIREVF6KTYH0hoUTEJBYbQqRURWpd/IvSMS8obOfqw92AhfIBhxlZL6LhTUdEBV4x7oYvBqO5ZqMx19o3sVckKfLxB9ISLT6v0NToeQtkbWASai9NLk6cfWspa4169q6cHNrxbaGJGhpTv1PQ1SZkq/xH+ET927Hv/9t3wserc04jL/8ZeduGbxNjy3rQoX3LvBtn1HuyvwxYc227YvolT50Yt7nA4hbX3sd+85HQIRJeDaxdvx/z27M+71f728EOVN1rrfJnJC2if+g0beagunrHHs7hUlwuNwot7IU0VLN4fRpszENi9ElInqOvqSuv2+Ad6BJ2elceLvTOLB9jVEREQUj0/duz6u9Zh6kF3SLvFP5offzksJlocSERElT2efD/etLoV/jDZ+btPpkrZ/lL3SLvGPaDDT5mUxUdKxazkictq9q0rw5KYKrCyudzoUorSROYl/ko1Mc1TTZwAvIiKiTDPgN0r6/QHnTsaaovv7LGwhu0Ttx9+tnthYgTf21SW0jaAClc3d+OCc6Siu7cTtbx0fgHjkV3nkDYXSBg+q23ojbpsXBZTJ9hxtdzoEIiLHXfno1pTsh2k/2SXtSvwHr3pHJv3xXnU/sr4MAPC7t/dHWXK4dSWNce2PiIiI3G3+wpWoaGa3nJR50i7xJyIiIvcqqOnAnqNtToeRsHdd1HagnwNxkk2yPvGPVCUn0m01q9XsUlXvj4iIyE2uWbwN1z2Z53QYQx5bX4b9Fsb6SdRgm4NkONbZn7RtU3ZJu8Q/Wt4tNtWEY9pORETkftHO1w+sPYyrHkt+Xfx73y2xLQchSpa0bdw7UryNaa32AsqvMhERkYsk+cT85zWHMX6c9fLRIy09SYyGyB5pVeK/+XAzescY7rqmrRdtPQOR57eP7oXnUEMXDjd6xtwuALT1DKCmrRdd/X5LsTbwthwRZQkReb+IbBSRgyJyQER+bk4/SUTWikiZ+X+W07ESxeKZLZVDj3dXsTczSn9pVeJ//XO7xpz/mfs3jjl/W3nrqGmHG7vxxYdyR00fWZDQ2jMQdfuhWrojX4AQEWUYP4BfqupeEZkBYI+IrAXwXwDWq+oiEVkIYCGA3zgYJ1HcntpcgYWXn+V0GEQJSasSfyIich9VrVfVveZjD4ASAKcCuBrAUnOxpQCucSZCIiIC0qzEfyxsjEtE5DwRmQ/gXAA7AcxV1cE+ERsAzHUoLKKk23So2ekQiKJiiX8EvJAgIoqNiEwH8DqAX6hqV+g8VVVE+GkVkRtFJF9E8pubmTyRu3j97EOfMgcTfyIiSpiI5MBI+l9S1TfMyY0iMs+cPw9AU7h1VXWJqi5Q1QVz5sxJTcDkel5/wFL/+xpHt36BoCIYtLZeuPaBROmKiT8RESVERATAswBKVPXBkFlvA7jefHw9gBWpjo3Sy+r99UOj/v7urQO46rGtqOvoC7tsIn3mf+i2VfjG0+4ZZIwoVTIm8d9z1N5uttYebLR1e0REGexCAN8FcLGIFJh/VwBYBOBSESkDcIn5nCiiH724d2jU38LaDgBAV5/Plm03dhndbNd3GhcS+TbnDUTpIGMa9xIRkTNUdSsiD6f0hVTGQtmt3xfA5JzxUFU8u/UIvv6J9w/NW7arGr+45CO44N4NDkZI5Cwm/kRERJT2dh1pwzeezsOLN3wSEyeMw10rS2yvDUCU7jKmqg8RERFlr11HjEa4eZUtGPAHAQD7qjsS2mb8rQiI3Clq4i8iz4lIk4jsD5nGYdiJiIjI1RrMev3RqCp2VrL3Hsp8Vkr8nwdw2YhpC2EMw34mgPXmcyIiIqKIWrq9Q6XxdhnslLOyuSfubbx3oAHfXLIj6nKHGjxx74PIDaIm/qqaC6BtxGQOw05EREQxWXDXOvzilX22bEvMejhFtR24f3Up3thXZ0yHDM2zqrY9fJehrT0Dw5532tTDEJFT4m3ca3kYdhG5EcCNAHD66afHuTsiIiJKR70DfvQNBHDy9EkAgFXFDbZu/8Ud1Qmt3zcQwF0rSywta/fdCqJUS7hx71jDsJvzOSIjERFRlrry0a34xF3rUra/Q40etI0oqQeA1fsbUNPWO2xaU1c//rKl0vK2f728MOH4iJwUb4l/o4jMU9X6sYZhJyIioux2pCX+uvfxWHuwMewgnKUNHvzqteGJ+/n3rI9p2/Wd1hoLE7lVvCX+HIadiIiIABij4raHKWWPly8wukrNgD+Ia5/Yhvyqkc0Orev2+hMJiyjtWenOcxmAPAAfFZFaEbkBHIadiIiITJ+8Zz3O/eNa27b3+7cPoHREDzpHWnqwr7oDt71ZDMDoIShWB4512RIfUbqKWtVHVb8dYRaHYSciIiLbrS8ZXlWntduLLz2cO/S8vWcAmw41pzosorTHkXuJiIjIVRq7hpfm540YXOvmVwtSGQ5RxmDiT0RERK71v68UoKJpeAPhkf3rE5E18fbqQ0RERJR0pQ2eYfX9NWIH4kQUDUv8iYiIyHbbylsizusbCODxDWVhe++xIsaBeYnIxMSfiIiIbFfZ3B1x3uMby/DnNYfxan4N+n0BqCo8/T5L2y1r6kZhbaddYRJlFVb1ISIioqTYeCj8+J69AwEAQHVbL866fXUqQyLKaizxJyIioqT43l93Dz3WkMr5te19xv+2vpTHRJTNmPgTERGR7V7eVRNx3tqDjRHnEVHyMPEnIiIi25XURx8lt7KlJ+oyRGQfJv5EREQUl84+H869c03c61u5OCAi+zDxJyIiorjsq25He6+13niIyHlM/ImIiCjpVhQcczoEoqzHxJ+IiCiLNXu8KdnPL14pSMl+iCgyJv5ERERZauOhJpx397qI/e1H0tnrw/46DqJFlG6Y+BMREWWpfdUdAIDCmo6Y1vvmkjxc9djWUdP9gaAtcRFRcjDxJyIiopiUNnjCTv/wb99NcSREFAsm/kREREREWYCJPxEREUXV1c9uO4nSHRN/IiJKiIg8JyJNIrI/ZNpJIrJWRMrM/7OcjJESs7e6Hf96xxos21XtdChElAAm/kRElKjnAVw2YtpCAOtV9UwA683n5FKqkecdONaJu1eWAABufaMY5U3h6/cTkftNcDoAIiJKb6qaKyLzR0y+GsDnzcdLAWwC8JuUBUWWiPm/sDZyrz5XPjq8957/Wcb++InSFUv8iYgoGeaqar35uAHAXCeDobFtOtQ87HkgqPjlq4U4eKxr1LIH649Pq+voS3psRGQflvgTEVFSqaqKSMTKJCJyI4AbAeD0009PWVw0WmFNB2bPmISyRg9e31uL1/fWjrn8b9/cP+Z8InKXhBJ/EakC4AEQAOBX1QV2BEVERGmvUUTmqWq9iMwDEHFoWFVdAmAJACxYsGCM2uaUbFcv3gYA+LfTT3Q4EiJKBjuq+lykqucw6SciohBvA7jefHw9gBUOxkIRNHb1Dz2+9oltQ4/3Vsc2ki8RpQfW8SciooSIyDIAeQA+KiK1InIDgEUALhWRMgCXmM/JRd7aV4e/764Zer6PyT5Rxku0jr8CWGPW3XzavF1LRERZRFW/HWHWF1IaCMVkV1Wb0yEQUYolWuL/aVX9NwCXA/iJiHx25AIicqOI5ItIfnNz8+gtEBERUUoU1nTAFwg6HQYROSShxF9V68z/TQDeBHB+mGWWqOoCVV0wZ86cRHZHREREcSpr9ODqxdtw37ulAMYetIuIMlPcib+ITBORGYOPAXwRAPv1IiIicqHmbi8A4C9bj6Cxqx+FNazTT5RtEqnjPxfAmyIyuJ2XVXW1LVERERGRrWRonF7gqse2otnjdTAaInJC3Im/qlYCONvGWIiIiChJ5Hjez6SfKEuxO08iIhsFg6w4TanT2u3F/IUrsb2iZczl8qvasKE04hhqRJQlEu3Ok4iIQjDtp1Qa7Hv/2S1H8O8fmh12mf97qxgv7qhOZVhE5FJM/ImIiDLMondL8dTmClz5L/Owsrje6XCIyCWY+BMR2UiiL0KUFF39PrT3DOCdono8tbkCAJj0E9EwTPyJiIjSnAL41zvWOB0GEbkcG/cSEdlIWORPSeD1B/CjF/agorl72PQf/C0fANhwl4gsYeJPRGQjYeZPSZBf1Y7VBxpw+1scJ5OI4sfEn4iIyOXqO/sBAKpAj9eP/3xuF1q62Rc/EcWGdfyJiIhcav7ClVh4+VlY9G4pAECh+Pjv3wMALLhrnZOhEVEaYuJPRETkMh29A3hkfRkADCX9AFBc2+lUSESUAZj4ExERucx9q0uxbFfNqOk9AwEHoiGiTME6/kRERC7jC3AMaCKyHxN/IiKiFGvp9uKaxdvQYDbaHaRqJPzL99Q6ERYRZTgm/kRERCn2an4NCmo68Kl712NHZSsAYEdlK864dRX2Vrc7HB0RZSom/kREREkUDOpQST4AlDd14/7Vh4aef2vJDgSDiptfKQAAfPWJ7SmPkYiyAxN/IiKiJPrgbavwg6X5UDUuAK5/blfYZY6NqPZDRGQ3Jv5ERJTR/lF4DM/kVjoaw/rSJryyuwZn3LoKdR19jsZCRNmLiT8REWW0ny3bh7tXlaR0n8v31KLJM7wEf9mu6pTGQEQ0EhN/IiLKatWtvbjkwc1o9nht2V5Ltxe/eq0Q339+97DphRx8i4gcxsSfiIiy2rNbK1He1I13io5ZXqdvIIAer3/U9GBQUVjTAQDYX9eF+QtX2hYnEVGimPgTEVFWExEAgMYwZtZ5d6/Dx3//HgBgZVE9fvzSHrT3DOBHL+7BDUvzkxEmEVHCJjgdABERkZPMvB/BGDL/brO0P7REf1Vxg61xERHZjYk/ERFlNYFYXrazz4fOXl8SoyEiSh4m/kRElNXGmXl/pAL/fl8AJfVd+P3bB1DEBrpElMYSSiURVk4AAAy5SURBVPxF5DIAjwAYD+AvqrrIlqiIiCgjpMN5YrCqT0ffwNA0VcV/PrcLX/7X9+GW14scioyIyF5xJ/4iMh7AYgCXAqgFsFtE3lbVg3YFR0RE6cuJ84QxOi4wzizGD9d3fjCouPbJ7Sis6cDH3zcTJfVdAIDFGyuweGPFsGW3lLUkK1QiopRLpMT/fADlqloJACLydwBXA2DiT0REQArPE1a6zQy3zIFjXXaHQkTkWol053kqgJqQ57XmtGFE5EYRyReR/Obm5gR2R0REaYbnCSIiF0l6415VXQJgCQAsWLAghl6Sj9tyy0VYUVCHlu4BTJs0Hs0eL06YkoMpEydAVVHf2Y8PzZmO+s4+TJs0ASdNnYj23gF09PnQ1efDxPHjMGXieJwxexo6en0IqKJvIIAzZk/DsY4+AMDMKTmYMXkCatv7ME4Es6dPhKffj35fAB6vHzMn52DW1Bx4+v3oGfBj9vRJQ9sob+5GdWsvgqp434lT0N47gLkzJ2PujElo7vaivrMfMyfnIGe8YHLOeDR29WPeCVPQ2mMcx+zpk9Dk8WLi+HHo9voxJWc8FMbt6vrOfsyePhEzJ+fgWGc/Jk0Yh/HjBKfNmoKgAuMFaPJ4MXfmZORVtGLcOOADJ0/DxPHjME4EgWAQrT0DeP9JU+HzB1HX0YdTZkxCW+8AOvv8OG3WFHT0DmDShPGYPmkC+n0B+IOKHq8fvb4APjh7Go609ODj7zsB48cZ8fR4/VDF0LGeOXcGDh7rwuSccQgGFePHjcNJ03JQVNuJD58yHe87cQp6vH7sPNKGfz71BBw81oVZU3Mw74TJOGnaRHj9QWw81IR/OfUETJk4AR29A+j2+jFOBLOm5mDShPFo7x1AUI1b9KfMnARVIKCKmZNzEFTFxPHj4AkZTKerz4f6zj6cNmsqpk48vn53vx8TJ4zDSdMm4v2zpqCothP/ctoJ6BsIoKPPhw/PmY6BQBCNXf04Y/Y01Lb34cCxTvy/f5qJuSdMxsFjXejs82Hm5Ano9gZw2izj2HImjMOJU3LQ3utDUBUnTMnBydMmIqjAziOtOGFKDsaPE/zTzMnw+oNo7x2A1x/E+2dNRbfXh6OtvZg+aQJOmTkZUyeOR2u3FxPGj8MpMyZBALT2DKC2vQ8nT5uItp4B9PkCmD97GiaME/QOBKAKfOiUafD0+3G0tQdnzJ6G3VXtmD19ImZPn2R8tgb8GC+CGZNzUN3WA0+/H+eePgvd/X4oFAP+IObMmITDjd3o9voxe/pENHV5ceqsKThhSg7mTJ+EmvZeAEBDZz9mz5iErj7jeN9/0lT0+4I4/aSp2Fvdjpxxgo/80wxUNPVg9oyJqGnrwwlTctDV78OEcYK2ngHkjB+HD5w8FTnjx6G8qRtnzJ6GQ40e/PuHTkZTlxcDgSAaOvvxkbkz0NjVj76BAE6ePhEK43MwKWf8UGvMmvY+CIApE8fjhCk5OHXWFHj6/dhR2Yp/O30Wpk8yvtuD3TVOGCdo7vbi9JOmoscbwPTJE9Da7UWTx4vTZk3BrKkT4Q8E0dxtfC9zxo/D1EkTMGtqDnq8ftR19GFyzngAQGv3AKZNmoAPnDwVF3zw5Hh+4rKeHeeJyTnj0O8L2hpXJCeY54uPzp2BaZMm4Np/OxUnTZ0IADhpmvF/ysTxCAYVM6fkQNVoR+ALBDF9knHaVQV8wSByxo0bamMAGGMKBIKKcQIEgorx4wQigmBQh6ovDVLVoTEIiIisEI1lxJLQFUUuAHCHqn7JfH4rAKjqvZHWWbBggebnc2ATIqKRRGSPqi5wOg478TxBRGQfO84TiVT12Q3gTBE5Q0QmAvgWgLcTCYaIiDIKzxNERC4Sd1UfVfWLyE8BvAejm7bnVPWAbZEREVFa43mCiMhdEqrjr6qrAKyyKRYiIsowPE8QEblHIlV9iIiIiIgoTTDxJyIiIiLKAkz8iYiIiIiyABN/IiIiIqIswMSfiIiIiCgLMPEnIiIiIsoCTPyJiIiIiLKAqGrqdibSDOBonKvPBtBiYzhOyZTjADLnWDLlOIDMOZZMOQ7A+rF8QFXnJDsYt+N5IibZdrxA9h0zjzfzxXLMCZ8nUpr4J0JE8lV1gdNxJCpTjgPInGPJlOMAMudYMuU4gMw6FrfLttc6244XyL5j5vFmvlQfM6v6EBERERFlASb+RERERERZ4P9v72xCraqiOP77Y35EWmqFiAppCOEgzCQMxEGRXxMLHDhSKgj6gBo0MISwYUENokiKBI1Iy4qcRFkJjdS+nvpM1KcJJaaQqTXpczU46+nh9c7Veznn7HvuXT843H33Pvfu9d9r7732O/uc+5q08H89tQEl0Ss6oHe09IoO6B0tvaIDektLt9Nvbd1veqH/NIfe3qdWzY25xz8IgiAIgiAIgs5p0hX/IAiCIAiCIAg6pOsX/pKWSzoiaUjS+tT2FCHppKSDkgYkfe15UyXtknTMX6d4viS97JoOSFqQ+551fv4xSetqsHuzpLOSBnN5pdkt6U5vlyH/rGrWslHSKffLgKSVubJn3K4jkpbl8kftc5JmS9rr+dsljatIxyxJuyV9L+mQpCc9v1F+aaGjiT6ZIGmfpP2u5blW9Usa7++HvPyWTjUGV6aJbaeKY0bRGC+qoyKNSeJLJ3VUqLfy+a6T+aYkvcliVUIfJ4trpfnZzLr2AMYAx4E5wDhgPzAvtV0Ftp4EbhqR9wKw3tPrgec9vRL4GBCwCNjr+VOBE/46xdNTKrZ7CbAAGKzCbmCfnyv/7IqatWwEnh7l3Hnen8YDs72fjWnV54B3gTWe3gQ8WpGO6cACT08Cjrq9jfJLCx1N9ImAiZ4eC+z19hu1fuAxYJOn1wDbO9UYxxV908i2o+KYUTTGi+qoSGOS+NJuHRXr3UjF8x1tzjcl6k0WqxL6OFlcK8vP3X7F/y5gyMxOmNmfwDZgVWKb2mEVsMXTW4D7c/lbLWMPMFnSdGAZsMvMzpnZr8AuYHmVBprZl8C5Kuz2suvNbI9lvXNr7rvq0lLEKmCbmf1hZj8AQ2T9bdQ+51cZ7gF2+Ofz7VIqZnbazL719G/AYWAGDfNLCx1FdLNPzMx+97dj/bAW9ed9tQO41+1tS2MVWnqQXmq7OsZ4UR2lkzC+tFtHlXqLKHO+a3e+KYXEsSqVj1PGtVL83O0L/xnAj7n3P9G6gVNiwKeSvpH0iOdNM7PTnv4ZmObpIl3dorcsu2d4emR+3TzhW36bdXlbu10tNwLnzezvEfmV4lt5d5BdYW6sX0bogAb6RNIYSQPAWbLAdLxF/Zds9vILbm+3j/0m0tS2qzJmtBrjRXXURUqNqfpK1fNdu/NN6SSIVcl9nCCuleLnbl/4N4nFZrYAWAE8LmlJvtD/Wm3cTyg11e4crwG3AvOB08CLac25eiRNBN4HnjKzi/myJvllFB2N9ImZ/WNm84GZZFdTbktsUtBskseM1PNIP2ikofNdO6SOVSl83OS41u0L/1PArNz7mZ7XdZjZKX89C3xItjA4M7zF5K9n/fQiXd2ityy7T3l6ZH5tmNkZX7D9C7zB5e2vdrX8QrZleM2I/EqQNJZsUnnbzD7w7Mb5ZTQdTfXJMGZ2HtgN3N2i/ks2e/kNbm+3j/0m0si2qzhmtBrjRXXURUqNtfeVmua7dueb0kgYq5L5OGFcK8XP3b7w/wqY6084jyN7mGFnYpv+h6TrJE0aTgNLgUEyW4efTl8HfOTpncBaZSwCLviW1SfAUklTfJtoqefVTSl2e9lFSYv8PrS1ue+qhRH39j1A5hfItKzxp+RnA3PJHiIatc/5FYXdwGr/fL5dyrZZwJvAYTN7KVfUKL8U6WioT26WNNnT1wL3kd3bWVR/3lergS/c3rY0VqGlB2lc21UdM64wxovqqIuUGovqqIya5rt255uytKWMVUl8nDiuleNnK/Fp5yoOsie0j5LdT7shtT0FNs4he6J6P3Bo2E6ye68+B44BnwFTPV/Aq67pILAw910PkT2YMQQ8WIPt75BtS/1Fdl/Yw2XaDSz0AXAceAX/p3E1annLbT3gg2N67vwNbtcRcr9qU9Tn3M/7XON7wPiKdCwm27Y8AAz4sbJpfmmho4k+uR34zm0eBJ5tVT8wwd8PefmcTjXGcVX+aVTbUUPMKBrjRXVUpDNJfOmkjgr1Vj7fdTLflKQ3WaxK6ONkca0sP8d/7g2CIAiCIAiCPqDbb/UJgiAIgiAIgqAEYuEfBEEQBEEQBH1ALPyDIAiCIAiCoA+IhX8QBEEQBEEQ9AGx8A+CIAiCIAiCPiAW/kEQBEEQBEHQB8TCPwiCIAiCIAj6gFj4B0EQBEEQBEEf8B89I1zyISaxBgAAAABJRU5ErkJggg==\n",
      "text/plain": [
       "<matplotlib.figure.Figure at 0x7f7f71c50cf8>"
>>>>>>> master
      ]
     },
     "metadata": {},
     "output_type": "display_data"
<<<<<<< HEAD
=======
    },
    {
     "name": "stdout",
     "output_type": "stream",
     "text": [
      "frame: 2527000 (50.54%), q_entropy: 1.787, (99.74% of max),\t\t\t\t\t\t\t\t\t\t q_value:  637.06  637.18  637.19  636.99  637.11  636.92  "
     ]
    },
    {
     "ename": "KeyboardInterrupt",
     "evalue": "",
     "output_type": "error",
     "traceback": [
      "\u001b[0;31m---------------------------------------------------------------------------\u001b[0m",
      "\u001b[0;31mKeyboardInterrupt\u001b[0m                         Traceback (most recent call last)",
      "\u001b[0;32m<ipython-input-16-789d7c7f35b8>\u001b[0m in \u001b[0;36m<module>\u001b[0;34m()\u001b[0m\n\u001b[1;32m     72\u001b[0m \u001b[0;34m\u001b[0m\u001b[0m\n\u001b[1;32m     73\u001b[0m     \u001b[0;32mif\u001b[0m \u001b[0mlen\u001b[0m\u001b[0;34m(\u001b[0m\u001b[0mreplay_buffer\u001b[0m\u001b[0;34m)\u001b[0m \u001b[0;34m>\u001b[0m \u001b[0mreplay_initial\u001b[0m\u001b[0;34m:\u001b[0m\u001b[0;34m\u001b[0m\u001b[0m\n\u001b[0;32m---> 74\u001b[0;31m         \u001b[0mloss\u001b[0m \u001b[0;34m=\u001b[0m \u001b[0mcompute_td_loss\u001b[0m\u001b[0;34m(\u001b[0m\u001b[0mbatch_size\u001b[0m\u001b[0;34m)\u001b[0m\u001b[0;34m\u001b[0m\u001b[0m\n\u001b[0m\u001b[1;32m     75\u001b[0m         \u001b[0mlosses\u001b[0m\u001b[0;34m.\u001b[0m\u001b[0mappend\u001b[0m\u001b[0;34m(\u001b[0m\u001b[0mloss\u001b[0m\u001b[0;34m.\u001b[0m\u001b[0mdata\u001b[0m\u001b[0;34m[\u001b[0m\u001b[0;36m0\u001b[0m\u001b[0;34m]\u001b[0m\u001b[0;34m)\u001b[0m\u001b[0;34m\u001b[0m\u001b[0m\n\u001b[1;32m     76\u001b[0m \u001b[0;34m\u001b[0m\u001b[0m\n",
      "\u001b[0;32m<ipython-input-14-fd148b4e595f>\u001b[0m in \u001b[0;36mcompute_td_loss\u001b[0;34m(batch_size)\u001b[0m\n\u001b[1;32m      1\u001b[0m \u001b[0;32mdef\u001b[0m \u001b[0mcompute_td_loss\u001b[0m\u001b[0;34m(\u001b[0m\u001b[0mbatch_size\u001b[0m\u001b[0;34m)\u001b[0m\u001b[0;34m:\u001b[0m\u001b[0;34m\u001b[0m\u001b[0m\n\u001b[0;32m----> 2\u001b[0;31m     \u001b[0mstate\u001b[0m\u001b[0;34m,\u001b[0m \u001b[0maction\u001b[0m\u001b[0;34m,\u001b[0m \u001b[0mreward\u001b[0m\u001b[0;34m,\u001b[0m \u001b[0mnext_state\u001b[0m\u001b[0;34m,\u001b[0m \u001b[0mdone\u001b[0m \u001b[0;34m=\u001b[0m \u001b[0mreplay_buffer\u001b[0m\u001b[0;34m.\u001b[0m\u001b[0msample\u001b[0m\u001b[0;34m(\u001b[0m\u001b[0mbatch_size\u001b[0m\u001b[0;34m)\u001b[0m\u001b[0;34m\u001b[0m\u001b[0m\n\u001b[0m\u001b[1;32m      3\u001b[0m \u001b[0;34m\u001b[0m\u001b[0m\n\u001b[1;32m      4\u001b[0m     \u001b[0mstate\u001b[0m      \u001b[0;34m=\u001b[0m \u001b[0mVariable\u001b[0m\u001b[0;34m(\u001b[0m\u001b[0mtorch\u001b[0m\u001b[0;34m.\u001b[0m\u001b[0mFloatTensor\u001b[0m\u001b[0;34m(\u001b[0m\u001b[0mnp\u001b[0m\u001b[0;34m.\u001b[0m\u001b[0mfloat32\u001b[0m\u001b[0;34m(\u001b[0m\u001b[0mstate\u001b[0m\u001b[0;34m)\u001b[0m\u001b[0;34m)\u001b[0m\u001b[0;34m)\u001b[0m\u001b[0;34m\u001b[0m\u001b[0m\n\u001b[1;32m      5\u001b[0m     \u001b[0mnext_state\u001b[0m \u001b[0;34m=\u001b[0m \u001b[0mVariable\u001b[0m\u001b[0;34m(\u001b[0m\u001b[0mtorch\u001b[0m\u001b[0;34m.\u001b[0m\u001b[0mFloatTensor\u001b[0m\u001b[0;34m(\u001b[0m\u001b[0mnp\u001b[0m\u001b[0;34m.\u001b[0m\u001b[0mfloat32\u001b[0m\u001b[0;34m(\u001b[0m\u001b[0mnext_state\u001b[0m\u001b[0;34m)\u001b[0m\u001b[0;34m)\u001b[0m\u001b[0;34m,\u001b[0m \u001b[0mvolatile\u001b[0m\u001b[0;34m=\u001b[0m\u001b[0;32mTrue\u001b[0m\u001b[0;34m)\u001b[0m\u001b[0;34m\u001b[0m\u001b[0m\n",
      "\u001b[0;32m<ipython-input-8-528f8b89ecfb>\u001b[0m in \u001b[0;36msample\u001b[0;34m(self, batch_size)\u001b[0m\n\u001b[1;32m     12\u001b[0m \u001b[0;34m\u001b[0m\u001b[0m\n\u001b[1;32m     13\u001b[0m     \u001b[0;32mdef\u001b[0m \u001b[0msample\u001b[0m\u001b[0;34m(\u001b[0m\u001b[0mself\u001b[0m\u001b[0;34m,\u001b[0m \u001b[0mbatch_size\u001b[0m\u001b[0;34m)\u001b[0m\u001b[0;34m:\u001b[0m\u001b[0;34m\u001b[0m\u001b[0m\n\u001b[0;32m---> 14\u001b[0;31m         \u001b[0mstate\u001b[0m\u001b[0;34m,\u001b[0m \u001b[0maction\u001b[0m\u001b[0;34m,\u001b[0m \u001b[0mreward\u001b[0m\u001b[0;34m,\u001b[0m \u001b[0mnext_state\u001b[0m\u001b[0;34m,\u001b[0m \u001b[0mdone\u001b[0m \u001b[0;34m=\u001b[0m \u001b[0mzip\u001b[0m\u001b[0;34m(\u001b[0m\u001b[0;34m*\u001b[0m\u001b[0mrandom\u001b[0m\u001b[0;34m.\u001b[0m\u001b[0msample\u001b[0m\u001b[0;34m(\u001b[0m\u001b[0mself\u001b[0m\u001b[0;34m.\u001b[0m\u001b[0mbuffer\u001b[0m\u001b[0;34m,\u001b[0m \u001b[0mbatch_size\u001b[0m\u001b[0;34m)\u001b[0m\u001b[0;34m)\u001b[0m\u001b[0;34m\u001b[0m\u001b[0m\n\u001b[0m\u001b[1;32m     15\u001b[0m         \u001b[0;32mreturn\u001b[0m \u001b[0mnp\u001b[0m\u001b[0;34m.\u001b[0m\u001b[0mconcatenate\u001b[0m\u001b[0;34m(\u001b[0m\u001b[0mstate\u001b[0m\u001b[0;34m)\u001b[0m\u001b[0;34m,\u001b[0m \u001b[0maction\u001b[0m\u001b[0;34m,\u001b[0m \u001b[0mreward\u001b[0m\u001b[0;34m,\u001b[0m \u001b[0mnp\u001b[0m\u001b[0;34m.\u001b[0m\u001b[0mconcatenate\u001b[0m\u001b[0;34m(\u001b[0m\u001b[0mnext_state\u001b[0m\u001b[0;34m)\u001b[0m\u001b[0;34m,\u001b[0m \u001b[0mdone\u001b[0m\u001b[0;34m\u001b[0m\u001b[0m\n\u001b[1;32m     16\u001b[0m \u001b[0;34m\u001b[0m\u001b[0m\n",
      "\u001b[0;32m/usr/lib/python3.5/random.py\u001b[0m in \u001b[0;36msample\u001b[0;34m(self, population, k)\u001b[0m\n\u001b[1;32m    333\u001b[0m                     \u001b[0mj\u001b[0m \u001b[0;34m=\u001b[0m \u001b[0mrandbelow\u001b[0m\u001b[0;34m(\u001b[0m\u001b[0mn\u001b[0m\u001b[0;34m)\u001b[0m\u001b[0;34m\u001b[0m\u001b[0m\n\u001b[1;32m    334\u001b[0m                 \u001b[0mselected_add\u001b[0m\u001b[0;34m(\u001b[0m\u001b[0mj\u001b[0m\u001b[0;34m)\u001b[0m\u001b[0;34m\u001b[0m\u001b[0m\n\u001b[0;32m--> 335\u001b[0;31m                 \u001b[0mresult\u001b[0m\u001b[0;34m[\u001b[0m\u001b[0mi\u001b[0m\u001b[0;34m]\u001b[0m \u001b[0;34m=\u001b[0m \u001b[0mpopulation\u001b[0m\u001b[0;34m[\u001b[0m\u001b[0mj\u001b[0m\u001b[0;34m]\u001b[0m\u001b[0;34m\u001b[0m\u001b[0m\n\u001b[0m\u001b[1;32m    336\u001b[0m         \u001b[0;32mreturn\u001b[0m \u001b[0mresult\u001b[0m\u001b[0;34m\u001b[0m\u001b[0m\n\u001b[1;32m    337\u001b[0m \u001b[0;34m\u001b[0m\u001b[0m\n",
      "\u001b[0;31mKeyboardInterrupt\u001b[0m: "
     ]
>>>>>>> master
    }
   ],
   "source": [
    "num_frames = cfg.NUM_FRAMES\n",
    "batch_size = cfg.BATCH_SIZE\n",
    "gamma      = cfg.GAMMA\n",
    "episode = 0\n",
    "\n",
    "losses = []\n",
    "all_rewards = []\n",
    "episode_reward = 0\n",
    "\n",
    "state_traj = []\n",
    "q_value_traj = []\n",
    "\n",
    "episode_state = []\n",
    "episode_q_val = []\n",
    "\n",
    "\"\"\"\n",
    "fig = plt.figure(figsize=[10,5])\n",
    "ax = fig.add_subplot(111)\n",
    "plt.ion()\n",
    "fig.show()\n",
    "fig.canvas.draw()\n",
    "\"\"\"\n",
    "\n",
    "state = env.reset()\n",
    "for frame_idx in range(1, num_frames + 1):\n",
    "    q_values = current_model.predict(state).data.cpu().numpy()[0]\n",
    "    q_values -= np.max(q_values)\n",
    "    q_values += np.log(np.finfo(np.float64).max/q_values.shape[-1])*0.9\n",
    "    q_values = q_values.astype(np.float64)\n",
    "    q_entropy = entropy(q_values)\n",
    "    \n",
    "    if frame_idx % 100 == 0:\n",
    "        q_value_str = ''\n",
    "        for q_val in q_values:\n",
    "            q_value_str += str(round(q_val, 2)) + \"  \"\n",
    "        \"\"\"\n",
    "        ax.clear()\n",
    "        plt.ylim(0,800)\n",
    "        ax.bar(range(env.action_space.n), QQ)\n",
    "        fig.canvas.draw()\n",
    "        \"\"\"\n",
    "        print('\\rframe: %5d (%.2f%%), q_entropy: %.3f, (%.2f%% of max),\\t\\t\\t\\t\\t\\t\\t\\t\\t\\t q_value: '\n",
    "        %(frame_idx, (frame_idx/num_frames*100), q_entropy, (q_entropy/qe_max)*100), q_value_str, end='')\n",
    "\n",
    "    if q_entropy > entropy_threshold:\n",
    "        action = env.action_space.sample()\n",
    "    else:\n",
<<<<<<< HEAD
    "        action = current_model.act(state=state)\n",
=======
    "        action = current_model.act(state=state, epsilon=0)\n",
>>>>>>> master
    "    \n",
    "    \n",
    "    if episode % 20 == 0:\n",
    "        episode_state.append(state)\n",
    "        episode_q_val.append(q_values)\n",
    "    \n",
    "    next_state, reward, done, _ = env.step(action)\n",
    "    replay_buffer.push(state, action, reward, next_state, done)\n",
    "    \n",
    "    state = next_state\n",
    "    episode_reward += reward\n",
    "    \n",
    "    if done:\n",
    "        state = env.reset()\n",
    "        all_rewards.append(episode_reward)\n",
    "        episode_reward = 0\n",
    "        if episode % 20 == 0:\n",
    "            state_traj.append(episode_state)\n",
    "            q_value_traj.append(episode_q_val)\n",
    "        \n",
    "        episode += 1\n",
    "        episode_state = []\n",
    "        episode_q_val = []\n",
    "        \n",
    "    if len(replay_buffer) > replay_initial:\n",
    "        loss = compute_td_loss(batch_size)\n",
    "        losses.append(loss.data[0])\n",
    "        \n",
    "    if frame_idx % 10000 == 0:\n",
    "        plot(frame_idx, all_rewards, losses)\n",
    "        update_target(current_model, target_model)\n",
    "        \n",
    "    #print('frame_idx: ', frame_idx, end='')"
   ]
  },
  {
   "cell_type": "code",
   "execution_count": null,
   "metadata": {
    "ExecuteTime": {
<<<<<<< HEAD
     "end_time": "2018-06-20T14:42:05.609258Z",
     "start_time": "2018-06-20T14:41:47.071Z"
    }
=======
     "start_time": "2018-06-15T02:33:13.281Z"
    },
    "collapsed": false
>>>>>>> master
   },
   "outputs": [],
   "source": [
    "from common.save_file import *\n",
    "\n",
    "model_dir = \"model\"\n",
    "var_dir = \"var\"\n",
    "name = \"qEntropy_\" + env_id\n",
    "\n",
    "save_model(current_model, model_dir, name)\n",
    "\n",
    "var_dict = {\n",
    "            \"all_rewards\": all_rewards,\n",
    "            \"losses\": losses,\n",
    "            \"state_traj\": state_traj,\n",
    "            \"q_value_traj\": q_value_traj,\n",
    "           }\n",
    "\n",
    "save_variable(name, var_dir, var_dict)\n"
   ]
  },
  {
   "cell_type": "code",
   "execution_count": null,
   "metadata": {
    "collapsed": true
   },
   "outputs": [],
   "source": []
  }
 ],
 "metadata": {
  "kernelspec": {
   "display_name": "Python 3",
   "language": "python",
   "name": "python3"
  },
  "language_info": {
   "codemirror_mode": {
    "name": "ipython",
    "version": 3
   },
   "file_extension": ".py",
   "mimetype": "text/x-python",
   "name": "python",
   "nbconvert_exporter": "python",
   "pygments_lexer": "ipython3",
   "version": "3.5.2"
<<<<<<< HEAD
  },
  "notify_time": "0",
  "varInspector": {
   "cols": {
    "lenName": 16,
    "lenType": 16,
    "lenVar": 40
   },
   "kernels_config": {
    "python": {
     "delete_cmd_postfix": "",
     "delete_cmd_prefix": "del ",
     "library": "var_list.py",
     "varRefreshCmd": "print(var_dic_list())"
    },
    "r": {
     "delete_cmd_postfix": ") ",
     "delete_cmd_prefix": "rm(",
     "library": "var_list.r",
     "varRefreshCmd": "cat(var_dic_list()) "
    }
   },
   "types_to_exclude": [
    "module",
    "function",
    "builtin_function_or_method",
    "instance",
    "_Feature"
   ],
   "window_display": false
=======
>>>>>>> master
  }
 },
 "nbformat": 4,
 "nbformat_minor": 2
}
