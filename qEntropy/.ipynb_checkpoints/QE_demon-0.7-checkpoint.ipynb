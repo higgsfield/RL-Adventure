{
 "cells": [
  {
   "cell_type": "code",
   "execution_count": 32,
   "metadata": {
    "collapsed": true
   },
   "outputs": [],
   "source": [
    "## Features\n",
    "initializer = 'Xavier'"
   ]
  },
  {
   "cell_type": "code",
   "execution_count": 33,
   "metadata": {
    "collapsed": false
   },
   "outputs": [],
   "source": [
    "import math, random\n",
    "import gym\n",
    "import numpy as np\n",
    "import sys\n",
    "import os\n",
    "\n",
    "import torch\n",
    "import torch.nn as nn\n",
    "import torch.optim as optim\n",
    "import torch.autograd as autograd \n",
    "import torch.nn.functional as F"
   ]
  },
  {
   "cell_type": "code",
   "execution_count": 34,
   "metadata": {
    "collapsed": true
   },
   "outputs": [],
   "source": [
    "os.environ[\"CUDA_DEVICE_ORDER\"]=\"PCI_BUS_ID\"\n",
    "os.environ[\"CUDA_VISIBLE_DEVICES\"]=\"1\""
   ]
  },
  {
   "cell_type": "code",
   "execution_count": 35,
   "metadata": {
    "collapsed": true
   },
   "outputs": [],
   "source": [
    "from IPython.display import clear_output\n",
    "import matplotlib.pyplot as plt\n",
    "%matplotlib inline"
   ]
  },
  {
   "cell_type": "code",
<<<<<<< HEAD
   "execution_count": 36,
=======
   "execution_count": 18,
>>>>>>> 02735d11879208de6e7f52d3b98b10c13da7a6ea
   "metadata": {
    "collapsed": false
   },
   "outputs": [],
   "source": [
    "sys.path.append('../')\n",
    "from common.wrappers import make_atari, wrap_deepmind, wrap_pytorch\n",
    "from common.save_file import *\n",
    "from common.entropy import *"
   ]
  },
  {
   "cell_type": "markdown",
   "metadata": {},
   "source": [
    "<h1>Atari Environment</h1>"
   ]
  },
  {
   "cell_type": "code",
   "execution_count": 37,
   "metadata": {
    "collapsed": false
   },
   "outputs": [],
   "source": [
    "env_id = \"DemonAttack-v0\"\n",
    "env    = make_atari(env_id)\n",
    "env    = wrap_deepmind(env)\n",
    "env    = wrap_pytorch(env)"
   ]
  },
  {
   "cell_type": "markdown",
   "metadata": {},
   "source": [
    "<h3> Set configuration </h3>"
   ]
  },
  {
   "cell_type": "code",
   "execution_count": 38,
   "metadata": {
    "collapsed": true
   },
   "outputs": [],
   "source": [
    "from common.config import *\n",
    "cfg = Config()"
   ]
  },
  {
   "cell_type": "markdown",
   "metadata": {},
   "source": [
    "<h3>Use Cuda</h3>"
   ]
  },
  {
   "cell_type": "code",
   "execution_count": 8,
   "metadata": {
    "collapsed": true
   },
   "outputs": [],
   "source": [
    "USE_CUDA = torch.cuda.is_available()\n",
    "Variable = lambda *args, **kwargs: autograd.Variable(*args, **kwargs).cuda() if USE_CUDA else autograd.Variable(*args, **kwargs)"
   ]
  },
  {
   "cell_type": "markdown",
   "metadata": {},
   "source": [
    "<h2>Replay Buffer</h2>"
   ]
  },
  {
   "cell_type": "code",
<<<<<<< HEAD
   "execution_count": 39,
=======
   "execution_count": 9,
>>>>>>> 02735d11879208de6e7f52d3b98b10c13da7a6ea
   "metadata": {
    "collapsed": true
   },
   "outputs": [],
   "source": [
    "from collections import deque\n",
    "\n",
    "class ReplayBuffer(object):\n",
    "    def __init__(self, capacity):\n",
    "        self.buffer = deque(maxlen=capacity)\n",
    "    \n",
    "    def push(self, state, action, reward, next_state, done):\n",
    "        state      = np.expand_dims(state, 0)\n",
    "        next_state = np.expand_dims(next_state, 0)\n",
    "            \n",
    "        self.buffer.append((state, action, reward, next_state, done))\n",
    "    \n",
    "    def sample(self, batch_size):\n",
    "        state, action, reward, next_state, done = zip(*random.sample(self.buffer, batch_size))\n",
    "        return np.concatenate(state), action, reward, np.concatenate(next_state), done\n",
    "    \n",
    "    def __len__(self):\n",
    "        return len(self.buffer)"
   ]
  },
  {
   "cell_type": "markdown",
   "metadata": {},
   "source": [
    "<h2>Computing Temporal Difference Loss</h2>"
   ]
  },
  {
   "cell_type": "code",
<<<<<<< HEAD
   "execution_count": 40,
=======
   "execution_count": 10,
>>>>>>> 02735d11879208de6e7f52d3b98b10c13da7a6ea
   "metadata": {
    "collapsed": true
   },
   "outputs": [],
   "source": [
    "def compute_td_loss(batch_size):\n",
    "    state, action, reward, next_state, done = replay_buffer.sample(batch_size)\n",
    "\n",
    "    state      = Variable(torch.FloatTensor(np.float32(state)))\n",
    "    next_state = Variable(torch.FloatTensor(np.float32(next_state)), volatile=True)\n",
    "    action     = Variable(torch.LongTensor(action))\n",
    "    reward     = Variable(torch.FloatTensor(reward))\n",
    "    done       = Variable(torch.FloatTensor(done))\n",
    "\n",
    "    q_values      = model(state)\n",
    "    next_q_values = model(next_state)\n",
    "\n",
    "    q_value          = q_values.gather(1, action.unsqueeze(1)).squeeze(1)\n",
    "    next_q_value     = next_q_values.max(1)[0]\n",
    "    expected_q_value = reward + gamma * next_q_value * (1 - done)\n",
    "    \n",
    "    loss = (q_value - Variable(expected_q_value.data)).pow(2).mean()\n",
    "        \n",
    "    optimizer.zero_grad()\n",
    "    loss.backward()\n",
    "    optimizer.step()\n",
    "    \n",
    "    return loss"
   ]
  },
  {
   "cell_type": "code",
<<<<<<< HEAD
   "execution_count": 41,
=======
   "execution_count": 11,
>>>>>>> 02735d11879208de6e7f52d3b98b10c13da7a6ea
   "metadata": {
    "collapsed": true
   },
   "outputs": [],
   "source": [
    "def plot(frame_idx, rewards, losses):\n",
    "    clear_output(True)\n",
    "    plt.figure(figsize=(20,5))\n",
    "    plt.subplot(131)\n",
    "    plt.title('frame %s. reward: %s' % (frame_idx, np.mean(rewards[-10:])))\n",
    "    plt.plot(rewards)\n",
    "    plt.subplot(132)\n",
    "    plt.title('loss')\n",
    "    plt.plot(losses)\n",
    "    plt.show()"
   ]
  },
  {
   "cell_type": "markdown",
   "metadata": {},
   "source": [
    "<p><hr></p>"
   ]
  },
  {
   "cell_type": "code",
<<<<<<< HEAD
   "execution_count": 42,
=======
   "execution_count": 12,
>>>>>>> 02735d11879208de6e7f52d3b98b10c13da7a6ea
   "metadata": {
    "collapsed": false
   },
   "outputs": [],
   "source": [
    "class CnnDQN(nn.Module):\n",
    "    def __init__(self, input_shape, num_actions):\n",
    "        super(CnnDQN, self).__init__()\n",
    "        \n",
    "        self.input_shape = input_shape\n",
    "        self.num_actions = num_actions\n",
    "        \n",
    "        self.features = nn.Sequential(\n",
    "            nn.Conv2d(input_shape[0], 32, kernel_size=8, stride=4),\n",
    "            nn.ReLU(),\n",
    "            nn.Conv2d(32, 64, kernel_size=4, stride=2),\n",
    "            nn.ReLU(),\n",
    "            nn.Conv2d(64, 64, kernel_size=3, stride=1),\n",
    "            nn.ReLU()\n",
    "        )\n",
    "        \n",
    "        self.fc = nn.Sequential(\n",
    "            nn.Linear(self.feature_size(), 512),\n",
    "            nn.ReLU(),\n",
    "            nn.Linear(512, self.num_actions)\n",
    "        )\n",
    "        \n",
    "    def forward(self, x):\n",
    "        x = self.features(x)\n",
    "        x = x.view(x.size(0), -1)\n",
    "        x = self.fc(x)\n",
    "        \n",
    "        return x\n",
    "    \n",
    "    def feature_size(self):\n",
    "        return self.features(autograd.Variable(torch.zeros(1, *self.input_shape))).view(1, -1).size(1)\n",
    "    \n",
    "    def act(self, state, epsilon):\n",
    "        if random.random() > epsilon:\n",
    "            state   = Variable(torch.FloatTensor(np.float32(state)).unsqueeze(0), volatile=True)\n",
    "            q_value = self.forward(state)\n",
    "            action  = q_value.max(1)[1].data[0]\n",
    "        else:\n",
    "            action = random.randrange(env.action_space.n)\n",
    "        return action\n",
    "    \n",
    "    def predict(self, state):\n",
    "        state = Variable(torch.FloatTensor(np.float32(state)).unsqueeze(0), volatile=True)\n",
    "        q_value = self.forward(state)\n",
    "        return q_value\n",
    "    \n",
    "    def weights_init(self, m):\n",
    "        classname = m.__class__.__name__\n",
    "        if classname.find('Conv') != -1 and classname.find('Layer') == -1:\n",
    "            nn.init.xavier_normal(m.weight)\n",
    "        elif classname.find('Linear') != -1:\n",
    "            nn.init.xavier_normal(m.weight)\n",
    "            nn.init.constant(m.bias, 0.1)\n",
    "        elif classname.find('BatchNorm') != -1:\n",
    "            m.weight.data.normal_(1.0, 0.02)\n",
    "            m.bias.data.fill_(0)"
   ]
  },
  {
   "cell_type": "code",
<<<<<<< HEAD
   "execution_count": 43,
=======
   "execution_count": 15,
>>>>>>> 02735d11879208de6e7f52d3b98b10c13da7a6ea
   "metadata": {
    "collapsed": false
   },
   "outputs": [
    {
     "name": "stdout",
     "output_type": "stream",
     "text": [
      "Initialized with Xavier initializer\n"
     ]
    }
   ],
   "source": [
    "model = CnnDQN(env.observation_space.shape, env.action_space.n)\n",
    "if initializer == 'Xavier':\n",
    "    model.apply(model.weights_init)\n",
    "    nn.init.constant(model.fc[2].weight.data,0)\n",
    "    nn.init.constant(model.fc[2].bias.data,0)\n",
    "    print('Initialized with Xavier initializer')\n",
    "\n",
    "if USE_CUDA:\n",
    "    model = model.cuda()\n",
    "    print('Using CUDA!')\n",
    "    \n",
    "optimizer = optim.Adam(model.parameters(), lr=cfg.LEARNING_RATE)\n",
    "\n",
<<<<<<< HEAD
    "replay_initial = 10000\n",
    "replay_buffer = ReplayBuffer(100000)"
   ]
  },
  {
   "cell_type": "code",
   "execution_count": 44,
   "metadata": {
    "collapsed": false
   },
   "outputs": [
    {
     "name": "stderr",
     "output_type": "stream",
     "text": [
      "/usr/local/lib/python3.5/dist-packages/ipykernel_launcher.py:2: UserWarning: Implicit dimension choice for softmax has been deprecated. Change the call to include dim=X as an argument.\n",
      "  \n"
     ]
    },
    {
     "data": {
      "text/plain": [
       "1.7917597"
      ]
     },
     "execution_count": 44,
     "metadata": {},
     "output_type": "execute_result"
    }
   ],
   "source": [
    "state = env.reset()\n",
    "qvalue = model.predict(state)\n",
    "nn_entropy(qvalue)"
   ]
  },
  {
   "cell_type": "code",
   "execution_count": 45,
   "metadata": {
    "collapsed": true
   },
   "outputs": [],
   "source": [
    "def nn_entropy(p):\n",
    "    p_softmax = nn.Softmax()(p).data.cpu().numpy()[0]\n",
    "    return -np.sum(p_softmax*np.log(p_softmax))"
=======
    "replay_initial = cfg.REPLAY_INIT\n",
    "replay_buffer = ReplayBuffer(cfg.REPLAY_BUFFER)"
>>>>>>> 02735d11879208de6e7f52d3b98b10c13da7a6ea
   ]
  },
  {
   "cell_type": "code",
<<<<<<< HEAD
   "execution_count": 46,
=======
   "execution_count": 19,
>>>>>>> 02735d11879208de6e7f52d3b98b10c13da7a6ea
   "metadata": {
    "collapsed": false
   },
   "outputs": [
    {
     "name": "stdout",
     "output_type": "stream",
     "text": [
      "entropy maximum: 1.792\n"
     ]
    }
   ],
   "source": [
<<<<<<< HEAD
    "tau = 10\n",
    "entropy_threshold = np.log(env.action_space.n)*0.7\n",
=======
    "entropy_threshold = np.log(env.action_space.n) * cfg.Q_ENTROPY_THRESHOLD\n",
>>>>>>> 02735d11879208de6e7f52d3b98b10c13da7a6ea
    "qe_max = np.log(env.action_space.n)\n",
    "print('entropy maximum: %.3f' %(qe_max))"
   ]
  },
  {
   "cell_type": "code",
<<<<<<< HEAD
   "execution_count": 47,
=======
   "execution_count": 21,
>>>>>>> 02735d11879208de6e7f52d3b98b10c13da7a6ea
   "metadata": {
    "collapsed": false,
    "scrolled": false
   },
   "outputs": [
    {
     "data": {
<<<<<<< HEAD
      "image/png": "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\n",
      "text/plain": [
       "<matplotlib.figure.Figure at 0x7fd941126ef0>"
=======
      "image/png": "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\n",
      "text/plain": [
       "<Figure size 1440x360 with 2 Axes>"
>>>>>>> 02735d11879208de6e7f52d3b98b10c13da7a6ea
      ]
     },
     "metadata": {},
     "output_type": "display_data"
    },
    {
     "name": "stdout",
     "output_type": "stream",
     "text": [
<<<<<<< HEAD
      "frame: 178800, q_entropy: 0.776, (43.33% of max)  q_values: 90.80, 88.83, 85.89, 88.45, 84.01, 87.63"
=======
      "\r",
      "frame: 10100, q_entropy: 0.849, (47.39% of max)  q_values: 384.16, 404.04, 374.22, 411.56, 410.93, 409.33"
>>>>>>> 02735d11879208de6e7f52d3b98b10c13da7a6ea
     ]
    },
    {
     "ename": "KeyboardInterrupt",
     "evalue": "",
     "output_type": "error",
     "traceback": [
      "\u001b[0;31m---------------------------------------------------------------------------\u001b[0m",
      "\u001b[0;31mKeyboardInterrupt\u001b[0m                         Traceback (most recent call last)",
<<<<<<< HEAD
      "\u001b[0;32m<ipython-input-47-09cf393fcff5>\u001b[0m in \u001b[0;36m<module>\u001b[0;34m()\u001b[0m\n\u001b[1;32m     60\u001b[0m \u001b[0;34m\u001b[0m\u001b[0m\n\u001b[1;32m     61\u001b[0m     \u001b[0;32mif\u001b[0m \u001b[0mlen\u001b[0m\u001b[0;34m(\u001b[0m\u001b[0mreplay_buffer\u001b[0m\u001b[0;34m)\u001b[0m \u001b[0;34m>\u001b[0m \u001b[0mreplay_initial\u001b[0m\u001b[0;34m:\u001b[0m\u001b[0;34m\u001b[0m\u001b[0m\n\u001b[0;32m---> 62\u001b[0;31m         \u001b[0mloss\u001b[0m \u001b[0;34m=\u001b[0m \u001b[0mcompute_td_loss\u001b[0m\u001b[0;34m(\u001b[0m\u001b[0mbatch_size\u001b[0m\u001b[0;34m)\u001b[0m\u001b[0;34m\u001b[0m\u001b[0m\n\u001b[0m\u001b[1;32m     63\u001b[0m         \u001b[0mlosses\u001b[0m\u001b[0;34m.\u001b[0m\u001b[0mappend\u001b[0m\u001b[0;34m(\u001b[0m\u001b[0mloss\u001b[0m\u001b[0;34m.\u001b[0m\u001b[0mdata\u001b[0m\u001b[0;34m[\u001b[0m\u001b[0;36m0\u001b[0m\u001b[0;34m]\u001b[0m\u001b[0;34m)\u001b[0m\u001b[0;34m\u001b[0m\u001b[0m\n\u001b[1;32m     64\u001b[0m \u001b[0;34m\u001b[0m\u001b[0m\n",
      "\u001b[0;32m<ipython-input-40-5cda48eec24c>\u001b[0m in \u001b[0;36mcompute_td_loss\u001b[0;34m(batch_size)\u001b[0m\n\u001b[1;32m      9\u001b[0m \u001b[0;34m\u001b[0m\u001b[0m\n\u001b[1;32m     10\u001b[0m     \u001b[0mq_values\u001b[0m      \u001b[0;34m=\u001b[0m \u001b[0mmodel\u001b[0m\u001b[0;34m(\u001b[0m\u001b[0mstate\u001b[0m\u001b[0;34m)\u001b[0m\u001b[0;34m\u001b[0m\u001b[0m\n\u001b[0;32m---> 11\u001b[0;31m     \u001b[0mnext_q_values\u001b[0m \u001b[0;34m=\u001b[0m \u001b[0mmodel\u001b[0m\u001b[0;34m(\u001b[0m\u001b[0mnext_state\u001b[0m\u001b[0;34m)\u001b[0m\u001b[0;34m\u001b[0m\u001b[0m\n\u001b[0m\u001b[1;32m     12\u001b[0m \u001b[0;34m\u001b[0m\u001b[0m\n\u001b[1;32m     13\u001b[0m     \u001b[0mq_value\u001b[0m          \u001b[0;34m=\u001b[0m \u001b[0mq_values\u001b[0m\u001b[0;34m.\u001b[0m\u001b[0mgather\u001b[0m\u001b[0;34m(\u001b[0m\u001b[0;36m1\u001b[0m\u001b[0;34m,\u001b[0m \u001b[0maction\u001b[0m\u001b[0;34m.\u001b[0m\u001b[0munsqueeze\u001b[0m\u001b[0;34m(\u001b[0m\u001b[0;36m1\u001b[0m\u001b[0;34m)\u001b[0m\u001b[0;34m)\u001b[0m\u001b[0;34m.\u001b[0m\u001b[0msqueeze\u001b[0m\u001b[0;34m(\u001b[0m\u001b[0;36m1\u001b[0m\u001b[0;34m)\u001b[0m\u001b[0;34m\u001b[0m\u001b[0m\n",
      "\u001b[0;32m/usr/local/lib/python3.5/dist-packages/torch/nn/modules/module.py\u001b[0m in \u001b[0;36m__call__\u001b[0;34m(self, *input, **kwargs)\u001b[0m\n\u001b[1;32m    355\u001b[0m             \u001b[0mresult\u001b[0m \u001b[0;34m=\u001b[0m \u001b[0mself\u001b[0m\u001b[0;34m.\u001b[0m\u001b[0m_slow_forward\u001b[0m\u001b[0;34m(\u001b[0m\u001b[0;34m*\u001b[0m\u001b[0minput\u001b[0m\u001b[0;34m,\u001b[0m \u001b[0;34m**\u001b[0m\u001b[0mkwargs\u001b[0m\u001b[0;34m)\u001b[0m\u001b[0;34m\u001b[0m\u001b[0m\n\u001b[1;32m    356\u001b[0m         \u001b[0;32melse\u001b[0m\u001b[0;34m:\u001b[0m\u001b[0;34m\u001b[0m\u001b[0m\n\u001b[0;32m--> 357\u001b[0;31m             \u001b[0mresult\u001b[0m \u001b[0;34m=\u001b[0m \u001b[0mself\u001b[0m\u001b[0;34m.\u001b[0m\u001b[0mforward\u001b[0m\u001b[0;34m(\u001b[0m\u001b[0;34m*\u001b[0m\u001b[0minput\u001b[0m\u001b[0;34m,\u001b[0m \u001b[0;34m**\u001b[0m\u001b[0mkwargs\u001b[0m\u001b[0;34m)\u001b[0m\u001b[0;34m\u001b[0m\u001b[0m\n\u001b[0m\u001b[1;32m    358\u001b[0m         \u001b[0;32mfor\u001b[0m \u001b[0mhook\u001b[0m \u001b[0;32min\u001b[0m \u001b[0mself\u001b[0m\u001b[0;34m.\u001b[0m\u001b[0m_forward_hooks\u001b[0m\u001b[0;34m.\u001b[0m\u001b[0mvalues\u001b[0m\u001b[0;34m(\u001b[0m\u001b[0;34m)\u001b[0m\u001b[0;34m:\u001b[0m\u001b[0;34m\u001b[0m\u001b[0m\n\u001b[1;32m    359\u001b[0m             \u001b[0mhook_result\u001b[0m \u001b[0;34m=\u001b[0m \u001b[0mhook\u001b[0m\u001b[0;34m(\u001b[0m\u001b[0mself\u001b[0m\u001b[0;34m,\u001b[0m \u001b[0minput\u001b[0m\u001b[0;34m,\u001b[0m \u001b[0mresult\u001b[0m\u001b[0;34m)\u001b[0m\u001b[0;34m\u001b[0m\u001b[0m\n",
      "\u001b[0;32m<ipython-input-42-cfa6e9508809>\u001b[0m in \u001b[0;36mforward\u001b[0;34m(self, x)\u001b[0m\n\u001b[1;32m     22\u001b[0m \u001b[0;34m\u001b[0m\u001b[0m\n\u001b[1;32m     23\u001b[0m     \u001b[0;32mdef\u001b[0m \u001b[0mforward\u001b[0m\u001b[0;34m(\u001b[0m\u001b[0mself\u001b[0m\u001b[0;34m,\u001b[0m \u001b[0mx\u001b[0m\u001b[0;34m)\u001b[0m\u001b[0;34m:\u001b[0m\u001b[0;34m\u001b[0m\u001b[0m\n\u001b[0;32m---> 24\u001b[0;31m         \u001b[0mx\u001b[0m \u001b[0;34m=\u001b[0m \u001b[0mself\u001b[0m\u001b[0;34m.\u001b[0m\u001b[0mfeatures\u001b[0m\u001b[0;34m(\u001b[0m\u001b[0mx\u001b[0m\u001b[0;34m)\u001b[0m\u001b[0;34m\u001b[0m\u001b[0m\n\u001b[0m\u001b[1;32m     25\u001b[0m         \u001b[0mx\u001b[0m \u001b[0;34m=\u001b[0m \u001b[0mx\u001b[0m\u001b[0;34m.\u001b[0m\u001b[0mview\u001b[0m\u001b[0;34m(\u001b[0m\u001b[0mx\u001b[0m\u001b[0;34m.\u001b[0m\u001b[0msize\u001b[0m\u001b[0;34m(\u001b[0m\u001b[0;36m0\u001b[0m\u001b[0;34m)\u001b[0m\u001b[0;34m,\u001b[0m \u001b[0;34m-\u001b[0m\u001b[0;36m1\u001b[0m\u001b[0;34m)\u001b[0m\u001b[0;34m\u001b[0m\u001b[0m\n\u001b[1;32m     26\u001b[0m         \u001b[0mx\u001b[0m \u001b[0;34m=\u001b[0m \u001b[0mself\u001b[0m\u001b[0;34m.\u001b[0m\u001b[0mfc\u001b[0m\u001b[0;34m(\u001b[0m\u001b[0mx\u001b[0m\u001b[0;34m)\u001b[0m\u001b[0;34m\u001b[0m\u001b[0m\n",
      "\u001b[0;32m/usr/local/lib/python3.5/dist-packages/torch/nn/modules/module.py\u001b[0m in \u001b[0;36m__call__\u001b[0;34m(self, *input, **kwargs)\u001b[0m\n\u001b[1;32m    355\u001b[0m             \u001b[0mresult\u001b[0m \u001b[0;34m=\u001b[0m \u001b[0mself\u001b[0m\u001b[0;34m.\u001b[0m\u001b[0m_slow_forward\u001b[0m\u001b[0;34m(\u001b[0m\u001b[0;34m*\u001b[0m\u001b[0minput\u001b[0m\u001b[0;34m,\u001b[0m \u001b[0;34m**\u001b[0m\u001b[0mkwargs\u001b[0m\u001b[0;34m)\u001b[0m\u001b[0;34m\u001b[0m\u001b[0m\n\u001b[1;32m    356\u001b[0m         \u001b[0;32melse\u001b[0m\u001b[0;34m:\u001b[0m\u001b[0;34m\u001b[0m\u001b[0m\n\u001b[0;32m--> 357\u001b[0;31m             \u001b[0mresult\u001b[0m \u001b[0;34m=\u001b[0m \u001b[0mself\u001b[0m\u001b[0;34m.\u001b[0m\u001b[0mforward\u001b[0m\u001b[0;34m(\u001b[0m\u001b[0;34m*\u001b[0m\u001b[0minput\u001b[0m\u001b[0;34m,\u001b[0m \u001b[0;34m**\u001b[0m\u001b[0mkwargs\u001b[0m\u001b[0;34m)\u001b[0m\u001b[0;34m\u001b[0m\u001b[0m\n\u001b[0m\u001b[1;32m    358\u001b[0m         \u001b[0;32mfor\u001b[0m \u001b[0mhook\u001b[0m \u001b[0;32min\u001b[0m \u001b[0mself\u001b[0m\u001b[0;34m.\u001b[0m\u001b[0m_forward_hooks\u001b[0m\u001b[0;34m.\u001b[0m\u001b[0mvalues\u001b[0m\u001b[0;34m(\u001b[0m\u001b[0;34m)\u001b[0m\u001b[0;34m:\u001b[0m\u001b[0;34m\u001b[0m\u001b[0m\n\u001b[1;32m    359\u001b[0m             \u001b[0mhook_result\u001b[0m \u001b[0;34m=\u001b[0m \u001b[0mhook\u001b[0m\u001b[0;34m(\u001b[0m\u001b[0mself\u001b[0m\u001b[0;34m,\u001b[0m \u001b[0minput\u001b[0m\u001b[0;34m,\u001b[0m \u001b[0mresult\u001b[0m\u001b[0;34m)\u001b[0m\u001b[0;34m\u001b[0m\u001b[0m\n",
      "\u001b[0;32m/usr/local/lib/python3.5/dist-packages/torch/nn/modules/container.py\u001b[0m in \u001b[0;36mforward\u001b[0;34m(self, input)\u001b[0m\n\u001b[1;32m     65\u001b[0m     \u001b[0;32mdef\u001b[0m \u001b[0mforward\u001b[0m\u001b[0;34m(\u001b[0m\u001b[0mself\u001b[0m\u001b[0;34m,\u001b[0m \u001b[0minput\u001b[0m\u001b[0;34m)\u001b[0m\u001b[0;34m:\u001b[0m\u001b[0;34m\u001b[0m\u001b[0m\n\u001b[1;32m     66\u001b[0m         \u001b[0;32mfor\u001b[0m \u001b[0mmodule\u001b[0m \u001b[0;32min\u001b[0m \u001b[0mself\u001b[0m\u001b[0;34m.\u001b[0m\u001b[0m_modules\u001b[0m\u001b[0;34m.\u001b[0m\u001b[0mvalues\u001b[0m\u001b[0;34m(\u001b[0m\u001b[0;34m)\u001b[0m\u001b[0;34m:\u001b[0m\u001b[0;34m\u001b[0m\u001b[0m\n\u001b[0;32m---> 67\u001b[0;31m             \u001b[0minput\u001b[0m \u001b[0;34m=\u001b[0m \u001b[0mmodule\u001b[0m\u001b[0;34m(\u001b[0m\u001b[0minput\u001b[0m\u001b[0;34m)\u001b[0m\u001b[0;34m\u001b[0m\u001b[0m\n\u001b[0m\u001b[1;32m     68\u001b[0m         \u001b[0;32mreturn\u001b[0m \u001b[0minput\u001b[0m\u001b[0;34m\u001b[0m\u001b[0m\n\u001b[1;32m     69\u001b[0m \u001b[0;34m\u001b[0m\u001b[0m\n",
      "\u001b[0;32m/usr/local/lib/python3.5/dist-packages/torch/nn/modules/module.py\u001b[0m in \u001b[0;36m__call__\u001b[0;34m(self, *input, **kwargs)\u001b[0m\n\u001b[1;32m    355\u001b[0m             \u001b[0mresult\u001b[0m \u001b[0;34m=\u001b[0m \u001b[0mself\u001b[0m\u001b[0;34m.\u001b[0m\u001b[0m_slow_forward\u001b[0m\u001b[0;34m(\u001b[0m\u001b[0;34m*\u001b[0m\u001b[0minput\u001b[0m\u001b[0;34m,\u001b[0m \u001b[0;34m**\u001b[0m\u001b[0mkwargs\u001b[0m\u001b[0;34m)\u001b[0m\u001b[0;34m\u001b[0m\u001b[0m\n\u001b[1;32m    356\u001b[0m         \u001b[0;32melse\u001b[0m\u001b[0;34m:\u001b[0m\u001b[0;34m\u001b[0m\u001b[0m\n\u001b[0;32m--> 357\u001b[0;31m             \u001b[0mresult\u001b[0m \u001b[0;34m=\u001b[0m \u001b[0mself\u001b[0m\u001b[0;34m.\u001b[0m\u001b[0mforward\u001b[0m\u001b[0;34m(\u001b[0m\u001b[0;34m*\u001b[0m\u001b[0minput\u001b[0m\u001b[0;34m,\u001b[0m \u001b[0;34m**\u001b[0m\u001b[0mkwargs\u001b[0m\u001b[0;34m)\u001b[0m\u001b[0;34m\u001b[0m\u001b[0m\n\u001b[0m\u001b[1;32m    358\u001b[0m         \u001b[0;32mfor\u001b[0m \u001b[0mhook\u001b[0m \u001b[0;32min\u001b[0m \u001b[0mself\u001b[0m\u001b[0;34m.\u001b[0m\u001b[0m_forward_hooks\u001b[0m\u001b[0;34m.\u001b[0m\u001b[0mvalues\u001b[0m\u001b[0;34m(\u001b[0m\u001b[0;34m)\u001b[0m\u001b[0;34m:\u001b[0m\u001b[0;34m\u001b[0m\u001b[0m\n\u001b[1;32m    359\u001b[0m             \u001b[0mhook_result\u001b[0m \u001b[0;34m=\u001b[0m \u001b[0mhook\u001b[0m\u001b[0;34m(\u001b[0m\u001b[0mself\u001b[0m\u001b[0;34m,\u001b[0m \u001b[0minput\u001b[0m\u001b[0;34m,\u001b[0m \u001b[0mresult\u001b[0m\u001b[0;34m)\u001b[0m\u001b[0;34m\u001b[0m\u001b[0m\n",
      "\u001b[0;32m/usr/local/lib/python3.5/dist-packages/torch/nn/modules/conv.py\u001b[0m in \u001b[0;36mforward\u001b[0;34m(self, input)\u001b[0m\n\u001b[1;32m    280\u001b[0m     \u001b[0;32mdef\u001b[0m \u001b[0mforward\u001b[0m\u001b[0;34m(\u001b[0m\u001b[0mself\u001b[0m\u001b[0;34m,\u001b[0m \u001b[0minput\u001b[0m\u001b[0;34m)\u001b[0m\u001b[0;34m:\u001b[0m\u001b[0;34m\u001b[0m\u001b[0m\n\u001b[1;32m    281\u001b[0m         return F.conv2d(input, self.weight, self.bias, self.stride,\n\u001b[0;32m--> 282\u001b[0;31m                         self.padding, self.dilation, self.groups)\n\u001b[0m\u001b[1;32m    283\u001b[0m \u001b[0;34m\u001b[0m\u001b[0m\n\u001b[1;32m    284\u001b[0m \u001b[0;34m\u001b[0m\u001b[0m\n",
      "\u001b[0;32m/usr/local/lib/python3.5/dist-packages/torch/nn/functional.py\u001b[0m in \u001b[0;36mconv2d\u001b[0;34m(input, weight, bias, stride, padding, dilation, groups)\u001b[0m\n\u001b[1;32m     86\u001b[0m \u001b[0;34m\u001b[0m\u001b[0m\n\u001b[1;32m     87\u001b[0m     f = _ConvNd(_pair(stride), _pair(padding), _pair(dilation), False,\n\u001b[0;32m---> 88\u001b[0;31m                 \u001b[0m_pair\u001b[0m\u001b[0;34m(\u001b[0m\u001b[0;36m0\u001b[0m\u001b[0;34m)\u001b[0m\u001b[0;34m,\u001b[0m \u001b[0mgroups\u001b[0m\u001b[0;34m,\u001b[0m \u001b[0mtorch\u001b[0m\u001b[0;34m.\u001b[0m\u001b[0mbackends\u001b[0m\u001b[0;34m.\u001b[0m\u001b[0mcudnn\u001b[0m\u001b[0;34m.\u001b[0m\u001b[0mbenchmark\u001b[0m\u001b[0;34m,\u001b[0m\u001b[0;34m\u001b[0m\u001b[0m\n\u001b[0m\u001b[1;32m     89\u001b[0m                 torch.backends.cudnn.deterministic, torch.backends.cudnn.enabled)\n\u001b[1;32m     90\u001b[0m     \u001b[0;32mreturn\u001b[0m \u001b[0mf\u001b[0m\u001b[0;34m(\u001b[0m\u001b[0minput\u001b[0m\u001b[0;34m,\u001b[0m \u001b[0mweight\u001b[0m\u001b[0;34m,\u001b[0m \u001b[0mbias\u001b[0m\u001b[0;34m)\u001b[0m\u001b[0;34m\u001b[0m\u001b[0m\n",
      "\u001b[0;32m/usr/local/lib/python3.5/dist-packages/torch/nn/modules/utils.py\u001b[0m in \u001b[0;36mparse\u001b[0;34m(x)\u001b[0m\n\u001b[1;32m      5\u001b[0m \u001b[0;32mdef\u001b[0m \u001b[0m_ntuple\u001b[0m\u001b[0;34m(\u001b[0m\u001b[0mn\u001b[0m\u001b[0;34m)\u001b[0m\u001b[0;34m:\u001b[0m\u001b[0;34m\u001b[0m\u001b[0m\n\u001b[1;32m      6\u001b[0m     \u001b[0;32mdef\u001b[0m \u001b[0mparse\u001b[0m\u001b[0;34m(\u001b[0m\u001b[0mx\u001b[0m\u001b[0;34m)\u001b[0m\u001b[0;34m:\u001b[0m\u001b[0;34m\u001b[0m\u001b[0m\n\u001b[0;32m----> 7\u001b[0;31m         \u001b[0;32mif\u001b[0m \u001b[0misinstance\u001b[0m\u001b[0;34m(\u001b[0m\u001b[0mx\u001b[0m\u001b[0;34m,\u001b[0m \u001b[0mcollections\u001b[0m\u001b[0;34m.\u001b[0m\u001b[0mIterable\u001b[0m\u001b[0;34m)\u001b[0m\u001b[0;34m:\u001b[0m\u001b[0;34m\u001b[0m\u001b[0m\n\u001b[0m\u001b[1;32m      8\u001b[0m             \u001b[0;32mreturn\u001b[0m \u001b[0mx\u001b[0m\u001b[0;34m\u001b[0m\u001b[0m\n\u001b[1;32m      9\u001b[0m         \u001b[0;32mreturn\u001b[0m \u001b[0mtuple\u001b[0m\u001b[0;34m(\u001b[0m\u001b[0mrepeat\u001b[0m\u001b[0;34m(\u001b[0m\u001b[0mx\u001b[0m\u001b[0;34m,\u001b[0m \u001b[0mn\u001b[0m\u001b[0;34m)\u001b[0m\u001b[0;34m)\u001b[0m\u001b[0;34m\u001b[0m\u001b[0m\n",
=======
      "\u001b[0;32m<ipython-input-21-dcb49095e330>\u001b[0m in \u001b[0;36m<module>\u001b[0;34m()\u001b[0m\n\u001b[1;32m     55\u001b[0m \u001b[0;34m\u001b[0m\u001b[0m\n\u001b[1;32m     56\u001b[0m     \u001b[0;32mif\u001b[0m \u001b[0mlen\u001b[0m\u001b[0;34m(\u001b[0m\u001b[0mreplay_buffer\u001b[0m\u001b[0;34m)\u001b[0m \u001b[0;34m>\u001b[0m \u001b[0mreplay_initial\u001b[0m\u001b[0;34m:\u001b[0m\u001b[0;34m\u001b[0m\u001b[0m\n\u001b[0;32m---> 57\u001b[0;31m         \u001b[0mloss\u001b[0m \u001b[0;34m=\u001b[0m \u001b[0mcompute_td_loss\u001b[0m\u001b[0;34m(\u001b[0m\u001b[0mbatch_size\u001b[0m\u001b[0;34m)\u001b[0m\u001b[0;34m\u001b[0m\u001b[0m\n\u001b[0m\u001b[1;32m     58\u001b[0m         \u001b[0mlosses\u001b[0m\u001b[0;34m.\u001b[0m\u001b[0mappend\u001b[0m\u001b[0;34m(\u001b[0m\u001b[0mloss\u001b[0m\u001b[0;34m.\u001b[0m\u001b[0mdata\u001b[0m\u001b[0;34m[\u001b[0m\u001b[0;36m0\u001b[0m\u001b[0;34m]\u001b[0m\u001b[0;34m)\u001b[0m\u001b[0;34m\u001b[0m\u001b[0m\n\u001b[1;32m     59\u001b[0m \u001b[0;34m\u001b[0m\u001b[0m\n",
      "\u001b[0;32m<ipython-input-10-5cda48eec24c>\u001b[0m in \u001b[0;36mcompute_td_loss\u001b[0;34m(batch_size)\u001b[0m\n\u001b[1;32m      8\u001b[0m     \u001b[0mdone\u001b[0m       \u001b[0;34m=\u001b[0m \u001b[0mVariable\u001b[0m\u001b[0;34m(\u001b[0m\u001b[0mtorch\u001b[0m\u001b[0;34m.\u001b[0m\u001b[0mFloatTensor\u001b[0m\u001b[0;34m(\u001b[0m\u001b[0mdone\u001b[0m\u001b[0;34m)\u001b[0m\u001b[0;34m)\u001b[0m\u001b[0;34m\u001b[0m\u001b[0m\n\u001b[1;32m      9\u001b[0m \u001b[0;34m\u001b[0m\u001b[0m\n\u001b[0;32m---> 10\u001b[0;31m     \u001b[0mq_values\u001b[0m      \u001b[0;34m=\u001b[0m \u001b[0mmodel\u001b[0m\u001b[0;34m(\u001b[0m\u001b[0mstate\u001b[0m\u001b[0;34m)\u001b[0m\u001b[0;34m\u001b[0m\u001b[0m\n\u001b[0m\u001b[1;32m     11\u001b[0m     \u001b[0mnext_q_values\u001b[0m \u001b[0;34m=\u001b[0m \u001b[0mmodel\u001b[0m\u001b[0;34m(\u001b[0m\u001b[0mnext_state\u001b[0m\u001b[0;34m)\u001b[0m\u001b[0;34m\u001b[0m\u001b[0m\n\u001b[1;32m     12\u001b[0m \u001b[0;34m\u001b[0m\u001b[0m\n",
      "\u001b[0;32m~/anaconda3/envs/pytorch/lib/python3.5/site-packages/torch/nn/modules/module.py\u001b[0m in \u001b[0;36m__call__\u001b[0;34m(self, *input, **kwargs)\u001b[0m\n\u001b[1;32m    355\u001b[0m             \u001b[0mresult\u001b[0m \u001b[0;34m=\u001b[0m \u001b[0mself\u001b[0m\u001b[0;34m.\u001b[0m\u001b[0m_slow_forward\u001b[0m\u001b[0;34m(\u001b[0m\u001b[0;34m*\u001b[0m\u001b[0minput\u001b[0m\u001b[0;34m,\u001b[0m \u001b[0;34m**\u001b[0m\u001b[0mkwargs\u001b[0m\u001b[0;34m)\u001b[0m\u001b[0;34m\u001b[0m\u001b[0m\n\u001b[1;32m    356\u001b[0m         \u001b[0;32melse\u001b[0m\u001b[0;34m:\u001b[0m\u001b[0;34m\u001b[0m\u001b[0m\n\u001b[0;32m--> 357\u001b[0;31m             \u001b[0mresult\u001b[0m \u001b[0;34m=\u001b[0m \u001b[0mself\u001b[0m\u001b[0;34m.\u001b[0m\u001b[0mforward\u001b[0m\u001b[0;34m(\u001b[0m\u001b[0;34m*\u001b[0m\u001b[0minput\u001b[0m\u001b[0;34m,\u001b[0m \u001b[0;34m**\u001b[0m\u001b[0mkwargs\u001b[0m\u001b[0;34m)\u001b[0m\u001b[0;34m\u001b[0m\u001b[0m\n\u001b[0m\u001b[1;32m    358\u001b[0m         \u001b[0;32mfor\u001b[0m \u001b[0mhook\u001b[0m \u001b[0;32min\u001b[0m \u001b[0mself\u001b[0m\u001b[0;34m.\u001b[0m\u001b[0m_forward_hooks\u001b[0m\u001b[0;34m.\u001b[0m\u001b[0mvalues\u001b[0m\u001b[0;34m(\u001b[0m\u001b[0;34m)\u001b[0m\u001b[0;34m:\u001b[0m\u001b[0;34m\u001b[0m\u001b[0m\n\u001b[1;32m    359\u001b[0m             \u001b[0mhook_result\u001b[0m \u001b[0;34m=\u001b[0m \u001b[0mhook\u001b[0m\u001b[0;34m(\u001b[0m\u001b[0mself\u001b[0m\u001b[0;34m,\u001b[0m \u001b[0minput\u001b[0m\u001b[0;34m,\u001b[0m \u001b[0mresult\u001b[0m\u001b[0;34m)\u001b[0m\u001b[0;34m\u001b[0m\u001b[0m\n",
      "\u001b[0;32m<ipython-input-12-641f7b098f2e>\u001b[0m in \u001b[0;36mforward\u001b[0;34m(self, x)\u001b[0m\n\u001b[1;32m     24\u001b[0m         \u001b[0mx\u001b[0m \u001b[0;34m=\u001b[0m \u001b[0mself\u001b[0m\u001b[0;34m.\u001b[0m\u001b[0mfeatures\u001b[0m\u001b[0;34m(\u001b[0m\u001b[0mx\u001b[0m\u001b[0;34m)\u001b[0m\u001b[0;34m\u001b[0m\u001b[0m\n\u001b[1;32m     25\u001b[0m         \u001b[0mx\u001b[0m \u001b[0;34m=\u001b[0m \u001b[0mx\u001b[0m\u001b[0;34m.\u001b[0m\u001b[0mview\u001b[0m\u001b[0;34m(\u001b[0m\u001b[0mx\u001b[0m\u001b[0;34m.\u001b[0m\u001b[0msize\u001b[0m\u001b[0;34m(\u001b[0m\u001b[0;36m0\u001b[0m\u001b[0;34m)\u001b[0m\u001b[0;34m,\u001b[0m \u001b[0;34m-\u001b[0m\u001b[0;36m1\u001b[0m\u001b[0;34m)\u001b[0m\u001b[0;34m\u001b[0m\u001b[0m\n\u001b[0;32m---> 26\u001b[0;31m         \u001b[0mx\u001b[0m \u001b[0;34m=\u001b[0m \u001b[0mself\u001b[0m\u001b[0;34m.\u001b[0m\u001b[0mfc\u001b[0m\u001b[0;34m(\u001b[0m\u001b[0mx\u001b[0m\u001b[0;34m)\u001b[0m\u001b[0;34m\u001b[0m\u001b[0m\n\u001b[0m\u001b[1;32m     27\u001b[0m \u001b[0;34m\u001b[0m\u001b[0m\n\u001b[1;32m     28\u001b[0m         \u001b[0;32mreturn\u001b[0m \u001b[0mx\u001b[0m\u001b[0;34m\u001b[0m\u001b[0m\n",
      "\u001b[0;32m~/anaconda3/envs/pytorch/lib/python3.5/site-packages/torch/nn/modules/module.py\u001b[0m in \u001b[0;36m__call__\u001b[0;34m(self, *input, **kwargs)\u001b[0m\n\u001b[1;32m    355\u001b[0m             \u001b[0mresult\u001b[0m \u001b[0;34m=\u001b[0m \u001b[0mself\u001b[0m\u001b[0;34m.\u001b[0m\u001b[0m_slow_forward\u001b[0m\u001b[0;34m(\u001b[0m\u001b[0;34m*\u001b[0m\u001b[0minput\u001b[0m\u001b[0;34m,\u001b[0m \u001b[0;34m**\u001b[0m\u001b[0mkwargs\u001b[0m\u001b[0;34m)\u001b[0m\u001b[0;34m\u001b[0m\u001b[0m\n\u001b[1;32m    356\u001b[0m         \u001b[0;32melse\u001b[0m\u001b[0;34m:\u001b[0m\u001b[0;34m\u001b[0m\u001b[0m\n\u001b[0;32m--> 357\u001b[0;31m             \u001b[0mresult\u001b[0m \u001b[0;34m=\u001b[0m \u001b[0mself\u001b[0m\u001b[0;34m.\u001b[0m\u001b[0mforward\u001b[0m\u001b[0;34m(\u001b[0m\u001b[0;34m*\u001b[0m\u001b[0minput\u001b[0m\u001b[0;34m,\u001b[0m \u001b[0;34m**\u001b[0m\u001b[0mkwargs\u001b[0m\u001b[0;34m)\u001b[0m\u001b[0;34m\u001b[0m\u001b[0m\n\u001b[0m\u001b[1;32m    358\u001b[0m         \u001b[0;32mfor\u001b[0m \u001b[0mhook\u001b[0m \u001b[0;32min\u001b[0m \u001b[0mself\u001b[0m\u001b[0;34m.\u001b[0m\u001b[0m_forward_hooks\u001b[0m\u001b[0;34m.\u001b[0m\u001b[0mvalues\u001b[0m\u001b[0;34m(\u001b[0m\u001b[0;34m)\u001b[0m\u001b[0;34m:\u001b[0m\u001b[0;34m\u001b[0m\u001b[0m\n\u001b[1;32m    359\u001b[0m             \u001b[0mhook_result\u001b[0m \u001b[0;34m=\u001b[0m \u001b[0mhook\u001b[0m\u001b[0;34m(\u001b[0m\u001b[0mself\u001b[0m\u001b[0;34m,\u001b[0m \u001b[0minput\u001b[0m\u001b[0;34m,\u001b[0m \u001b[0mresult\u001b[0m\u001b[0;34m)\u001b[0m\u001b[0;34m\u001b[0m\u001b[0m\n",
      "\u001b[0;32m~/anaconda3/envs/pytorch/lib/python3.5/site-packages/torch/nn/modules/container.py\u001b[0m in \u001b[0;36mforward\u001b[0;34m(self, input)\u001b[0m\n\u001b[1;32m     65\u001b[0m     \u001b[0;32mdef\u001b[0m \u001b[0mforward\u001b[0m\u001b[0;34m(\u001b[0m\u001b[0mself\u001b[0m\u001b[0;34m,\u001b[0m \u001b[0minput\u001b[0m\u001b[0;34m)\u001b[0m\u001b[0;34m:\u001b[0m\u001b[0;34m\u001b[0m\u001b[0m\n\u001b[1;32m     66\u001b[0m         \u001b[0;32mfor\u001b[0m \u001b[0mmodule\u001b[0m \u001b[0;32min\u001b[0m \u001b[0mself\u001b[0m\u001b[0;34m.\u001b[0m\u001b[0m_modules\u001b[0m\u001b[0;34m.\u001b[0m\u001b[0mvalues\u001b[0m\u001b[0;34m(\u001b[0m\u001b[0;34m)\u001b[0m\u001b[0;34m:\u001b[0m\u001b[0;34m\u001b[0m\u001b[0m\n\u001b[0;32m---> 67\u001b[0;31m             \u001b[0minput\u001b[0m \u001b[0;34m=\u001b[0m \u001b[0mmodule\u001b[0m\u001b[0;34m(\u001b[0m\u001b[0minput\u001b[0m\u001b[0;34m)\u001b[0m\u001b[0;34m\u001b[0m\u001b[0m\n\u001b[0m\u001b[1;32m     68\u001b[0m         \u001b[0;32mreturn\u001b[0m \u001b[0minput\u001b[0m\u001b[0;34m\u001b[0m\u001b[0m\n\u001b[1;32m     69\u001b[0m \u001b[0;34m\u001b[0m\u001b[0m\n",
      "\u001b[0;32m~/anaconda3/envs/pytorch/lib/python3.5/site-packages/torch/nn/modules/module.py\u001b[0m in \u001b[0;36m__call__\u001b[0;34m(self, *input, **kwargs)\u001b[0m\n\u001b[1;32m    355\u001b[0m             \u001b[0mresult\u001b[0m \u001b[0;34m=\u001b[0m \u001b[0mself\u001b[0m\u001b[0;34m.\u001b[0m\u001b[0m_slow_forward\u001b[0m\u001b[0;34m(\u001b[0m\u001b[0;34m*\u001b[0m\u001b[0minput\u001b[0m\u001b[0;34m,\u001b[0m \u001b[0;34m**\u001b[0m\u001b[0mkwargs\u001b[0m\u001b[0;34m)\u001b[0m\u001b[0;34m\u001b[0m\u001b[0m\n\u001b[1;32m    356\u001b[0m         \u001b[0;32melse\u001b[0m\u001b[0;34m:\u001b[0m\u001b[0;34m\u001b[0m\u001b[0m\n\u001b[0;32m--> 357\u001b[0;31m             \u001b[0mresult\u001b[0m \u001b[0;34m=\u001b[0m \u001b[0mself\u001b[0m\u001b[0;34m.\u001b[0m\u001b[0mforward\u001b[0m\u001b[0;34m(\u001b[0m\u001b[0;34m*\u001b[0m\u001b[0minput\u001b[0m\u001b[0;34m,\u001b[0m \u001b[0;34m**\u001b[0m\u001b[0mkwargs\u001b[0m\u001b[0;34m)\u001b[0m\u001b[0;34m\u001b[0m\u001b[0m\n\u001b[0m\u001b[1;32m    358\u001b[0m         \u001b[0;32mfor\u001b[0m \u001b[0mhook\u001b[0m \u001b[0;32min\u001b[0m \u001b[0mself\u001b[0m\u001b[0;34m.\u001b[0m\u001b[0m_forward_hooks\u001b[0m\u001b[0;34m.\u001b[0m\u001b[0mvalues\u001b[0m\u001b[0;34m(\u001b[0m\u001b[0;34m)\u001b[0m\u001b[0;34m:\u001b[0m\u001b[0;34m\u001b[0m\u001b[0m\n\u001b[1;32m    359\u001b[0m             \u001b[0mhook_result\u001b[0m \u001b[0;34m=\u001b[0m \u001b[0mhook\u001b[0m\u001b[0;34m(\u001b[0m\u001b[0mself\u001b[0m\u001b[0;34m,\u001b[0m \u001b[0minput\u001b[0m\u001b[0;34m,\u001b[0m \u001b[0mresult\u001b[0m\u001b[0;34m)\u001b[0m\u001b[0;34m\u001b[0m\u001b[0m\n",
      "\u001b[0;32m~/anaconda3/envs/pytorch/lib/python3.5/site-packages/torch/nn/modules/linear.py\u001b[0m in \u001b[0;36mforward\u001b[0;34m(self, input)\u001b[0m\n\u001b[1;32m     53\u001b[0m \u001b[0;34m\u001b[0m\u001b[0m\n\u001b[1;32m     54\u001b[0m     \u001b[0;32mdef\u001b[0m \u001b[0mforward\u001b[0m\u001b[0;34m(\u001b[0m\u001b[0mself\u001b[0m\u001b[0;34m,\u001b[0m \u001b[0minput\u001b[0m\u001b[0;34m)\u001b[0m\u001b[0;34m:\u001b[0m\u001b[0;34m\u001b[0m\u001b[0m\n\u001b[0;32m---> 55\u001b[0;31m         \u001b[0;32mreturn\u001b[0m \u001b[0mF\u001b[0m\u001b[0;34m.\u001b[0m\u001b[0mlinear\u001b[0m\u001b[0;34m(\u001b[0m\u001b[0minput\u001b[0m\u001b[0;34m,\u001b[0m \u001b[0mself\u001b[0m\u001b[0;34m.\u001b[0m\u001b[0mweight\u001b[0m\u001b[0;34m,\u001b[0m \u001b[0mself\u001b[0m\u001b[0;34m.\u001b[0m\u001b[0mbias\u001b[0m\u001b[0;34m)\u001b[0m\u001b[0;34m\u001b[0m\u001b[0m\n\u001b[0m\u001b[1;32m     56\u001b[0m \u001b[0;34m\u001b[0m\u001b[0m\n\u001b[1;32m     57\u001b[0m     \u001b[0;32mdef\u001b[0m \u001b[0m__repr__\u001b[0m\u001b[0;34m(\u001b[0m\u001b[0mself\u001b[0m\u001b[0;34m)\u001b[0m\u001b[0;34m:\u001b[0m\u001b[0;34m\u001b[0m\u001b[0m\n",
      "\u001b[0;32m~/anaconda3/envs/pytorch/lib/python3.5/site-packages/torch/nn/functional.py\u001b[0m in \u001b[0;36mlinear\u001b[0;34m(input, weight, bias)\u001b[0m\n\u001b[1;32m    833\u001b[0m     \u001b[0;32mif\u001b[0m \u001b[0minput\u001b[0m\u001b[0;34m.\u001b[0m\u001b[0mdim\u001b[0m\u001b[0;34m(\u001b[0m\u001b[0;34m)\u001b[0m \u001b[0;34m==\u001b[0m \u001b[0;36m2\u001b[0m \u001b[0;32mand\u001b[0m \u001b[0mbias\u001b[0m \u001b[0;32mis\u001b[0m \u001b[0;32mnot\u001b[0m \u001b[0;32mNone\u001b[0m\u001b[0;34m:\u001b[0m\u001b[0;34m\u001b[0m\u001b[0m\n\u001b[1;32m    834\u001b[0m         \u001b[0;31m# fused op is marginally faster\u001b[0m\u001b[0;34m\u001b[0m\u001b[0;34m\u001b[0m\u001b[0m\n\u001b[0;32m--> 835\u001b[0;31m         \u001b[0;32mreturn\u001b[0m \u001b[0mtorch\u001b[0m\u001b[0;34m.\u001b[0m\u001b[0maddmm\u001b[0m\u001b[0;34m(\u001b[0m\u001b[0mbias\u001b[0m\u001b[0;34m,\u001b[0m \u001b[0minput\u001b[0m\u001b[0;34m,\u001b[0m \u001b[0mweight\u001b[0m\u001b[0;34m.\u001b[0m\u001b[0mt\u001b[0m\u001b[0;34m(\u001b[0m\u001b[0;34m)\u001b[0m\u001b[0;34m)\u001b[0m\u001b[0;34m\u001b[0m\u001b[0m\n\u001b[0m\u001b[1;32m    836\u001b[0m \u001b[0;34m\u001b[0m\u001b[0m\n\u001b[1;32m    837\u001b[0m     \u001b[0moutput\u001b[0m \u001b[0;34m=\u001b[0m \u001b[0minput\u001b[0m\u001b[0;34m.\u001b[0m\u001b[0mmatmul\u001b[0m\u001b[0;34m(\u001b[0m\u001b[0mweight\u001b[0m\u001b[0;34m.\u001b[0m\u001b[0mt\u001b[0m\u001b[0;34m(\u001b[0m\u001b[0;34m)\u001b[0m\u001b[0;34m)\u001b[0m\u001b[0;34m\u001b[0m\u001b[0m\n",
>>>>>>> 02735d11879208de6e7f52d3b98b10c13da7a6ea
      "\u001b[0;31mKeyboardInterrupt\u001b[0m: "
     ]
    }
   ],
   "source": [
    "num_frames = cfg.NUM_FRAMES\n",
    "batch_size = cfg.BATCH_SIZE\n",
    "gamma      = cfg.GAMMA\n",
    "episode = 0\n",
    "\n",
    "losses = []\n",
    "all_rewards = []\n",
    "episode_reward = 0\n",
    "\n",
    "state_traj = []\n",
    "q_value_traj = []\n",
    "\n",
    "episode_state = []\n",
    "episode_q_val = []\n",
    "\n",
    "\n",
    "state = env.reset()\n",
    "for frame_idx in range(1, num_frames + 1):\n",
    "    q_values = model.predict(state)#.data.cpu().numpy()[0]\n",
    "    q_entropy = nn_entropy(q_values)\n",
    "    \n",
    "    \n",
    "    if frame_idx % 100 == 0:\n",
    "        QQ= q_values.data.cpu().numpy()[0]\n",
    "        print('\\rframe: %5d, q_entropy: %.3f, (%.2f%% of max)  q_values: %.2f, %.2f, %.2f, %.2f, %.2f, %.2f'\n",
    "        %(frame_idx, q_entropy, (q_entropy/qe_max)*100, QQ[0], QQ[1], QQ[2], QQ[3], QQ[4], QQ[5]),end='')\n",
    "\n",
    "    if q_entropy > entropy_threshold:\n",
    "        action = env.action_space.sample()\n",
    "    else:\n",
    "        action = model.act(state=state, epsilon=0)\n",
    "    \n",
    "    \n",
    "    if episode % 20 == 0:\n",
    "        episode_state.append(state)\n",
    "        episode_q_val.append(q_values)\n",
    "    \n",
    "    next_state, reward, done, _ = env.step(action)\n",
    "    replay_buffer.push(state, action, reward, next_state, done)\n",
    "    \n",
    "    state = next_state\n",
    "    episode_reward += reward\n",
    "    \n",
    "    if done:\n",
    "        state = env.reset()\n",
    "        all_rewards.append(episode_reward)\n",
    "        episode_reward = 0\n",
    "        if episode % 20 == 0:\n",
    "            state_traj.append(episode_state)\n",
    "            q_value_traj.append(episode_q_val)\n",
    "        \n",
    "        episode += 1\n",
    "        episode_state = []\n",
    "        episode_q_val = []\n",
    "        \n",
    "    if len(replay_buffer) > replay_initial:\n",
    "        loss = compute_td_loss(batch_size)\n",
    "        losses.append(loss.data[0])\n",
    "        \n",
    "    if frame_idx % 10000 == 0:\n",
    "        plot(frame_idx, all_rewards, losses)\n",
    "        \n",
    "    #print('frame_idx: ', frame_idx, end='')"
   ]
  },
  {
   "cell_type": "code",
<<<<<<< HEAD
   "execution_count": null,
   "metadata": {
    "collapsed": false
   },
   "outputs": [],
   "source": [
    "A=model.predict(state).data.cpu().numpy()[0]\n",
    "A=np.array([0.1,0.1,0.5,0.1])"
   ]
  },
  {
   "cell_type": "code",
   "execution_count": 101,
   "metadata": {
    "collapsed": false
   },
   "outputs": [
    {
     "data": {
      "text/plain": [
       "array([0.22262668, 0.22262668, 0.33211997, 0.22262668])"
      ]
     },
     "execution_count": 101,
     "metadata": {},
     "output_type": "execute_result"
    }
   ],
   "source": [
    "np.exp(A)/np.sum(np.exp(A))"
   ]
  },
  {
   "cell_type": "code",
   "execution_count": 109,
   "metadata": {
    "collapsed": false
   },
   "outputs": [
    {
     "name": "stderr",
     "output_type": "stream",
     "text": [
      "/usr/local/lib/python3.5/dist-packages/ipykernel_launcher.py:2: UserWarning: Implicit dimension choice for softmax has been deprecated. Change the call to include dim=X as an argument.\n",
      "  \n"
     ]
    },
    {
     "data": {
      "text/plain": [
       "0.82629156"
      ]
     },
     "execution_count": 109,
     "metadata": {},
     "output_type": "execute_result"
    }
   ],
   "source": [
    "entropy(model.predict(state))x"
   ]
  },
  {
   "cell_type": "code",
   "execution_count": 105,
=======
   "execution_count": 23,
>>>>>>> 02735d11879208de6e7f52d3b98b10c13da7a6ea
   "metadata": {
    "collapsed": false
   },
   "outputs": [
    {
     "name": "stderr",
     "output_type": "stream",
     "text": [
      "/Users/minzy/anaconda3/envs/pytorch/lib/python3.5/site-packages/torch/serialization.py:159: UserWarning: Couldn't retrieve source code for container of type CnnDQN. It won't be checked for correctness upon loading.\n",
      "  \"type \" + obj.__name__ + \". It won't be checked \"\n"
     ]
    }
   ],
   "source": [
    "from common.save_file import *\n",
    "\n",
    "model_dir = \"model\"\n",
    "var_dir = \"var\"\n",
    "name = \"egreedy_\" + env_id\n",
    "\n",
    "save_model(model, model_dir, name)\n",
    "\n",
    "var_dict = {\n",
    "            \"all_rewards\": all_rewards,\n",
    "            \"losses\": losses,\n",
    "            \"state_traj\": state_traj,\n",
    "            \"q_value_traj\": q_value_traj,\n",
    "           }\n",
    "\n",
    "save_variable(name, var_dir, var_dict)\n"
   ]
  },
  {
   "cell_type": "code",
   "execution_count": null,
   "metadata": {
    "collapsed": true
   },
   "outputs": [],
   "source": []
  }
 ],
 "metadata": {
  "kernelspec": {
   "display_name": "pytorch",
   "language": "python",
   "name": "pytorch"
  },
  "language_info": {
   "codemirror_mode": {
    "name": "ipython",
    "version": 3
   },
   "file_extension": ".py",
   "mimetype": "text/x-python",
   "name": "python",
   "nbconvert_exporter": "python",
   "pygments_lexer": "ipython3",
   "version": "3.5.4"
  }
 },
 "nbformat": 4,
 "nbformat_minor": 2
}
