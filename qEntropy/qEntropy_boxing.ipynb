{
 "cells": [
  {
   "cell_type": "code",
   "execution_count": 1,
   "metadata": {
    "ExecuteTime": {
<<<<<<< HEAD
     "end_time": "2018-06-21T05:06:11.215457Z",
     "start_time": "2018-06-21T05:06:10.978732Z"
    }
=======
     "end_time": "2018-06-14T12:50:03.287064Z",
     "start_time": "2018-06-14T12:50:03.006924Z"
    },
    "collapsed": false
>>>>>>> master
   },
   "outputs": [],
   "source": [
    "import math, random, time\n",
    "import gym\n",
    "import numpy as np\n",
    "import sys\n",
    "import os\n",
    "\n",
    "import torch\n",
    "import torch.nn as nn\n",
    "import torch.optim as optim\n",
    "import torch.autograd as autograd \n",
    "import torch.nn.functional as F"
   ]
  },
  {
   "cell_type": "code",
   "execution_count": 2,
   "metadata": {
    "ExecuteTime": {
<<<<<<< HEAD
     "end_time": "2018-06-21T05:06:11.443053Z",
     "start_time": "2018-06-21T05:06:11.225649Z"
    }
=======
     "end_time": "2018-06-14T12:50:03.445406Z",
     "start_time": "2018-06-14T12:50:03.288675Z"
    },
    "collapsed": true
>>>>>>> master
   },
   "outputs": [],
   "source": [
    "from IPython.display import clear_output\n",
    "import matplotlib.pyplot as plt\n",
    "%matplotlib inline\n"
   ]
  },
  {
   "cell_type": "code",
   "execution_count": 3,
   "metadata": {
    "ExecuteTime": {
<<<<<<< HEAD
     "end_time": "2018-06-21T05:06:11.485549Z",
     "start_time": "2018-06-21T05:06:11.454535Z"
    }
=======
     "end_time": "2018-06-14T12:50:03.476438Z",
     "start_time": "2018-06-14T12:50:03.446816Z"
    },
    "collapsed": false
>>>>>>> master
   },
   "outputs": [],
   "source": [
    "sys.path.append('../')\n",
    "from common.wrappers import make_atari, wrap_deepmind, wrap_pytorch\n",
    "from common.entropy import *"
   ]
  },
  {
   "cell_type": "code",
   "execution_count": 4,
   "metadata": {
    "ExecuteTime": {
<<<<<<< HEAD
     "end_time": "2018-06-21T05:06:13.825517Z",
     "start_time": "2018-06-21T05:06:13.821464Z"
    }
=======
     "end_time": "2018-06-14T12:50:03.481166Z",
     "start_time": "2018-06-14T12:50:03.478365Z"
    },
    "collapsed": true
>>>>>>> master
   },
   "outputs": [],
   "source": [
    "os.environ[\"CUDA_DEVICE_ORDER\"]=\"PCI_BUS_ID\"\n",
    "os.environ[\"CUDA_VISIBLE_DEVICES\"]=\"2\""
   ]
  },
  {
   "cell_type": "markdown",
   "metadata": {},
   "source": [
    "<h3> Set configuration </h3>"
   ]
  },
  {
   "cell_type": "code",
   "execution_count": 5,
   "metadata": {
    "ExecuteTime": {
     "end_time": "2018-06-14T12:50:03.506454Z",
     "start_time": "2018-06-14T12:50:03.482744Z"
    },
    "collapsed": true
   },
   "outputs": [],
   "source": [
    "from common.config import *\n",
    "cfg = Config()"
   ]
  },
  {
   "cell_type": "markdown",
   "metadata": {},
   "source": [
    "<h1>Atari Environment</h1>"
   ]
  },
  {
   "cell_type": "code",
   "execution_count": 6,
   "metadata": {
    "ExecuteTime": {
     "end_time": "2018-06-14T12:50:03.706973Z",
     "start_time": "2018-06-14T12:50:03.508283Z"
<<<<<<< HEAD
    }
=======
    },
    "collapsed": false
>>>>>>> master
   },
   "outputs": [],
   "source": [
    "env_id = \"BoxingNoFrameskip-v0\"\n",
    "env    = make_atari(env_id)\n",
    "env    = wrap_deepmind(env)\n",
    "env    = wrap_pytorch(env)"
   ]
  },
  {
   "cell_type": "markdown",
   "metadata": {},
   "source": [
    "<h3>Use Cuda</h3>"
   ]
  },
  {
   "cell_type": "code",
   "execution_count": 7,
   "metadata": {
    "ExecuteTime": {
     "end_time": "2018-06-14T12:50:03.749886Z",
     "start_time": "2018-06-14T12:50:03.708402Z"
    },
    "collapsed": true
   },
   "outputs": [],
   "source": [
    "USE_CUDA = torch.cuda.is_available()\n",
    "Variable = lambda *args, **kwargs: autograd.Variable(*args, **kwargs).cuda() if USE_CUDA else autograd.Variable(*args, **kwargs)"
   ]
  },
  {
   "cell_type": "markdown",
   "metadata": {},
   "source": [
    "<h2>Replay Buffer</h2>"
   ]
  },
  {
   "cell_type": "code",
   "execution_count": 8,
   "metadata": {
    "ExecuteTime": {
     "end_time": "2018-06-14T12:50:03.767529Z",
     "start_time": "2018-06-14T12:50:03.751137Z"
    },
    "collapsed": true
   },
   "outputs": [],
   "source": [
    "from collections import deque\n",
    "\n",
    "class ReplayBuffer(object):\n",
    "    def __init__(self, capacity):\n",
    "        self.buffer = deque(maxlen=capacity)\n",
    "    \n",
    "    def push(self, state, action, reward, next_state, done):\n",
    "        state      = np.expand_dims(state, 0)\n",
    "        next_state = np.expand_dims(next_state, 0)\n",
    "            \n",
    "        self.buffer.append((state, action, reward, next_state, done))\n",
    "    \n",
    "    def sample(self, batch_size):\n",
    "        state, action, reward, next_state, done = zip(*random.sample(self.buffer, batch_size))\n",
    "        return np.concatenate(state), action, reward, np.concatenate(next_state), done\n",
    "    \n",
    "    def __len__(self):\n",
    "        return len(self.buffer)"
   ]
  },
  {
   "cell_type": "code",
   "execution_count": 9,
   "metadata": {
    "ExecuteTime": {
     "end_time": "2018-06-14T12:50:03.787371Z",
     "start_time": "2018-06-14T12:50:03.769723Z"
    },
    "collapsed": true
   },
   "outputs": [],
   "source": [
    "def plot(frame_idx, rewards, losses):\n",
    "    clear_output(True)\n",
    "    plt.figure(figsize=(20,5))\n",
    "    plt.subplot(131)\n",
    "    plt.title('frame %s. reward: %s' % (frame_idx, np.mean(rewards[-10:])))\n",
    "    plt.plot(rewards)\n",
    "    plt.subplot(132)\n",
    "    plt.title('loss')\n",
    "    plt.plot(losses)\n",
    "    plt.show()"
   ]
  },
  {
   "cell_type": "markdown",
   "metadata": {},
   "source": [
    "<h2> Deep Q Network </h2>"
   ]
  },
  {
   "cell_type": "code",
   "execution_count": 10,
   "metadata": {
    "ExecuteTime": {
     "end_time": "2018-06-14T12:50:03.874867Z",
     "start_time": "2018-06-14T12:50:03.789076Z"
<<<<<<< HEAD
    }
=======
    },
    "collapsed": false
>>>>>>> master
   },
   "outputs": [],
   "source": [
    "class CnnDQN(nn.Module):\n",
    "    def __init__(self, input_shape, num_actions):\n",
    "        super(CnnDQN, self).__init__()\n",
    "        \n",
    "        self.input_shape = input_shape\n",
    "        self.num_actions = num_actions\n",
    "        \n",
    "        self.features = nn.Sequential(\n",
    "            nn.Conv2d(input_shape[0], 32, kernel_size=8, stride=4),\n",
    "            nn.ReLU(),\n",
    "            nn.Conv2d(32, 64, kernel_size=4, stride=2),\n",
    "            nn.ReLU(),\n",
    "            nn.Conv2d(64, 64, kernel_size=3, stride=1),\n",
    "            nn.ReLU()\n",
    "        )\n",
    "        \n",
    "        self.fc = nn.Sequential(\n",
    "            nn.Linear(self.feature_size(), 512),\n",
    "            nn.ReLU(),\n",
    "            nn.Linear(512, self.num_actions)\n",
    "        )\n",
    "        \n",
    "    def forward(self, x):\n",
    "        x /= 255.0\n",
    "        x = self.features(x)\n",
    "        x = x.view(x.size(0), -1)\n",
    "        x = self.fc(x)\n",
    "        return x\n",
    "    \n",
    "    def feature_size(self):\n",
    "        return self.features(autograd.Variable(torch.zeros(1, *self.input_shape))).view(1, -1).size(1)\n",
    "    \n",
    "    def act(self, state, epsilon):\n",
    "        if random.random() > epsilon:\n",
    "            state   = Variable(torch.FloatTensor(np.float32(state)).unsqueeze(0), volatile=True)\n",
    "            q_value = self.forward(state)\n",
    "            action  = q_value.max(1)[1].data[0]\n",
    "        else:\n",
    "            action = random.randrange(env.action_space.n)\n",
    "        return action\n",
    "    \n",
    "    def predict(self, state):\n",
    "        state = Variable(torch.FloatTensor(np.float32(state)).unsqueeze(0), volatile=True)\n",
    "        q_value = self.forward(state)\n",
    "        return q_value\n",
    "    \n",
    "    def weights_init(self, m):\n",
    "        classname = m.__class__.__name__\n",
    "        if classname.find('Conv') != -1 and classname.find('Layer') == -1:\n",
    "            nn.init.xavier_normal(m.weight)\n",
    "        elif classname.find('Linear') != -1:\n",
    "            nn.init.xavier_normal(m.weight)\n",
    "            nn.init.constant(m.bias, 0.1)\n",
    "        elif classname.find('BatchNorm') != -1:\n",
    "            m.weight.data.normal(1.0, 0.02)\n",
    "            m.bias.data.fill(0)"
   ]
  },
  {
   "cell_type": "code",
   "execution_count": 11,
   "metadata": {
    "ExecuteTime": {
     "end_time": "2018-06-14T12:50:07.166108Z",
     "start_time": "2018-06-14T12:50:03.876391Z"
<<<<<<< HEAD
    }
=======
    },
    "collapsed": false
>>>>>>> master
   },
   "outputs": [
    {
     "name": "stderr",
     "output_type": "stream",
     "text": [
      "/usr/local/lib/python3.5/dist-packages/ipykernel_launcher.py:50: UserWarning: nn.init.xavier_normal is now deprecated in favor of nn.init.xavier_normal_.\n",
      "/usr/local/lib/python3.5/dist-packages/ipykernel_launcher.py:52: UserWarning: nn.init.xavier_normal is now deprecated in favor of nn.init.xavier_normal_.\n",
      "/usr/local/lib/python3.5/dist-packages/ipykernel_launcher.py:53: UserWarning: nn.init.constant is now deprecated in favor of nn.init.constant_.\n",
      "/usr/local/lib/python3.5/dist-packages/ipykernel_launcher.py:6: UserWarning: nn.init.normal is now deprecated in favor of nn.init.normal_.\n",
      "  \n",
      "/usr/local/lib/python3.5/dist-packages/ipykernel_launcher.py:7: UserWarning: nn.init.constant is now deprecated in favor of nn.init.constant_.\n",
      "  import sys\n"
     ]
    },
    {
     "name": "stdout",
     "output_type": "stream",
     "text": [
      "Initialized with Xavier initializer\n"
     ]
    }
   ],
   "source": [
    "current_model = CnnDQN(env.observation_space.shape, env.action_space.n)\n",
    "target_model = CnnDQN(env.observation_space.shape, env.action_space.n)\n",
    "\n",
    "if cfg.INITIALIZER == 'Xavier':\n",
    "    current_model.apply(current_model.weights_init)\n",
    "    nn.init.normal(current_model.fc[2].weight.data,0,0.01)\n",
    "    nn.init.constant(current_model.fc[2].bias.data,0)\n",
    "    print('Initialized with Xavier initializer')\n",
    "\n",
    "if USE_CUDA:\n",
    "    current_model = current_model.cuda()\n",
    "    target_model = target_model.cuda()\n",
    "    \n",
    "optimizer = optim.RMSprop(current_model.parameters(), lr=cfg.LEARNING_RATE)\n",
    "\n",
    "replay_initial = cfg.REPLAY_INIT\n",
    "replay_buffer = ReplayBuffer(cfg.REPLAY_BUFFER)"
   ]
  },
  {
   "cell_type": "markdown",
   "metadata": {},
   "source": [
    "### Synchronize current net and target net"
   ]
  },
  {
   "cell_type": "code",
   "execution_count": 12,
   "metadata": {
    "ExecuteTime": {
     "end_time": "2018-06-14T12:50:07.170427Z",
     "start_time": "2018-06-14T12:50:07.167611Z"
    },
    "collapsed": true
   },
   "outputs": [],
   "source": [
    "def update_target(current_model, target_model):\n",
    "    target_model.load_state_dict(current_model.state_dict())"
   ]
  },
  {
   "cell_type": "code",
   "execution_count": 13,
   "metadata": {
    "ExecuteTime": {
     "end_time": "2018-06-14T12:50:07.188207Z",
     "start_time": "2018-06-14T12:50:07.171918Z"
    },
    "collapsed": true
   },
   "outputs": [],
   "source": [
    "update_target(current_model, target_model)"
   ]
  },
  {
   "cell_type": "markdown",
   "metadata": {},
   "source": [
    "<h2>Computing Temporal Difference Loss</h2>"
   ]
  },
  {
   "cell_type": "code",
   "execution_count": 14,
   "metadata": {
    "ExecuteTime": {
     "end_time": "2018-06-14T12:50:07.214261Z",
     "start_time": "2018-06-14T12:50:07.189909Z"
    },
    "collapsed": true
   },
   "outputs": [],
   "source": [
    "def compute_td_loss(batch_size):\n",
    "    state, action, reward, next_state, done = replay_buffer.sample(batch_size)\n",
    "\n",
    "    state      = Variable(torch.FloatTensor(np.float32(state)))\n",
    "    next_state = Variable(torch.FloatTensor(np.float32(next_state)), volatile=True)\n",
    "    action     = Variable(torch.LongTensor(action))\n",
    "    reward     = Variable(torch.FloatTensor(reward))\n",
    "    done       = Variable(torch.FloatTensor(done))\n",
    "\n",
    "    q_values      = current_model(state)\n",
    "    next_q_values = target_model(next_state)\n",
    "\n",
    "    q_value          = q_values.gather(1, action.unsqueeze(1)).squeeze(1)\n",
    "    next_q_value     = next_q_values.max(1)[0]\n",
    "    expected_q_value = reward + gamma * next_q_value * (1 - done)\n",
    "    \n",
    "    loss = (q_value - Variable(expected_q_value.data)).pow(2).mean()\n",
    "        \n",
    "    optimizer.zero_grad()\n",
    "    loss.backward()\n",
    "    optimizer.step()\n",
    "    \n",
    "    return loss"
   ]
  },
  {
   "cell_type": "code",
   "execution_count": 15,
   "metadata": {
    "ExecuteTime": {
     "end_time": "2018-06-14T12:50:07.234055Z",
     "start_time": "2018-06-14T12:50:07.216050Z"
<<<<<<< HEAD
    }
=======
    },
    "collapsed": false
>>>>>>> master
   },
   "outputs": [
    {
     "name": "stdout",
     "output_type": "stream",
     "text": [
      "entropy maximum: 2.890, threshold: 2.023\n"
     ]
    }
   ],
   "source": [
    "entropy_threshold = np.log(env.action_space.n) * cfg.Q_ENTROPY_THRESHOLD\n",
    "qe_max = np.log(env.action_space.n)\n",
    "print('entropy maximum: %.3f, threshold: %.3f' %(qe_max, entropy_threshold))"
   ]
  },
  {
   "cell_type": "code",
   "execution_count": null,
   "metadata": {
    "ExecuteTime": {
     "start_time": "2018-06-14T12:50:02.563Z"
    },
<<<<<<< HEAD
=======
    "collapsed": false,
>>>>>>> master
    "scrolled": false
   },
   "outputs": [
    {
     "data": {
      "image/png": "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\n",
      "text/plain": [
       "<matplotlib.figure.Figure at 0x7fb1343e2fd0>"
      ]
     },
     "metadata": {},
     "output_type": "display_data"
    },
    {
     "name": "stdout",
     "output_type": "stream",
     "text": [
      "frame: 12300 (0.25%), q_entropy: 2.890, (99.98% of max),\t\t\t\t\t\t\t\t\t\t q_value:  636.15  636.09  636.13  636.17  636.16  636.09  636.12  636.16  636.18  636.13  636.17  636.2  636.1  636.13  636.18  636.16  636.13  636.17  "
     ]
    }
   ],
   "source": [
    "num_frames = cfg.NUM_FRAMES\n",
    "batch_size = cfg.BATCH_SIZE\n",
    "gamma      = cfg.GAMMA\n",
    "episode = 0\n",
    "\n",
    "losses = []\n",
    "all_rewards = []\n",
    "episode_reward = 0\n",
    "\n",
    "state_traj = []\n",
    "q_value_traj = []\n",
    "\n",
    "episode_state = []\n",
    "episode_q_val = []\n",
    "\n",
    "\"\"\"\n",
    "fig = plt.figure(figsize=[10,5])\n",
    "ax = fig.add_subplot(111)\n",
    "plt.ion()\n",
    "fig.show()\n",
    "fig.canvas.draw()\n",
    "\"\"\"\n",
    "\n",
    "state = env.reset()\n",
    "for frame_idx in range(1, num_frames + 1):\n",
    "    q_values = current_model.predict(state).data.cpu().numpy()[0]\n",
    "    q_values -= np.max(q_values)\n",
    "    q_values += np.log(np.finfo(np.float64).max/q_values.shape[-1])*0.9\n",
    "    q_values = q_values.astype(np.float64)\n",
    "    q_entropy = entropy(q_values)\n",
    "    \n",
    "    if frame_idx % 100 == 0:\n",
    "        q_value_str = ''\n",
    "        for q_val in q_values:\n",
    "            q_value_str += str(round(q_val, 2)) + \"  \"\n",
    "        \"\"\"\n",
    "        ax.clear()\n",
    "        plt.ylim(0,800)\n",
    "        ax.bar(range(env.action_space.n), QQ)\n",
    "        fig.canvas.draw()\n",
    "        \"\"\"\n",
    "        print('\\rframe: %5d (%.2f%%), q_entropy: %.3f, (%.2f%% of max),\\t\\t\\t\\t\\t\\t\\t\\t\\t\\t q_value: '\n",
    "        %(frame_idx, (frame_idx/num_frames*100), q_entropy, (q_entropy/qe_max)*100), q_value_str, end='')\n",
    "\n",
    "    if q_entropy > entropy_threshold:\n",
    "        action = env.action_space.sample()\n",
    "    else:\n",
    "        action = current_model.act(state=state, epsilon=0)\n",
    "    \n",
    "    \n",
    "    if episode % 20 == 0:\n",
    "        episode_state.append(state)\n",
    "        episode_q_val.append(q_values)\n",
    "    \n",
    "    next_state, reward, done, _ = env.step(action)\n",
    "    replay_buffer.push(state, action, reward, next_state, done)\n",
    "    \n",
    "    state = next_state\n",
    "    episode_reward += reward\n",
    "    \n",
    "    if done:\n",
    "        state = env.reset()\n",
    "        all_rewards.append(episode_reward)\n",
    "        episode_reward = 0\n",
    "        if episode % 20 == 0:\n",
    "            state_traj.append(episode_state)\n",
    "            q_value_traj.append(episode_q_val)\n",
    "        \n",
    "        episode += 1\n",
    "        episode_state = []\n",
    "        episode_q_val = []\n",
    "        \n",
    "    if len(replay_buffer) > replay_initial:\n",
    "        loss = compute_td_loss(batch_size)\n",
    "        losses.append(loss.data[0])\n",
    "        \n",
    "    if frame_idx % 10000 == 0:\n",
    "        plot(frame_idx, all_rewards, losses)\n",
    "        update_target(current_model, target_model)\n",
    "        \n",
    "    #print('frame_idx: ', frame_idx, end='')"
   ]
  },
  {
   "cell_type": "code",
   "execution_count": null,
   "metadata": {
    "ExecuteTime": {
     "start_time": "2018-06-14T12:50:02.571Z"
<<<<<<< HEAD
    }
=======
    },
    "collapsed": false
>>>>>>> master
   },
   "outputs": [],
   "source": [
    "from common.save_file import *\n",
    "\n",
    "model_dir = \"model\"\n",
    "var_dir = \"var\"\n",
    "name = \"qEntropy_\" + env_id\n",
    "\n",
    "save_model(current_model, model_dir, name)\n",
    "\n",
    "var_dict = {\n",
    "            \"all_rewards\": all_rewards,\n",
    "            \"losses\": losses,\n",
    "            \"state_traj\": state_traj,\n",
    "            \"q_value_traj\": q_value_traj,\n",
    "           }\n",
    "\n",
    "save_variable(name, var_dir, var_dict)\n"
   ]
  },
  {
   "cell_type": "code",
   "execution_count": null,
   "metadata": {
    "collapsed": true
   },
   "outputs": [],
   "source": []
  }
 ],
 "metadata": {
  "kernelspec": {
   "display_name": "Python 3",
   "language": "python",
   "name": "python3"
  },
  "language_info": {
   "codemirror_mode": {
    "name": "ipython",
    "version": 3
   },
   "file_extension": ".py",
   "mimetype": "text/x-python",
   "name": "python",
   "nbconvert_exporter": "python",
   "pygments_lexer": "ipython3",
   "version": "3.5.2"
<<<<<<< HEAD
  },
  "varInspector": {
   "cols": {
    "lenName": 16,
    "lenType": 16,
    "lenVar": 40
   },
   "kernels_config": {
    "python": {
     "delete_cmd_postfix": "",
     "delete_cmd_prefix": "del ",
     "library": "var_list.py",
     "varRefreshCmd": "print(var_dic_list())"
    },
    "r": {
     "delete_cmd_postfix": ") ",
     "delete_cmd_prefix": "rm(",
     "library": "var_list.r",
     "varRefreshCmd": "cat(var_dic_list()) "
    }
   },
   "types_to_exclude": [
    "module",
    "function",
    "builtin_function_or_method",
    "instance",
    "_Feature"
   ],
   "window_display": false
=======
>>>>>>> master
  }
 },
 "nbformat": 4,
 "nbformat_minor": 2
}
